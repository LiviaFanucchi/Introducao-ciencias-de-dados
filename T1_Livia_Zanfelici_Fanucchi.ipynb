{
  "nbformat": 4,
  "nbformat_minor": 0,
  "metadata": {
    "colab": {
      "name": "T1- Livia_Zanfelici_Fanucchi.ipynb",
      "provenance": [],
      "collapsed_sections": [],
      "mount_file_id": "1tN9mSrx2nXK7jVJsIKTuBBdoGBUMs7OX",
      "authorship_tag": "ABX9TyN1Jnu8/MDtByc1BQfpEqtu",
      "include_colab_link": true
    },
    "kernelspec": {
      "name": "python3",
      "display_name": "Python 3"
    }
  },
  "cells": [
    {
      "cell_type": "markdown",
      "metadata": {
        "id": "view-in-github",
        "colab_type": "text"
      },
      "source": [
        "<a href=\"https://colab.research.google.com/github/LiviaFanucchi/Introducao-ciencias-de-dados/blob/master/T1_Livia_Zanfelici_Fanucchi.ipynb\" target=\"_parent\"><img src=\"https://colab.research.google.com/assets/colab-badge.svg\" alt=\"Open In Colab\"/></a>"
      ]
    },
    {
      "cell_type": "markdown",
      "metadata": {
        "id": "xLWcVdhtnMsW"
      },
      "source": [
        "#Lívia Zanfelici Fanucchi   \n",
        "##RA: 20.84071-3"
      ]
    },
    {
      "cell_type": "markdown",
      "metadata": {
        "id": "PwM3Fye1ngPk"
      },
      "source": [
        "##**Página escolhida 4- Métodos de pagamentos**\n",
        "\n",
        "#### Escolhi está página, pois era a página que era obrigatório ter no Power BI e comecei pelo Pandas ao Invés do BI, sendo assim mais fácil iniciar, usando algo imposto, do que criar do zero. Além do fato, de quando comecei o trabalho só haviamos tido apenas uma aula de BI, facilitando escolher um tema já imposto no trabalho."
      ]
    },
    {
      "cell_type": "markdown",
      "metadata": {
        "id": "VPv_-HFOq4ZM"
      },
      "source": [
        "##Importação de dados"
      ]
    },
    {
      "cell_type": "code",
      "metadata": {
        "id": "WZBJ08v5l4IB"
      },
      "source": [
        "import pandas as pd\n",
        "import numpy as np "
      ],
      "execution_count": 1,
      "outputs": []
    },
    {
      "cell_type": "code",
      "metadata": {
        "id": "kPBJhxH5pMbe"
      },
      "source": [
        "df_clientes = pd.read_csv('/content/drive/My Drive/Colab Notebooks/Ciencia de Dados/olist_customers_dataset.csv')\n",
        "df_geo = pd.read_csv('/content/drive/My Drive/Colab Notebooks/Ciencia de Dados/olist_geolocation_dataset.csv')\n",
        "df_compra_itens = pd.read_csv('/content/drive/My Drive/Colab Notebooks/Ciencia de Dados/olist_order_items_dataset.csv')\n",
        "df_compra_pagamentos = pd.read_csv('/content/drive/My Drive/Colab Notebooks/Ciencia de Dados/olist_order_payments_dataset.csv')\n",
        "df_reviews = pd.read_csv('/content/drive/My Drive/Colab Notebooks/Ciencia de Dados/olist_order_reviews_dataset.csv')\n",
        "df_compras = pd.read_csv('/content/drive/My Drive/Colab Notebooks/Ciencia de Dados/olist_orders_dataset.csv')\n",
        "df_produtos = pd.read_csv('/content/drive/My Drive/Colab Notebooks/Ciencia de Dados/olist_products_dataset.csv')\n",
        "df_vendedores = pd.read_csv('/content/drive/My Drive/Colab Notebooks/Ciencia de Dados/olist_sellers_dataset.csv')"
      ],
      "execution_count": 2,
      "outputs": []
    },
    {
      "cell_type": "markdown",
      "metadata": {
        "id": "jSFqraQ70_ts"
      },
      "source": [
        "#Análises \n",
        "\n",
        "1.  Quais são os principais tipos de pagamentos utilizados em cada cidade? Elencar as 5 principais cidades que utilizam cartão de crédito\n",
        "2.  Quais produtos foram parcelados mais vezes?\n",
        "3.  Quais estados gastam mais? Elenque os 5 estados mais gastão. \n",
        "4.  Qual o tipo de pagamento mais utilizado em cada categoria?\n"
      ]
    },
    {
      "cell_type": "markdown",
      "metadata": {
        "id": "YPxSR9UcsBsT"
      },
      "source": [
        "##Exploração das tabelas"
      ]
    },
    {
      "cell_type": "code",
      "metadata": {
        "id": "ToNW2ybWqo2W",
        "colab": {
          "base_uri": "https://localhost:8080/",
          "height": 204
        },
        "outputId": "9b9e0aec-e52a-4147-dd27-bd8ce1b5d7e9"
      },
      "source": [
        "df_compra_pagamentos.head()"
      ],
      "execution_count": 3,
      "outputs": [
        {
          "output_type": "execute_result",
          "data": {
            "text/html": [
              "<div>\n",
              "<style scoped>\n",
              "    .dataframe tbody tr th:only-of-type {\n",
              "        vertical-align: middle;\n",
              "    }\n",
              "\n",
              "    .dataframe tbody tr th {\n",
              "        vertical-align: top;\n",
              "    }\n",
              "\n",
              "    .dataframe thead th {\n",
              "        text-align: right;\n",
              "    }\n",
              "</style>\n",
              "<table border=\"1\" class=\"dataframe\">\n",
              "  <thead>\n",
              "    <tr style=\"text-align: right;\">\n",
              "      <th></th>\n",
              "      <th>order_id</th>\n",
              "      <th>payment_sequential</th>\n",
              "      <th>payment_type</th>\n",
              "      <th>payment_installments</th>\n",
              "      <th>payment_value</th>\n",
              "    </tr>\n",
              "  </thead>\n",
              "  <tbody>\n",
              "    <tr>\n",
              "      <th>0</th>\n",
              "      <td>b81ef226f3fe1789b1e8b2acac839d17</td>\n",
              "      <td>1</td>\n",
              "      <td>credit_card</td>\n",
              "      <td>8</td>\n",
              "      <td>99.33</td>\n",
              "    </tr>\n",
              "    <tr>\n",
              "      <th>1</th>\n",
              "      <td>a9810da82917af2d9aefd1278f1dcfa0</td>\n",
              "      <td>1</td>\n",
              "      <td>credit_card</td>\n",
              "      <td>1</td>\n",
              "      <td>24.39</td>\n",
              "    </tr>\n",
              "    <tr>\n",
              "      <th>2</th>\n",
              "      <td>25e8ea4e93396b6fa0d3dd708e76c1bd</td>\n",
              "      <td>1</td>\n",
              "      <td>credit_card</td>\n",
              "      <td>1</td>\n",
              "      <td>65.71</td>\n",
              "    </tr>\n",
              "    <tr>\n",
              "      <th>3</th>\n",
              "      <td>ba78997921bbcdc1373bb41e913ab953</td>\n",
              "      <td>1</td>\n",
              "      <td>credit_card</td>\n",
              "      <td>8</td>\n",
              "      <td>107.78</td>\n",
              "    </tr>\n",
              "    <tr>\n",
              "      <th>4</th>\n",
              "      <td>42fdf880ba16b47b59251dd489d4441a</td>\n",
              "      <td>1</td>\n",
              "      <td>credit_card</td>\n",
              "      <td>2</td>\n",
              "      <td>128.45</td>\n",
              "    </tr>\n",
              "  </tbody>\n",
              "</table>\n",
              "</div>"
            ],
            "text/plain": [
              "                           order_id  ...  payment_value\n",
              "0  b81ef226f3fe1789b1e8b2acac839d17  ...          99.33\n",
              "1  a9810da82917af2d9aefd1278f1dcfa0  ...          24.39\n",
              "2  25e8ea4e93396b6fa0d3dd708e76c1bd  ...          65.71\n",
              "3  ba78997921bbcdc1373bb41e913ab953  ...         107.78\n",
              "4  42fdf880ba16b47b59251dd489d4441a  ...         128.45\n",
              "\n",
              "[5 rows x 5 columns]"
            ]
          },
          "metadata": {
            "tags": []
          },
          "execution_count": 3
        }
      ]
    },
    {
      "cell_type": "code",
      "metadata": {
        "id": "lMFT1za9tXmQ",
        "colab": {
          "base_uri": "https://localhost:8080/",
          "height": 204
        },
        "outputId": "b8e985f5-0139-4898-fe2b-a0132071ade3"
      },
      "source": [
        "df_compra_itens.head()"
      ],
      "execution_count": 4,
      "outputs": [
        {
          "output_type": "execute_result",
          "data": {
            "text/html": [
              "<div>\n",
              "<style scoped>\n",
              "    .dataframe tbody tr th:only-of-type {\n",
              "        vertical-align: middle;\n",
              "    }\n",
              "\n",
              "    .dataframe tbody tr th {\n",
              "        vertical-align: top;\n",
              "    }\n",
              "\n",
              "    .dataframe thead th {\n",
              "        text-align: right;\n",
              "    }\n",
              "</style>\n",
              "<table border=\"1\" class=\"dataframe\">\n",
              "  <thead>\n",
              "    <tr style=\"text-align: right;\">\n",
              "      <th></th>\n",
              "      <th>order_id</th>\n",
              "      <th>order_item_id</th>\n",
              "      <th>product_id</th>\n",
              "      <th>seller_id</th>\n",
              "      <th>shipping_limit_date</th>\n",
              "      <th>price</th>\n",
              "      <th>freight_value</th>\n",
              "    </tr>\n",
              "  </thead>\n",
              "  <tbody>\n",
              "    <tr>\n",
              "      <th>0</th>\n",
              "      <td>00010242fe8c5a6d1ba2dd792cb16214</td>\n",
              "      <td>1</td>\n",
              "      <td>4244733e06e7ecb4970a6e2683c13e61</td>\n",
              "      <td>48436dade18ac8b2bce089ec2a041202</td>\n",
              "      <td>2017-09-19 09:45:35</td>\n",
              "      <td>58.90</td>\n",
              "      <td>13.29</td>\n",
              "    </tr>\n",
              "    <tr>\n",
              "      <th>1</th>\n",
              "      <td>00018f77f2f0320c557190d7a144bdd3</td>\n",
              "      <td>1</td>\n",
              "      <td>e5f2d52b802189ee658865ca93d83a8f</td>\n",
              "      <td>dd7ddc04e1b6c2c614352b383efe2d36</td>\n",
              "      <td>2017-05-03 11:05:13</td>\n",
              "      <td>239.90</td>\n",
              "      <td>19.93</td>\n",
              "    </tr>\n",
              "    <tr>\n",
              "      <th>2</th>\n",
              "      <td>000229ec398224ef6ca0657da4fc703e</td>\n",
              "      <td>1</td>\n",
              "      <td>c777355d18b72b67abbeef9df44fd0fd</td>\n",
              "      <td>5b51032eddd242adc84c38acab88f23d</td>\n",
              "      <td>2018-01-18 14:48:30</td>\n",
              "      <td>199.00</td>\n",
              "      <td>17.87</td>\n",
              "    </tr>\n",
              "    <tr>\n",
              "      <th>3</th>\n",
              "      <td>00024acbcdf0a6daa1e931b038114c75</td>\n",
              "      <td>1</td>\n",
              "      <td>7634da152a4610f1595efa32f14722fc</td>\n",
              "      <td>9d7a1d34a5052409006425275ba1c2b4</td>\n",
              "      <td>2018-08-15 10:10:18</td>\n",
              "      <td>12.99</td>\n",
              "      <td>12.79</td>\n",
              "    </tr>\n",
              "    <tr>\n",
              "      <th>4</th>\n",
              "      <td>00042b26cf59d7ce69dfabb4e55b4fd9</td>\n",
              "      <td>1</td>\n",
              "      <td>ac6c3623068f30de03045865e4e10089</td>\n",
              "      <td>df560393f3a51e74553ab94004ba5c87</td>\n",
              "      <td>2017-02-13 13:57:51</td>\n",
              "      <td>199.90</td>\n",
              "      <td>18.14</td>\n",
              "    </tr>\n",
              "  </tbody>\n",
              "</table>\n",
              "</div>"
            ],
            "text/plain": [
              "                           order_id  order_item_id  ...   price freight_value\n",
              "0  00010242fe8c5a6d1ba2dd792cb16214              1  ...   58.90         13.29\n",
              "1  00018f77f2f0320c557190d7a144bdd3              1  ...  239.90         19.93\n",
              "2  000229ec398224ef6ca0657da4fc703e              1  ...  199.00         17.87\n",
              "3  00024acbcdf0a6daa1e931b038114c75              1  ...   12.99         12.79\n",
              "4  00042b26cf59d7ce69dfabb4e55b4fd9              1  ...  199.90         18.14\n",
              "\n",
              "[5 rows x 7 columns]"
            ]
          },
          "metadata": {
            "tags": []
          },
          "execution_count": 4
        }
      ]
    },
    {
      "cell_type": "code",
      "metadata": {
        "id": "HAw3YyqwvVpc",
        "colab": {
          "base_uri": "https://localhost:8080/",
          "height": 204
        },
        "outputId": "7b887be0-30af-4b5f-9f05-ad9fac9ca97b"
      },
      "source": [
        "df_clientes.head()"
      ],
      "execution_count": 5,
      "outputs": [
        {
          "output_type": "execute_result",
          "data": {
            "text/html": [
              "<div>\n",
              "<style scoped>\n",
              "    .dataframe tbody tr th:only-of-type {\n",
              "        vertical-align: middle;\n",
              "    }\n",
              "\n",
              "    .dataframe tbody tr th {\n",
              "        vertical-align: top;\n",
              "    }\n",
              "\n",
              "    .dataframe thead th {\n",
              "        text-align: right;\n",
              "    }\n",
              "</style>\n",
              "<table border=\"1\" class=\"dataframe\">\n",
              "  <thead>\n",
              "    <tr style=\"text-align: right;\">\n",
              "      <th></th>\n",
              "      <th>customer_id</th>\n",
              "      <th>customer_unique_id</th>\n",
              "      <th>customer_zip_code_prefix</th>\n",
              "      <th>customer_city</th>\n",
              "      <th>customer_state</th>\n",
              "    </tr>\n",
              "  </thead>\n",
              "  <tbody>\n",
              "    <tr>\n",
              "      <th>0</th>\n",
              "      <td>06b8999e2fba1a1fbc88172c00ba8bc7</td>\n",
              "      <td>861eff4711a542e4b93843c6dd7febb0</td>\n",
              "      <td>14409</td>\n",
              "      <td>franca</td>\n",
              "      <td>SP</td>\n",
              "    </tr>\n",
              "    <tr>\n",
              "      <th>1</th>\n",
              "      <td>18955e83d337fd6b2def6b18a428ac77</td>\n",
              "      <td>290c77bc529b7ac935b93aa66c333dc3</td>\n",
              "      <td>9790</td>\n",
              "      <td>sao bernardo do campo</td>\n",
              "      <td>SP</td>\n",
              "    </tr>\n",
              "    <tr>\n",
              "      <th>2</th>\n",
              "      <td>4e7b3e00288586ebd08712fdd0374a03</td>\n",
              "      <td>060e732b5b29e8181a18229c7b0b2b5e</td>\n",
              "      <td>1151</td>\n",
              "      <td>sao paulo</td>\n",
              "      <td>SP</td>\n",
              "    </tr>\n",
              "    <tr>\n",
              "      <th>3</th>\n",
              "      <td>b2b6027bc5c5109e529d4dc6358b12c3</td>\n",
              "      <td>259dac757896d24d7702b9acbbff3f3c</td>\n",
              "      <td>8775</td>\n",
              "      <td>mogi das cruzes</td>\n",
              "      <td>SP</td>\n",
              "    </tr>\n",
              "    <tr>\n",
              "      <th>4</th>\n",
              "      <td>4f2d8ab171c80ec8364f7c12e35b23ad</td>\n",
              "      <td>345ecd01c38d18a9036ed96c73b8d066</td>\n",
              "      <td>13056</td>\n",
              "      <td>campinas</td>\n",
              "      <td>SP</td>\n",
              "    </tr>\n",
              "  </tbody>\n",
              "</table>\n",
              "</div>"
            ],
            "text/plain": [
              "                        customer_id  ... customer_state\n",
              "0  06b8999e2fba1a1fbc88172c00ba8bc7  ...             SP\n",
              "1  18955e83d337fd6b2def6b18a428ac77  ...             SP\n",
              "2  4e7b3e00288586ebd08712fdd0374a03  ...             SP\n",
              "3  b2b6027bc5c5109e529d4dc6358b12c3  ...             SP\n",
              "4  4f2d8ab171c80ec8364f7c12e35b23ad  ...             SP\n",
              "\n",
              "[5 rows x 5 columns]"
            ]
          },
          "metadata": {
            "tags": []
          },
          "execution_count": 5
        }
      ]
    },
    {
      "cell_type": "code",
      "metadata": {
        "id": "jYXp1T1Iv7p9",
        "colab": {
          "base_uri": "https://localhost:8080/",
          "height": 204
        },
        "outputId": "ad42998d-fc77-4a7a-9458-83fd72ac021e"
      },
      "source": [
        "df_compras.head()"
      ],
      "execution_count": 6,
      "outputs": [
        {
          "output_type": "execute_result",
          "data": {
            "text/html": [
              "<div>\n",
              "<style scoped>\n",
              "    .dataframe tbody tr th:only-of-type {\n",
              "        vertical-align: middle;\n",
              "    }\n",
              "\n",
              "    .dataframe tbody tr th {\n",
              "        vertical-align: top;\n",
              "    }\n",
              "\n",
              "    .dataframe thead th {\n",
              "        text-align: right;\n",
              "    }\n",
              "</style>\n",
              "<table border=\"1\" class=\"dataframe\">\n",
              "  <thead>\n",
              "    <tr style=\"text-align: right;\">\n",
              "      <th></th>\n",
              "      <th>order_id</th>\n",
              "      <th>customer_id</th>\n",
              "      <th>order_status</th>\n",
              "      <th>order_purchase_timestamp</th>\n",
              "      <th>order_approved_at</th>\n",
              "      <th>order_delivered_carrier_date</th>\n",
              "      <th>order_delivered_customer_date</th>\n",
              "      <th>order_estimated_delivery_date</th>\n",
              "    </tr>\n",
              "  </thead>\n",
              "  <tbody>\n",
              "    <tr>\n",
              "      <th>0</th>\n",
              "      <td>e481f51cbdc54678b7cc49136f2d6af7</td>\n",
              "      <td>9ef432eb6251297304e76186b10a928d</td>\n",
              "      <td>delivered</td>\n",
              "      <td>2017-10-02 10:56:33</td>\n",
              "      <td>2017-10-02 11:07:15</td>\n",
              "      <td>2017-10-04 19:55:00</td>\n",
              "      <td>2017-10-10 21:25:13</td>\n",
              "      <td>2017-10-18 00:00:00</td>\n",
              "    </tr>\n",
              "    <tr>\n",
              "      <th>1</th>\n",
              "      <td>53cdb2fc8bc7dce0b6741e2150273451</td>\n",
              "      <td>b0830fb4747a6c6d20dea0b8c802d7ef</td>\n",
              "      <td>delivered</td>\n",
              "      <td>2018-07-24 20:41:37</td>\n",
              "      <td>2018-07-26 03:24:27</td>\n",
              "      <td>2018-07-26 14:31:00</td>\n",
              "      <td>2018-08-07 15:27:45</td>\n",
              "      <td>2018-08-13 00:00:00</td>\n",
              "    </tr>\n",
              "    <tr>\n",
              "      <th>2</th>\n",
              "      <td>47770eb9100c2d0c44946d9cf07ec65d</td>\n",
              "      <td>41ce2a54c0b03bf3443c3d931a367089</td>\n",
              "      <td>delivered</td>\n",
              "      <td>2018-08-08 08:38:49</td>\n",
              "      <td>2018-08-08 08:55:23</td>\n",
              "      <td>2018-08-08 13:50:00</td>\n",
              "      <td>2018-08-17 18:06:29</td>\n",
              "      <td>2018-09-04 00:00:00</td>\n",
              "    </tr>\n",
              "    <tr>\n",
              "      <th>3</th>\n",
              "      <td>949d5b44dbf5de918fe9c16f97b45f8a</td>\n",
              "      <td>f88197465ea7920adcdbec7375364d82</td>\n",
              "      <td>delivered</td>\n",
              "      <td>2017-11-18 19:28:06</td>\n",
              "      <td>2017-11-18 19:45:59</td>\n",
              "      <td>2017-11-22 13:39:59</td>\n",
              "      <td>2017-12-02 00:28:42</td>\n",
              "      <td>2017-12-15 00:00:00</td>\n",
              "    </tr>\n",
              "    <tr>\n",
              "      <th>4</th>\n",
              "      <td>ad21c59c0840e6cb83a9ceb5573f8159</td>\n",
              "      <td>8ab97904e6daea8866dbdbc4fb7aad2c</td>\n",
              "      <td>delivered</td>\n",
              "      <td>2018-02-13 21:18:39</td>\n",
              "      <td>2018-02-13 22:20:29</td>\n",
              "      <td>2018-02-14 19:46:34</td>\n",
              "      <td>2018-02-16 18:17:02</td>\n",
              "      <td>2018-02-26 00:00:00</td>\n",
              "    </tr>\n",
              "  </tbody>\n",
              "</table>\n",
              "</div>"
            ],
            "text/plain": [
              "                           order_id  ... order_estimated_delivery_date\n",
              "0  e481f51cbdc54678b7cc49136f2d6af7  ...           2017-10-18 00:00:00\n",
              "1  53cdb2fc8bc7dce0b6741e2150273451  ...           2018-08-13 00:00:00\n",
              "2  47770eb9100c2d0c44946d9cf07ec65d  ...           2018-09-04 00:00:00\n",
              "3  949d5b44dbf5de918fe9c16f97b45f8a  ...           2017-12-15 00:00:00\n",
              "4  ad21c59c0840e6cb83a9ceb5573f8159  ...           2018-02-26 00:00:00\n",
              "\n",
              "[5 rows x 8 columns]"
            ]
          },
          "metadata": {
            "tags": []
          },
          "execution_count": 6
        }
      ]
    },
    {
      "cell_type": "code",
      "metadata": {
        "id": "k3wzcZXtxCnf",
        "colab": {
          "base_uri": "https://localhost:8080/",
          "height": 204
        },
        "outputId": "2c9eb916-f6e4-43cc-98ec-a7c0d42cedff"
      },
      "source": [
        "df_produtos.head()"
      ],
      "execution_count": 7,
      "outputs": [
        {
          "output_type": "execute_result",
          "data": {
            "text/html": [
              "<div>\n",
              "<style scoped>\n",
              "    .dataframe tbody tr th:only-of-type {\n",
              "        vertical-align: middle;\n",
              "    }\n",
              "\n",
              "    .dataframe tbody tr th {\n",
              "        vertical-align: top;\n",
              "    }\n",
              "\n",
              "    .dataframe thead th {\n",
              "        text-align: right;\n",
              "    }\n",
              "</style>\n",
              "<table border=\"1\" class=\"dataframe\">\n",
              "  <thead>\n",
              "    <tr style=\"text-align: right;\">\n",
              "      <th></th>\n",
              "      <th>product_id</th>\n",
              "      <th>product_category_name</th>\n",
              "      <th>product_name_lenght</th>\n",
              "      <th>product_description_lenght</th>\n",
              "      <th>product_photos_qty</th>\n",
              "      <th>product_weight_g</th>\n",
              "      <th>product_length_cm</th>\n",
              "      <th>product_height_cm</th>\n",
              "      <th>product_width_cm</th>\n",
              "    </tr>\n",
              "  </thead>\n",
              "  <tbody>\n",
              "    <tr>\n",
              "      <th>0</th>\n",
              "      <td>1e9e8ef04dbcff4541ed26657ea517e5</td>\n",
              "      <td>perfumaria</td>\n",
              "      <td>40.0</td>\n",
              "      <td>287.0</td>\n",
              "      <td>1.0</td>\n",
              "      <td>225.0</td>\n",
              "      <td>16.0</td>\n",
              "      <td>10.0</td>\n",
              "      <td>14.0</td>\n",
              "    </tr>\n",
              "    <tr>\n",
              "      <th>1</th>\n",
              "      <td>3aa071139cb16b67ca9e5dea641aaa2f</td>\n",
              "      <td>artes</td>\n",
              "      <td>44.0</td>\n",
              "      <td>276.0</td>\n",
              "      <td>1.0</td>\n",
              "      <td>1000.0</td>\n",
              "      <td>30.0</td>\n",
              "      <td>18.0</td>\n",
              "      <td>20.0</td>\n",
              "    </tr>\n",
              "    <tr>\n",
              "      <th>2</th>\n",
              "      <td>96bd76ec8810374ed1b65e291975717f</td>\n",
              "      <td>esporte_lazer</td>\n",
              "      <td>46.0</td>\n",
              "      <td>250.0</td>\n",
              "      <td>1.0</td>\n",
              "      <td>154.0</td>\n",
              "      <td>18.0</td>\n",
              "      <td>9.0</td>\n",
              "      <td>15.0</td>\n",
              "    </tr>\n",
              "    <tr>\n",
              "      <th>3</th>\n",
              "      <td>cef67bcfe19066a932b7673e239eb23d</td>\n",
              "      <td>bebes</td>\n",
              "      <td>27.0</td>\n",
              "      <td>261.0</td>\n",
              "      <td>1.0</td>\n",
              "      <td>371.0</td>\n",
              "      <td>26.0</td>\n",
              "      <td>4.0</td>\n",
              "      <td>26.0</td>\n",
              "    </tr>\n",
              "    <tr>\n",
              "      <th>4</th>\n",
              "      <td>9dc1a7de274444849c219cff195d0b71</td>\n",
              "      <td>utilidades_domesticas</td>\n",
              "      <td>37.0</td>\n",
              "      <td>402.0</td>\n",
              "      <td>4.0</td>\n",
              "      <td>625.0</td>\n",
              "      <td>20.0</td>\n",
              "      <td>17.0</td>\n",
              "      <td>13.0</td>\n",
              "    </tr>\n",
              "  </tbody>\n",
              "</table>\n",
              "</div>"
            ],
            "text/plain": [
              "                         product_id  ... product_width_cm\n",
              "0  1e9e8ef04dbcff4541ed26657ea517e5  ...             14.0\n",
              "1  3aa071139cb16b67ca9e5dea641aaa2f  ...             20.0\n",
              "2  96bd76ec8810374ed1b65e291975717f  ...             15.0\n",
              "3  cef67bcfe19066a932b7673e239eb23d  ...             26.0\n",
              "4  9dc1a7de274444849c219cff195d0b71  ...             13.0\n",
              "\n",
              "[5 rows x 9 columns]"
            ]
          },
          "metadata": {
            "tags": []
          },
          "execution_count": 7
        }
      ]
    },
    {
      "cell_type": "markdown",
      "metadata": {
        "id": "CEvkzwLj2OnQ"
      },
      "source": [
        "##1) Quais são os principais tipos de pagamentos utilizados em cada cidade?"
      ]
    },
    {
      "cell_type": "code",
      "metadata": {
        "id": "hWFrNRMZ2SzJ",
        "colab": {
          "base_uri": "https://localhost:8080/",
          "height": 204
        },
        "outputId": "687b7abe-da68-431b-ebc1-0a1c512b5fd5"
      },
      "source": [
        "df_left = df_compra_pagamentos[['order_id', 'payment_type']]\n",
        "df_left.head()"
      ],
      "execution_count": 8,
      "outputs": [
        {
          "output_type": "execute_result",
          "data": {
            "text/html": [
              "<div>\n",
              "<style scoped>\n",
              "    .dataframe tbody tr th:only-of-type {\n",
              "        vertical-align: middle;\n",
              "    }\n",
              "\n",
              "    .dataframe tbody tr th {\n",
              "        vertical-align: top;\n",
              "    }\n",
              "\n",
              "    .dataframe thead th {\n",
              "        text-align: right;\n",
              "    }\n",
              "</style>\n",
              "<table border=\"1\" class=\"dataframe\">\n",
              "  <thead>\n",
              "    <tr style=\"text-align: right;\">\n",
              "      <th></th>\n",
              "      <th>order_id</th>\n",
              "      <th>payment_type</th>\n",
              "    </tr>\n",
              "  </thead>\n",
              "  <tbody>\n",
              "    <tr>\n",
              "      <th>0</th>\n",
              "      <td>b81ef226f3fe1789b1e8b2acac839d17</td>\n",
              "      <td>credit_card</td>\n",
              "    </tr>\n",
              "    <tr>\n",
              "      <th>1</th>\n",
              "      <td>a9810da82917af2d9aefd1278f1dcfa0</td>\n",
              "      <td>credit_card</td>\n",
              "    </tr>\n",
              "    <tr>\n",
              "      <th>2</th>\n",
              "      <td>25e8ea4e93396b6fa0d3dd708e76c1bd</td>\n",
              "      <td>credit_card</td>\n",
              "    </tr>\n",
              "    <tr>\n",
              "      <th>3</th>\n",
              "      <td>ba78997921bbcdc1373bb41e913ab953</td>\n",
              "      <td>credit_card</td>\n",
              "    </tr>\n",
              "    <tr>\n",
              "      <th>4</th>\n",
              "      <td>42fdf880ba16b47b59251dd489d4441a</td>\n",
              "      <td>credit_card</td>\n",
              "    </tr>\n",
              "  </tbody>\n",
              "</table>\n",
              "</div>"
            ],
            "text/plain": [
              "                           order_id payment_type\n",
              "0  b81ef226f3fe1789b1e8b2acac839d17  credit_card\n",
              "1  a9810da82917af2d9aefd1278f1dcfa0  credit_card\n",
              "2  25e8ea4e93396b6fa0d3dd708e76c1bd  credit_card\n",
              "3  ba78997921bbcdc1373bb41e913ab953  credit_card\n",
              "4  42fdf880ba16b47b59251dd489d4441a  credit_card"
            ]
          },
          "metadata": {
            "tags": []
          },
          "execution_count": 8
        }
      ]
    },
    {
      "cell_type": "code",
      "metadata": {
        "id": "3l3bGRYf3Hmn",
        "colab": {
          "base_uri": "https://localhost:8080/",
          "height": 204
        },
        "outputId": "e97b6163-030a-48f5-f3c7-0802cda710d7"
      },
      "source": [
        "df_right = df_compras[['order_id', 'customer_id']]\n",
        "df_right.head()"
      ],
      "execution_count": 9,
      "outputs": [
        {
          "output_type": "execute_result",
          "data": {
            "text/html": [
              "<div>\n",
              "<style scoped>\n",
              "    .dataframe tbody tr th:only-of-type {\n",
              "        vertical-align: middle;\n",
              "    }\n",
              "\n",
              "    .dataframe tbody tr th {\n",
              "        vertical-align: top;\n",
              "    }\n",
              "\n",
              "    .dataframe thead th {\n",
              "        text-align: right;\n",
              "    }\n",
              "</style>\n",
              "<table border=\"1\" class=\"dataframe\">\n",
              "  <thead>\n",
              "    <tr style=\"text-align: right;\">\n",
              "      <th></th>\n",
              "      <th>order_id</th>\n",
              "      <th>customer_id</th>\n",
              "    </tr>\n",
              "  </thead>\n",
              "  <tbody>\n",
              "    <tr>\n",
              "      <th>0</th>\n",
              "      <td>e481f51cbdc54678b7cc49136f2d6af7</td>\n",
              "      <td>9ef432eb6251297304e76186b10a928d</td>\n",
              "    </tr>\n",
              "    <tr>\n",
              "      <th>1</th>\n",
              "      <td>53cdb2fc8bc7dce0b6741e2150273451</td>\n",
              "      <td>b0830fb4747a6c6d20dea0b8c802d7ef</td>\n",
              "    </tr>\n",
              "    <tr>\n",
              "      <th>2</th>\n",
              "      <td>47770eb9100c2d0c44946d9cf07ec65d</td>\n",
              "      <td>41ce2a54c0b03bf3443c3d931a367089</td>\n",
              "    </tr>\n",
              "    <tr>\n",
              "      <th>3</th>\n",
              "      <td>949d5b44dbf5de918fe9c16f97b45f8a</td>\n",
              "      <td>f88197465ea7920adcdbec7375364d82</td>\n",
              "    </tr>\n",
              "    <tr>\n",
              "      <th>4</th>\n",
              "      <td>ad21c59c0840e6cb83a9ceb5573f8159</td>\n",
              "      <td>8ab97904e6daea8866dbdbc4fb7aad2c</td>\n",
              "    </tr>\n",
              "  </tbody>\n",
              "</table>\n",
              "</div>"
            ],
            "text/plain": [
              "                           order_id                       customer_id\n",
              "0  e481f51cbdc54678b7cc49136f2d6af7  9ef432eb6251297304e76186b10a928d\n",
              "1  53cdb2fc8bc7dce0b6741e2150273451  b0830fb4747a6c6d20dea0b8c802d7ef\n",
              "2  47770eb9100c2d0c44946d9cf07ec65d  41ce2a54c0b03bf3443c3d931a367089\n",
              "3  949d5b44dbf5de918fe9c16f97b45f8a  f88197465ea7920adcdbec7375364d82\n",
              "4  ad21c59c0840e6cb83a9ceb5573f8159  8ab97904e6daea8866dbdbc4fb7aad2c"
            ]
          },
          "metadata": {
            "tags": []
          },
          "execution_count": 9
        }
      ]
    },
    {
      "cell_type": "code",
      "metadata": {
        "id": "5avk2kgD3KRz",
        "colab": {
          "base_uri": "https://localhost:8080/",
          "height": 204
        },
        "outputId": "6e661189-383c-4c8b-95e4-c2a710ec481f"
      },
      "source": [
        "df_pagamento_cliente_id = pd.merge(df_left, df_right, how='left', on='order_id')\n",
        "df_pagamento_cliente_id.head()"
      ],
      "execution_count": 10,
      "outputs": [
        {
          "output_type": "execute_result",
          "data": {
            "text/html": [
              "<div>\n",
              "<style scoped>\n",
              "    .dataframe tbody tr th:only-of-type {\n",
              "        vertical-align: middle;\n",
              "    }\n",
              "\n",
              "    .dataframe tbody tr th {\n",
              "        vertical-align: top;\n",
              "    }\n",
              "\n",
              "    .dataframe thead th {\n",
              "        text-align: right;\n",
              "    }\n",
              "</style>\n",
              "<table border=\"1\" class=\"dataframe\">\n",
              "  <thead>\n",
              "    <tr style=\"text-align: right;\">\n",
              "      <th></th>\n",
              "      <th>order_id</th>\n",
              "      <th>payment_type</th>\n",
              "      <th>customer_id</th>\n",
              "    </tr>\n",
              "  </thead>\n",
              "  <tbody>\n",
              "    <tr>\n",
              "      <th>0</th>\n",
              "      <td>b81ef226f3fe1789b1e8b2acac839d17</td>\n",
              "      <td>credit_card</td>\n",
              "      <td>0a8556ac6be836b46b3e89920d59291c</td>\n",
              "    </tr>\n",
              "    <tr>\n",
              "      <th>1</th>\n",
              "      <td>a9810da82917af2d9aefd1278f1dcfa0</td>\n",
              "      <td>credit_card</td>\n",
              "      <td>f2c7fc58a9de810828715166c672f10a</td>\n",
              "    </tr>\n",
              "    <tr>\n",
              "      <th>2</th>\n",
              "      <td>25e8ea4e93396b6fa0d3dd708e76c1bd</td>\n",
              "      <td>credit_card</td>\n",
              "      <td>25b14b69de0b6e184ae6fe2755e478f9</td>\n",
              "    </tr>\n",
              "    <tr>\n",
              "      <th>3</th>\n",
              "      <td>ba78997921bbcdc1373bb41e913ab953</td>\n",
              "      <td>credit_card</td>\n",
              "      <td>7a5d8efaaa1081f800628c30d2b0728f</td>\n",
              "    </tr>\n",
              "    <tr>\n",
              "      <th>4</th>\n",
              "      <td>42fdf880ba16b47b59251dd489d4441a</td>\n",
              "      <td>credit_card</td>\n",
              "      <td>15fd6fb8f8312dbb4674e4518d6fa3b3</td>\n",
              "    </tr>\n",
              "  </tbody>\n",
              "</table>\n",
              "</div>"
            ],
            "text/plain": [
              "                           order_id  ...                       customer_id\n",
              "0  b81ef226f3fe1789b1e8b2acac839d17  ...  0a8556ac6be836b46b3e89920d59291c\n",
              "1  a9810da82917af2d9aefd1278f1dcfa0  ...  f2c7fc58a9de810828715166c672f10a\n",
              "2  25e8ea4e93396b6fa0d3dd708e76c1bd  ...  25b14b69de0b6e184ae6fe2755e478f9\n",
              "3  ba78997921bbcdc1373bb41e913ab953  ...  7a5d8efaaa1081f800628c30d2b0728f\n",
              "4  42fdf880ba16b47b59251dd489d4441a  ...  15fd6fb8f8312dbb4674e4518d6fa3b3\n",
              "\n",
              "[5 rows x 3 columns]"
            ]
          },
          "metadata": {
            "tags": []
          },
          "execution_count": 10
        }
      ]
    },
    {
      "cell_type": "code",
      "metadata": {
        "id": "C4Ov6_uB36S4",
        "colab": {
          "base_uri": "https://localhost:8080/",
          "height": 204
        },
        "outputId": "f91e602b-d724-4763-b01c-46ebc2e108dd"
      },
      "source": [
        "df_right2 = df_clientes[['customer_id','customer_city']]\n",
        "df_right2.head()"
      ],
      "execution_count": 11,
      "outputs": [
        {
          "output_type": "execute_result",
          "data": {
            "text/html": [
              "<div>\n",
              "<style scoped>\n",
              "    .dataframe tbody tr th:only-of-type {\n",
              "        vertical-align: middle;\n",
              "    }\n",
              "\n",
              "    .dataframe tbody tr th {\n",
              "        vertical-align: top;\n",
              "    }\n",
              "\n",
              "    .dataframe thead th {\n",
              "        text-align: right;\n",
              "    }\n",
              "</style>\n",
              "<table border=\"1\" class=\"dataframe\">\n",
              "  <thead>\n",
              "    <tr style=\"text-align: right;\">\n",
              "      <th></th>\n",
              "      <th>customer_id</th>\n",
              "      <th>customer_city</th>\n",
              "    </tr>\n",
              "  </thead>\n",
              "  <tbody>\n",
              "    <tr>\n",
              "      <th>0</th>\n",
              "      <td>06b8999e2fba1a1fbc88172c00ba8bc7</td>\n",
              "      <td>franca</td>\n",
              "    </tr>\n",
              "    <tr>\n",
              "      <th>1</th>\n",
              "      <td>18955e83d337fd6b2def6b18a428ac77</td>\n",
              "      <td>sao bernardo do campo</td>\n",
              "    </tr>\n",
              "    <tr>\n",
              "      <th>2</th>\n",
              "      <td>4e7b3e00288586ebd08712fdd0374a03</td>\n",
              "      <td>sao paulo</td>\n",
              "    </tr>\n",
              "    <tr>\n",
              "      <th>3</th>\n",
              "      <td>b2b6027bc5c5109e529d4dc6358b12c3</td>\n",
              "      <td>mogi das cruzes</td>\n",
              "    </tr>\n",
              "    <tr>\n",
              "      <th>4</th>\n",
              "      <td>4f2d8ab171c80ec8364f7c12e35b23ad</td>\n",
              "      <td>campinas</td>\n",
              "    </tr>\n",
              "  </tbody>\n",
              "</table>\n",
              "</div>"
            ],
            "text/plain": [
              "                        customer_id          customer_city\n",
              "0  06b8999e2fba1a1fbc88172c00ba8bc7                 franca\n",
              "1  18955e83d337fd6b2def6b18a428ac77  sao bernardo do campo\n",
              "2  4e7b3e00288586ebd08712fdd0374a03              sao paulo\n",
              "3  b2b6027bc5c5109e529d4dc6358b12c3        mogi das cruzes\n",
              "4  4f2d8ab171c80ec8364f7c12e35b23ad               campinas"
            ]
          },
          "metadata": {
            "tags": []
          },
          "execution_count": 11
        }
      ]
    },
    {
      "cell_type": "code",
      "metadata": {
        "id": "C8v1Kmko3qRt",
        "colab": {
          "base_uri": "https://localhost:8080/",
          "height": 204
        },
        "outputId": "40541607-a1f0-4b7a-d1bf-2280a5a212b4"
      },
      "source": [
        "df_pagamento_client_id_city = pd.merge(left = df_pagamento_cliente_id, right = df_right2, how='left',on='customer_id')\n",
        "df_pagamento_client_id_city.head()"
      ],
      "execution_count": 12,
      "outputs": [
        {
          "output_type": "execute_result",
          "data": {
            "text/html": [
              "<div>\n",
              "<style scoped>\n",
              "    .dataframe tbody tr th:only-of-type {\n",
              "        vertical-align: middle;\n",
              "    }\n",
              "\n",
              "    .dataframe tbody tr th {\n",
              "        vertical-align: top;\n",
              "    }\n",
              "\n",
              "    .dataframe thead th {\n",
              "        text-align: right;\n",
              "    }\n",
              "</style>\n",
              "<table border=\"1\" class=\"dataframe\">\n",
              "  <thead>\n",
              "    <tr style=\"text-align: right;\">\n",
              "      <th></th>\n",
              "      <th>order_id</th>\n",
              "      <th>payment_type</th>\n",
              "      <th>customer_id</th>\n",
              "      <th>customer_city</th>\n",
              "    </tr>\n",
              "  </thead>\n",
              "  <tbody>\n",
              "    <tr>\n",
              "      <th>0</th>\n",
              "      <td>b81ef226f3fe1789b1e8b2acac839d17</td>\n",
              "      <td>credit_card</td>\n",
              "      <td>0a8556ac6be836b46b3e89920d59291c</td>\n",
              "      <td>teofilo otoni</td>\n",
              "    </tr>\n",
              "    <tr>\n",
              "      <th>1</th>\n",
              "      <td>a9810da82917af2d9aefd1278f1dcfa0</td>\n",
              "      <td>credit_card</td>\n",
              "      <td>f2c7fc58a9de810828715166c672f10a</td>\n",
              "      <td>sao paulo</td>\n",
              "    </tr>\n",
              "    <tr>\n",
              "      <th>2</th>\n",
              "      <td>25e8ea4e93396b6fa0d3dd708e76c1bd</td>\n",
              "      <td>credit_card</td>\n",
              "      <td>25b14b69de0b6e184ae6fe2755e478f9</td>\n",
              "      <td>sao paulo</td>\n",
              "    </tr>\n",
              "    <tr>\n",
              "      <th>3</th>\n",
              "      <td>ba78997921bbcdc1373bb41e913ab953</td>\n",
              "      <td>credit_card</td>\n",
              "      <td>7a5d8efaaa1081f800628c30d2b0728f</td>\n",
              "      <td>juiz de fora</td>\n",
              "    </tr>\n",
              "    <tr>\n",
              "      <th>4</th>\n",
              "      <td>42fdf880ba16b47b59251dd489d4441a</td>\n",
              "      <td>credit_card</td>\n",
              "      <td>15fd6fb8f8312dbb4674e4518d6fa3b3</td>\n",
              "      <td>conchas</td>\n",
              "    </tr>\n",
              "  </tbody>\n",
              "</table>\n",
              "</div>"
            ],
            "text/plain": [
              "                           order_id  ...  customer_city\n",
              "0  b81ef226f3fe1789b1e8b2acac839d17  ...  teofilo otoni\n",
              "1  a9810da82917af2d9aefd1278f1dcfa0  ...      sao paulo\n",
              "2  25e8ea4e93396b6fa0d3dd708e76c1bd  ...      sao paulo\n",
              "3  ba78997921bbcdc1373bb41e913ab953  ...   juiz de fora\n",
              "4  42fdf880ba16b47b59251dd489d4441a  ...        conchas\n",
              "\n",
              "[5 rows x 4 columns]"
            ]
          },
          "metadata": {
            "tags": []
          },
          "execution_count": 12
        }
      ]
    },
    {
      "cell_type": "code",
      "metadata": {
        "id": "ssnMx3zF5hVP",
        "colab": {
          "base_uri": "https://localhost:8080/",
          "height": 419
        },
        "outputId": "2d272c80-9b42-40a2-bbbd-b767ef8fc1ce"
      },
      "source": [
        "x = df_pagamento_client_id_city.groupby(by='customer_city')\n",
        "x.head()"
      ],
      "execution_count": 13,
      "outputs": [
        {
          "output_type": "execute_result",
          "data": {
            "text/html": [
              "<div>\n",
              "<style scoped>\n",
              "    .dataframe tbody tr th:only-of-type {\n",
              "        vertical-align: middle;\n",
              "    }\n",
              "\n",
              "    .dataframe tbody tr th {\n",
              "        vertical-align: top;\n",
              "    }\n",
              "\n",
              "    .dataframe thead th {\n",
              "        text-align: right;\n",
              "    }\n",
              "</style>\n",
              "<table border=\"1\" class=\"dataframe\">\n",
              "  <thead>\n",
              "    <tr style=\"text-align: right;\">\n",
              "      <th></th>\n",
              "      <th>order_id</th>\n",
              "      <th>payment_type</th>\n",
              "      <th>customer_id</th>\n",
              "      <th>customer_city</th>\n",
              "    </tr>\n",
              "  </thead>\n",
              "  <tbody>\n",
              "    <tr>\n",
              "      <th>0</th>\n",
              "      <td>b81ef226f3fe1789b1e8b2acac839d17</td>\n",
              "      <td>credit_card</td>\n",
              "      <td>0a8556ac6be836b46b3e89920d59291c</td>\n",
              "      <td>teofilo otoni</td>\n",
              "    </tr>\n",
              "    <tr>\n",
              "      <th>1</th>\n",
              "      <td>a9810da82917af2d9aefd1278f1dcfa0</td>\n",
              "      <td>credit_card</td>\n",
              "      <td>f2c7fc58a9de810828715166c672f10a</td>\n",
              "      <td>sao paulo</td>\n",
              "    </tr>\n",
              "    <tr>\n",
              "      <th>2</th>\n",
              "      <td>25e8ea4e93396b6fa0d3dd708e76c1bd</td>\n",
              "      <td>credit_card</td>\n",
              "      <td>25b14b69de0b6e184ae6fe2755e478f9</td>\n",
              "      <td>sao paulo</td>\n",
              "    </tr>\n",
              "    <tr>\n",
              "      <th>3</th>\n",
              "      <td>ba78997921bbcdc1373bb41e913ab953</td>\n",
              "      <td>credit_card</td>\n",
              "      <td>7a5d8efaaa1081f800628c30d2b0728f</td>\n",
              "      <td>juiz de fora</td>\n",
              "    </tr>\n",
              "    <tr>\n",
              "      <th>4</th>\n",
              "      <td>42fdf880ba16b47b59251dd489d4441a</td>\n",
              "      <td>credit_card</td>\n",
              "      <td>15fd6fb8f8312dbb4674e4518d6fa3b3</td>\n",
              "      <td>conchas</td>\n",
              "    </tr>\n",
              "    <tr>\n",
              "      <th>...</th>\n",
              "      <td>...</td>\n",
              "      <td>...</td>\n",
              "      <td>...</td>\n",
              "      <td>...</td>\n",
              "    </tr>\n",
              "    <tr>\n",
              "      <th>103845</th>\n",
              "      <td>fbf5670723916ebf3bd62b1e33ed3ea6</td>\n",
              "      <td>credit_card</td>\n",
              "      <td>82af83df6bec753f1d1d9b54e6f34454</td>\n",
              "      <td>presidente juscelino</td>\n",
              "    </tr>\n",
              "    <tr>\n",
              "      <th>103849</th>\n",
              "      <td>9a87b7f9b871b4725233e41e08811caa</td>\n",
              "      <td>credit_card</td>\n",
              "      <td>560c13ab2e56044eec5b75a29e759272</td>\n",
              "      <td>guajara-mirim</td>\n",
              "    </tr>\n",
              "    <tr>\n",
              "      <th>103854</th>\n",
              "      <td>bd1d2815016a0d22c926101c1c99d140</td>\n",
              "      <td>boleto</td>\n",
              "      <td>d520089f0783d83ef336bd06aa8923f9</td>\n",
              "      <td>urandi</td>\n",
              "    </tr>\n",
              "    <tr>\n",
              "      <th>103862</th>\n",
              "      <td>807f4ef550f104708e2190eca7e4c37a</td>\n",
              "      <td>credit_card</td>\n",
              "      <td>993f60535be5935dba6ea0fd2e71c092</td>\n",
              "      <td>barreirinhas</td>\n",
              "    </tr>\n",
              "    <tr>\n",
              "      <th>103875</th>\n",
              "      <td>60aed0a4eba0e424eb3cac85017fd752</td>\n",
              "      <td>credit_card</td>\n",
              "      <td>c596bc25904f9043dae514f6a26c89d3</td>\n",
              "      <td>sitio novo</td>\n",
              "    </tr>\n",
              "  </tbody>\n",
              "</table>\n",
              "<p>13056 rows × 4 columns</p>\n",
              "</div>"
            ],
            "text/plain": [
              "                                order_id  ...         customer_city\n",
              "0       b81ef226f3fe1789b1e8b2acac839d17  ...         teofilo otoni\n",
              "1       a9810da82917af2d9aefd1278f1dcfa0  ...             sao paulo\n",
              "2       25e8ea4e93396b6fa0d3dd708e76c1bd  ...             sao paulo\n",
              "3       ba78997921bbcdc1373bb41e913ab953  ...          juiz de fora\n",
              "4       42fdf880ba16b47b59251dd489d4441a  ...               conchas\n",
              "...                                  ...  ...                   ...\n",
              "103845  fbf5670723916ebf3bd62b1e33ed3ea6  ...  presidente juscelino\n",
              "103849  9a87b7f9b871b4725233e41e08811caa  ...         guajara-mirim\n",
              "103854  bd1d2815016a0d22c926101c1c99d140  ...                urandi\n",
              "103862  807f4ef550f104708e2190eca7e4c37a  ...          barreirinhas\n",
              "103875  60aed0a4eba0e424eb3cac85017fd752  ...            sitio novo\n",
              "\n",
              "[13056 rows x 4 columns]"
            ]
          },
          "metadata": {
            "tags": []
          },
          "execution_count": 13
        }
      ]
    },
    {
      "cell_type": "code",
      "metadata": {
        "id": "BcWY7cu36vdd",
        "colab": {
          "base_uri": "https://localhost:8080/"
        },
        "outputId": "b6c8cb9e-a2e0-49d4-e3c9-04b4ce6461c9"
      },
      "source": [
        "y = df_pagamento_client_id_city.payment_type.unique()\n",
        "print(y)"
      ],
      "execution_count": 14,
      "outputs": [
        {
          "output_type": "stream",
          "text": [
            "['credit_card' 'boleto' 'voucher' 'debit_card' 'not_defined']\n"
          ],
          "name": "stdout"
        }
      ]
    },
    {
      "cell_type": "code",
      "metadata": {
        "id": "_SzX70js7SAr",
        "colab": {
          "base_uri": "https://localhost:8080/"
        },
        "outputId": "cf0025f8-ba19-4d0e-b71d-8f983a51ea94"
      },
      "source": [
        "yy = df_pagamento_client_id_city.groupby(by='customer_city').count()['payment_type']\n",
        "yy"
      ],
      "execution_count": 15,
      "outputs": [
        {
          "output_type": "execute_result",
          "data": {
            "text/plain": [
              "customer_city\n",
              "abadia dos dourados     3\n",
              "abadiania               1\n",
              "abaete                 12\n",
              "abaetetuba             12\n",
              "abaiara                 2\n",
              "                       ..\n",
              "xinguara                9\n",
              "xique-xique             3\n",
              "zacarias                2\n",
              "ze doca                 5\n",
              "zortea                  2\n",
              "Name: payment_type, Length: 4119, dtype: int64"
            ]
          },
          "metadata": {
            "tags": []
          },
          "execution_count": 15
        }
      ]
    },
    {
      "cell_type": "code",
      "metadata": {
        "id": "tfSp51M38uov",
        "colab": {
          "base_uri": "https://localhost:8080/",
          "height": 450
        },
        "outputId": "656642a1-98b0-4e43-a94a-afd0aaf39ad7"
      },
      "source": [
        "tt = df_pagamento_client_id_city.groupby(by='customer_city').count()\n",
        "tt"
      ],
      "execution_count": 16,
      "outputs": [
        {
          "output_type": "execute_result",
          "data": {
            "text/html": [
              "<div>\n",
              "<style scoped>\n",
              "    .dataframe tbody tr th:only-of-type {\n",
              "        vertical-align: middle;\n",
              "    }\n",
              "\n",
              "    .dataframe tbody tr th {\n",
              "        vertical-align: top;\n",
              "    }\n",
              "\n",
              "    .dataframe thead th {\n",
              "        text-align: right;\n",
              "    }\n",
              "</style>\n",
              "<table border=\"1\" class=\"dataframe\">\n",
              "  <thead>\n",
              "    <tr style=\"text-align: right;\">\n",
              "      <th></th>\n",
              "      <th>order_id</th>\n",
              "      <th>payment_type</th>\n",
              "      <th>customer_id</th>\n",
              "    </tr>\n",
              "    <tr>\n",
              "      <th>customer_city</th>\n",
              "      <th></th>\n",
              "      <th></th>\n",
              "      <th></th>\n",
              "    </tr>\n",
              "  </thead>\n",
              "  <tbody>\n",
              "    <tr>\n",
              "      <th>abadia dos dourados</th>\n",
              "      <td>3</td>\n",
              "      <td>3</td>\n",
              "      <td>3</td>\n",
              "    </tr>\n",
              "    <tr>\n",
              "      <th>abadiania</th>\n",
              "      <td>1</td>\n",
              "      <td>1</td>\n",
              "      <td>1</td>\n",
              "    </tr>\n",
              "    <tr>\n",
              "      <th>abaete</th>\n",
              "      <td>12</td>\n",
              "      <td>12</td>\n",
              "      <td>12</td>\n",
              "    </tr>\n",
              "    <tr>\n",
              "      <th>abaetetuba</th>\n",
              "      <td>12</td>\n",
              "      <td>12</td>\n",
              "      <td>12</td>\n",
              "    </tr>\n",
              "    <tr>\n",
              "      <th>abaiara</th>\n",
              "      <td>2</td>\n",
              "      <td>2</td>\n",
              "      <td>2</td>\n",
              "    </tr>\n",
              "    <tr>\n",
              "      <th>...</th>\n",
              "      <td>...</td>\n",
              "      <td>...</td>\n",
              "      <td>...</td>\n",
              "    </tr>\n",
              "    <tr>\n",
              "      <th>xinguara</th>\n",
              "      <td>9</td>\n",
              "      <td>9</td>\n",
              "      <td>9</td>\n",
              "    </tr>\n",
              "    <tr>\n",
              "      <th>xique-xique</th>\n",
              "      <td>3</td>\n",
              "      <td>3</td>\n",
              "      <td>3</td>\n",
              "    </tr>\n",
              "    <tr>\n",
              "      <th>zacarias</th>\n",
              "      <td>2</td>\n",
              "      <td>2</td>\n",
              "      <td>2</td>\n",
              "    </tr>\n",
              "    <tr>\n",
              "      <th>ze doca</th>\n",
              "      <td>5</td>\n",
              "      <td>5</td>\n",
              "      <td>5</td>\n",
              "    </tr>\n",
              "    <tr>\n",
              "      <th>zortea</th>\n",
              "      <td>2</td>\n",
              "      <td>2</td>\n",
              "      <td>2</td>\n",
              "    </tr>\n",
              "  </tbody>\n",
              "</table>\n",
              "<p>4119 rows × 3 columns</p>\n",
              "</div>"
            ],
            "text/plain": [
              "                     order_id  payment_type  customer_id\n",
              "customer_city                                           \n",
              "abadia dos dourados         3             3            3\n",
              "abadiania                   1             1            1\n",
              "abaete                     12            12           12\n",
              "abaetetuba                 12            12           12\n",
              "abaiara                     2             2            2\n",
              "...                       ...           ...          ...\n",
              "xinguara                    9             9            9\n",
              "xique-xique                 3             3            3\n",
              "zacarias                    2             2            2\n",
              "ze doca                     5             5            5\n",
              "zortea                      2             2            2\n",
              "\n",
              "[4119 rows x 3 columns]"
            ]
          },
          "metadata": {
            "tags": []
          },
          "execution_count": 16
        }
      ]
    },
    {
      "cell_type": "code",
      "metadata": {
        "id": "YGgc4BI6-mB9",
        "colab": {
          "base_uri": "https://localhost:8080/",
          "height": 235
        },
        "outputId": "5020d74a-d880-417e-fc27-588894eabc64"
      },
      "source": [
        "ww = df_pagamento_client_id_city.groupby(by='payment_type').count()\n",
        "ww"
      ],
      "execution_count": 17,
      "outputs": [
        {
          "output_type": "execute_result",
          "data": {
            "text/html": [
              "<div>\n",
              "<style scoped>\n",
              "    .dataframe tbody tr th:only-of-type {\n",
              "        vertical-align: middle;\n",
              "    }\n",
              "\n",
              "    .dataframe tbody tr th {\n",
              "        vertical-align: top;\n",
              "    }\n",
              "\n",
              "    .dataframe thead th {\n",
              "        text-align: right;\n",
              "    }\n",
              "</style>\n",
              "<table border=\"1\" class=\"dataframe\">\n",
              "  <thead>\n",
              "    <tr style=\"text-align: right;\">\n",
              "      <th></th>\n",
              "      <th>order_id</th>\n",
              "      <th>customer_id</th>\n",
              "      <th>customer_city</th>\n",
              "    </tr>\n",
              "    <tr>\n",
              "      <th>payment_type</th>\n",
              "      <th></th>\n",
              "      <th></th>\n",
              "      <th></th>\n",
              "    </tr>\n",
              "  </thead>\n",
              "  <tbody>\n",
              "    <tr>\n",
              "      <th>boleto</th>\n",
              "      <td>19784</td>\n",
              "      <td>19784</td>\n",
              "      <td>19784</td>\n",
              "    </tr>\n",
              "    <tr>\n",
              "      <th>credit_card</th>\n",
              "      <td>76795</td>\n",
              "      <td>76795</td>\n",
              "      <td>76795</td>\n",
              "    </tr>\n",
              "    <tr>\n",
              "      <th>debit_card</th>\n",
              "      <td>1529</td>\n",
              "      <td>1529</td>\n",
              "      <td>1529</td>\n",
              "    </tr>\n",
              "    <tr>\n",
              "      <th>not_defined</th>\n",
              "      <td>3</td>\n",
              "      <td>3</td>\n",
              "      <td>3</td>\n",
              "    </tr>\n",
              "    <tr>\n",
              "      <th>voucher</th>\n",
              "      <td>5775</td>\n",
              "      <td>5775</td>\n",
              "      <td>5775</td>\n",
              "    </tr>\n",
              "  </tbody>\n",
              "</table>\n",
              "</div>"
            ],
            "text/plain": [
              "              order_id  customer_id  customer_city\n",
              "payment_type                                      \n",
              "boleto           19784        19784          19784\n",
              "credit_card      76795        76795          76795\n",
              "debit_card        1529         1529           1529\n",
              "not_defined          3            3              3\n",
              "voucher           5775         5775           5775"
            ]
          },
          "metadata": {
            "tags": []
          },
          "execution_count": 17
        }
      ]
    },
    {
      "cell_type": "code",
      "metadata": {
        "id": "E6xYCT9s_pn6",
        "colab": {
          "base_uri": "https://localhost:8080/",
          "height": 450
        },
        "outputId": "88a548f8-fa67-4acf-f879-9c5ad014f370"
      },
      "source": [
        "ww1 = df_pagamento_client_id_city.groupby(by = ['customer_city', 'payment_type']).count()\n",
        "ww1"
      ],
      "execution_count": 18,
      "outputs": [
        {
          "output_type": "execute_result",
          "data": {
            "text/html": [
              "<div>\n",
              "<style scoped>\n",
              "    .dataframe tbody tr th:only-of-type {\n",
              "        vertical-align: middle;\n",
              "    }\n",
              "\n",
              "    .dataframe tbody tr th {\n",
              "        vertical-align: top;\n",
              "    }\n",
              "\n",
              "    .dataframe thead th {\n",
              "        text-align: right;\n",
              "    }\n",
              "</style>\n",
              "<table border=\"1\" class=\"dataframe\">\n",
              "  <thead>\n",
              "    <tr style=\"text-align: right;\">\n",
              "      <th></th>\n",
              "      <th></th>\n",
              "      <th>order_id</th>\n",
              "      <th>customer_id</th>\n",
              "    </tr>\n",
              "    <tr>\n",
              "      <th>customer_city</th>\n",
              "      <th>payment_type</th>\n",
              "      <th></th>\n",
              "      <th></th>\n",
              "    </tr>\n",
              "  </thead>\n",
              "  <tbody>\n",
              "    <tr>\n",
              "      <th rowspan=\"2\" valign=\"top\">abadia dos dourados</th>\n",
              "      <th>boleto</th>\n",
              "      <td>1</td>\n",
              "      <td>1</td>\n",
              "    </tr>\n",
              "    <tr>\n",
              "      <th>credit_card</th>\n",
              "      <td>2</td>\n",
              "      <td>2</td>\n",
              "    </tr>\n",
              "    <tr>\n",
              "      <th>abadiania</th>\n",
              "      <th>credit_card</th>\n",
              "      <td>1</td>\n",
              "      <td>1</td>\n",
              "    </tr>\n",
              "    <tr>\n",
              "      <th rowspan=\"2\" valign=\"top\">abaete</th>\n",
              "      <th>boleto</th>\n",
              "      <td>4</td>\n",
              "      <td>4</td>\n",
              "    </tr>\n",
              "    <tr>\n",
              "      <th>credit_card</th>\n",
              "      <td>8</td>\n",
              "      <td>8</td>\n",
              "    </tr>\n",
              "    <tr>\n",
              "      <th>...</th>\n",
              "      <th>...</th>\n",
              "      <td>...</td>\n",
              "      <td>...</td>\n",
              "    </tr>\n",
              "    <tr>\n",
              "      <th>zacarias</th>\n",
              "      <th>credit_card</th>\n",
              "      <td>2</td>\n",
              "      <td>2</td>\n",
              "    </tr>\n",
              "    <tr>\n",
              "      <th rowspan=\"3\" valign=\"top\">ze doca</th>\n",
              "      <th>boleto</th>\n",
              "      <td>1</td>\n",
              "      <td>1</td>\n",
              "    </tr>\n",
              "    <tr>\n",
              "      <th>credit_card</th>\n",
              "      <td>3</td>\n",
              "      <td>3</td>\n",
              "    </tr>\n",
              "    <tr>\n",
              "      <th>voucher</th>\n",
              "      <td>1</td>\n",
              "      <td>1</td>\n",
              "    </tr>\n",
              "    <tr>\n",
              "      <th>zortea</th>\n",
              "      <th>credit_card</th>\n",
              "      <td>2</td>\n",
              "      <td>2</td>\n",
              "    </tr>\n",
              "  </tbody>\n",
              "</table>\n",
              "<p>7499 rows × 2 columns</p>\n",
              "</div>"
            ],
            "text/plain": [
              "                                  order_id  customer_id\n",
              "customer_city       payment_type                       \n",
              "abadia dos dourados boleto               1            1\n",
              "                    credit_card          2            2\n",
              "abadiania           credit_card          1            1\n",
              "abaete              boleto               4            4\n",
              "                    credit_card          8            8\n",
              "...                                    ...          ...\n",
              "zacarias            credit_card          2            2\n",
              "ze doca             boleto               1            1\n",
              "                    credit_card          3            3\n",
              "                    voucher              1            1\n",
              "zortea              credit_card          2            2\n",
              "\n",
              "[7499 rows x 2 columns]"
            ]
          },
          "metadata": {
            "tags": []
          },
          "execution_count": 18
        }
      ]
    },
    {
      "cell_type": "code",
      "metadata": {
        "id": "nq1ZOoqnCLsZ",
        "colab": {
          "base_uri": "https://localhost:8080/",
          "height": 450
        },
        "outputId": "0128453b-0c10-406c-d913-f55deb13b85e"
      },
      "source": [
        "ww2 = df_pagamento_client_id_city.groupby(by = ['customer_city', 'payment_type']).nunique()\n",
        "ww2"
      ],
      "execution_count": 19,
      "outputs": [
        {
          "output_type": "execute_result",
          "data": {
            "text/html": [
              "<div>\n",
              "<style scoped>\n",
              "    .dataframe tbody tr th:only-of-type {\n",
              "        vertical-align: middle;\n",
              "    }\n",
              "\n",
              "    .dataframe tbody tr th {\n",
              "        vertical-align: top;\n",
              "    }\n",
              "\n",
              "    .dataframe thead th {\n",
              "        text-align: right;\n",
              "    }\n",
              "</style>\n",
              "<table border=\"1\" class=\"dataframe\">\n",
              "  <thead>\n",
              "    <tr style=\"text-align: right;\">\n",
              "      <th></th>\n",
              "      <th></th>\n",
              "      <th>order_id</th>\n",
              "      <th>customer_id</th>\n",
              "    </tr>\n",
              "    <tr>\n",
              "      <th>customer_city</th>\n",
              "      <th>payment_type</th>\n",
              "      <th></th>\n",
              "      <th></th>\n",
              "    </tr>\n",
              "  </thead>\n",
              "  <tbody>\n",
              "    <tr>\n",
              "      <th rowspan=\"2\" valign=\"top\">abadia dos dourados</th>\n",
              "      <th>boleto</th>\n",
              "      <td>1</td>\n",
              "      <td>1</td>\n",
              "    </tr>\n",
              "    <tr>\n",
              "      <th>credit_card</th>\n",
              "      <td>2</td>\n",
              "      <td>2</td>\n",
              "    </tr>\n",
              "    <tr>\n",
              "      <th>abadiania</th>\n",
              "      <th>credit_card</th>\n",
              "      <td>1</td>\n",
              "      <td>1</td>\n",
              "    </tr>\n",
              "    <tr>\n",
              "      <th rowspan=\"2\" valign=\"top\">abaete</th>\n",
              "      <th>boleto</th>\n",
              "      <td>4</td>\n",
              "      <td>4</td>\n",
              "    </tr>\n",
              "    <tr>\n",
              "      <th>credit_card</th>\n",
              "      <td>8</td>\n",
              "      <td>8</td>\n",
              "    </tr>\n",
              "    <tr>\n",
              "      <th>...</th>\n",
              "      <th>...</th>\n",
              "      <td>...</td>\n",
              "      <td>...</td>\n",
              "    </tr>\n",
              "    <tr>\n",
              "      <th>zacarias</th>\n",
              "      <th>credit_card</th>\n",
              "      <td>2</td>\n",
              "      <td>2</td>\n",
              "    </tr>\n",
              "    <tr>\n",
              "      <th rowspan=\"3\" valign=\"top\">ze doca</th>\n",
              "      <th>boleto</th>\n",
              "      <td>1</td>\n",
              "      <td>1</td>\n",
              "    </tr>\n",
              "    <tr>\n",
              "      <th>credit_card</th>\n",
              "      <td>3</td>\n",
              "      <td>3</td>\n",
              "    </tr>\n",
              "    <tr>\n",
              "      <th>voucher</th>\n",
              "      <td>1</td>\n",
              "      <td>1</td>\n",
              "    </tr>\n",
              "    <tr>\n",
              "      <th>zortea</th>\n",
              "      <th>credit_card</th>\n",
              "      <td>2</td>\n",
              "      <td>2</td>\n",
              "    </tr>\n",
              "  </tbody>\n",
              "</table>\n",
              "<p>7499 rows × 2 columns</p>\n",
              "</div>"
            ],
            "text/plain": [
              "                                  order_id  customer_id\n",
              "customer_city       payment_type                       \n",
              "abadia dos dourados boleto               1            1\n",
              "                    credit_card          2            2\n",
              "abadiania           credit_card          1            1\n",
              "abaete              boleto               4            4\n",
              "                    credit_card          8            8\n",
              "...                                    ...          ...\n",
              "zacarias            credit_card          2            2\n",
              "ze doca             boleto               1            1\n",
              "                    credit_card          3            3\n",
              "                    voucher              1            1\n",
              "zortea              credit_card          2            2\n",
              "\n",
              "[7499 rows x 2 columns]"
            ]
          },
          "metadata": {
            "tags": []
          },
          "execution_count": 19
        }
      ]
    },
    {
      "cell_type": "code",
      "metadata": {
        "id": "JbVgSkDFJLJ5",
        "colab": {
          "base_uri": "https://localhost:8080/"
        },
        "outputId": "069f411e-d1c0-4290-863a-abf4607b8a18"
      },
      "source": [
        "!pip install plotly==4.10.0"
      ],
      "execution_count": 20,
      "outputs": [
        {
          "output_type": "stream",
          "text": [
            "Requirement already satisfied: plotly==4.10.0 in /usr/local/lib/python3.6/dist-packages (4.10.0)\n",
            "Requirement already satisfied: six in /usr/local/lib/python3.6/dist-packages (from plotly==4.10.0) (1.15.0)\n",
            "Requirement already satisfied: retrying>=1.3.3 in /usr/local/lib/python3.6/dist-packages (from plotly==4.10.0) (1.3.3)\n"
          ],
          "name": "stdout"
        }
      ]
    },
    {
      "cell_type": "code",
      "metadata": {
        "id": "RBGs3CSLIVsO",
        "colab": {
          "base_uri": "https://localhost:8080/",
          "height": 204
        },
        "outputId": "ab65ba9d-9302-4791-fce6-7c07585657fb"
      },
      "source": [
        "df_plot = ww2.reset_index()\n",
        "df_plot.head()"
      ],
      "execution_count": 21,
      "outputs": [
        {
          "output_type": "execute_result",
          "data": {
            "text/html": [
              "<div>\n",
              "<style scoped>\n",
              "    .dataframe tbody tr th:only-of-type {\n",
              "        vertical-align: middle;\n",
              "    }\n",
              "\n",
              "    .dataframe tbody tr th {\n",
              "        vertical-align: top;\n",
              "    }\n",
              "\n",
              "    .dataframe thead th {\n",
              "        text-align: right;\n",
              "    }\n",
              "</style>\n",
              "<table border=\"1\" class=\"dataframe\">\n",
              "  <thead>\n",
              "    <tr style=\"text-align: right;\">\n",
              "      <th></th>\n",
              "      <th>customer_city</th>\n",
              "      <th>payment_type</th>\n",
              "      <th>order_id</th>\n",
              "      <th>customer_id</th>\n",
              "    </tr>\n",
              "  </thead>\n",
              "  <tbody>\n",
              "    <tr>\n",
              "      <th>0</th>\n",
              "      <td>abadia dos dourados</td>\n",
              "      <td>boleto</td>\n",
              "      <td>1</td>\n",
              "      <td>1</td>\n",
              "    </tr>\n",
              "    <tr>\n",
              "      <th>1</th>\n",
              "      <td>abadia dos dourados</td>\n",
              "      <td>credit_card</td>\n",
              "      <td>2</td>\n",
              "      <td>2</td>\n",
              "    </tr>\n",
              "    <tr>\n",
              "      <th>2</th>\n",
              "      <td>abadiania</td>\n",
              "      <td>credit_card</td>\n",
              "      <td>1</td>\n",
              "      <td>1</td>\n",
              "    </tr>\n",
              "    <tr>\n",
              "      <th>3</th>\n",
              "      <td>abaete</td>\n",
              "      <td>boleto</td>\n",
              "      <td>4</td>\n",
              "      <td>4</td>\n",
              "    </tr>\n",
              "    <tr>\n",
              "      <th>4</th>\n",
              "      <td>abaete</td>\n",
              "      <td>credit_card</td>\n",
              "      <td>8</td>\n",
              "      <td>8</td>\n",
              "    </tr>\n",
              "  </tbody>\n",
              "</table>\n",
              "</div>"
            ],
            "text/plain": [
              "         customer_city payment_type  order_id  customer_id\n",
              "0  abadia dos dourados       boleto         1            1\n",
              "1  abadia dos dourados  credit_card         2            2\n",
              "2            abadiania  credit_card         1            1\n",
              "3               abaete       boleto         4            4\n",
              "4               abaete  credit_card         8            8"
            ]
          },
          "metadata": {
            "tags": []
          },
          "execution_count": 21
        }
      ]
    },
    {
      "cell_type": "code",
      "metadata": {
        "id": "4h_kFrtSh_b7",
        "colab": {
          "base_uri": "https://localhost:8080/",
          "height": 542
        },
        "outputId": "b0705366-0814-4314-dc67-abe92f3c0353"
      },
      "source": [
        "import plotly.express as px\n",
        "fig = px.bar(df_plot, x='customer_city', y=\"customer_id\" ,color='payment_type', barmode='group', title=\"Customer_city X Payment_type\")\n",
        "fig.show()"
      ],
      "execution_count": 22,
      "outputs": [
        {
          "output_type": "display_data",
          "data": {
            "text/html": [
              "<html>\n",
              "<head><meta charset=\"utf-8\" /></head>\n",
              "<body>\n",
              "    <div>            <script src=\"https://cdnjs.cloudflare.com/ajax/libs/mathjax/2.7.5/MathJax.js?config=TeX-AMS-MML_SVG\"></script><script type=\"text/javascript\">if (window.MathJax) {MathJax.Hub.Config({SVG: {font: \"STIX-Web\"}});}</script>                <script type=\"text/javascript\">window.PlotlyConfig = {MathJaxConfig: 'local'};</script>\n",
              "        <script src=\"https://cdn.plot.ly/plotly-latest.min.js\"></script>                <div id=\"a08572ac-3dc7-43c0-8e76-90971f482b49\" class=\"plotly-graph-div\" style=\"height:525px; width:100%;\"></div>            <script type=\"text/javascript\">                                    window.PLOTLYENV=window.PLOTLYENV || {};                                    if (document.getElementById(\"a08572ac-3dc7-43c0-8e76-90971f482b49\")) {                    Plotly.newPlot(                        \"a08572ac-3dc7-43c0-8e76-90971f482b49\",                        [{\"alignmentgroup\": \"True\", \"hovertemplate\": \"payment_type=boleto<br>customer_city=%{x}<br>customer_id=%{y}<extra></extra>\", \"legendgroup\": \"boleto\", \"marker\": {\"color\": \"#636efa\"}, \"name\": \"boleto\", \"offsetgroup\": \"boleto\", \"orientation\": \"v\", \"showlegend\": true, \"textposition\": \"auto\", \"type\": \"bar\", \"x\": [\"abadia dos dourados\", \"abaete\", \"abre campo\", \"abreu e lima\", \"acailandia\", \"acarau\", \"acegua\", \"acopiara\", \"acreuna\", \"adamantina\", \"adolfo\", \"adrianopolis\", \"afogados da ingazeira\", \"afonso claudio\", \"agronomica\", \"agua boa\", \"agua branca\", \"agua clara\", \"agua comprida\", \"aguai\", \"aguas belas\", \"aguas claras\", \"aguas da prata\", \"aguas de lindoia\", \"aguas de santa barbara\", \"aguas de sao pedro\", \"aguas formosas\", \"aguas lindas de goias\", \"aguas vermelhas\", \"agudo\", \"agudos\", \"aguia branca\", \"aimores\", \"aiuaba\", \"aiuruoca\", \"alagoinhas\", \"alambari\", \"alcobaca\", \"alegre\", \"alegrete\", \"alegria\", \"alem paraiba\", \"alexania\", \"alfenas\", \"alfredo chaves\", \"alianca\", \"almenara\", \"almirante tamandare\", \"almirante tamandare do sul\", \"alpestre\", \"alpinopolis\", \"alta floresta\", \"alta floresta d'oeste\", \"altamira\", \"altaneira\", \"alterosa\", \"altinho\", \"altinopolis\", \"alto alegre\", \"alto araguaia\", \"alto boa vista\", \"alto horizonte\", \"alto paraiso\", \"alto paraiso de goias\", \"alto parnaiba\", \"alto piquiri\", \"alto rio doce\", \"alto taquari\", \"altonia\", \"altos\", \"aluminio\", \"alvares machado\", \"alvaro de carvalho\", \"alvinopolis\", \"alvorada\", \"amambai\", \"amaraji\", \"americana\", \"americo brasiliense\", \"ametista do sul\", \"amparo\", \"ampere\", \"anage\", \"analandia\", \"ananindeua\", \"anapolis\", \"anastacio\", \"anaurilandia\", \"anchieta\", \"andira\", \"andradas\", \"andradina\", \"andrelandia\", \"angatuba\", \"angelica\", \"angical\", \"angra dos reis\", \"angulo\", \"anicuns\", \"anita garibaldi\", \"anta\", \"anta gorda\", \"antonio cardoso\", \"antonio carlos\", \"antonio prado\", \"antonio prado de minas\", \"aparecida\", \"aparecida d'oeste\", \"aparecida de goiania\", \"aparecida do taboado\", \"aperibe\", \"apiai\", \"apiuna\", \"apodi\", \"apucarana\", \"aquiraz\", \"aracaju\", \"aracati\", \"aracatuba\", \"araci\", \"aracitaba\", \"aracoiaba da serra\", \"aracruz\", \"aracuai\", \"aragarcas\", \"araguacu\", \"araguaina\", \"araguari\", \"araguatins\", \"arame\", \"arandu\", \"arapiraca\", \"arapoema\", \"araponga\", \"arapongas\", \"arapora\", \"arapoti\", \"araputanga\", \"araquari\", \"ararangua\", \"araraquara\", \"araras\", \"araripina\", \"araruama\", \"araruna\", \"araucaria\", \"araujos\", \"araxa\", \"arcos\", \"arcoverde\", \"areado\", \"areia branca\", \"areias\", \"aribice\", \"arinos\", \"aripuana\", \"ariquemes\", \"ariranha\", \"armacao dos buzios\", \"armazem\", \"arraial d'ajuda\", \"arraial do cabo\", \"arroio do meio\", \"arroio do sal\", \"arroio do tigre\", \"arroio grande\", \"artur nogueira\", \"aruja\", \"arvoredo\", \"arvorezinha\", \"ascurra\", \"assis\", \"assis chateaubriand\", \"astolfo dutra\", \"astorga\", \"atalanta\", \"ataleia\", \"atibaia\", \"aurea\", \"aurilandia\", \"aurora\", \"avanhandava\", \"avare\", \"avelino lopes\", \"bacabal\", \"bacuri\", \"bady bassitt\", \"baependi\", \"bage\", \"baixa grande\", \"baixa grande do ribeiro\", \"baixo guandu\", \"balneario arroio do silva\", \"balneario camboriu\", \"balneario gaivota\", \"balneario picarras\", \"balneario pinhal\", \"balsamo\", \"balsas\", \"bambui\", \"bandeirantes\", \"bandeirantes d'oeste\", \"bandeirantes do tocantins\", \"banzae\", \"barao de cocais\", \"barao de cotegipe\", \"barauna\", \"barbacena\", \"barbalha\", \"barcarena\", \"bariri\", \"barra\", \"barra bonita\", \"barra da estiva\", \"barra de santo antonio\", \"barra de sao francisco\", \"barra de sao joao\", \"barra do garcas\", \"barra do mendes\", \"barra do pirai\", \"barra do ribeiro\", \"barra dos coqueiros\", \"barra mansa\", \"barra velha\", \"barreiras\", \"barreirinhas\", \"barretos\", \"barrinha\", \"barro alto\", \"barro preto\", \"barrolandia\", \"barroso\", \"barueri\", \"bastos\", \"bataguassu\", \"batatais\", \"bataypora\", \"bauru\", \"bayeux\", \"bebedouro\", \"bela vista\", \"bela vista de goias\", \"belem\", \"belem do sao francisco\", \"belford roxo\", \"belo campo\", \"belo horizonte\", \"belo oriente\", \"belo vale\", \"benedito novo\", \"bento goncalves\", \"berilo\", \"bertioga\", \"bertolinia\", \"bertopolis\", \"betim\", \"bezerros\", \"bias fortes\", \"bicas\", \"biguacu\", \"bilac\", \"birigui\", \"biritiba-mirim\", \"bituruna\", \"blumenau\", \"boa esperanca\", \"boa esperanca do iguacu\", \"boa esperanca do sul\", \"boa vista\", \"boa vista do burica\", \"bocaina\", \"bocaiuva\", \"bodoco\", \"bofete\", \"boituva\", \"bom conselho\", \"bom despacho\", \"bom jardim\", \"bom jardim de minas\", \"bom jesus\", \"bom jesus da lapa\", \"bom jesus da penha\", \"bom jesus da serra\", \"bom jesus do galho\", \"bom jesus do itabapoana\", \"bom jesus do tocantins\", \"bom jesus dos perdoes\", \"bom repouso\", \"bom retiro do sul\", \"bombinhas\", \"bonfim\", \"bonfim paulista\", \"bonito\", \"bonito de minas\", \"borborema\", \"borda da mata\", \"borrazopolis\", \"bossoroca\", \"botelhos\", \"botucatu\", \"botupora\", \"botuvera\", \"braco do norte\", \"braganca\", \"braganca paulista\", \"bras pires\", \"brasilia\", \"brasilia de minas\", \"brasopolis\", \"brauna\", \"brazabrantes\", \"brazopolis\", \"brejo grande\", \"breu branco\", \"brodowski\", \"brotas\", \"brotas de macaubas\", \"brumadinho\", \"brumado\", \"brusque\", \"bueno brandao\", \"buenopolis\", \"buri\", \"buritama\", \"buriti\", \"buriti do tocantins\", \"buriticupu\", \"buritirama\", \"buritis\", \"buritizeiro\", \"cabaceiras do paraguacu\", \"cabedelo\", \"cabixi\", \"cabo de santo agostinho\", \"cabo frio\", \"cabo verde\", \"cabreuva\", \"cabrobo\", \"cacador\", \"cacapava\", \"cacequi\", \"caceres\", \"cachoeira\", \"cachoeira alta\", \"cachoeira da prata\", \"cachoeira de minas\", \"cachoeira de pajeu\", \"cachoeira do sul\", \"cachoeira dourada\", \"cachoeira paulista\", \"cachoeiras de macacu\", \"cachoeirinha\", \"cachoeiro de itapemirim\", \"cacimbinhas\", \"cacoal\", \"caconde\", \"cacu\", \"cacule\", \"caem\", \"caetanopolis\", \"caete\", \"caetite\", \"cafeara\", \"cafelandia\", \"caiana\", \"caiaponia\", \"caibi\", \"caico\", \"caieiras\", \"cairu\", \"cajamar\", \"cajati\", \"cajazeiras\", \"cajobi\", \"cajueiro\", \"cajuri\", \"cajuru\", \"caldas novas\", \"caldeirao grande\", \"caldeirao grande do piaui\", \"california\", \"camacari\", \"camanducaia\", \"camapua\", \"camaqua\", \"camaragibe\", \"cambara\", \"cambe\", \"cambira\", \"camboriu\", \"cambuci\", \"cambui\", \"camocim\", \"campanha\", \"campestre do maranhao\", \"campina da lagoa\", \"campina do monte alegre\", \"campina grande\", \"campina grande do sul\", \"campina verde\", \"campinapolis\", \"campinas\", \"campinas do sul\", \"campinorte\", \"campo alegre de lourdes\", \"campo alegre de minas\", \"campo belo\", \"campo bom\", \"campo do meio\", \"campo ere\", \"campo florido\", \"campo formoso\", \"campo grande\", \"campo largo\", \"campo limpo paulista\", \"campo maior\", \"campo mourao\", \"campo novo\", \"campo novo do parecis\", \"campo verde\", \"campos altos\", \"campos belos\", \"campos borges\", \"campos de julio\", \"campos do jordao\", \"campos dos goytacazes\", \"campos gerais\", \"campos novos\", \"canaa dos carajas\", \"cananeia\", \"canapolis\", \"canarana\", \"candeias\", \"candelaria\", \"candido de abreu\", \"candido mota\", \"candiota\", \"canela\", \"canelinha\", \"cangucu\", \"caninde\", \"canitar\", \"canoas\", \"canoinhas\", \"cantagalo\", \"capanema\", \"capao bonito\", \"capao da canoa\", \"capao da porteira\", \"capao do cipo\", \"capela\", \"capela do alto\", \"capela nova\", \"capelinha\", \"capinopolis\", \"capitao leonidas marques\", \"capitolio\", \"capivari\", \"capivari de baixo\", \"capivari do sul\", \"caraguatatuba\", \"caraiba\", \"carajas\", \"carandai\", \"carangola\", \"carapebus\", \"carapicuiba\", \"caratinga\", \"caravelas\", \"carazinho\", \"carbonita\", \"cardoso\", \"cardoso moreira\", \"careacu\", \"cariacica\", \"cariri do tocantins\", \"carlopolis\", \"carlos barbosa\", \"carmo\", \"carmo da mata\", \"carmo do cajuru\", \"carmo do paranaiba\", \"carmo do rio claro\", \"carmo do rio verde\", \"carmopolis\", \"carmopolis de minas\", \"carnaubal\", \"carpina\", \"caruaru\", \"carvalhopolis\", \"casa branca\", \"casca\", \"cascalho rico\", \"cascavel\", \"casimiro de abreu\", \"cassia\", \"cassilandia\", \"castanhal\", \"castelandia\", \"castelo\", \"castro\", \"cataguases\", \"catalao\", \"catanduva\", \"catanduvas\", \"catas altas\", \"catende\", \"catigua\", \"catole do rocha\", \"catu\", \"caturama\", \"caucaia\", \"caxambu\", \"caxias\", \"caxias do sul\", \"ceara-mirim\", \"cedral\", \"cedro do abaete\", \"celina\", \"celso ramos\", \"centenario\", \"centenario do sul\", \"ceres\", \"cerqueira cesar\", \"cerquilho\", \"cerrito\", \"cerro grande\", \"cerro grande do sul\", \"cerro largo\", \"cesario lange\", \"ceu azul\", \"chapada\", \"chapada do norte\", \"chapada dos guimaraes\", \"chapadao do ceu\", \"chapadao do sul\", \"chapadinha\", \"chapeco\", \"charqueada\", \"charqueadas\", \"charrua\", \"chavantes\", \"chiapetta\", \"chopinzinho\", \"chui\", \"cianorte\", \"cicero dantas\", \"cidade gaucha\", \"cidade ocidental\", \"cidreira\", \"ciriaco\", \"claudia\", \"claudio\", \"clevelandia\", \"cocal\", \"cocal do sul\", \"cocalinho\", \"cocos\", \"codo\", \"coelho neto\", \"colatina\", \"colider\", \"colina\", \"colinas\", \"colinas do tocantins\", \"colniza\", \"colombia\", \"colombo\", \"colonia castrolanda\", \"colonia jordaozinho\", \"colonia vitoria\", \"colorado\", \"colorado do oeste\", \"coluna\", \"comendador levy gasparian\", \"comercinho\", \"conceicao da aparecida\", \"conceicao das pedras\", \"conceicao de macabu\", \"conceicao do araguaia\", \"conceicao do castelo\", \"conceicao do coite\", \"conceicao do jacuipe\", \"conceicao do mato dentro\", \"conceicao do rio verde\", \"conchal\", \"conchas\", \"concordia\", \"condor\", \"confresa\", \"congonhas\", \"conquista\", \"conselheiro lafaiete\", \"conselheiro pena\", \"contagem\", \"coqueiro baixo\", \"corbelia\", \"cordeiro\", \"cordeiropolis\", \"cordeiros\", \"coreau\", \"coribe\", \"corinto\", \"cornelio procopio\", \"coroaci\", \"coroados\", \"coroata\", \"coromandel\", \"coronel fabriciano\", \"coronel sapucaia\", \"coronel vivida\", \"corrego danta\", \"corumba\", \"corumba de goias\", \"corumbaiba\", \"corumbatai do sul\", \"cosmopolis\", \"cosmorama\", \"costa marques\", \"costa rica\", \"cotia\", \"cotipora\", \"coxim\", \"crato\", \"cravinhos\", \"criciuma\", \"crisopolis\", \"cristais\", \"cristal\", \"cristalandia\", \"cristalia\", \"cristalina\", \"cristina\", \"cristopolis\", \"crixas\", \"croata\", \"crucilandia\", \"cruz alta\", \"cruzeiro\", \"cruzeiro da fortaleza\", \"cruzeiro do iguacu\", \"cruzeiro do sul\", \"cruzilia\", \"cubatao\", \"cuiaba\", \"cumari\", \"cunha\", \"cunha pora\", \"curitiba\", \"curitibanos\", \"curiuva\", \"currais novos\", \"curuca\", \"cururupu\", \"curvelo\", \"delfinopolis\", \"deodapolis\", \"descalvado\", \"desterro do melo\", \"diadema\", \"diamante do norte\", \"diamantina\", \"diamantino\", \"dianopolis\", \"dias d'avila\", \"diogo de vasconcelos\", \"divino\", \"divinolandia\", \"divinolandia de minas\", \"divinopolis\", \"dobrada\", \"doce grande\", \"dois corregos\", \"dois irmaos\", \"dois irmaos do buriti\", \"dois vizinhos\", \"dom aquino\", \"dom basilio\", \"dom eliseu\", \"dom feliciano\", \"dom joaquim\", \"dom pedrito\", \"dom pedro\", \"domingos martins\", \"dona euzebia\", \"dona francisca\", \"dores do indaia\", \"dores do rio preto\", \"dourado\", \"dourados\", \"doutor mauricio cardoso\", \"doutor ulysses\", \"dracena\", \"duartina\", \"duque de caxias\", \"echapora\", \"edeia\", \"eldorado\", \"eldorado do sul\", \"elias fausto\", \"eliseu martins\", \"eloi mendes\", \"embu\", \"embu das artes\", \"embu-guacu\", \"encantado\", \"encruzilhada do sul\", \"eneas marques\", \"engenheiro balduino\", \"engenheiro beltrao\", \"engenheiro coelho\", \"engenheiro passos\", \"engenheiro paulo de frontin\", \"entre rios\", \"entre rios de minas\", \"entre rios do oeste\", \"erebango\", \"erechim\", \"erico cardoso\", \"erval grande\", \"ervalia\", \"escada\", \"esmeraldas\", \"espera feliz\", \"esperantina\", \"esperantinopolis\", \"espigao do oeste\", \"espinosa\", \"espirito santo do pinhal\", \"esplanada\", \"espumoso\", \"estacao\", \"estancia\", \"estancia velha\", \"esteio\", \"estiva\", \"estiva gerbi\", \"estrela\", \"estrela do sul\", \"euclides da cunha\", \"eugenio de castro\", \"eugenopolis\", \"eunapolis\", \"eusebio\", \"extrema\", \"extremoz\", \"farol\", \"farroupilha\", \"fartura\", \"fatima\", \"fatima do sul\", \"faxinal dos guedes\", \"faxinalzinho\", \"fazenda nova\", \"fazenda rio grande\", \"feira de santana\", \"feliz\", \"feliz deserto\", \"fernando prestes\", \"fernandopolis\", \"ferraz de vasconcelos\", \"fervedouro\", \"figueira\", \"figueiropolis d'oeste\", \"firminopolis\", \"florai\", \"flores da cunha\", \"floresta\", \"florestal\", \"floriano\", \"florianopolis\", \"florida paulista\", \"formiga\", \"formigueiro\", \"formosa\", \"formosa do oeste\", \"forquilhinha\", \"fortaleza\", \"fortuna\", \"foz do iguacu\", \"fraiburgo\", \"franca\", \"francisco badaro\", \"francisco beltrao\", \"francisco dantas\", \"francisco morato\", \"francisco sa\", \"franco da rocha\", \"frederico westphalen\", \"frei gaspar\", \"frei lagonegro\", \"frei martinho\", \"fruta de leite\", \"frutal\", \"fundao\", \"galia\", \"gameleira\", \"gameleiras\", \"garanhuns\", \"garca\", \"garibaldi\", \"garopaba\", \"gaspar\", \"gastao vidigal\", \"gaucha do norte\", \"gaurama\", \"general salgado\", \"getulina\", \"getulio vargas\", \"girua\", \"godoy moreira\", \"goiana\", \"goianapolis\", \"goianesia\", \"goiania\", \"goianinha\", \"goianira\", \"goias\", \"goiatuba\", \"goioere\", \"goitacazes\", \"goncalves\", \"goncalves dias\", \"gouveia\", \"governador celso ramos\", \"governador lindenberg\", \"governador portela\", \"governador valadares\", \"gramado\", \"grao mogol\", \"grao para\", \"gravata\", \"gravatai\", \"gravatal\", \"groairas\", \"grupiara\", \"guabiruba\", \"guacui\", \"guadalupe\", \"guaiba\", \"guaira\", \"guajara-mirim\", \"guamare\", \"guamiranga\", \"guanambi\", \"guanhaes\", \"guapiacu\", \"guapimirim\", \"guapo\", \"guapore\", \"guara\", \"guarabira\", \"guaracai\", \"guaraci\", \"guarai\", \"guaramirim\", \"guaranesia\", \"guaraniacu\", \"guaranta\", \"guaranta do norte\", \"guarapari\", \"guarapuava\", \"guararapes\", \"guararema\", \"guaratingueta\", \"guaratuba\", \"guariba\", \"guaruja\", \"guaruja do sul\", \"guarulhos\", \"guaxupe\", \"guimarania\", \"guiricema\", \"gurupi\", \"herculandia\", \"herval d'oeste\", \"hidrolandia\", \"holambra\", \"holambra ii\", \"horizontina\", \"hortolandia\", \"hulha negra\", \"iacanga\", \"iaciara\", \"iacri\", \"iapu\", \"iaras\", \"ibaiti\", \"ibarama\", \"ibate\", \"ibatiba\", \"ibia\", \"ibiai\", \"ibiam\", \"ibiapina\", \"ibiassuce\", \"ibicarai\", \"ibicare\", \"ibicoara\", \"ibimirim\", \"ibipitanga\", \"ibipora\", \"ibiraci\", \"ibiracu\", \"ibiraiaras\", \"ibirama\", \"ibirarema\", \"ibirataia\", \"ibirite\", \"ibiruba\", \"ibitiara\", \"ibitinga\", \"ibitira\", \"ibitita\", \"ibitiuva\", \"ibiuna\", \"ibotirama\", \"icapui\", \"icara\", \"icarai de minas\", \"icaraima\", \"icem\", \"ichu\", \"ico\", \"iconha\", \"iepe\", \"igaracu do tiete\", \"igarapava\", \"igarape\", \"igarassu\", \"igarata\", \"igrejinha\", \"iguaba grande\", \"iguape\", \"iguatama\", \"iguatu\", \"ijui\", \"ilha comprida\", \"ilha de itamaraca\", \"ilha solteira\", \"ilhabela\", \"ilheus\", \"ilhota\", \"ilicinea\", \"ilopolis\", \"imaculada\", \"imbe\", \"imbe de minas\", \"imbituba\", \"imbituva\", \"imbuia\", \"imperatriz\", \"inacio martins\", \"indaial\", \"indaiatuba\", \"indianopolis\", \"indiapora\", \"inhambupe\", \"inhapim\", \"inhumas\", \"inocencia\", \"inubia paulista\", \"ipaba\", \"ipameri\", \"ipanema\", \"ipatinga\", \"ipero\", \"ipiau\", \"ipigua\", \"ipira\", \"ipiranga\", \"ipixuna do para\", \"ipojuca\", \"ipora\", \"ipora do oeste\", \"ipua\", \"ipumirim\", \"iracema\", \"iracemapolis\", \"iramaia\", \"irani\", \"iraquara\", \"irara\", \"irati\", \"iraucuba\", \"irece\", \"iretama\", \"irineopolis\", \"isaias coelho\", \"ita\", \"itaara\", \"itabaiana\", \"itabera\", \"itaberaba\", \"itaberai\", \"itabira\", \"itabirito\", \"itaborai\", \"itabuna\", \"itacare\", \"itaguacu\", \"itaguai\", \"itai\", \"itaicaba\", \"itaiopolis\", \"itaipulandia\", \"itaituba\", \"itaja\", \"itajai\", \"itajuba\", \"italva\", \"itamaraju\", \"itamarandiba\", \"itamari\", \"itambacuri\", \"itamonte\", \"itanhaem\", \"itanhandu\", \"itaobim\", \"itaocara\", \"itapaci\", \"itapagipe\", \"itapecerica\", \"itapecerica da serra\", \"itapecuru mirim\", \"itapejara d'oeste\", \"itapema\", \"itaperucu\", \"itaperuna\", \"itapetinga\", \"itapetininga\", \"itapeva\", \"itapevi\", \"itapicuru\", \"itapipoca\", \"itapira\", \"itapiranga\", \"itapirapua paulista\", \"itapoa\", \"itapolis\", \"itapora\", \"itaporanga\", \"itapui\", \"itapuranga\", \"itaquaquecetuba\", \"itaqui\", \"itarana\", \"itarare\", \"itariri\", \"itatiaia\", \"itatiba\", \"itatinga\", \"itau de minas\", \"itauba\", \"itauna\", \"itinga\", \"itirapina\", \"itiuba\", \"itobi\", \"itu\", \"ituacu\", \"itubera\", \"itueta\", \"ituiutaba\", \"itumbiara\", \"itupeva\", \"ituporanga\", \"iturama\", \"ituverava\", \"iuna\", \"ivai\", \"ivaipora\", \"ivinhema\", \"ivoti\", \"jaboatao dos guararapes\", \"jabora\", \"jaboti\", \"jaboticabal\", \"jaboticatubas\", \"jacaraci\", \"jacare\", \"jacarei\", \"jacarezinho\", \"jaci\", \"jaciara\", \"jacigua\", \"jacinto machado\", \"jacobina\", \"jacui\", \"jacuizinho\", \"jacunda\", \"jacutinga\", \"jaguarao\", \"jaguare\", \"jaguariaiva\", \"jaguariuna\", \"jaguaruna\", \"jaiba\", \"jales\", \"jambeiro\", \"janauba\", \"jandaia do sul\", \"jandaira\", \"jandira\", \"janiopolis\", \"januaria\", \"japeri\", \"japira\", \"japuiba\", \"japura\", \"jaqueira\", \"jaragua\", \"jaragua do sul\", \"jaraguari\", \"jardim\", \"jardim alegre\", \"jardinopolis\", \"jarinu\", \"jatai\", \"jatoba\", \"jau\", \"jaua\", \"jauru\", \"jeceaba\", \"jequie\", \"jequitinhonha\", \"jeronimo monteiro\", \"ji-parana\", \"jijoca de jericoacoara\", \"joacaba\", \"joanopolis\", \"joao alfredo\", \"joao camara\", \"joao dourado\", \"joao monlevade\", \"joao pessoa\", \"joao pinheiro\", \"joao ramalho\", \"joaquim pires\", \"joinville\", \"jose boiteux\", \"jose da penha\", \"jose de freitas\", \"juara\", \"juatuba\", \"juazeiro\", \"juazeiro do norte\", \"juina\", \"juiz de fora\", \"julio de castilhos\", \"jumirim\", \"junco do serido\", \"jundiai\", \"jundiai do sul\", \"junqueiropolis\", \"jupi\", \"juquia\", \"juquitiba\", \"juranda\", \"juripiranga\", \"juruaia\", \"juruena\", \"juscimeira\", \"jussara\", \"jussiape\", \"juti\", \"ladainha\", \"ladario\", \"lagarto\", \"lages\", \"lago da pedra\", \"lagoa\", \"lagoa d'anta\", \"lagoa da confusao\", \"lagoa da prata\", \"lagoa do carro\", \"lagoa dos gatos\", \"lagoa dourada\", \"lagoa formosa\", \"lagoa grande\", \"lagoa salgada\", \"lagoa santa\", \"lagoa vermelha\", \"lagoao\", \"laguna\", \"lajeado\", \"lajeado grande\", \"lambari\", \"lamim\", \"lapa\", \"laranjal do jari\", \"laranjal paulista\", \"laranjeiras do sul\", \"lauro de freitas\", \"lauro muller\", \"lavinia\", \"lavras\", \"lavrinhas\", \"leme\", \"lencois paulista\", \"leopoldina\", \"leopoldo de bulhoes\", \"leopolis\", \"liberato salzano\", \"liberdade\", \"lidice\", \"lima duarte\", \"limeira\", \"limoeiro\", \"limoeiro do norte\", \"lindoeste\", \"lindoia\", \"linhares\", \"lins\", \"livramento de nossa senhora\", \"loanda\", \"londrina\", \"lorena\", \"louveira\", \"lucas do rio verde\", \"lucelia\", \"lucianopolis\", \"luis antonio\", \"luis eduardo magalhaes\", \"luisburgo\", \"lunardelli\", \"lupercio\", \"luziania\", \"macae\", \"macaiba\", \"macambara\", \"macapa\", \"macatuba\", \"macau\", \"macaubas\", \"macedonia\", \"maceio\", \"machadinho d'oeste\", \"machado\", \"macuco de minas\", \"mafra\", \"mage\", \"mairinque\", \"mairipora\", \"major porto\", \"malacacheta\", \"mallet\", \"mamanguape\", \"mambai\", \"manaira\", \"manaus\", \"mandaguacu\", \"mandaguari\", \"mandirituba\", \"manduri\", \"mangaratiba\", \"manhuacu\", \"manhumirim\", \"manoel ribas\", \"manoel viana\", \"mantena\", \"mantenopolis\", \"mar de espanha\", \"maraba\", \"maracai\", \"maracaju\", \"maracanau\", \"maragogi\", \"maragogipe\", \"maranguape\", \"marataizes\", \"marau\", \"maravilha\", \"maravilhas\", \"marechal candido rondon\", \"marechal floriano\", \"mari\", \"marialva\", \"mariana\", \"mariano moro\", \"mariapolis\", \"marica\", \"marilandia\", \"marilena\", \"marilia\", \"maringa\", \"mariopolis\", \"maristela\", \"marituba\", \"marmeleiro\", \"martins soares\", \"massaranduba\", \"mata\", \"matao\", \"matias barbosa\", \"matinhos\", \"mato leitao\", \"mato verde\", \"matoes\", \"matozinhos\", \"matupa\", \"maua\", \"maurilandia\", \"maximiliano de almeida\", \"medeiros neto\", \"medianeira\", \"medicilandia\", \"medina\", \"meleiro\", \"mendes\", \"mendes pimentel\", \"mendonca\", \"mercedes\", \"meridiano\", \"mesquita\", \"messias targino\", \"miguel calmon\", \"miguel pereira\", \"miguelopolis\", \"milha\", \"mimoso do sul\", \"minacu\", \"minas do leao\", \"minas novas\", \"mineiros\", \"miracatu\", \"miracema\", \"miraguai\", \"mirai\", \"miranda\", \"mirandiba\", \"mirandopolis\", \"mirassol\", \"mirassol d'oeste\", \"miravania\", \"mirinzal\", \"missal\", \"mococa\", \"moeda\", \"mogi das cruzes\", \"mogi mirim\", \"mogi-guacu\", \"moju\", \"mojui dos campos\", \"mombuca\", \"moncao\", \"mondai\", \"mongagua\", \"monsenhor paulo\", \"montanha\", \"monte alegre de minas\", \"monte alegre do sul\", \"monte alto\", \"monte azul\", \"monte azul paulista\", \"monte belo\", \"monte belo do sul\", \"monte carmelo\", \"monte formoso\", \"monte mor\", \"monte santo\", \"monte santo de minas\", \"monte siao\", \"monteiro lobato\", \"montenegro\", \"montes claros\", \"montividiu do norte\", \"morada nova\", \"morada nova de minas\", \"moreira sales\", \"moreno\", \"morpara\", \"morretes\", \"morrinhos\", \"morro agudo\", \"morro da fumaca\", \"morro de sao paulo\", \"morro do chapeu\", \"morro do ferro\", \"morro grande\", \"morro redondo\", \"morro vermelho\", \"morungaba\", \"mossoro\", \"mostardas\", \"motuca\", \"mucambo\", \"mucuri\", \"munhoz de melo\", \"muqui\", \"muriae\", \"murutinga do sul\", \"mutunopolis\", \"muzambinho\", \"nanuque\", \"nao-me-toque\", \"natal\", \"natividade\", \"natividade da serra\", \"navegantes\", \"navirai\", \"nazare paulista\", \"nepomuceno\", \"neropolis\", \"nhandeara\", \"nilopolis\", \"nipoa\", \"niquelandia\", \"niteroi\", \"nobres\", \"nonoai\", \"nossa senhora da gloria\", \"nossa senhora das gracas\", \"nossa senhora de lourdes\", \"nossa senhora do socorro\", \"nova alvorada\", \"nova andradina\", \"nova araca\", \"nova bandeirantes\", \"nova bassano\", \"nova brescia\", \"nova campina\", \"nova canaa do norte\", \"nova cantu\", \"nova era\", \"nova erechim\", \"nova esperanca\", \"nova esperanca do sudoeste\", \"nova europa\", \"nova fatima\", \"nova friburgo\", \"nova granada\", \"nova iguacu\", \"nova lima\", \"nova londrina\", \"nova monte verde\", \"nova mutum\", \"nova odessa\", \"nova olinda do maranhao\", \"nova padua\", \"nova palma\", \"nova petropolis\", \"nova ponte\", \"nova prata\", \"nova prata do iguacu\", \"nova redencao\", \"nova resende\", \"nova russas\", \"nova santa rita\", \"nova serrana\", \"nova soure\", \"nova trento\", \"nova venecia\", \"nova veneza\", \"nova xavantina\", \"novais\", \"novo barreiro\", \"novo cruzeiro\", \"novo gama\", \"novo hamburgo\", \"novo horizonte\", \"novo lino\", \"novo machado\", \"novo mundo\", \"novo oriente\", \"novo oriente do piaui\", \"novo progresso\", \"novo repartimento\", \"nucleo residencial pilar\", \"ocara\", \"ocaucu\", \"oeiras\", \"olho d'agua das cunhas\", \"olho d'agua das flores\", \"olimpia\", \"olinda\", \"oliveira\", \"orindiuva\", \"orizona\", \"orlandia\", \"orleans\", \"ortigueira\", \"osasco\", \"oscar bressane\", \"osorio\", \"osvaldo cruz\", \"otacilio costa\", \"ourem\", \"ouricuri\", \"ourilandia do norte\", \"ourinhos\", \"ouro branco\", \"ouro fino\", \"ouro preto\", \"ouro preto do oeste\", \"ouro verde\", \"ouro verde do oeste\", \"ouroeste\", \"ouvidor\", \"pacatuba\", \"paco do lumiar\", \"padre bernardo\", \"paicandu\", \"palestina\", \"palhoca\", \"palma\", \"palma sola\", \"palmares\", \"palmares do sul\", \"palmas\", \"palmeira\", \"palmeira d'oeste\", \"palmeira das missoes\", \"palmeiras\", \"palmital\", \"palmital de minas\", \"palmitos\", \"palotina\", \"panambi\", \"panorama\", \"papanduva\", \"para de minas\", \"paracambi\", \"paracatu\", \"paracuru\", \"paragominas\", \"paraguacu\", \"paraguacu paulista\", \"paraiba do sul\", \"paraibano\", \"paraibuna\", \"paraiso\", \"paraiso do sul\", \"paraiso do tocantins\", \"paraisopolis\", \"parambu\", \"paramirim\", \"parana\", \"paranacity\", \"paranagua\", \"paranaiba\", \"paranaiguara\", \"paranaita\", \"paranapanema\", \"paranapoema\", \"paranavai\", \"paraopeba\", \"parapua\", \"parati\", \"paraty\", \"parauapebas\", \"parauna\", \"paripiranga\", \"pariquera-acu\", \"parisi\", \"parnaiba\", \"parnamirim\", \"parobe\", \"passa quatro\", \"passa tres\", \"passagem franca\", \"passo de torres\", \"passo fundo\", \"passos\", \"pastos bons\", \"patis\", \"pato bragado\", \"pato branco\", \"patos\", \"patos de minas\", \"patrocinio\", \"patrocinio paulista\", \"paty do alferes\", \"pau brasil\", \"pau d'arco\", \"pau dos ferros\", \"paudalho\", \"paula candido\", \"pauliceia\", \"paulinia\", \"paulista\", \"paulistana\", \"paulo afonso\", \"paulo de faria\", \"peabiru\", \"pederneiras\", \"pedra\", \"pedra branca\", \"pedra do indaia\", \"pedra menina\", \"pedra preta\", \"pedranopolis\", \"pedregulho\", \"pedreira\", \"pedrinhas paulista\", \"pedrinopolis\", \"pedro canario\", \"pedro de toledo\", \"pedro leopoldo\", \"peixoto de azevedo\", \"pejucara\", \"pelotas\", \"penapolis\", \"penedo\", \"penha\", \"pequi\", \"perdigao\", \"perdizes\", \"perdoes\", \"pereira barreto\", \"pereiras\", \"peri mirim\", \"peritiba\", \"perola\", \"perola d'oeste\", \"perola independente\", \"peruibe\", \"pescador\", \"pesqueira\", \"petrolandia\", \"petrolina\", \"petropolis\", \"piata\", \"picarra\", \"picos\", \"piedade\", \"piedade de caratinga\", \"piedade do rio grande\", \"piedade dos gerais\", \"pien\", \"pilao arcado\", \"pilar\", \"pilar do sul\", \"pimenta\", \"pimenta bueno\", \"pindamonhangaba\", \"pindare mirim\", \"pindobacu\", \"pindorama\", \"pindorama do tocantins\", \"pindoretama\", \"pinhais\", \"pinhalao\", \"pinhalzinho\", \"pinheiral\", \"pinheiro\", \"pinheiros\", \"pinhotiba\", \"piquete\", \"piracaia\", \"piracanjuba\", \"piracicaba\", \"piracuruca\", \"pirai\", \"pirai do sul\", \"piraju\", \"pirajui\", \"piranga\", \"pirangi\", \"piranguinho\", \"piranhas\", \"pirapetinga\", \"pirapora\", \"pirapora do bom jesus\", \"pirapozinho\", \"piraquara\", \"pirassununga\", \"piratini\", \"piratininga\", \"piratuba\", \"pirauba\", \"pirenopolis\", \"pires do rio\", \"piripiri\", \"piritiba\", \"pitangueiras\", \"pitangui\", \"piuma\", \"piumhii\", \"placas\", \"planaltina\", \"planaltina de goias\", \"planaltina do parana\", \"poa\", \"pocinhos\", \"poco fundo\", \"pocoes\", \"pocos de caldas\", \"pocrane\", \"pojuca\", \"polo petroquimico de triunfo\", \"poloni\", \"pombal\", \"pombos\", \"pomerode\", \"pompeia\", \"pompeu\", \"pongai\", \"ponta grossa\", \"ponta pora\", \"pontal\", \"pontal do parana\", \"pontalinda\", \"ponte nova\", \"pontes e lacerda\", \"ponto do marambaia\", \"ponto dos volantes\", \"porangatu\", \"porciuncula\", \"porecatu\", \"portao\", \"portela\", \"portelandia\", \"porto alegre\", \"porto alegre do norte\", \"porto belo\", \"porto calvo\", \"porto esperidiao\", \"porto feliz\", \"porto ferreira\", \"porto firme\", \"porto franco\", \"porto grande\", \"porto murtinho\", \"porto nacional\", \"porto seguro\", \"porto trombetas\", \"porto uniao\", \"porto velho\", \"porto xavier\", \"posse\", \"posto da mata\", \"potim\", \"potiragua\", \"potirendaba\", \"pouso alegre\", \"pouso novo\", \"poxoreu\", \"prado\", \"pradopolis\", \"prados\", \"praia grande\", \"pranchita\", \"prata\", \"pratapolis\", \"presidente castello branco\", \"presidente dutra\", \"presidente epitacio\", \"presidente getulio\", \"presidente janio quadros\", \"presidente kubitschek\", \"presidente lucena\", \"presidente nereu\", \"presidente olegario\", \"presidente prudente\", \"presidente tancredo neves\", \"presidente venceslau\", \"primavera\", \"primavera do leste\", \"progresso\", \"promissao\", \"propria\", \"prudente de morais\", \"prudentopolis\", \"pugmil\", \"pureza\", \"putinga\", \"quadra\", \"quata\", \"quatigua\", \"quatis\", \"quatro barras\", \"quatro bocas\", \"quedas do iguacu\", \"queimadas\", \"queimados\", \"queixada\", \"queluz\", \"querencia\", \"quevedos\", \"quijingue\", \"quilombo\", \"quirinopolis\", \"quissama\", \"quitandinha\", \"quixada\", \"quixelo\", \"quixeramobim\", \"quixere\", \"rainha do mar\", \"rancharia\", \"rancho queimado\", \"raposo\", \"raposos\", \"raul soares\", \"realeza\", \"reboucas\", \"rechan\", \"recife\", \"recreio\", \"redencao\", \"redentora\", \"regeneracao\", \"regente feijo\", \"registro\", \"remanso\", \"renascenca\", \"resende\", \"resende costa\", \"reserva\", \"resplendor\", \"restinga seca\", \"riachinho\", \"riacho de santana\", \"rianapolis\", \"ribeira do pombal\", \"ribeirao\", \"ribeirao claro\", \"ribeirao das neves\", \"ribeirao do pinhal\", \"ribeirao do sul\", \"ribeirao pires\", \"ribeirao preto\", \"ribeirao vermelho\", \"ribeiro junqueira\", \"ribeiropolis\", \"rifaina\", \"rio acima\", \"rio azul\", \"rio bonito\", \"rio bonito do iguacu\", \"rio branco\", \"rio branco do sul\", \"rio brilhante\", \"rio casca\", \"rio claro\", \"rio das antas\", \"rio das flores\", \"rio das ostras\", \"rio das pedras\", \"rio de janeiro\", \"rio do antonio\", \"rio do campo\", \"rio do pires\", \"rio do sul\", \"rio espera\", \"rio formoso\", \"rio fortuna\", \"rio grande\", \"rio grande da serra\", \"rio grande do piaui\", \"rio largo\", \"rio manso\", \"rio negrinho\", \"rio negro\", \"rio paranaiba\", \"rio pardo\", \"rio pardo de minas\", \"rio piracicaba\", \"rio pomba\", \"rio real\", \"rio verde\", \"riolandia\", \"riqueza\", \"rodeio\", \"rodeiro\", \"rodelas\", \"rodolfo fernandes\", \"rolandia\", \"rolante\", \"rolim de moura\", \"romaria\", \"roncador\", \"ronda alta\", \"rondon\", \"rondon do para\", \"rondonopolis\", \"roque gonzales\", \"rosana\", \"rosario\", \"rosario do sul\", \"roseira\", \"rubelita\", \"rubiacea\", \"rubiataba\", \"rubim\", \"ruy barbosa\", \"sabara\", \"sabaudia\", \"sabino\", \"sabinopolis\", \"sacramento\", \"sales oliveira\", \"salesopolis\", \"salgueiro\", \"salinas\", \"salinas da margarida\", \"salobro\", \"saltinho\", \"salto\", \"salto da divisa\", \"salto de pirapora\", \"salto do ceu\", \"salto do jacui\", \"salto do lontra\", \"salto veloso\", \"salvador\", \"sambaiba\", \"sananduva\", \"sanga puita\", \"santa adelia\", \"santa albertina\", \"santa amelia\", \"santa barbara\", \"santa barbara d oeste\", \"santa barbara d'oeste\", \"santa barbara do sul\", \"santa branca\", \"santa brigida\", \"santa cecilia\", \"santa clara do sul\", \"santa cruz\", \"santa cruz da conceicao\", \"santa cruz das palmeiras\", \"santa cruz de goias\", \"santa cruz de minas\", \"santa cruz de monte castelo\", \"santa cruz de salinas\", \"santa cruz do capibaribe\", \"santa cruz do piaui\", \"santa cruz do rio pardo\", \"santa cruz do sul\", \"santa fe\", \"santa fe de goias\", \"santa fe do sul\", \"santa filomena\", \"santa gertrudes\", \"santa helena\", \"santa helena de goias\", \"santa ines\", \"santa isabel\", \"santa isabel do para\", \"santa juliana\", \"santa luzia\", \"santa luzia do parua\", \"santa margarida\", \"santa maria\", \"santa maria da serra\", \"santa maria da vitoria\", \"santa maria de itabira\", \"santa maria de jetiba\", \"santa maria do para\", \"santa mercedes\", \"santa rita de caldas\", \"santa rita de minas\", \"santa rita do araguaia\", \"santa rita do ibitipoca\", \"santa rita do passa quatro\", \"santa rita do sapucai\", \"santa rosa\", \"santa rosa de lima\", \"santa rosa de viterbo\", \"santa teresa\", \"santa tereza do oeste\", \"santa terezinha\", \"santa vitoria\", \"santa vitoria do palmar\", \"santaluz\", \"santana\", \"santana de parnaiba\", \"santana de pirapama\", \"santana do acarau\", \"santana do capivari\", \"santana do cariri\", \"santana do ipanema\", \"santana do livramento\", \"santana do mundau\", \"santana do paraiso\", \"santana dos montes\", \"santarem\", \"santiago\", \"santo amaro\", \"santo amaro da imperatriz\", \"santo amaro das brotas\", \"santo amaro de campos\", \"santo anastacio\", \"santo andre\", \"santo angelo\", \"santo antonio da alegria\", \"santo antonio da patrulha\", \"santo antonio da platina\", \"santo antonio das missoes\", \"santo antonio de padua\", \"santo antonio de posse\", \"santo antonio do amparo\", \"santo antonio do descoberto\", \"santo antonio do itambe\", \"santo antonio do jacinto\", \"santo antonio do jardim\", \"santo antonio do leste\", \"santo antonio do leverger\", \"santo antonio do monte\", \"santo antonio do palma\", \"santo antonio do sudoeste\", \"santo augusto\", \"santo cristo\", \"santo eduardo\", \"santo expedito do sul\", \"santos\", \"santos dumont\", \"sao benedito\", \"sao bento\", \"sao bento do sul\", \"sao bernardo\", \"sao bernardo do campo\", \"sao borja\", \"sao bras do suacui\", \"sao caetano do sul\", \"sao carlos\", \"sao cristovao\", \"sao domingos\", \"sao domingos das dores\", \"sao domingos do maranhao\", \"sao domingos do norte\", \"sao domingos do sul\", \"sao felix\", \"sao felix do xingu\", \"sao fidelis\", \"sao francisco\", \"sao francisco de itabapoana\", \"sao francisco de paula\", \"sao francisco do brejao\", \"sao francisco do conde\", \"sao francisco do guapore\", \"sao francisco do sul\", \"sao gabriel\", \"sao gabriel da palha\", \"sao gabriel do oeste\", \"sao geraldo\", \"sao geraldo da piedade\", \"sao goncalo\", \"sao goncalo do abaete\", \"sao goncalo do amarante\", \"sao goncalo do rio abaixo\", \"sao goncalo do rio preto\", \"sao goncalo do sapucai\", \"sao gotardo\", \"sao jeronimo\", \"sao joao\", \"sao joao batista\", \"sao joao d'alianca\", \"sao joao da barra\", \"sao joao da boa vista\", \"sao joao da mata\", \"sao joao das missoes\", \"sao joao de iracema\", \"sao joao de meriti\", \"sao joao de pirabas\", \"sao joao del rei\", \"sao joao do paraiso\", \"sao joao do piaui\", \"sao joao do sul\", \"sao joao do triunfo\", \"sao joao dos patos\", \"sao joao evangelista\", \"sao joao nepomuceno\", \"sao joaquim\", \"sao joaquim da barra\", \"sao joaquim de bicas\", \"sao jorge\", \"sao jorge do oeste\", \"sao jose\", \"sao jose da barra\", \"sao jose da boa vista\", \"sao jose da lapa\", \"sao jose da tapera\", \"sao jose de ribamar\", \"sao jose do barreiro\", \"sao jose do belmonte\", \"sao jose do calcado\", \"sao jose do goiabal\", \"sao jose do norte\", \"sao jose do ouro\", \"sao jose do rio pardo\", \"sao jose do rio preto\", \"sao jose dos campos\", \"sao jose dos pinhais\", \"sao leopoldo\", \"sao lourenco\", \"sao lourenco da mata\", \"sao lourenco da serra\", \"sao lourenco do oeste\", \"sao lourenco do piaui\", \"sao lourenco do sul\", \"sao luis\", \"sao luis de montes belos\", \"sao luis do quitunde\", \"sao luiz do norte\", \"sao luiz gonzaga\", \"sao manuel\", \"sao marcos\", \"sao martinho\", \"sao mateus\", \"sao mateus do maranhao\", \"sao mateus do sul\", \"sao miguel arcanjo\", \"sao miguel do araguaia\", \"sao miguel do gostoso\", \"sao miguel do guapore\", \"sao miguel do iguacu\", \"sao miguel do oeste\", \"sao paulo\", \"sao paulo das missoes\", \"sao pedro\", \"sao pedro da agua branca\", \"sao pedro da aldeia\", \"sao pedro da uniao\", \"sao pedro de alcantara\", \"sao pedro do butia\", \"sao pedro do ivai\", \"sao raimundo nonato\", \"sao roque\", \"sao roque de minas\", \"sao roque do canaa\", \"sao sebastiao\", \"sao sebastiao da boa vista\", \"sao sebastiao da grama\", \"sao sebastiao da serra\", \"sao sebastiao do alto\", \"sao sebastiao do cai\", \"sao sebastiao do paraiso\", \"sao sebastiao do passe\", \"sao sebastiao do rio verde\", \"sao sepe\", \"sao simao\", \"sao thome das letras\", \"sao tiago\", \"sao tome\", \"sao valentim\", \"sao vendelino\", \"sao vicente\", \"sao vicente ferrer\", \"sape\", \"sapeacu\", \"sapezal\", \"sapiranga\", \"sapucaia do sul\", \"saquarema\", \"sarandi\", \"sarutaia\", \"sarzedo\", \"satubinha\", \"saudade do iguacu\", \"saudades\", \"schroeder\", \"seabra\", \"seara\", \"sebastiao leal\", \"seberi\", \"segredo\", \"senador canedo\", \"senador cortes\", \"senador firmino\", \"senador pompeu\", \"senges\", \"senhor do bonfim\", \"senhora dos remedios\", \"serafina correa\", \"seropedica\", \"serra\", \"serra azul de minas\", \"serra bonita\", \"serra do ramalho\", \"serra do salitre\", \"serra dos aimores\", \"serra dourada\", \"serra negra\", \"serra talhada\", \"serrana\", \"serrinha\", \"serrita\", \"serro\", \"sertanopolis\", \"sertao\", \"sertaozinho\", \"sete lagoas\", \"setubinha\", \"severinia\", \"sideropolis\", \"sidrolandia\", \"silva jardim\", \"silvania\", \"silvanopolis\", \"silvianopolis\", \"simao dias\", \"simoes filho\", \"simonesia\", \"simplicio mendes\", \"sinop\", \"siqueira campos\", \"sirinhaem\", \"sobradinho\", \"sobral\", \"sobralia\", \"socorro\", \"soledade\", \"soledade de minas\", \"sombrio\", \"sooretama\", \"sorocaba\", \"sorriso\", \"sousa\", \"sud mennucci\", \"sumare\", \"sumidouro\", \"suzanapolis\", \"suzano\", \"tabapua\", \"tabatinga\", \"tabira\", \"taboao da serra\", \"tabocas do brejo velho\", \"taboquinhas\", \"tabuleiro\", \"tacuru\", \"taguai\", \"taguatinga\", \"tailandia\", \"taio\", \"taiobeiras\", \"taiuva\", \"tamandare\", \"tamarana\", \"tambau\", \"tanabi\", \"tangara da serra\", \"tanhacu\", \"tanque novo\", \"tapejara\", \"tapes\", \"tapiratiba\", \"tapurah\", \"taquara\", \"taquari\", \"taquaritinga\", \"taquaritinga do norte\", \"taquarituba\", \"taquarivai\", \"taquarucu do sul\", \"tarabai\", \"taruma\", \"tatui\", \"taua\", \"taubate\", \"tavares\", \"teixeira de freitas\", \"telemaco borba\", \"teodoro sampaio\", \"teofilo otoni\", \"teolandia\", \"teotonio vilela\", \"terenos\", \"teresina\", \"teresopolis\", \"terra boa\", \"terra de areia\", \"terra nova do norte\", \"terra rica\", \"terra roxa\", \"teutonia\", \"tiangua\", \"tibagi\", \"tiete\", \"tijucas\", \"timbauba\", \"timbe do sul\", \"timbo\", \"timon\", \"timoteo\", \"tiradentes\", \"tiradentes do sul\", \"tiros\", \"tocantinopolis\", \"tocantins\", \"tocos do moji\", \"toledo\", \"tomazina\", \"tome-acu\", \"torres\", \"trabiju\", \"tracuateua\", \"trairi\", \"trajano de moraes\", \"tramandai\", \"trancoso\", \"travessao\", \"travesseiro\", \"tremembe\", \"tres arroios\", \"tres barras\", \"tres cachoeiras\", \"tres coracoes\", \"tres coroas\", \"tres de maio\", \"tres fronteiras\", \"tres lagoas\", \"tres marias\", \"tres passos\", \"tres pontas\", \"tres rios\", \"treviso\", \"treze tilias\", \"trindade\", \"trindade do sul\", \"triunfo\", \"trombudo central\", \"tubarao\", \"tucano\", \"tucuma\", \"tucunduva\", \"tucurui\", \"tunas do parana\", \"tupa\", \"tupaciguara\", \"tupancireta\", \"tupandi\", \"tuparendi\", \"tuparetama\", \"tupi paulista\", \"turmalina\", \"turvo\", \"turvolandia\", \"tutoia\", \"uaua\", \"uba\", \"ubai\", \"ubaitaba\", \"ubajara\", \"ubaporanga\", \"ubata\", \"ubatuba\", \"uberaba\", \"uberlandia\", \"ubirata\", \"uchoa\", \"uibai\", \"umbauba\", \"umburanas\", \"umuarama\", \"unai\", \"uniao da serra\", \"uniao da vitoria\", \"uniao do oeste\", \"uniao do sul\", \"upanema\", \"urandi\", \"urania\", \"uruacu\", \"uruana\", \"uruara\", \"urubici\", \"uruburetama\", \"urucuca\", \"urucui\", \"urucurituba\", \"uruguaiana\", \"urupa\", \"urupes\", \"urussanga\", \"urutai\", \"vacaria\", \"vale real\", \"valenca\", \"valente\", \"valinhos\", \"valparaiso\", \"valparaiso de goias\", \"vargem\", \"vargem alta\", \"vargem bonita\", \"vargem grande do rio pardo\", \"vargem grande do sul\", \"vargem grande paulista\", \"varginha\", \"varjao de minas\", \"varre-sai\", \"varzea da palma\", \"varzea do poco\", \"varzea grande\", \"varzea paulista\", \"varzelandia\", \"vassouras\", \"vazante\", \"venancio aires\", \"venda nova do imigrante\", \"vera cruz\", \"veranopolis\", \"vere\", \"verissimo\", \"vermelho novo\", \"vespasiano\", \"vespasiano correa\", \"viamao\", \"viana\", \"vianopolis\", \"vicente dutra\", \"vicentina\", \"vicentinopolis\", \"vicosa\", \"vicosa do ceara\", \"victor graeff\", \"videira\", \"vieiras\", \"vila flores\", \"vila langaro\", \"vila rica\", \"vila valerio\", \"vila velha\", \"vilhena\", \"vinhedo\", \"viradouro\", \"virgem da lapa\", \"visconde do rio branco\", \"vista alegre\", \"vista alegre do alto\", \"vitoria\", \"vitoria da conquista\", \"vitoria de santo antao\", \"vitorino\", \"volta redonda\", \"votorantim\", \"votuporanga\", \"wanderley\", \"witmarsum\", \"xambioa\", \"xanxere\", \"xavantina\", \"xaxim\", \"xinguara\", \"xique-xique\", \"ze doca\"], \"xaxis\": \"x\", \"y\": [1, 4, 2, 3, 1, 1, 1, 1, 1, 10, 1, 1, 1, 1, 1, 6, 2, 1, 1, 2, 3, 1, 2, 8, 2, 2, 3, 5, 1, 1, 3, 1, 1, 1, 1, 9, 1, 1, 3, 13, 1, 6, 3, 8, 1, 1, 3, 2, 1, 1, 5, 4, 1, 8, 1, 1, 1, 3, 1, 1, 1, 2, 1, 3, 2, 1, 1, 1, 1, 3, 4, 1, 1, 2, 11, 1, 1, 45, 3, 1, 14, 1, 1, 2, 16, 21, 1, 1, 4, 2, 2, 13, 1, 3, 1, 1, 22, 1, 2, 1, 1, 2, 1, 1, 2, 1, 4, 1, 15, 2, 1, 4, 1, 3, 12, 1, 48, 4, 28, 2, 2, 3, 7, 1, 1, 1, 13, 9, 3, 1, 1, 4, 1, 1, 9, 1, 3, 1, 4, 2, 24, 22, 4, 13, 3, 14, 1, 13, 5, 1, 1, 1, 1, 1, 1, 5, 3, 1, 2, 1, 1, 7, 2, 1, 1, 1, 7, 12, 1, 2, 1, 9, 1, 1, 1, 1, 2, 31, 1, 1, 2, 3, 9, 1, 3, 1, 1, 2, 23, 1, 1, 1, 1, 22, 1, 1, 4, 2, 7, 8, 2, 1, 1, 1, 4, 2, 1, 20, 2, 1, 7, 1, 5, 3, 1, 2, 3, 8, 1, 8, 1, 1, 21, 9, 15, 1, 19, 6, 1, 1, 1, 2, 79, 1, 1, 3, 1, 61, 3, 18, 2, 3, 93, 1, 20, 3, 468, 1, 1, 1, 14, 1, 11, 1, 1, 42, 1, 2, 3, 3, 3, 20, 2, 2, 37, 1, 1, 3, 13, 1, 1, 3, 1, 3, 14, 1, 10, 6, 4, 5, 1, 2, 2, 1, 4, 1, 3, 2, 2, 2, 2, 3, 2, 1, 2, 2, 1, 1, 1, 19, 1, 1, 4, 2, 34, 1, 394, 4, 1, 1, 1, 1, 1, 3, 2, 3, 1, 4, 6, 14, 2, 1, 3, 2, 1, 1, 1, 1, 6, 1, 1, 1, 1, 3, 22, 1, 2, 3, 10, 26, 2, 6, 1, 3, 1, 3, 1, 12, 1, 7, 5, 24, 20, 1, 2, 3, 2, 1, 1, 1, 7, 2, 2, 5, 1, 1, 1, 2, 27, 1, 27, 2, 1, 3, 1, 1, 1, 9, 1, 1, 1, 9, 3, 3, 4, 5, 2, 3, 1, 7, 2, 2, 1, 3, 1, 2, 1, 13, 3, 3, 3, 317, 4, 2, 1, 1, 2, 10, 1, 1, 1, 2, 70, 5, 9, 1, 17, 2, 2, 1, 2, 4, 3, 2, 4, 37, 2, 2, 2, 1, 3, 3, 3, 3, 1, 6, 2, 4, 1, 4, 1, 1, 49, 5, 3, 2, 5, 8, 1, 2, 1, 2, 1, 8, 5, 3, 1, 10, 2, 1, 15, 1, 1, 2, 4, 2, 55, 12, 1, 8, 1, 3, 4, 1, 27, 2, 1, 3, 3, 1, 2, 8, 2, 2, 1, 1, 1, 3, 10, 1, 4, 2, 1, 23, 2, 1, 1, 7, 1, 4, 6, 5, 8, 13, 1, 2, 1, 2, 1, 2, 1, 7, 4, 7, 47, 1, 2, 1, 2, 2, 1, 1, 1, 3, 7, 1, 1, 1, 2, 3, 3, 2, 1, 2, 3, 7, 3, 31, 2, 2, 1, 2, 1, 3, 2, 4, 1, 1, 3, 2, 1, 2, 7, 2, 1, 1, 2, 1, 3, 2, 15, 1, 2, 2, 2, 2, 1, 14, 1, 1, 1, 2, 1, 1, 1, 1, 3, 2, 1, 2, 1, 2, 1, 5, 1, 3, 2, 19, 1, 2, 7, 2, 13, 2, 69, 1, 1, 6, 5, 1, 1, 2, 2, 6, 1, 2, 1, 6, 6, 1, 2, 1, 4, 1, 1, 1, 13, 1, 1, 4, 52, 1, 4, 5, 5, 23, 1, 1, 2, 1, 1, 2, 3, 1, 2, 1, 1, 10, 10, 2, 1, 3, 2, 23, 56, 1, 2, 1, 336, 3, 2, 2, 1, 1, 8, 1, 1, 3, 1, 66, 2, 2, 2, 2, 5, 1, 6, 2, 3, 28, 1, 1, 3, 4, 1, 7, 2, 2, 1, 1, 1, 2, 1, 1, 1, 1, 2, 2, 2, 14, 1, 1, 6, 1, 44, 1, 1, 3, 4, 1, 1, 1, 2, 34, 7, 6, 2, 1, 1, 1, 4, 1, 1, 1, 1, 3, 1, 17, 1, 1, 1, 2, 3, 5, 3, 1, 1, 2, 2, 1, 2, 3, 3, 3, 9, 1, 1, 5, 1, 3, 1, 2, 10, 2, 12, 1, 1, 8, 2, 2, 1, 4, 1, 2, 9, 29, 5, 1, 1, 9, 25, 1, 1, 1, 1, 1, 3, 2, 1, 1, 107, 1, 5, 1, 14, 1, 5, 93, 1, 15, 3, 30, 1, 11, 1, 18, 1, 23, 5, 1, 1, 1, 1, 7, 1, 1, 1, 2, 3, 8, 2, 8, 2, 1, 2, 3, 1, 1, 2, 1, 1, 1, 1, 6, 138, 1, 3, 2, 5, 3, 2, 2, 1, 1, 1, 1, 1, 27, 7, 1, 1, 6, 23, 2, 1, 1, 2, 5, 1, 8, 9, 2, 1, 1, 9, 6, 2, 6, 2, 7, 1, 1, 1, 1, 1, 4, 2, 3, 1, 1, 11, 17, 8, 2, 22, 1, 5, 36, 1, 212, 5, 3, 1, 8, 2, 3, 1, 7, 2, 2, 41, 1, 1, 1, 1, 3, 1, 3, 1, 2, 1, 3, 1, 2, 1, 1, 1, 1, 2, 2, 1, 2, 2, 1, 1, 4, 1, 1, 6, 5, 1, 8, 1, 1, 1, 4, 3, 1, 6, 1, 1, 5, 1, 1, 3, 2, 1, 2, 2, 1, 2, 6, 2, 6, 1, 2, 12, 2, 3, 6, 9, 12, 1, 1, 3, 1, 3, 1, 5, 2, 2, 12, 2, 5, 76, 1, 1, 2, 3, 2, 1, 1, 1, 5, 2, 35, 2, 1, 1, 3, 1, 1, 3, 1, 3, 1, 3, 1, 6, 1, 1, 2, 1, 7, 1, 1, 1, 2, 1, 1, 1, 4, 2, 3, 1, 14, 4, 15, 16, 3, 2, 7, 4, 1, 3, 1, 1, 1, 27, 23, 4, 2, 1, 1, 2, 4, 19, 5, 1, 4, 1, 1, 1, 25, 2, 2, 8, 1, 10, 3, 18, 18, 37, 1, 3, 11, 1, 2, 3, 5, 1, 2, 2, 2, 32, 3, 2, 6, 2, 6, 20, 1, 1, 2, 9, 2, 1, 1, 1, 22, 1, 1, 1, 10, 6, 10, 7, 3, 8, 1, 1, 1, 1, 8, 19, 1, 1, 11, 1, 1, 2, 40, 1, 1, 2, 1, 3, 6, 2, 1, 3, 1, 3, 7, 3, 17, 1, 3, 1, 3, 3, 3, 1, 31, 1, 2, 5, 1, 1, 1, 1, 1, 30, 1, 2, 1, 1, 6, 19, 2, 15, 1, 1, 2, 4, 1, 1, 7, 2, 7, 2, 1, 1, 1, 8, 49, 6, 1, 1, 46, 1, 1, 1, 4, 1, 9, 10, 6, 76, 8, 3, 1, 112, 1, 4, 1, 3, 5, 2, 1, 2, 1, 1, 2, 1, 1, 1, 1, 2, 15, 2, 1, 1, 3, 4, 1, 1, 1, 3, 3, 1, 11, 4, 1, 2, 12, 1, 2, 1, 6, 1, 4, 5, 13, 3, 1, 20, 1, 6, 10, 3, 1, 1, 1, 1, 1, 4, 43, 3, 1, 1, 2, 17, 6, 1, 2, 49, 20, 8, 3, 4, 1, 3, 12, 1, 1, 1, 10, 49, 1, 1, 17, 6, 1, 3, 1, 41, 1, 4, 1, 7, 22, 6, 17, 1, 2, 1, 3, 1, 1, 20, 1, 3, 1, 1, 5, 12, 4, 2, 2, 4, 1, 2, 8, 1, 5, 6, 1, 1, 1, 5, 5, 3, 1, 4, 3, 1, 5, 4, 1, 1, 26, 3, 1, 31, 55, 1, 1, 5, 1, 3, 2, 1, 11, 5, 8, 1, 1, 1, 4, 4, 50, 1, 2, 4, 4, 1, 1, 1, 4, 1, 1, 2, 1, 14, 1, 2, 3, 1, 1, 1, 1, 1, 1, 5, 2, 4, 1, 3, 2, 1, 1, 2, 6, 1, 1, 1, 7, 1, 77, 9, 13, 1, 1, 1, 1, 1, 12, 1, 2, 1, 2, 5, 1, 2, 1, 1, 6, 1, 10, 1, 1, 8, 1, 7, 43, 1, 2, 1, 2, 1, 1, 1, 4, 2, 1, 1, 2, 1, 1, 1, 1, 3, 5, 4, 1, 1, 1, 2, 1, 19, 1, 1, 4, 3, 4, 35, 3, 1, 4, 5, 2, 4, 1, 1, 23, 1, 6, 125, 1, 2, 1, 1, 1, 4, 1, 3, 1, 2, 2, 1, 1, 1, 1, 5, 2, 3, 1, 1, 1, 25, 5, 60, 12, 3, 2, 2, 6, 1, 1, 1, 3, 2, 6, 2, 1, 1, 1, 1, 8, 1, 1, 2, 2, 1, 1, 1, 3, 4, 24, 7, 1, 1, 1, 1, 1, 1, 1, 2, 1, 1, 2, 1, 3, 8, 14, 5, 2, 2, 5, 1, 3, 142, 1, 7, 3, 2, 1, 2, 1, 19, 9, 2, 13, 1, 1, 1, 3, 1, 2, 1, 2, 2, 2, 23, 1, 1, 2, 1, 23, 4, 1, 1, 1, 2, 1, 2, 1, 3, 1, 2, 8, 5, 10, 1, 4, 5, 4, 1, 2, 2, 2, 1, 3, 6, 3, 2, 1, 2, 20, 5, 1, 1, 3, 1, 15, 3, 2, 2, 9, 5, 1, 1, 2, 1, 6, 10, 4, 2, 1, 1, 1, 39, 8, 1, 1, 1, 15, 2, 18, 11, 1, 3, 1, 1, 1, 1, 1, 1, 26, 7, 1, 11, 2, 2, 4, 1, 3, 1, 1, 1, 1, 1, 12, 3, 1, 1, 2, 6, 2, 2, 48, 7, 2, 3, 1, 3, 3, 3, 3, 1, 1, 1, 1, 1, 1, 6, 1, 3, 4, 13, 35, 2, 1, 2, 10, 1, 1, 1, 1, 2, 2, 4, 1, 1, 22, 1, 2, 2, 1, 1, 20, 3, 8, 3, 2, 1, 1, 1, 4, 4, 71, 1, 5, 2, 4, 1, 2, 2, 3, 1, 1, 6, 1, 4, 2, 19, 1, 1, 1, 1, 1, 1, 1, 3, 3, 7, 4, 5, 1, 4, 1, 1, 24, 1, 2, 1, 22, 2, 1, 1, 1, 2, 1, 2, 5, 2, 1, 42, 2, 7, 3, 1, 8, 1, 1, 1, 4, 1, 2, 3, 1, 1, 286, 1, 3, 1, 1, 4, 7, 1, 2, 1, 1, 3, 7, 1, 3, 27, 2, 1, 2, 1, 3, 1, 24, 1, 2, 1, 3, 1, 58, 1, 5, 1, 1, 6, 8, 1, 1, 1, 1, 1, 1, 31, 1, 3, 2, 8, 1, 9, 1, 1, 1, 1, 1, 1, 1, 5, 1, 3, 5, 2, 4, 1, 7, 1, 1, 4, 2, 1, 1, 3, 2, 1, 3, 2, 2, 1, 1, 5, 1, 2, 1, 3, 2, 2, 1, 97, 2, 3, 2, 3, 3, 12, 1, 1, 22, 1, 1, 4, 1, 1, 1, 1, 1, 1, 1, 25, 2, 1, 18, 96, 1, 1, 1, 1, 2, 1, 4, 3, 15, 1, 3, 1, 29, 1, 1, 27, 3, 1123, 1, 1, 3, 6, 1, 1, 3, 24, 4, 1, 1, 1, 3, 4, 1, 1, 1, 1, 1, 1, 11, 1, 1, 1, 1, 1, 2, 5, 4, 2, 1, 1, 3, 1, 4, 18, 2, 2, 1, 5, 1, 1, 1, 1, 2, 1, 6, 1, 2, 1, 5, 4, 1, 3, 4, 1, 1, 1, 17, 2, 2, 1, 1, 4, 2, 182, 1, 2, 1, 3, 2, 1, 8, 1, 38, 1, 3, 1, 3, 1, 1, 1, 4, 1, 1, 2, 1, 2, 1, 12, 20, 1, 1, 8, 1, 3, 2, 1, 6, 4, 2, 3, 18, 1, 1, 55, 1, 4, 1, 6, 1, 2, 2, 2, 4, 2, 1, 11, 9, 1, 5, 4, 1, 1, 4, 3, 1, 3, 34, 1, 1, 1, 1, 1, 5, 1, 5, 2, 7, 5, 1, 3, 1, 4, 2, 160, 17, 1, 4, 1, 2, 3, 4, 1, 1, 1, 4, 1, 1, 1, 3, 1, 1, 2, 2, 1, 1, 153, 5, 1, 1, 17, 2, 175, 1, 1, 42, 51, 2, 1, 1, 1, 2, 1, 1, 1, 3, 3, 2, 2, 1, 1, 1, 6, 9, 2, 1, 1, 1, 73, 1, 3, 2, 1, 2, 7, 2, 5, 6, 2, 2, 19, 2, 1, 1, 19, 1, 5, 1, 3, 1, 1, 2, 1, 7, 2, 9, 2, 1, 1, 35, 1, 1, 1, 1, 5, 1, 2, 1, 1, 1, 2, 5, 72, 157, 26, 19, 6, 1, 2, 3, 1, 3, 93, 4, 1, 1, 3, 2, 2, 1, 15, 2, 3, 4, 3, 1, 2, 1, 11, 2783, 1, 2, 1, 9, 2, 1, 1, 1, 4, 15, 1, 1, 12, 1, 1, 1, 1, 2, 4, 2, 1, 2, 5, 1, 1, 1, 1, 1, 36, 1, 1, 1, 1, 4, 5, 10, 7, 1, 5, 1, 1, 4, 5, 2, 2, 1, 1, 1, 6, 1, 1, 2, 1, 3, 1, 4, 6, 61, 1, 1, 1, 1, 1, 1, 5, 4, 4, 4, 1, 1, 2, 2, 11, 20, 2, 1, 1, 3, 1, 1, 1, 1, 1, 1, 1, 1, 12, 1, 2, 4, 9, 1, 1, 1, 2, 1, 2, 129, 4, 2, 1, 41, 4, 1, 59, 5, 1, 1, 57, 1, 1, 1, 1, 3, 1, 1, 8, 4, 2, 1, 2, 8, 3, 2, 1, 1, 3, 2, 3, 1, 3, 3, 6, 2, 4, 1, 1, 1, 2, 14, 1, 51, 1, 6, 8, 2, 16, 1, 3, 1, 43, 21, 1, 1, 1, 1, 3, 4, 3, 1, 11, 7, 3, 1, 2, 2, 8, 1, 1, 1, 1, 2, 1, 13, 1, 1, 2, 1, 1, 1, 1, 5, 3, 1, 1, 10, 1, 1, 2, 7, 1, 2, 2, 9, 5, 5, 4, 9, 1, 3, 5, 2, 5, 1, 11, 1, 1, 1, 9, 1, 9, 4, 1, 1, 1, 1, 1, 3, 2, 1, 2, 1, 11, 1, 1, 1, 1, 1, 19, 46, 67, 2, 1, 1, 2, 1, 11, 8, 1, 4, 1, 1, 1, 1, 1, 3, 2, 1, 2, 1, 1, 2, 1, 12, 2, 4, 4, 1, 6, 1, 14, 1, 34, 1, 5, 1, 2, 2, 1, 2, 7, 20, 1, 1, 2, 1, 13, 23, 1, 10, 1, 6, 4, 3, 6, 1, 2, 1, 7, 1, 11, 4, 1, 1, 1, 1, 27, 1, 1, 10, 1, 3, 1, 1, 3, 61, 5, 21, 3, 1, 2, 1, 1, 69, 19, 2, 1, 52, 19, 9, 1, 2, 2, 6, 1, 6, 3, 2, 1], \"yaxis\": \"y\"}, {\"alignmentgroup\": \"True\", \"hovertemplate\": \"payment_type=credit_card<br>customer_city=%{x}<br>customer_id=%{y}<extra></extra>\", \"legendgroup\": \"credit_card\", \"marker\": {\"color\": \"#EF553B\"}, \"name\": \"credit_card\", \"offsetgroup\": \"credit_card\", \"orientation\": \"v\", \"showlegend\": true, \"textposition\": \"auto\", \"type\": \"bar\", \"x\": [\"abadia dos dourados\", \"abadiania\", \"abaete\", \"abaetetuba\", \"abaiara\", \"abaira\", \"abare\", \"abatia\", \"abdon batista\", \"abelardo luz\", \"abrantes\", \"abre campo\", \"abreu e lima\", \"acaiaca\", \"acailandia\", \"acajutiba\", \"acarau\", \"acari\", \"acegua\", \"acopiara\", \"acreuna\", \"acu\", \"acucena\", \"adamantina\", \"adhemar de barros\", \"adolfo\", \"adustina\", \"afogados da ingazeira\", \"afonso claudio\", \"afranio\", \"agisse\", \"agrestina\", \"agrolandia\", \"agronomica\", \"agua boa\", \"agua branca\", \"agua clara\", \"agua comprida\", \"agua doce\", \"agua doce do norte\", \"agua fria de goias\", \"agua limpa\", \"agua nova\", \"agua preta\", \"agua santa\", \"aguai\", \"aguas belas\", \"aguas da prata\", \"aguas de lindoia\", \"aguas de santa barbara\", \"aguas de sao pedro\", \"aguas formosas\", \"aguas frias\", \"aguas lindas de goias\", \"aguas mornas\", \"aguas vermelhas\", \"agudos\", \"aguia branca\", \"aimores\", \"aiuruoca\", \"ajapi\", \"ajuricaba\", \"alagoa\", \"alagoa grande\", \"alagoa nova\", \"alagoinha\", \"alagoinhas\", \"alambari\", \"alcantara\", \"alcinopolis\", \"alcobaca\", \"alegre\", \"alegrete\", \"alegrete do piaui\", \"alem paraiba\", \"alexandra\", \"alexandria\", \"alexandrita\", \"alexania\", \"alfenas\", \"alfredo chaves\", \"alfredo marcondes\", \"alfredo vasconcelos\", \"alfredo wagner\", \"alhandra\", \"alianca do tocantins\", \"almas\", \"almenara\", \"almino afonso\", \"almirante tamandare\", \"alpercata\", \"alpinopolis\", \"alta floresta\", \"alta floresta d'oeste\", \"altamira\", \"altamira do parana\", \"altaneira\", \"alterosa\", \"altinho\", \"altinopolis\", \"alto alegre\", \"alto alegre do iguacu\", \"alto alegre do maranhao\", \"alto alegre do pindare\", \"alto araguaia\", \"alto bela vista\", \"alto boa vista\", \"alto caparao\", \"alto do rodrigues\", \"alto garcas\", \"alto jequitiba\", \"alto paraiso\", \"alto paraiso de goias\", \"alto parana\", \"alto parnaiba\", \"alto rio doce\", \"alto rio novo\", \"alto santo\", \"alto sao joao\", \"alto taquari\", \"altonia\", \"altos\", \"aluminio\", \"alvarenga\", \"alvares florence\", \"alvares machado\", \"alvaro de carvalho\", \"alvinopolis\", \"alvorada\", \"alvorada d'oeste\", \"alvorada do gurgueia\", \"alvorada do norte\", \"amambai\", \"amanari\", \"amapa do maranhao\", \"amapora\", \"amaraji\", \"amarante\", \"amargosa\", \"amelia rodrigues\", \"america dourada\", \"americana\", \"americano do brasil\", \"americo brasiliense\", \"americo de campos\", \"ametista do sul\", \"amontada\", \"amparo\", \"amparo da serra\", \"ampere\", \"anadia\", \"analandia\", \"ananas\", \"ananindeua\", \"anapolis\", \"anastacio\", \"anchieta\", \"andarai\", \"andira\", \"andorinha\", \"andradas\", \"andradina\", \"andre da rocha\", \"andrelandia\", \"andrequice\", \"angatuba\", \"angelina\", \"angical do piaui\", \"angicos\", \"angra dos reis\", \"anguera\", \"angulo\", \"angustura\", \"anhandui\", \"anhembi\", \"anhumas\", \"anicuns\", \"anita garibaldi\", \"anitapolis\", \"anta\", \"anta gorda\", \"antonina\", \"antonina do norte\", \"antonio cardoso\", \"antonio carlos\", \"antonio goncalves\", \"antonio martins\", \"antonio pereira\", \"antonio prado\", \"antonio prado de minas\", \"antunes\", \"aparecida\", \"aparecida de goiania\", \"aparecida de monte alto\", \"aparecida de sao manuel\", \"aparecida do rio negro\", \"aparecida do taboado\", \"aperibe\", \"apiaca\", \"apiai\", \"apiuna\", \"apora\", \"apore\", \"apuarema\", \"apucarana\", \"apuiares\", \"aquidaba\", \"aquidauana\", \"aquiraz\", \"aracaju\", \"aracariguama\", \"aracati\", \"aracatu\", \"aracatuba\", \"arace\", \"araci\", \"aracoiaba\", \"aracoiaba da serra\", \"aracruz\", \"aracuai\", \"aragarcas\", \"aragoiania\", \"araguaia\", \"araguaina\", \"araguana\", \"araguapaz\", \"araguari\", \"araguatins\", \"aramari\", \"aramina\", \"arandu\", \"arantina\", \"arapei\", \"arapiraca\", \"araponga\", \"arapongas\", \"arapora\", \"arapoti\", \"arapua\", \"araputanga\", \"araquari\", \"arara\", \"ararangua\", \"araraquara\", \"araras\", \"arari\", \"ararica\", \"araripe\", \"araripina\", \"araruama\", \"araruna\", \"arataca\", \"aratuba\", \"araucaria\", \"araujos\", \"araxa\", \"arceburgo\", \"arcos\", \"arcoverde\", \"areado\", \"areal\", \"arealva\", \"areia\", \"areia branca\", \"areia branca dos assis\", \"areial\", \"areias\", \"areiopolis\", \"arembepe\", \"arenapolis\", \"arenopolis\", \"arinos\", \"aripuana\", \"ariquemes\", \"ariranha\", \"armacao dos buzios\", \"armazem\", \"arneiroz\", \"aroeiras\", \"arraial d ajuda\", \"arraial d'ajuda\", \"arraial do cabo\", \"arraias\", \"arroio do meio\", \"arroio do sal\", \"arroio do tigre\", \"arroio dos ratos\", \"arroio grande\", \"arroio trinta\", \"arrozal\", \"artur nogueira\", \"aruana\", \"aruja\", \"arvorezinha\", \"ascurra\", \"assai\", \"assare\", \"assis\", \"assis chateaubriand\", \"assuncao\", \"astolfo dutra\", \"astorga\", \"atalaia\", \"ataleia\", \"atibaia\", \"atilio vivacqua\", \"augustinopolis\", \"augusto correa\", \"augusto pestana\", \"aurea\", \"auriflama\", \"aurora\", \"aurora do para\", \"avai\", \"avanhandava\", \"avare\", \"avelar\", \"avelino lopes\", \"azurita\", \"bacabal\", \"bacaxa\", \"bacuri\", \"bady bassitt\", \"baependi\", \"bage\", \"baguari\", \"baianopolis\", \"baixo guandu\", \"balbinos\", \"baldim\", \"balneario arroio do silva\", \"balneario barra do sul\", \"balneario camboriu\", \"balneario gaivota\", \"balneario picarras\", \"balneario pinhal\", \"balneario rincao\", \"balsa nova\", \"balsamo\", \"balsas\", \"bambui\", \"banabuiu\", \"bananal\", \"bananeiras\", \"bandeira\", \"bandeira do sul\", \"bandeirantes\", \"bandeirantes do tocantins\", \"barao\", \"barao ataliba nogueira\", \"barao de cocais\", \"barao de juparana\", \"barao do triunfo\", \"barbacena\", \"barbalha\", \"barbosa ferraz\", \"barcarena\", \"bariri\", \"barra\", \"barra bonita\", \"barra da estiva\", \"barra de guabiraba\", \"barra de santa rosa\", \"barra de santo antonio\", \"barra de sao francisco\", \"barra de sao joao\", \"barra de sao miguel\", \"barra do bugres\", \"barra do choca\", \"barra do corda\", \"barra do garcas\", \"barra do jacare\", \"barra do mendes\", \"barra do pirai\", \"barra do ribeiro\", \"barra do rio azul\", \"barra do tarrachil\", \"barra do turvo\", \"barra dos coqueiros\", \"barra longa\", \"barra mansa\", \"barra velha\", \"barracao\", \"barras\", \"barreira\", \"barreiras\", \"barreirinhas\", \"barreiros\", \"barretos\", \"barrinha\", \"barro\", \"barro alto\", \"barrocas\", \"barrolandia\", \"barros cassal\", \"barroso\", \"barueri\", \"bastos\", \"bataguassu\", \"bataipora\", \"batalha\", \"batatais\", \"bataypora\", \"baturite\", \"bauru\", \"bayeux\", \"bebedouro\", \"beberibe\", \"bela cruz\", \"bela vista\", \"bela vista de goias\", \"bela vista de minas\", \"bela vista do maranhao\", \"bela vista do paraiso\", \"belem\", \"belem do sao francisco\", \"belford roxo\", \"belmonte\", \"belo horizonte\", \"belo jardim\", \"belo oriente\", \"belo vale\", \"bemposta\", \"benedito leite\", \"benedito novo\", \"benevides\", \"bento de abreu\", \"bento goncalves\", \"bequimao\", \"berizal\", \"bernardino de campos\", \"bertioga\", \"betim\", \"bezerros\", \"bicas\", \"biguacu\", \"bilac\", \"birigui\", \"biritiba-mirim\", \"biritinga\", \"bituruna\", \"blumenau\", \"boa esperanca\", \"boa esperanca do sul\", \"boa ventura\", \"boa viagem\", \"boa vista\", \"boa vista da aparecida\", \"boa vista das missoes\", \"boa vista do cadeado\", \"boa vista do gurupi\", \"boa vista do sul\", \"boca da mata\", \"bocaina\", \"bocaiuva\", \"bocaiuva do sul\", \"bodo\", \"bodoco\", \"bodoquena\", \"bofete\", \"boituva\", \"bom conselho\", \"bom despacho\", \"bom jardim\", \"bom jardim de goias\", \"bom jardim de minas\", \"bom jesus\", \"bom jesus da lapa\", \"bom jesus das selvas\", \"bom jesus do amparo\", \"bom jesus do araguaia\", \"bom jesus do galho\", \"bom jesus do itabapoana\", \"bom jesus do norte\", \"bom jesus do querendo\", \"bom jesus do sul\", \"bom jesus do tocantins\", \"bom jesus dos perdoes\", \"bom principio\", \"bom repouso\", \"bom retiro\", \"bom retiro do sul\", \"bom sucesso\", \"bombinhas\", \"bonfim\", \"bonfim paulista\", \"bonfinopolis\", \"bonfinopolis de minas\", \"boninal\", \"bonito\", \"bonito de santa fe\", \"boqueirao do leao\", \"boquim\", \"boquira\", \"bora\", \"boraceia\", \"borborema\", \"borda da mata\", \"borrazopolis\", \"botelho\", \"botelhos\", \"botucatu\", \"botuvera\", \"braco do norte\", \"braco do rio\", \"braganca\", \"braganca paulista\", \"bras pires\", \"brasil novo\", \"brasilandia\", \"brasilandia de minas\", \"brasileia\", \"brasilia\", \"brasilia de minas\", \"brauna\", \"braunas\", \"brazabrantes\", \"brazopolis\", \"brejetuba\", \"brejo\", \"brejo bonito\", \"brejo da madre de deus\", \"brejo do cruz\", \"brejo dos santos\", \"brejo santo\", \"brejoes\", \"brejolandia\", \"breves\", \"britania\", \"brodowski\", \"brotas\", \"brumadinho\", \"brumado\", \"brusque\", \"bueno brandao\", \"buenopolis\", \"buenos aires\", \"buerarema\", \"bugre\", \"buique\", \"buri\", \"buritama\", \"buriti alegre\", \"buriti dos lopes\", \"buriticupu\", \"buritirama\", \"buritis\", \"buritizal\", \"buritizeiro\", \"butia\", \"caarapo\", \"cabeceira grande\", \"cabeceiras\", \"cabedelo\", \"cabo de santo agostinho\", \"cabo frio\", \"cabo verde\", \"cabralia paulista\", \"cabreuva\", \"cabrobo\", \"cacador\", \"cacapava\", \"cacapava do sul\", \"cacaulandia\", \"cacequi\", \"caceres\", \"cachoeira\", \"cachoeira alta\", \"cachoeira da prata\", \"cachoeira de minas\", \"cachoeira de pajeu\", \"cachoeira do brumado\", \"cachoeira do campo\", \"cachoeira do sul\", \"cachoeira dourada\", \"cachoeira paulista\", \"cachoeiras de macacu\", \"cachoeirinha\", \"cachoeiro de itapemirim\", \"cacoal\", \"caconde\", \"cacu\", \"cacule\", \"caetanopolis\", \"caete\", \"caetes\", \"caetite\", \"cafelandia\", \"caiana\", \"caiaponia\", \"caibate\", \"caibi\", \"caicara do norte\", \"caico\", \"caieiras\", \"caiua\", \"cajamar\", \"cajapio\", \"cajari\", \"cajati\", \"cajazeiras\", \"cajobi\", \"cajuru\", \"calcado\", \"caldas\", \"caldas do jorro\", \"caldas novas\", \"caldeirao grande\", \"california\", \"california da barra\", \"calmon\", \"camacan\", \"camacari\", \"camacho\", \"camamu\", \"camanducaia\", \"camapua\", \"camaqua\", \"camaragibe\", \"cambara\", \"cambara do sul\", \"cambe\", \"cambiasca\", \"cambira\", \"camboriu\", \"cambuci\", \"cambui\", \"cambuquira\", \"cameta\", \"camocim\", \"camocim de sao felix\", \"campanario\", \"campanha\", \"campestre\", \"campestre da serra\", \"campestre do maranhao\", \"campina da lagoa\", \"campina das missoes\", \"campina do monte alegre\", \"campina grande\", \"campina grande do sul\", \"campina verde\", \"campinacu\", \"campinas\", \"campinas do sul\", \"campinorte\", \"campo alegre\", \"campo alegre de goias\", \"campo alegre do fidalgo\", \"campo azul\", \"campo belo\", \"campo bom\", \"campo bonito\", \"campo do brito\", \"campo do meio\", \"campo do tenente\", \"campo ere\", \"campo formoso\", \"campo grande\", \"campo grande do piaui\", \"campo largo\", \"campo limpo paulista\", \"campo magro\", \"campo maior\", \"campo mourao\", \"campo novo do parecis\", \"campo verde\", \"campos altos\", \"campos belos\", \"campos de julio\", \"campos do jordao\", \"campos dos goytacazes\", \"campos gerais\", \"campos novos\", \"campos sales\", \"campos verdes\", \"camutanga\", \"canaa\", \"canaa dos carajas\", \"cananeia\", \"canapi\", \"canapolis\", \"canarana\", \"canavieiras\", \"candeal\", \"candeias\", \"candeias do jamari\", \"candelaria\", \"candido de abreu\", \"candido godoi\", \"candido mendes\", \"candido mota\", \"candido rodrigues\", \"candido sales\", \"candiota\", \"candoi\", \"canela\", \"canelinha\", \"cangucu\", \"canhotinho\", \"caninde\", \"caninde de sao francisco\", \"canitar\", \"canoas\", \"canoinhas\", \"cansancao\", \"cantagalo\", \"cantanhede\", \"canto do buriti\", \"canudos\", \"capanema\", \"capao bonito\", \"capao da canoa\", \"capao do cipo\", \"capao do leao\", \"caparao\", \"capela\", \"capela de santana\", \"capela do alto\", \"capela do alto alegre\", \"capelinha\", \"capetinga\", \"capim branco\", \"capim grosso\", \"capinopolis\", \"capinzal\", \"capinzal do norte\", \"capistrano\", \"capitao\", \"capitao andrade\", \"capitao eneas\", \"capitao leonidas marques\", \"capitao poco\", \"capitolio\", \"capivari\", \"capivari de baixo\", \"capoeiras\", \"caputira\", \"caracol\", \"caraguatatuba\", \"carai\", \"caraiba\", \"caraibas\", \"carajas\", \"carambei\", \"carandai\", \"carangola\", \"carapebus\", \"carapicuiba\", \"caratinga\", \"caraubas\", \"caravelas\", \"carazinho\", \"carbonita\", \"cardoso\", \"cardoso moreira\", \"careacu\", \"cariacica\", \"caridade\", \"carinhanha\", \"carire\", \"caririacu\", \"carius\", \"carlinda\", \"carlopolis\", \"carlos barbosa\", \"carlos chagas\", \"carmesia\", \"carmo\", \"carmo da cachoeira\", \"carmo da mata\", \"carmo de minas\", \"carmo do cajuru\", \"carmo do paranaiba\", \"carmo do rio claro\", \"carmolandia\", \"carmopolis\", \"carmopolis de minas\", \"carnaiba do sertao\", \"carnauba dos dantas\", \"carnaubais\", \"carnaubal\", \"carneirinho\", \"carolina\", \"carpina\", \"carrancas\", \"caruaru\", \"carutapera\", \"carvalhopolis\", \"casa branca\", \"casa nova\", \"casca\", \"cascavel\", \"caseiros\", \"casimiro de abreu\", \"cassia\", \"cassia dos coqueiros\", \"cassilandia\", \"castanhal\", \"castanheira\", \"castanheiras\", \"castelandia\", \"castelo\", \"castelo do piaui\", \"castilho\", \"castro\", \"castro alves\", \"cataguases\", \"catalao\", \"catanduva\", \"catanduvas\", \"catarina\", \"catas altas\", \"catende\", \"catigua\", \"catole do rocha\", \"catu\", \"catu de abrantes\", \"catuipe\", \"caturama\", \"caucaia\", \"cavalcante\", \"caxambu\", \"caxambu do sul\", \"caxias\", \"caxias do sul\", \"caxingo\", \"ceara-mirim\", \"cedral\", \"cedro\", \"cedro de sao joao\", \"ceilandia\", \"centenario do sul\", \"central\", \"central de santa helena\", \"centralina\", \"centro novo do maranhao\", \"cerejeiras\", \"ceres\", \"cerqueira cesar\", \"cerquilho\", \"cerro azul\", \"cerro grande do sul\", \"cerro largo\", \"cerro negro\", \"cesario lange\", \"ceu azul\", \"cezarina\", \"cha de alegria\", \"cha grande\", \"chacara\", \"chale\", \"chapada\", \"chapada do norte\", \"chapada dos guimaraes\", \"chapada gaucha\", \"chapadao do ceu\", \"chapadao do lageado\", \"chapadao do sul\", \"chapeco\", \"charqueada\", \"charqueadas\", \"charrua\", \"chaval\", \"chavantes\", \"chaveslandia\", \"chopinzinho\", \"chorozinho\", \"chorrocho\", \"chui\", \"cianorte\", \"cicero dantas\", \"cidade gaucha\", \"cidade ocidental\", \"cidelandia\", \"cidreira\", \"cipo\", \"cipo-guacu\", \"claraval\", \"claro dos pocoes\", \"claudia\", \"claudio\", \"clementina\", \"clevelandia\", \"coaraci\", \"coari\", \"cocais\", \"cocal\", \"cocal do sul\", \"cocalinho\", \"cocalzinho de goias\", \"codo\", \"coelho neto\", \"coimbra\", \"coite do noia\", \"colatina\", \"colider\", \"colina\", \"colinas\", \"colinas do tocantins\", \"colmeia\", \"colniza\", \"colombia\", \"colombo\", \"colonia castrolanda\", \"colonia jordaozinho\", \"colonia leopoldina\", \"colonia vitoria\", \"colorado\", \"colorado do oeste\", \"coluna\", \"combinado\", \"comendador levy gasparian\", \"comodoro\", \"conceicao\", \"conceicao da aparecida\", \"conceicao da barra\", \"conceicao da feira\", \"conceicao da ibitipoca\", \"conceicao das alagoas\", \"conceicao das pedras\", \"conceicao de macabu\", \"conceicao do almeida\", \"conceicao do araguaia\", \"conceicao do caninde\", \"conceicao do castelo\", \"conceicao do coite\", \"conceicao do formoso\", \"conceicao do jacuipe\", \"conceicao do mato dentro\", \"conceicao do para\", \"conceicao do rio verde\", \"conceicao do tocantins\", \"conceicao dos ouros\", \"conchal\", \"conchas\", \"concordia\", \"concordia do para\", \"condado\", \"conde\", \"condeuba\", \"condor\", \"confins\", \"confresa\", \"congonhal\", \"congonhas\", \"congonhinhas\", \"conquista\", \"conquista d'oeste\", \"conrado\", \"conselheiro lafaiete\", \"conselheiro mairinck\", \"conselheiro pena\", \"conservatoria\", \"constantina\", \"contagem\", \"contenda\", \"coqueiro baixo\", \"coqueiros do sul\", \"coracao de jesus\", \"coracao de maria\", \"corbelia\", \"cordeiro\", \"cordeiropolis\", \"coremas\", \"corguinho\", \"coribe\", \"corinto\", \"cornelio procopio\", \"coroaci\", \"coroata\", \"coromandel\", \"coronel domingos soares\", \"coronel fabriciano\", \"coronel freitas\", \"coronel joao pessoa\", \"coronel joao sa\", \"coronel macedo\", \"coronel martins\", \"coronel murta\", \"coronel pacheco\", \"coronel vivida\", \"corrego do ouro\", \"corrego fundo\", \"correia pinto\", \"corrente\", \"correntes\", \"correntina\", \"cortes\", \"corumba\", \"corumba de goias\", \"corumbaiba\", \"corumbatai\", \"corupa\", \"coruripe\", \"cosmopolis\", \"cosmorama\", \"costa marques\", \"costa rica\", \"cotegipe\", \"cotia\", \"cotriguacu\", \"couto de magalhaes\", \"coxilha\", \"coxim\", \"crateus\", \"crato\", \"cravinhos\", \"cravolandia\", \"criciuma\", \"crisolita\", \"crisopolis\", \"crissiumal\", \"cristais\", \"cristais paulista\", \"cristal\", \"cristalandia\", \"cristalia\", \"cristalina\", \"cristiano otoni\", \"cristina\", \"cristinapolis\", \"crixas\", \"crominia\", \"cruz\", \"cruz alta\", \"cruz das almas\", \"cruz machado\", \"cruzalia\", \"cruzeiro\", \"cruzeiro do oeste\", \"cruzeiro do sul\", \"cruzilia\", \"cubatao\", \"cubati\", \"cuiaba\", \"cuite\", \"cuite velho\", \"cujubim\", \"cumari\", \"cumaru\", \"cunha\", \"cunha pora\", \"cupira\", \"curaca\", \"curitiba\", \"curitibanos\", \"curiuva\", \"currais novos\", \"curral de cima\", \"curuca\", \"cururupu\", \"curvelandia\", \"curvelo\", \"custodia\", \"damianopolis\", \"dario meira\", \"datas\", \"david canabarro\", \"delfim moreira\", \"delfinopolis\", \"delmiro gouveia\", \"demerval lobao\", \"denise\", \"deodapolis\", \"deputado irapuan pinheiro\", \"descalvado\", \"descoberto\", \"desembargador otoni\", \"desterro\", \"desterro de entre rios\", \"dezesseis de novembro\", \"diadema\", \"diamante d'oeste\", \"diamante do norte\", \"diamantina\", \"diamantino\", \"dianopolis\", \"dias d avila\", \"dias d'avila\", \"diogo de vasconcelos\", \"dionisio\", \"dionisio cerqueira\", \"diorama\", \"divinesia\", \"divino\", \"divino das laranjeiras\", \"divino de sao lourenco\", \"divinolandia\", \"divinolandia de minas\", \"divinopolis\", \"divinopolis de goias\", \"divinopolis do tocantins\", \"divisa alegre\", \"divisa nova\", \"dobrada\", \"dois corregos\", \"dois irmaos\", \"dois irmaos do buriti\", \"dois riachos\", \"dois vizinhos\", \"dom aquino\", \"dom basilio\", \"dom cavati\", \"dom eliseu\", \"dom feliciano\", \"dom joaquim\", \"dom macedo costa\", \"dom pedrito\", \"dom pedro\", \"dom silverio\", \"dom vicoso\", \"domiciano ribeiro\", \"domingos martins\", \"dona emma\", \"dona euzebia\", \"dona francisca\", \"dores de campos\", \"dores de guanhaes\", \"dores do indaia\", \"dores do rio preto\", \"dormentes\", \"dourado\", \"dourados\", \"doutor camargo\", \"doverlandia\", \"dracena\", \"duartina\", \"duas barras\", \"duere\", \"dumont\", \"duque de caxias\", \"durande\", \"echapora\", \"ecoporanga\", \"edeia\", \"eldorado\", \"eldorado do sul\", \"elias fausto\", \"eliseu martins\", \"elisiario\", \"elisio medrado\", \"eloi mendes\", \"embauba\", \"embu\", \"embu das artes\", \"embu-guacu\", \"emilianopolis\", \"encantado\", \"encruzilhada do sul\", \"eneas marques\", \"engenheiro beltrao\", \"engenheiro coelho\", \"engenheiro navarro\", \"engenheiro passos\", \"engenheiro paulo de frontin\", \"entre folhas\", \"entre rios\", \"entre rios de minas\", \"entre-ijuis\", \"epitaciolandia\", \"erechim\", \"erere\", \"erval grande\", \"ervalia\", \"escada\", \"esmeralda\", \"esmeraldas\", \"espera feliz\", \"esperanca\", \"esperantina\", \"esperantinopolis\", \"espigao\", \"espigao alto do iguacu\", \"espigao do oeste\", \"espinosa\", \"espirito santo do pinhal\", \"espirito santo do turvo\", \"esplanada\", \"espumoso\", \"estacao\", \"estancia\", \"estancia velha\", \"esteio\", \"estevao de araujo\", \"estiva gerbi\", \"estreito\", \"estrela\", \"estrela d oeste\", \"estrela d'oeste\", \"estrela do indaia\", \"estrela do norte\", \"estrela velha\", \"euclides da cunha\", \"euclides da cunha paulista\", \"eugenopolis\", \"eunapolis\", \"eusebio\", \"ewbank da camara\", \"extrema\", \"extremoz\", \"fagundes\", \"farroupilha\", \"fartura\", \"fatima\", \"fatima do sul\", \"faxinal\", \"faxinal dos guedes\", \"fazenda nova\", \"fazenda rio grande\", \"fazenda vilanova\", \"feira de santana\", \"feira nova\", \"felicio dos santos\", \"felipe guerra\", \"felisburgo\", \"felixlandia\", \"feliz\", \"feliz deserto\", \"feliz natal\", \"fenix\", \"fernando prestes\", \"fernandopolis\", \"fernao\", \"ferraz de vasconcelos\", \"ferreiros\", \"ferros\", \"fervedouro\", \"figueira\", \"figueiropolis d'oeste\", \"filadelfia\", \"firminopolis\", \"flor da serra do sul\", \"flora rica\", \"florai\", \"florania\", \"floreal\", \"flores\", \"flores da cunha\", \"flores de goias\", \"floresta\", \"floresta do araguaia\", \"florestal\", \"florestopolis\", \"floriano\", \"florianopolis\", \"florida\", \"florida paulista\", \"florinia\", \"fonseca\", \"fontoura xavier\", \"formiga\", \"formigueiro\", \"formosa\", \"formosa da serra negra\", \"formosa do rio preto\", \"formoso\", \"formoso do araguaia\", \"forquilha\", \"forquilhinha\", \"fortaleza\", \"fortaleza dos valos\", \"fortim\", \"fortuna\", \"foz do iguacu\", \"foz do jordao\", \"fragosos\", \"fraiburgo\", \"franca\", \"francisco badaro\", \"francisco beltrao\", \"francisco dumont\", \"francisco morato\", \"francisco sa\", \"francisco santos\", \"franco da rocha\", \"frecheirinha\", \"frederico westphalen\", \"frei inocencio\", \"frei martinho\", \"frei rogerio\", \"fronteira\", \"fronteiras\", \"fruta de leite\", \"frutal\", \"frutuoso gomes\", \"fundao\", \"gabriel monteiro\", \"galinhos\", \"galvao\", \"gameleira\", \"gameleiras\", \"gandu\", \"garanhuns\", \"garca\", \"garibaldi\", \"garopaba\", \"garrafao do norte\", \"garruchos\", \"garuva\", \"gaspar\", \"gastao vidigal\", \"gaviao peixoto\", \"general camara\", \"general carneiro\", \"general maynard\", \"general salgado\", \"gentio do ouro\", \"getulina\", \"getulio vargas\", \"gilbues\", \"girau do ponciano\", \"girua\", \"glaura\", \"glicerio\", \"gloria de dourados\", \"gloria do goita\", \"glorinha\", \"goiabeira\", \"goiana\", \"goianapolis\", \"goiandira\", \"goianesia\", \"goianesia do para\", \"goiania\", \"goianinha\", \"goianira\", \"goianorte\", \"goias\", \"goiatuba\", \"goioere\", \"goitacazes\", \"goncalves\", \"gongogi\", \"gouveia\", \"governador celso ramos\", \"governador dix-sept rosado\", \"governador eugenio barros\", \"governador lindenberg\", \"governador mangabeira\", \"governador portela\", \"governador valadares\", \"graccho cardoso\", \"grajau\", \"gramado\", \"gramado dos loureiros\", \"gramado xavier\", \"grandes rios\", \"granja\", \"grao mogol\", \"grao para\", \"gravata\", \"gravatai\", \"gravatal\", \"guabiju\", \"guabiruba\", \"guacui\", \"guadalupe\", \"guaiba\", \"guaicara\", \"guaira\", \"guairaca\", \"guaiuba\", \"guajara-mirim\", \"guamare\", \"guanambi\", \"guanhaes\", \"guape\", \"guapiacu\", \"guapiara\", \"guapimirim\", \"guapirama\", \"guapo\", \"guapore\", \"guara\", \"guarabira\", \"guaracai\", \"guaraci\", \"guaraciaba\", \"guaraciaba do norte\", \"guarai\", \"guaramirim\", \"guaranesia\", \"guarani\", \"guarani das missoes\", \"guaraniacu\", \"guaranta\", \"guaranta do norte\", \"guarapari\", \"guarapua\", \"guarapuava\", \"guaraquecaba\", \"guarara\", \"guararapes\", \"guararema\", \"guaratinga\", \"guaratingueta\", \"guaratuba\", \"guarda-mor\", \"guarei\", \"guariba\", \"guariroba\", \"guaruja\", \"guaruja do sul\", \"guarulhos\", \"guassusse\", \"guatapara\", \"guaxupe\", \"guia lopes da laguna\", \"guidoval\", \"guimaraes\", \"guimarania\", \"guinda\", \"gurupi\", \"guzolandia\", \"heliopolis\", \"herculandia\", \"herval\", \"herval d'oeste\", \"herveiras\", \"hidreletrica tucurui\", \"hidrolandia\", \"hidrolina\", \"holambra\", \"holambra ii\", \"horizonte\", \"horizontina\", \"hortolandia\", \"humaita\", \"humberto de campos\", \"humildes\", \"iacanga\", \"iaciara\", \"iacri\", \"iacu\", \"iapu\", \"iati\", \"ibaiti\", \"ibate\", \"ibateguara\", \"ibatiba\", \"ibema\", \"ibertioga\", \"ibia\", \"ibiaca\", \"ibiai\", \"ibiajara\", \"ibiam\", \"ibiapina\", \"ibiara\", \"ibiassuce\", \"ibicarai\", \"ibicare\", \"ibicoara\", \"ibicuitinga\", \"ibimirim\", \"ibipeba\", \"ibipitanga\", \"ibipora\", \"ibira\", \"ibiracatu\", \"ibiraci\", \"ibiraiaras\", \"ibiraja\", \"ibirama\", \"ibirapua\", \"ibirarema\", \"ibirataia\", \"ibirite\", \"ibiruba\", \"ibitinga\", \"ibitioca\", \"ibiuna\", \"ibotirama\", \"icapui\", \"icara\", \"icarai de minas\", \"icatu\", \"icem\", \"ichu\", \"ico\", \"iconha\", \"ielmo marinho\", \"iepe\", \"igaci\", \"igapora\", \"igaracu do tiete\", \"igarapava\", \"igarape\", \"igarape-acu\", \"igarape-miri\", \"igarassu\", \"igarata\", \"igaratinga\", \"igrapiuna\", \"igreja nova\", \"igrejinha\", \"iguaba grande\", \"iguai\", \"iguape\", \"iguaracu\", \"iguatama\", \"iguatu\", \"ijui\", \"ilha comprida\", \"ilha de itamaraca\", \"ilha dos valadares\", \"ilha grande\", \"ilha solteira\", \"ilhabela\", \"ilheus\", \"ilhota\", \"imaculada\", \"imbau\", \"imbe\", \"imbe de minas\", \"imbituba\", \"imbituva\", \"imbuia\", \"imigrante\", \"imperatriz\", \"inacio martins\", \"inaciolandia\", \"inaja\", \"inconfidentes\", \"indaial\", \"indaiatuba\", \"independencia\", \"indiana\", \"indianopolis\", \"indiapora\", \"indiara\", \"indiaroba\", \"ingai\", \"inhambupe\", \"inhapi\", \"inhapim\", \"inhauma\", \"inhuma\", \"inhumas\", \"inimutaba\", \"inubia paulista\", \"iomere\", \"ipaba\", \"ipameri\", \"ipanema\", \"ipaporanga\", \"ipatinga\", \"ipaumirim\", \"ipaussu\", \"ipe\", \"ipecaeta\", \"ipero\", \"ipiabas\", \"ipiacu\", \"ipiau\", \"ipigua\", \"ipira\", \"ipiranga\", \"ipiranga de goias\", \"ipiranga do norte\", \"ipiranga do sul\", \"ipixuna do para\", \"ipojuca\", \"ipora\", \"ipora do oeste\", \"ipu\", \"ipua\", \"ipubi\", \"ipueira\", \"ipueiras\", \"ipuiuna\", \"ipumirim\", \"ipupiara\", \"iracema\", \"iracemapolis\", \"irai\", \"irai de minas\", \"iramaia\", \"irani\", \"irape\", \"irapua\", \"irapuru\", \"iraquara\", \"irara\", \"irati\", \"iraucuba\", \"irece\", \"irineopolis\", \"irupi\", \"ita\", \"itabaiana\", \"itabaianinha\", \"itabatan\", \"itabela\", \"itabera\", \"itaberaba\", \"itaberai\", \"itabi\", \"itabira\", \"itabirinha\", \"itabirito\", \"itaborai\", \"itabuna\", \"itacarambi\", \"itacare\", \"itacoatiara\", \"itacurussa\", \"itagi\", \"itagiba\", \"itagimirim\", \"itaguacu\", \"itaguacu da bahia\", \"itaguai\", \"itaguaje\", \"itaguara\", \"itaguari\", \"itaguaru\", \"itai\", \"itaiopolis\", \"itaipava\", \"itaipulandia\", \"itaitinga\", \"itaituba\", \"itaja\", \"itajai\", \"itajobi\", \"itaju\", \"itaju do colonia\", \"itajuba\", \"itajuipe\", \"italva\", \"itamaraju\", \"itamarandiba\", \"itamari\", \"itambacuri\", \"itambaraca\", \"itambe\", \"itamira\", \"itamogi\", \"itamonte\", \"itanhaem\", \"itanhandu\", \"itanhanga\", \"itanhem\", \"itanhomi\", \"itaobim\", \"itaoca\", \"itaocara\", \"itapaci\", \"itapage\", \"itapagipe\", \"itapaje\", \"itaparica\", \"itapecerica\", \"itapecerica da serra\", \"itapecuru mirim\", \"itapejara d'oeste\", \"itapema\", \"itapemirim\", \"itaperucu\", \"itaperuna\", \"itapetim\", \"itapetinga\", \"itapetininga\", \"itapeva\", \"itapevi\", \"itapicuru\", \"itapipoca\", \"itapira\", \"itapiranga\", \"itapirapua\", \"itapissuma\", \"itapitanga\", \"itapiuna\", \"itapoa\", \"itapolis\", \"itapora\", \"itaporanga\", \"itaporanga d'ajuda\", \"itapui\", \"itapura\", \"itapuranga\", \"itaquaquecetuba\", \"itaqui\", \"itaquirai\", \"itaquitinga\", \"itarana\", \"itarantim\", \"itarare\", \"itariri\", \"itatiaia\", \"itatiaiucu\", \"itatiba\", \"itatiba do sul\", \"itatim\", \"itatinga\", \"itau\", \"itau de minas\", \"itauba\", \"itaueira\", \"itauna\", \"itinga\", \"itiquira\", \"itirapina\", \"itirucu\", \"itiuba\", \"itobi\", \"itororo\", \"itu\", \"ituacu\", \"itubera\", \"itueta\", \"ituiutaba\", \"itumbiara\", \"itupeva\", \"itupiranga\", \"ituporanga\", \"iturama\", \"itutinga\", \"ituverava\", \"iuna\", \"ivai\", \"ivaipora\", \"ivate\", \"ivinhema\", \"ivora\", \"ivoti\", \"jaboatao dos guararapes\", \"jabora\", \"jaborandi\", \"jaboti\", \"jaboticabal\", \"jacaraci\", \"jacarau\", \"jacare\", \"jacareacanga\", \"jacarei\", \"jacarezinho\", \"jaci\", \"jaciara\", \"jacigua\", \"jacinto\", \"jacobina\", \"jacui\", \"jacuipe\", \"jacunda\", \"jacupiranga\", \"jacutinga\", \"jaguapita\", \"jaguaquara\", \"jaguaracu\", \"jaguarao\", \"jaguare\", \"jaguarembe\", \"jaguari\", \"jaguariaiva\", \"jaguaribara\", \"jaguaribe\", \"jaguariuna\", \"jaguaruana\", \"jaguaruna\", \"jaiba\", \"jales\", \"jamaica\", \"jamapara\", \"jambeiro\", \"jampruca\", \"janauba\", \"jandaia\", \"jandaia do sul\", \"jandaira\", \"jandira\", \"janduis\", \"janiopolis\", \"januaria\", \"japaraiba\", \"japaratuba\", \"japeri\", \"japi\", \"japira\", \"japoata\", \"japuiba\", \"japura\", \"jaqueira\", \"jaquirana\", \"jaragua\", \"jaragua do sul\", \"jaraguari\", \"jardim\", \"jardim abc de goias\", \"jardim alegre\", \"jardim de piranhas\", \"jardim do serido\", \"jardim olinda\", \"jardinopolis\", \"jari\", \"jarinu\", \"jaru\", \"jatai\", \"jataizinho\", \"jatauba\", \"jatoba\", \"jau\", \"jaupaci\", \"jauru\", \"jeceaba\", \"jenipapo de minas\", \"jequeri\", \"jequia da praia\", \"jequie\", \"jequitai\", \"jequitiba\", \"jequitinhonha\", \"jeremoabo\", \"jerico\", \"jeriquara\", \"jeronimo monteiro\", \"jesuania\", \"jesuitas\", \"jesupolis\", \"ji-parana\", \"jijoca de jericoacoara\", \"jiquirica\", \"joacaba\", \"joaima\", \"joanopolis\", \"joao alfredo\", \"joao lisboa\", \"joao monlevade\", \"joao neiva\", \"joao pessoa\", \"joao pinheiro\", \"joao ramalho\", \"joaquim nabuco\", \"joaquim tavora\", \"joinville\", \"jordania\", \"jose bonifacio\", \"jose de freitas\", \"joselandia\", \"joviania\", \"juara\", \"juatuba\", \"juazeiro\", \"juazeiro do norte\", \"jucas\", \"jucurucu\", \"jucurutu\", \"juina\", \"juiz de fora\", \"julio de castilhos\", \"julio mesquita\", \"junco do serido\", \"jundiai\", \"jundiai do sul\", \"junqueiro\", \"junqueiropolis\", \"jupi\", \"juquia\", \"juquitiba\", \"jurema\", \"juruaia\", \"juruena\", \"juscimeira\", \"jussara\", \"jussari\", \"juti\", \"juvenilia\", \"kalore\", \"ladainha\", \"ladario\", \"lagarto\", \"lages\", \"lago da pedra\", \"lago verde\", \"lagoa da canoa\", \"lagoa da confusao\", \"lagoa da prata\", \"lagoa de sao francisco\", \"lagoa de velhos\", \"lagoa do carro\", \"lagoa do mato\", \"lagoa do ouro\", \"lagoa do piaui\", \"lagoa dos gatos\", \"lagoa dos patos\", \"lagoa dos tres cantos\", \"lagoa dourada\", \"lagoa formosa\", \"lagoa grande\", \"lagoa nova\", \"lagoa real\", \"lagoa santa\", \"lagoa vermelha\", \"lagoinha\", \"lagoinha do piaui\", \"laguna\", \"laje do muriae\", \"lajeado\", \"lajedo\", \"lajinha\", \"lamarao\", \"lambari\", \"lapa\", \"laranja da terra\", \"laranjal\", \"laranjal do jari\", \"laranjal paulista\", \"laranjeiras do sul\", \"laurentino\", \"lauro de freitas\", \"lauro muller\", \"lavinia\", \"lavras\", \"lavras da mangabeira\", \"lavras do sul\", \"leandro ferreira\", \"lebon regis\", \"leme\", \"lencois\", \"lencois paulista\", \"leoberto leal\", \"leopoldina\", \"liberdade\", \"lima duarte\", \"limeira\", \"limeira do oeste\", \"limoeiro\", \"limoeiro do norte\", \"lindoeste\", \"lindoia\", \"lindoia do sul\", \"lindolfo collor\", \"linhares\", \"lins\", \"livramento\", \"livramento de nossa senhora\", \"loanda\", \"lobato\", \"londrina\", \"lontras\", \"lorena\", \"loreto\", \"lourdes\", \"louveira\", \"lucas do rio verde\", \"lucelia\", \"lucena\", \"lucianopolis\", \"luis antonio\", \"luis correia\", \"luis eduardo magalhaes\", \"luisburgo\", \"luiz alves\", \"luiziana\", \"luiziania\", \"luizlandia do oeste\", \"luminarias\", \"lunardelli\", \"lupercio\", \"lupionopolis\", \"lutecia\", \"luz\", \"luziania\", \"luziapolis\", \"luzilandia\", \"macae\", \"macaiba\", \"macambara\", \"macambira\", \"macapa\", \"macaparana\", \"macatuba\", \"macau\", \"macaubal\", \"macaubas\", \"macedonia\", \"maceio\", \"machacalis\", \"machadinho\", \"machadinho d'oeste\", \"machado\", \"machados\", \"macieira\", \"macuco\", \"madalena\", \"madre de deus\", \"madre de deus de minas\", \"mae d'agua\", \"mae do rio\", \"mafra\", \"magalhaes de almeida\", \"magda\", \"mage\", \"maioba\", \"maiquinique\", \"mairi\", \"mairinque\", \"mairipora\", \"mairipotaba\", \"major vieira\", \"malacacheta\", \"malhador\", \"mallet\", \"mamanguape\", \"mambai\", \"mambore\", \"mamonas\", \"mampituba\", \"manaus\", \"mandaguacu\", \"mandaguari\", \"mandirituba\", \"manduri\", \"manga\", \"mangaratiba\", \"mangueirinha\", \"manhuacu\", \"manhumirim\", \"manoel ribas\", \"manoel viana\", \"mansidao\", \"mantena\", \"mantenopolis\", \"maquine\", \"mar de espanha\", \"mar vermelho\", \"mara rosa\", \"maraba\", \"maracacume\", \"maracai\", \"maracaju\", \"maracana\", \"maracanau\", \"maracas\", \"maragogi\", \"maragogipe\", \"maranguape\", \"maranhaozinho\", \"marataizes\", \"marau\", \"maravilha\", \"maravilhas\", \"marcelino vieira\", \"marco\", \"marcos parente\", \"marechal candido rondon\", \"marechal deodoro\", \"marechal floriano\", \"mari\", \"maria da fe\", \"marialva\", \"mariana\", \"mariapolis\", \"maribondo\", \"marica\", \"mariental\", \"marilac\", \"marilandia\", \"marilandia do sul\", \"marilia\", \"mariluz\", \"maringa\", \"marinopolis\", \"mario campos\", \"maripa\", \"maristela\", \"marituba\", \"marmeleiro\", \"marques de souza\", \"martinesia\", \"martinho campos\", \"martinopolis\", \"martins\", \"martins soares\", \"mascote\", \"massape\", \"massaranduba\", \"mata de sao joao\", \"mata grande\", \"mata roma\", \"mata verde\", \"matao\", \"matelandia\", \"materlandia\", \"mateus leme\", \"matias barbosa\", \"matias olimpio\", \"matinhos\", \"matipo\", \"mato leitao\", \"mato rico\", \"mato verde\", \"matoes do norte\", \"matozinhos\", \"matrincha\", \"matriz de camaragibe\", \"matupa\", \"matutina\", \"maua\", \"maua da serra\", \"maurilandia\", \"mauriti\", \"maximiliano de almeida\", \"medeiros\", \"medeiros neto\", \"medianeira\", \"medina\", \"meleiro\", \"mendes\", \"mendes pimentel\", \"mendonca\", \"merces\", \"meruoca\", \"mesquita\", \"miguel calmon\", \"miguel pereira\", \"miguelopolis\", \"milagres\", \"milha\", \"mimoso de goias\", \"mimoso do sul\", \"minacu\", \"minas novas\", \"minduri\", \"mineiros\", \"mineiros do tiete\", \"ministro andreazza\", \"mira estrela\", \"miracatu\", \"miracema\", \"miradouro\", \"mirai\", \"miraima\", \"miranda\", \"miranda do norte\", \"mirandiba\", \"mirandopolis\", \"miranorte\", \"mirante da serra\", \"mirante do paranapanema\", \"mirassol\", \"mirassol d'oeste\", \"mirinzal\", \"missal\", \"missao velha\", \"missi\", \"mocajuba\", \"mococa\", \"moema\", \"mogi das cruzes\", \"mogi mirim\", \"mogi-guacu\", \"mogi-mirim\", \"moju\", \"mojui dos campos\", \"mombaca\", \"mombuca\", \"moncoes\", \"mondai\", \"mongagua\", \"monnerat\", \"monsenhor tabosa\", \"montadas\", \"montalvania\", \"montanha\", \"montanhas\", \"montauri\", \"monte alegre\", \"monte alegre de minas\", \"monte alegre de sergipe\", \"monte alegre do sul\", \"monte alto\", \"monte alverne\", \"monte aprazivel\", \"monte azul\", \"monte azul paulista\", \"monte belo\", \"monte bonito\", \"monte carlo\", \"monte carmelo\", \"monte castelo\", \"monte formoso\", \"monte gordo\", \"monte mor\", \"monte santo de minas\", \"monte siao\", \"monte verde\", \"monteiropolis\", \"montenegro\", \"montes claros\", \"montezuma\", \"morada nova\", \"morada nova de minas\", \"moreilandia\", \"moreira sales\", \"moreno\", \"morpara\", \"morretes\", \"morrinhos\", \"morro agudo\", \"morro agudo de goias\", \"morro da fumaca\", \"morro da garca\", \"morro do chapeu\", \"morro do pilar\", \"morro reuter\", \"morungaba\", \"mossamedes\", \"mossoro\", \"mostardas\", \"motuca\", \"mozarlandia\", \"mucuge\", \"mucuri\", \"mucurici\", \"muliterno\", \"mundo novo\", \"munhoz\", \"munhoz de melo\", \"muniz freire\", \"muquem do sao francisco\", \"muqui\", \"muriae\", \"murici\", \"muritiba\", \"murucupi\", \"murutinga do sul\", \"mussurepe\", \"mutuipe\", \"mutum\", \"mutum parana\", \"muzambinho\", \"nacip raydan\", \"nantes\", \"nanuque\", \"nao-me-toque\", \"narandiba\", \"natal\", \"natercia\", \"natividade\", \"navegantes\", \"navirai\", \"nazare\", \"nazare da mata\", \"nazare paulista\", \"nazareno\", \"nazario\", \"neopolis\", \"nepomuceno\", \"neropolis\", \"neves paulista\", \"nhandeara\", \"nilopolis\", \"nipoa\", \"niquelandia\", \"niteroi\", \"nortelandia\", \"nossa senhora da gloria\", \"nossa senhora das dores\", \"nossa senhora das gracas\", \"nossa senhora de caravaggio\", \"nossa senhora do o\", \"nossa senhora do remedio\", \"nossa senhora do socorro\", \"nova alvorada\", \"nova alvorada do sul\", \"nova america\", \"nova america da colina\", \"nova andradina\", \"nova aurora\", \"nova bandeirantes\", \"nova bassano\", \"nova boa vista\", \"nova brasilandia d'oeste\", \"nova campina\", \"nova canaa\", \"nova canaa do norte\", \"nova canaa paulista\", \"nova cantu\", \"nova crixas\", \"nova cruz\", \"nova era\", \"nova erechim\", \"nova esperanca\", \"nova esperanca do piria\", \"nova esperanca do sul\", \"nova europa\", \"nova fatima\", \"nova floresta\", \"nova friburgo\", \"nova granada\", \"nova guarita\", \"nova guataporanga\", \"nova hartz\", \"nova iguacu\", \"nova independencia\", \"nova ipixuna\", \"nova itaberaba\", \"nova lacerda\", \"nova laranjeiras\", \"nova lima\", \"nova londrina\", \"nova luzitania\", \"nova mamore\", \"nova monte verde\", \"nova mutum\", \"nova odessa\", \"nova olimpia\", \"nova olinda\", \"nova olinda do maranhao\", \"nova palma\", \"nova petropolis\", \"nova ponte\", \"nova prata\", \"nova prata do iguacu\", \"nova roma\", \"nova roma do sul\", \"nova russas\", \"nova santa barbara\", \"nova santa rita\", \"nova santa rosa\", \"nova serrana\", \"nova soure\", \"nova timboteua\", \"nova trento\", \"nova ubirata\", \"nova venecia\", \"nova veneza\", \"nova vicosa\", \"nova xavantina\", \"novo alegre\", \"novo barreiro\", \"novo brasil\", \"novo cabrais\", \"novo cruzeiro\", \"novo gama\", \"novo hamburgo\", \"novo horizonte\", \"novo itacolomi\", \"novo jardim\", \"novo oriente\", \"novo oriente de minas\", \"novo oriente do piaui\", \"novo planalto\", \"novo progresso\", \"novo repartimento\", \"novo sao joaquim\", \"nucleo residencial pilar\", \"nuporanga\", \"ocara\", \"ocaucu\", \"oeiras\", \"oeiras do para\", \"oiapoque\", \"olaria\", \"oleo\", \"olho d'agua das cunhas\", \"olhos d'agua\", \"olimpia\", \"olinda\", \"olindina\", \"oliveira\", \"oliveira dos brejinhos\", \"onda verde\", \"oriente\", \"orindiuva\", \"orizania\", \"orizona\", \"orlandia\", \"orleans\", \"orobo\", \"oroco\", \"oros\", \"ortigueira\", \"osasco\", \"oscar bressane\", \"osorio\", \"osvaldo cruz\", \"osvaldo kroeff\", \"otacilio costa\", \"ouricuri\", \"ourilandia do norte\", \"ourinhos\", \"ourizona\", \"ouro\", \"ouro branco\", \"ouro fino\", \"ouro preto\", \"ouro preto do oeste\", \"ouro verde\", \"ouro verde de goias\", \"ouro verde de minas\", \"ouroeste\", \"pacaembu\", \"pacaja\", \"pacajus\", \"pacatuba\", \"paco do lumiar\", \"pacoti\", \"pacotuba\", \"pacuja\", \"padre bernardo\", \"padre carvalho\", \"padre paraiso\", \"paial\", \"paicandu\", \"pains\", \"paiva\", \"palestina\", \"palhano\", \"palhoca\", \"palma\", \"palma sola\", \"palmares\", \"palmares do sul\", \"palmares paulista\", \"palmas\", \"palmeira\", \"palmeira d oeste\", \"palmeira d'oeste\", \"palmeira das missoes\", \"palmeira dos indios\", \"palmeiras\", \"palmeiras de goias\", \"palmeirinha\", \"palminopolis\", \"palmital\", \"palmitinho\", \"palmitos\", \"palmopolis\", \"palotina\", \"panambi\", \"pancas\", \"panelas\", \"panorama\", \"pantano grande\", \"papagaios\", \"papanduva\", \"papucaia\", \"para de minas\", \"paracambi\", \"paracatu\", \"paracuru\", \"paragominas\", \"paraguacu\", \"paraguacu paulista\", \"parai\", \"paraiba do sul\", \"paraibano\", \"paraibuna\", \"paraipaba\", \"paraiso\", \"paraiso das aguas\", \"paraiso do norte\", \"paraiso do tocantins\", \"paraisopolis\", \"paraju\", \"parambu\", \"paramirim\", \"parana\", \"paranacity\", \"paranagua\", \"paranaiba\", \"paranaiguara\", \"paranaita\", \"paranapanema\", \"paranapua\", \"paranatinga\", \"paranavai\", \"paranhos\", \"paraopeba\", \"parapua\", \"parati\", \"paraty\", \"parauapebas\", \"parauna\", \"pardinho\", \"pareci novo\", \"parelhas\", \"paripiranga\", \"paripueira\", \"pariquera-acu\", \"parnaiba\", \"parnamirim\", \"parnarama\", \"parobe\", \"passa quatro\", \"passa tempo\", \"passagem\", \"passira\", \"passo de camaragibe\", \"passo de torres\", \"passo fundo\", \"passos\", \"passos maia\", \"pastos bons\", \"pato bragado\", \"pato branco\", \"patos\", \"patos de minas\", \"patrocinio\", \"patrocinio do muriae\", \"patrocinio paulista\", \"patu\", \"paty do alferes\", \"pau dos ferros\", \"paudalho\", \"paula freitas\", \"pauliceia\", \"paulinia\", \"paulino neves\", \"paulista\", \"paulistana\", \"paulistania\", \"paulo afonso\", \"paulo de faria\", \"paulo frontin\", \"paulo jacinto\", \"paulo lopes\", \"pavao\", \"peabiru\", \"pecanha\", \"pederneiras\", \"pedra\", \"pedra azul\", \"pedra bela\", \"pedra lavrada\", \"pedra preta\", \"pedralva\", \"pedrao\", \"pedras altas\", \"pedras de fogo\", \"pedregulho\", \"pedreira\", \"pedreiras\", \"pedrinhas paulista\", \"pedrinopolis\", \"pedro afonso\", \"pedro canario\", \"pedro de toledo\", \"pedro gomes\", \"pedro ii\", \"pedro leopoldo\", \"pedro osorio\", \"pedro velho\", \"peixe\", \"peixoto de azevedo\", \"pejucara\", \"pelotas\", \"penaforte\", \"penapolis\", \"pendencias\", \"penedo\", \"penha\", \"pentecoste\", \"pequizeiro\", \"perdigao\", \"perdizes\", \"perdoes\", \"pereira barreto\", \"pereiro\", \"periquito\", \"peritiba\", \"perobal\", \"perola\", \"perola d'oeste\", \"perpetuo socorro\", \"peruibe\", \"pesqueira\", \"petrolandia\", \"petrolina\", \"petropolis\", \"piacabucu\", \"piacatu\", \"piacu\", \"pianco\", \"piao\", \"piau\", \"picada cafe\", \"picarras\", \"picos\", \"picui\", \"piedade\", \"piedade de caratinga\", \"piedade do rio grande\", \"piedade dos gerais\", \"pien\", \"pilao arcado\", \"pilar\", \"pilar do sul\", \"pimenta\", \"pimenta bueno\", \"pimenteiras\", \"pindai\", \"pindamonhangaba\", \"pindare mirim\", \"pindoba\", \"pindobacu\", \"pindorama do tocantins\", \"pingo-d'agua\", \"pinhais\", \"pinhal da serra\", \"pinhalao\", \"pinhalzinho\", \"pinhao\", \"pinheiral\", \"pinheiro\", \"pinheiro machado\", \"pinheiros\", \"pintadas\", \"pinto bandeira\", \"pio ix\", \"pio xii\", \"piquerobi\", \"piquete\", \"piracaia\", \"piracanjuba\", \"piracema\", \"piracicaba\", \"piracuruca\", \"pirai\", \"pirai do norte\", \"pirai do sul\", \"piraju\", \"pirajuba\", \"pirajui\", \"pirambu\", \"piranga\", \"pirangi\", \"piranguinho\", \"piranhas\", \"pirapemas\", \"pirapetinga\", \"pirapo\", \"pirapora\", \"pirapora do bom jesus\", \"pirapozinho\", \"piraquara\", \"pirassununga\", \"piratininga\", \"piratuba\", \"pirauba\", \"pirenopolis\", \"pires do rio\", \"pires ferreira\", \"piripa\", \"piripiri\", \"piritiba\", \"pirpirituba\", \"pitanga\", \"pitanga de estrada\", \"pitangueiras\", \"pitangui\", \"pitimbu\", \"pium\", \"piuma\", \"piumhi\", \"piumhii\", \"placas\", \"planaltina\", \"planaltina de goias\", \"planaltino\", \"planalto\", \"planura\", \"poa\", \"pocao de pedras\", \"pocinhos\", \"poco de pedra\", \"poco fundo\", \"poco redondo\", \"poco verde\", \"pocoes\", \"pocoes de paineiras\", \"pocos de caldas\", \"pocrane\", \"pojuca\", \"poloni\", \"pombal\", \"pomerode\", \"pompeia\", \"pompeu\", \"pongai\", \"ponta grossa\", \"ponta pora\", \"pontal\", \"pontal do parana\", \"pontalina\", \"pontalinda\", \"pontao\", \"ponte alta do norte\", \"ponte nova\", \"ponte serrada\", \"pontes e lacerda\", \"pontes gestal\", \"ponto belo\", \"ponto dos volantes\", \"ponto novo\", \"populina\", \"porangaba\", \"porangatu\", \"porciuncula\", \"porecatu\", \"portalegre\", \"portao\", \"porteiras\", \"porteirinha\", \"porto acre\", \"porto alegre\", \"porto amazonas\", \"porto belo\", \"porto calvo\", \"porto de pedras\", \"porto dos gauchos\", \"porto esperidiao\", \"porto estrela\", \"porto feliz\", \"porto ferreira\", \"porto firme\", \"porto lucena\", \"porto nacional\", \"porto real\", \"porto rico\", \"porto seguro\", \"porto trombetas\", \"porto uniao\", \"porto velho\", \"porto xavier\", \"posse\", \"posto da mata\", \"pote\", \"potengi\", \"potim\", \"potiragua\", \"potirendaba\", \"pouso alegre\", \"pouso alto\", \"pouso redondo\", \"prado\", \"pradopolis\", \"prados\", \"praia grande\", \"praia norte\", \"prata\", \"presidente alves\", \"presidente bernardes\", \"presidente dutra\", \"presidente epitacio\", \"presidente getulio\", \"presidente juscelino\", \"presidente kennedy\", \"presidente kubitschek\", \"presidente medici\", \"presidente olegario\", \"presidente prudente\", \"presidente tancredo neves\", \"presidente venceslau\", \"primavera\", \"primavera do leste\", \"primeiro de maio\", \"princesa isabel\", \"promissao\", \"propria\", \"protasio alves\", \"prudente de morais\", \"prudentopolis\", \"purilandia\", \"putinga\", \"puxinana\", \"quadra\", \"quarai\", \"quata\", \"quatigua\", \"quatis\", \"quatituba\", \"quatro barras\", \"quatro bocas\", \"quatro pontes\", \"quedas do iguacu\", \"queimadas\", \"queimados\", \"queiroz\", \"queluz\", \"querencia\", \"querencia do norte\", \"quijingue\", \"quilombo\", \"quilometro 14 do mutum\", \"quinta do sol\", \"quintana\", \"quipapa\", \"quirinopolis\", \"quissama\", \"quitandinha\", \"quixabeira\", \"quixada\", \"quixeramobim\", \"quixere\", \"rafard\", \"rancharia\", \"rancho alegre\", \"rancho alegre d'oeste\", \"rancho queimado\", \"raposo\", \"raposos\", \"raul soares\", \"ravena\", \"realeza\", \"reboucas\", \"rechan\", \"recife\", \"recreio\", \"redencao\", \"redencao da serra\", \"redencao do gurgueia\", \"redentora\", \"regeneracao\", \"regente feijo\", \"reginopolis\", \"registro\", \"remanso\", \"remigio\", \"renascenca\", \"reriutaba\", \"resende\", \"resende costa\", \"reserva\", \"reserva do cabacal\", \"resplendor\", \"ressaquinha\", \"restinga seca\", \"retirolandia\", \"riachao das neves\", \"riachao do jacuipe\", \"riachinho\", \"riacho da cruz\", \"riacho das almas\", \"riacho de santana\", \"riacho de santo antonio\", \"riacho dos machados\", \"riachuelo\", \"rianapolis\", \"ribas do rio pardo\", \"ribeira\", \"ribeira do amparo\", \"ribeira do pombal\", \"ribeirao\", \"ribeirao bonito\", \"ribeirao branco\", \"ribeirao claro\", \"ribeirao das neves\", \"ribeirao do pinhal\", \"ribeirao do sul\", \"ribeirao pires\", \"ribeirao preto\", \"ribeirao vermelho\", \"ribeiraozinho\", \"rifaina\", \"rincao\", \"rinopolis\", \"rio acima\", \"rio azul\", \"rio bananal\", \"rio bonito\", \"rio bonito do iguacu\", \"rio branco\", \"rio branco do sul\", \"rio brilhante\", \"rio casca\", \"rio claro\", \"rio das antas\", \"rio das flores\", \"rio das ostras\", \"rio das pedras\", \"rio de contas\", \"rio de janeiro\", \"rio do antonio\", \"rio do campo\", \"rio do oeste\", \"rio do pires\", \"rio do sul\", \"rio doce\", \"rio dos cedros\", \"rio dos indios\", \"rio formoso\", \"rio grande\", \"rio grande da serra\", \"rio largo\", \"rio manso\", \"rio maria\", \"rio negrinho\", \"rio negro\", \"rio novo\", \"rio novo do sul\", \"rio paranaiba\", \"rio pardo\", \"rio pardo de minas\", \"rio piracicaba\", \"rio pomba\", \"rio preto\", \"rio real\", \"rio rufino\", \"rio tinto\", \"rio verde\", \"riolandia\", \"riqueza\", \"ritapolis\", \"riversul\", \"roca sales\", \"rodeio\", \"rodeio bonito\", \"rodeiro\", \"rodelas\", \"rolandia\", \"rolante\", \"rolim de moura\", \"romaria\", \"romelandia\", \"roncador\", \"ronda alta\", \"rondon\", \"rondon do para\", \"rondonopolis\", \"roque gonzales\", \"rosana\", \"rosario do sul\", \"roseira\", \"rubiacea\", \"rubiataba\", \"rubim\", \"rubineia\", \"russas\", \"ruy barbosa\", \"sabara\", \"sabino\", \"sabinopolis\", \"saboeiro\", \"sacra familia do tingua\", \"sacramento\", \"sales\", \"sales oliveira\", \"salesopolis\", \"salgado filho\", \"salgueiro\", \"salinas\", \"salmourao\", \"saloa\", \"saltinho\", \"salto\", \"salto de pirapora\", \"salto do ceu\", \"salto do itarare\", \"salto do jacui\", \"salto grande\", \"salto veloso\", \"salvador\", \"salvador do sul\", \"sananduva\", \"sanclerlandia\", \"sandolandia\", \"sangao\", \"sanharo\", \"santa adelia\", \"santa albertina\", \"santa barbara\", \"santa barbara d oeste\", \"santa barbara d'oeste\", \"santa barbara do para\", \"santa barbara do sul\", \"santa branca\", \"santa cecilia\", \"santa cecilia do pavao\", \"santa clara d'oeste\", \"santa clara do sul\", \"santa cruz\", \"santa cruz cabralia\", \"santa cruz da conceicao\", \"santa cruz das palmeiras\", \"santa cruz de goias\", \"santa cruz de minas\", \"santa cruz de monte castelo\", \"santa cruz de salinas\", \"santa cruz do capibaribe\", \"santa cruz do prata\", \"santa cruz do rio pardo\", \"santa cruz do sul\", \"santa ernestina\", \"santa fe\", \"santa fe de goias\", \"santa fe de minas\", \"santa fe do sul\", \"santa gertrudes\", \"santa helena\", \"santa helena de goias\", \"santa helena de minas\", \"santa ines\", \"santa isabel\", \"santa isabel do ivai\", \"santa isabel do para\", \"santa isabel do rio preto\", \"santa izabel do oeste\", \"santa juliana\", \"santa leopoldina\", \"santa lucia\", \"santa luzia\", \"santa luzia do norte\", \"santa margarida\", \"santa maria\", \"santa maria da boa vista\", \"santa maria da serra\", \"santa maria da vitoria\", \"santa maria de itabira\", \"santa maria de jetiba\", \"santa maria do herval\", \"santa maria do para\", \"santa maria do salto\", \"santa maria do suacui\", \"santa maria madalena\", \"santa mariana\", \"santa monica\", \"santa quiteria\", \"santa quiteria do maranhao\", \"santa rita\", \"santa rita d'oeste\", \"santa rita da floresta\", \"santa rita de caldas\", \"santa rita de jacutinga\", \"santa rita de minas\", \"santa rita do araguaia\", \"santa rita do itueto\", \"santa rita do passa quatro\", \"santa rita do sapucai\", \"santa rosa\", \"santa rosa de lima\", \"santa rosa de viterbo\", \"santa rosa do sul\", \"santa salete\", \"santa teresa\", \"santa teresinha\", \"santa tereza do oeste\", \"santa terezinha\", \"santa terezinha de itaipu\", \"santa vitoria\", \"santa vitoria do palmar\", \"santaluz\", \"santana\", \"santana da boa vista\", \"santana da vargem\", \"santana de parnaiba\", \"santana do acarau\", \"santana do araguaia\", \"santana do cariri\", \"santana do deserto\", \"santana do itarare\", \"santana do jacare\", \"santana do livramento\", \"santana do manhuacu\", \"santana do mundau\", \"santana do paraiso\", \"santana do serido\", \"santana do sobrado\", \"santanesia\", \"santarem\", \"santiago\", \"santo amaro\", \"santo amaro da imperatriz\", \"santo amaro de campos\", \"santo anastacio\", \"santo andre\", \"santo angelo\", \"santo antonio\", \"santo antonio da alegria\", \"santo antonio da patrulha\", \"santo antonio da platina\", \"santo antonio das missoes\", \"santo antonio das queimadas\", \"santo antonio de goias\", \"santo antonio de jesus\", \"santo antonio de padua\", \"santo antonio de posse\", \"santo antonio do amparo\", \"santo antonio do aracangua\", \"santo antonio do aventureiro\", \"santo antonio do caiua\", \"santo antonio do canaa\", \"santo antonio do descoberto\", \"santo antonio do grama\", \"santo antonio do itambe\", \"santo antonio do jacinto\", \"santo antonio do jardim\", \"santo antonio do monte\", \"santo antonio do palma\", \"santo antonio do pinhal\", \"santo antonio do planalto\", \"santo antonio do rio abaixo\", \"santo antonio do sudoeste\", \"santo antonio do taua\", \"santo antonio dos campos\", \"santo augusto\", \"santo cristo\", \"santo eduardo\", \"santo estevao\", \"santo expedito\", \"santo hipolito\", \"santo inacio\", \"santos\", \"santos dumont\", \"sao benedito\", \"sao benedito do rio preto\", \"sao benedito do sul\", \"sao bentinho\", \"sao bento\", \"sao bento abade\", \"sao bento do sapucai\", \"sao bento do sul\", \"sao bento do una\", \"sao bernardino\", \"sao bernardo\", \"sao bernardo do campo\", \"sao bonifacio\", \"sao borja\", \"sao bras\", \"sao bras do suacui\", \"sao caetano do sul\", \"sao carlos\", \"sao carlos do ivai\", \"sao clemente\", \"sao cristovao\", \"sao cristovao do sul\", \"sao desiderio\", \"sao domingos\", \"sao domingos das dores\", \"sao domingos do araguaia\", \"sao domingos do maranhao\", \"sao domingos do norte\", \"sao domingos do prata\", \"sao felipe\", \"sao felix de minas\", \"sao felix do araguaia\", \"sao felix do coribe\", \"sao felix do xingu\", \"sao fernando\", \"sao fidelis\", \"sao francisco\", \"sao francisco de assis\", \"sao francisco de itabapoana\", \"sao francisco de paula\", \"sao francisco do conde\", \"sao francisco do gloria\", \"sao francisco do guapore\", \"sao francisco do humaita\", \"sao francisco do sul\", \"sao gabriel\", \"sao gabriel da palha\", \"sao gabriel do oeste\", \"sao geraldo\", \"sao geraldo do baguari\", \"sao goncalo\", \"sao goncalo do abaete\", \"sao goncalo do amarante\", \"sao goncalo do para\", \"sao goncalo do rio abaixo\", \"sao goncalo do rio das pedras\", \"sao goncalo do rio preto\", \"sao goncalo do sapucai\", \"sao gotardo\", \"sao jeronimo\", \"sao joao\", \"sao joao batista\", \"sao joao batista do gloria\", \"sao joao d'alianca\", \"sao joao da barra\", \"sao joao da boa vista\", \"sao joao da parauna\", \"sao joao da ponte\", \"sao joao da urtiga\", \"sao joao de iracema\", \"sao joao de meriti\", \"sao joao de petropolis\", \"sao joao de pirabas\", \"sao joao del rei\", \"sao joao do itaperiu\", \"sao joao do ivai\", \"sao joao do manhuacu\", \"sao joao do manteninha\", \"sao joao do oriente\", \"sao joao do paraiso\", \"sao joao do piaui\", \"sao joao do sabugi\", \"sao joao do sobrado\", \"sao joao do sul\", \"sao joao do triunfo\", \"sao joao dos patos\", \"sao joao evangelista\", \"sao joao nepomuceno\", \"sao joaquim\", \"sao joaquim da barra\", \"sao joaquim de bicas\", \"sao joaquim do monte\", \"sao jorge d'oeste\", \"sao jorge do ivai\", \"sao jorge do patrocinio\", \"sao jose\", \"sao jose da barra\", \"sao jose da bela vista\", \"sao jose da coroa grande\", \"sao jose da laje\", \"sao jose da lapa\", \"sao jose da vitoria\", \"sao jose de mipibu\", \"sao jose de ribamar\", \"sao jose de uba\", \"sao jose do barreiro\", \"sao jose do calcado\", \"sao jose do cedro\", \"sao jose do cerrito\", \"sao jose do divino\", \"sao jose do egito\", \"sao jose do goiabal\", \"sao jose do hortencio\", \"sao jose do inhacora\", \"sao jose do norte\", \"sao jose do ouro\", \"sao jose do piaui\", \"sao jose do ribeirao\", \"sao jose do rio claro\", \"sao jose do rio pardo\", \"sao jose do rio preto\", \"sao jose do serido\", \"sao jose do turvo\", \"sao jose do vale do rio preto\", \"sao jose do xingu\", \"sao jose dos campos\", \"sao jose dos cordeiros\", \"sao jose dos pinhais\", \"sao jose dos quatro marcos\", \"sao leopoldo\", \"sao lourenco\", \"sao lourenco da mata\", \"sao lourenco da serra\", \"sao lourenco do oeste\", \"sao lourenco do sul\", \"sao ludgero\", \"sao luis\", \"sao luis de montes belos\", \"sao luis do curu\", \"sao luis do paraitinga\", \"sao luis do quitunde\", \"sao luiz gonzaga\", \"sao mamede\", \"sao manuel\", \"sao marcos\", \"sao martinho\", \"sao mateus\", \"sao mateus de minas\", \"sao mateus do maranhao\", \"sao mateus do sul\", \"sao miguel\", \"sao miguel arcanjo\", \"sao miguel das matas\", \"sao miguel do aleixo\", \"sao miguel do anta\", \"sao miguel do araguaia\", \"sao miguel do cambui\", \"sao miguel do gostoso\", \"sao miguel do guama\", \"sao miguel do guapore\", \"sao miguel do iguacu\", \"sao miguel do oeste\", \"sao miguel do tapuio\", \"sao miguel dos campos\", \"sao nicolau\", \"sao patricio\", \"sao paulo\", \"sao paulo das missoes\", \"sao paulo do potengi\", \"sao pedro\", \"sao pedro da aldeia\", \"sao pedro da uniao\", \"sao pedro de alcantara\", \"sao pedro do iguacu\", \"sao pedro do ivai\", \"sao pedro do sul\", \"sao pedro do turvo\", \"sao pedro dos ferros\", \"sao rafael\", \"sao raimundo nonato\", \"sao romao\", \"sao roque\", \"sao roque de minas\", \"sao roque do canaa\", \"sao sebastiao\", \"sao sebastiao da amoreira\", \"sao sebastiao da boa vista\", \"sao sebastiao da grama\", \"sao sebastiao de campos\", \"sao sebastiao do alto\", \"sao sebastiao do cai\", \"sao sebastiao do maranhao\", \"sao sebastiao do paraiba\", \"sao sebastiao do paraiso\", \"sao sebastiao do passe\", \"sao sepe\", \"sao simao\", \"sao thome das letras\", \"sao tiago\", \"sao tomas de aquino\", \"sao tome\", \"sao valentim\", \"sao vendelino\", \"sao vicente\", \"sao vicente ferrer\", \"sao vitor\", \"sape\", \"sapeacu\", \"sapezal\", \"sapiranga\", \"sapopema\", \"sapucai-mirim\", \"sapucaia\", \"sapucaia do sul\", \"saquarema\", \"sarandi\", \"sarapui\", \"sardoa\", \"sarzedo\", \"satiro dias\", \"satuba\", \"saubara\", \"saudade do iguacu\", \"saude\", \"schroeder\", \"seabra\", \"seara\", \"seberi\", \"sede alvorada\", \"selbach\", \"senador amaral\", \"senador canedo\", \"senador firmino\", \"senador guiomard\", \"senador jose porfirio\", \"senador la rocque\", \"senador modestino goncalves\", \"senador pompeu\", \"senador salgado filho\", \"senges\", \"senhor do bonfim\", \"senhora de oliveira\", \"sento se\", \"serafina correa\", \"sericita\", \"seringueiras\", \"serio\", \"seropedica\", \"serra\", \"serra azul\", \"serra azul de minas\", \"serra branca\", \"serra de sao bento\", \"serra do ramalho\", \"serra dos aimores\", \"serra dos dourados\", \"serra dourada\", \"serra negra\", \"serra talhada\", \"serrana\", \"serrania\", \"serranopolis\", \"serranopolis de minas\", \"serranopolis do iguacu\", \"serrinha\", \"serrita\", \"serro\", \"serrolandia\", \"sertania\", \"sertanopolis\", \"sertao\", \"sertao santana\", \"sertaozinho\", \"sete barras\", \"sete de setembro\", \"sete lagoas\", \"setubinha\", \"severiano melo\", \"severinia\", \"sideropolis\", \"sidrolandia\", \"silva jardim\", \"silvania\", \"silvano\", \"silveira carvalho\", \"silveira martins\", \"silveiras\", \"silvianopolis\", \"simao dias\", \"simao pereira\", \"simoes filho\", \"simolandia\", \"simonesia\", \"sinimbu\", \"sinop\", \"siqueira campos\", \"siriji\", \"sirinhaem\", \"sitio do quinto\", \"sitio novo\", \"sitio novo do tocantins\", \"sobradinho\", \"sobral\", \"socorro\", \"solanea\", \"soledade\", \"soledade de minas\", \"solonopole\", \"sombrio\", \"sonora\", \"sooretama\", \"sorocaba\", \"sorriso\", \"sousa\", \"sucesso\", \"sucupira do norte\", \"sud mennucci\", \"sulina\", \"sumare\", \"sume\", \"sumidouro\", \"surubim\", \"suzano\", \"tabapora\", \"tabapua\", \"tabatinga\", \"tabira\", \"taboao da serra\", \"tabocas do brejo velho\", \"tabuleiro\", \"tabuleiro do norte\", \"tacaratu\", \"taciba\", \"taguai\", \"taguatinga\", \"taiacu\", \"tailandia\", \"taio\", \"taiobeiras\", \"taiuva\", \"tambau\", \"tamboara\", \"tanabi\", \"tangara\", \"tangara da serra\", \"tangua\", \"tanhacu\", \"tanque d'arca\", \"tanque novo\", \"taparuba\", \"tapejara\", \"tapera\", \"taperuaba\", \"tapes\", \"tapinas\", \"tapirai\", \"tapiramuta\", \"tapiratiba\", \"taquara\", \"taquaracu de minas\", \"taquarana\", \"taquari\", \"taquaritinga\", \"taquaritinga do norte\", \"taquarituba\", \"taquarivai\", \"tarabai\", \"taruma\", \"tarumirim\", \"tatui\", \"taua\", \"taubate\", \"tecainda\", \"teixeira\", \"teixeira de freitas\", \"teixeira soares\", \"teixeiras\", \"tejupa\", \"telemaco borba\", \"telha\", \"tenente ananias\", \"tenente portela\", \"teodoro sampaio\", \"teofilandia\", \"teofilo otoni\", \"teolandia\", \"teotonio vilela\", \"teresina\", \"teresina de goias\", \"teresopolis\", \"terezinha\", \"termas de ibira\", \"terra boa\", \"terra de areia\", \"terra nova\", \"terra nova do norte\", \"terra rica\", \"terra roxa\", \"teutonia\", \"tiangua\", \"tibagi\", \"tiete\", \"tijucas\", \"timbauba\", \"timbe do sul\", \"timbo\", \"timburi\", \"timon\", \"timoteo\", \"tiradentes\", \"tiros\", \"tobias barreto\", \"tocantinopolis\", \"tocantins\", \"tocos\", \"toledo\", \"tomar do geru\", \"tomazina\", \"tombos\", \"toritama\", \"toropi\", \"torres\", \"torrinha\", \"tracunhaem\", \"traipu\", \"trairi\", \"trajano de moraes\", \"tramandai\", \"trancoso\", \"travessao\", \"tremembe\", \"tres arroios\", \"tres barras\", \"tres cachoeiras\", \"tres coracoes\", \"tres coroas\", \"tres de maio\", \"tres forquilhas\", \"tres fronteiras\", \"tres irmaos\", \"tres lagoas\", \"tres marias\", \"tres passos\", \"tres pontas\", \"tres rios\", \"treze tilias\", \"trindade\", \"trindade do sul\", \"triunfo\", \"trombas\", \"trombudo central\", \"tubarao\", \"tucano\", \"tucuma\", \"tucunduva\", \"tucurui\", \"tuiuti\", \"tumiritinga\", \"tunapolis\", \"tunas do parana\", \"tupa\", \"tupaciguara\", \"tupancireta\", \"tupandi\", \"tuparece\", \"tuparendi\", \"tuparetama\", \"tupassi\", \"tupi paulista\", \"turmalina\", \"tururu\", \"turvania\", \"turvelandia\", \"turvo\", \"turvolandia\", \"uaua\", \"uba\", \"ubaira\", \"ubaitaba\", \"ubajara\", \"ubaporanga\", \"ubata\", \"ubatuba\", \"uberaba\", \"uberlandia\", \"ubirajara\", \"ubirata\", \"uchoa\", \"uibai\", \"uirauna\", \"ulianopolis\", \"umbauba\", \"umburatiba\", \"umuarama\", \"una\", \"unai\", \"uniao\", \"uniao da vitoria\", \"uniao de minas\", \"uniao dos palmares\", \"unistalda\", \"upanema\", \"urai\", \"urandi\", \"urania\", \"urbano santos\", \"uruacu\", \"uruana\", \"uruana de minas\", \"uruara\", \"urubici\", \"urucania\", \"urucuca\", \"urucui\", \"urucuia\", \"urucurituba\", \"uruguaiana\", \"uruoca\", \"urupa\", \"urupes\", \"urussanga\", \"urutai\", \"utinga\", \"vacaria\", \"valao do barro\", \"vale do sol\", \"vale real\", \"valenca\", \"valenca do piaui\", \"valente\", \"valentim gentil\", \"valinhos\", \"valparaiso\", \"valparaiso de goias\", \"vanini\", \"vargeao\", \"vargem\", \"vargem alegre\", \"vargem alta\", \"vargem bonita\", \"vargem grande\", \"vargem grande do soturno\", \"vargem grande do sul\", \"vargem grande paulista\", \"varginha\", \"varjao de minas\", \"varjota\", \"varre-sai\", \"varzea\", \"varzea alegre\", \"varzea da palma\", \"varzea grande\", \"varzea nova\", \"varzea paulista\", \"varzedo\", \"varzelandia\", \"vassouras\", \"vazante\", \"venancio aires\", \"venda branca\", \"venda nova do imigrante\", \"ventania\", \"venturosa\", \"vera\", \"vera cruz\", \"vera cruz do oeste\", \"veranopolis\", \"vere\", \"vereda\", \"verissimo\", \"vermelho\", \"vertentes\", \"vespasiano\", \"viamao\", \"viana\", \"vianopolis\", \"vicencia\", \"vicentinopolis\", \"vicosa\", \"victor graeff\", \"videira\", \"vigia\", \"vila bela da santissima trindade\", \"vila dos cabanos\", \"vila flor\", \"vila langaro\", \"vila muriqui\", \"vila nelita\", \"vila nova\", \"vila nova do sul\", \"vila pereira\", \"vila reis\", \"vila rica\", \"vila valerio\", \"vila velha\", \"vilhena\", \"vinhedo\", \"viradouro\", \"virgem da lapa\", \"virginia\", \"virginopolis\", \"virgolandia\", \"visconde de maua\", \"visconde do rio branco\", \"viseu\", \"vista alegre do alto\", \"vitoria\", \"vitoria da conquista\", \"vitoria das missoes\", \"vitoria de santo antao\", \"vitoria do jari\", \"vitoria do mearim\", \"vitorino freire\", \"vitorinos\", \"volta grande\", \"volta redonda\", \"votorantim\", \"votuporanga\", \"wanderley\", \"wenceslau braz\", \"wenceslau guimaraes\", \"werneck\", \"witmarsum\", \"xambioa\", \"xambre\", \"xangri-la\", \"xanxere\", \"xapuri\", \"xavantina\", \"xaxim\", \"xexeu\", \"xinguara\", \"xique-xique\", \"zacarias\", \"ze doca\", \"zortea\"], \"xaxis\": \"x\", \"y\": [2, 1, 8, 11, 2, 2, 2, 3, 1, 6, 2, 4, 8, 2, 6, 1, 7, 1, 1, 6, 6, 3, 1, 25, 1, 4, 1, 6, 10, 1, 1, 1, 1, 1, 12, 3, 1, 1, 1, 4, 1, 1, 1, 1, 2, 8, 3, 8, 13, 1, 1, 2, 1, 18, 1, 2, 13, 1, 9, 3, 1, 2, 1, 1, 1, 2, 30, 2, 1, 6, 3, 14, 23, 1, 23, 1, 2, 1, 2, 34, 5, 1, 3, 2, 2, 2, 1, 11, 1, 30, 2, 2, 8, 2, 16, 2, 1, 2, 1, 1, 2, 2, 1, 1, 4, 1, 4, 2, 8, 2, 4, 1, 6, 2, 3, 3, 2, 3, 1, 2, 2, 2, 9, 2, 2, 6, 1, 9, 45, 1, 1, 3, 5, 1, 1, 2, 1, 1, 1, 3, 1, 170, 2, 12, 1, 1, 1, 47, 1, 8, 2, 2, 1, 70, 90, 1, 13, 1, 9, 5, 10, 30, 1, 2, 1, 5, 1, 1, 1, 62, 1, 2, 1, 1, 1, 1, 6, 2, 2, 3, 2, 10, 1, 1, 2, 1, 1, 1, 3, 2, 1, 19, 89, 1, 2, 1, 5, 12, 6, 2, 6, 1, 1, 1, 38, 2, 1, 4, 1, 170, 10, 18, 1, 109, 4, 1, 5, 8, 34, 8, 2, 1, 1, 27, 1, 2, 45, 1, 2, 1, 3, 1, 2, 25, 1, 25, 4, 6, 1, 3, 7, 1, 15, 128, 70, 2, 2, 2, 8, 62, 2, 1, 2, 38, 5, 65, 7, 20, 4, 6, 7, 4, 2, 2, 2, 1, 2, 3, 2, 2, 1, 7, 3, 10, 4, 27, 1, 2, 1, 1, 7, 21, 2, 8, 7, 1, 9, 2, 1, 3, 36, 2, 53, 2, 3, 6, 1, 75, 10, 1, 10, 6, 1, 1, 122, 1, 1, 3, 2, 1, 9, 3, 1, 1, 4, 53, 4, 1, 3, 8, 1, 2, 6, 6, 41, 1, 2, 6, 1, 2, 3, 4, 76, 2, 9, 4, 3, 1, 4, 10, 10, 1, 6, 5, 3, 2, 12, 1, 1, 1, 14, 1, 1, 60, 4, 3, 5, 8, 1, 22, 4, 2, 2, 1, 8, 9, 2, 4, 3, 6, 17, 1, 2, 45, 4, 1, 3, 3, 2, 1, 96, 7, 3, 3, 1, 36, 3, 6, 52, 14, 4, 2, 1, 1, 3, 9, 342, 14, 4, 1, 3, 25, 1, 3, 203, 4, 31, 3, 4, 1, 4, 1, 1, 3, 332, 1, 84, 2, 2227, 12, 4, 2, 1, 1, 5, 2, 2, 42, 1, 1, 4, 38, 155, 10, 4, 20, 6, 55, 8, 1, 3, 146, 19, 8, 1, 3, 32, 4, 1, 1, 2, 1, 2, 5, 10, 1, 1, 1, 2, 3, 34, 5, 28, 11, 1, 4, 8, 8, 2, 1, 1, 3, 17, 4, 1, 1, 2, 14, 5, 2, 1, 1, 4, 12, 3, 15, 2, 2, 2, 15, 1, 2, 1, 1, 1, 1, 7, 3, 1, 1, 7, 78, 1, 16, 2, 6, 111, 1, 2, 1, 2, 1, 1688, 5, 4, 1, 1, 5, 1, 1, 1, 4, 1, 1, 10, 1, 1, 1, 1, 8, 8, 21, 14, 45, 2, 4, 2, 4, 1, 1, 7, 7, 1, 2, 4, 1, 10, 2, 7, 5, 3, 3, 1, 6, 18, 92, 2, 4, 4, 3, 29, 44, 5, 1, 2, 19, 3, 3, 1, 4, 2, 1, 2, 18, 2, 16, 14, 47, 97, 11, 7, 6, 2, 7, 20, 1, 8, 16, 2, 3, 2, 2, 1, 8, 73, 1, 70, 1, 1, 13, 11, 5, 8, 1, 5, 1, 26, 2, 1, 6, 1, 6, 46, 1, 9, 6, 3, 9, 28, 8, 1, 24, 1, 1, 21, 6, 20, 5, 4, 7, 2, 1, 4, 3, 2, 1, 1, 2, 1, 49, 7, 7, 1, 1076, 2, 5, 4, 2, 1, 1, 18, 25, 1, 1, 3, 1, 5, 6, 238, 1, 30, 37, 1, 6, 39, 14, 9, 3, 3, 4, 19, 192, 3, 12, 4, 1, 3, 1, 7, 7, 1, 3, 8, 5, 1, 20, 1, 1, 3, 1, 1, 10, 4, 3, 2, 1, 14, 3, 9, 2, 5, 2, 1, 156, 20, 4, 18, 1, 1, 1, 12, 23, 30, 1, 3, 1, 1, 2, 1, 1, 11, 2, 2, 5, 6, 9, 2, 1, 1, 1, 1, 2, 3, 4, 24, 3, 1, 2, 1, 70, 6, 1, 1, 3, 3, 9, 22, 3, 260, 48, 1, 2, 16, 3, 3, 2, 1, 111, 1, 1, 3, 2, 3, 2, 5, 17, 3, 1, 10, 4, 5, 3, 8, 7, 6, 1, 1, 4, 1, 1, 2, 1, 3, 2, 7, 3, 52, 2, 2, 9, 7, 5, 125, 1, 18, 5, 1, 4, 13, 3, 1, 4, 14, 2, 10, 15, 2, 25, 25, 62, 5, 2, 3, 6, 4, 5, 8, 2, 4, 1, 25, 2, 13, 1, 9, 173, 1, 1, 7, 1, 3, 1, 3, 1, 1, 1, 1, 1, 6, 15, 22, 3, 1, 4, 1, 9, 4, 1, 1, 1, 2, 2, 2, 1, 2, 4, 5, 1, 6, 68, 7, 15, 1, 1, 10, 2, 1, 1, 1, 3, 34, 8, 4, 5, 1, 3, 1, 1, 1, 1, 2, 14, 4, 1, 4, 1, 1, 5, 2, 2, 1, 5, 2, 1, 1, 46, 7, 7, 2, 1, 2, 1, 4, 47, 2, 1, 2, 4, 6, 2, 2, 1, 6, 7, 2, 3, 3, 2, 1, 3, 2, 12, 1, 5, 1, 4, 7, 1, 2, 7, 3, 4, 3, 4, 16, 8, 31, 3, 4, 2, 1, 3, 1, 5, 4, 23, 2, 2, 1, 1, 69, 1, 13, 4, 1, 345, 1, 1, 1, 3, 1, 2, 18, 11, 3, 2, 6, 9, 18, 1, 8, 19, 1, 33, 1, 1, 3, 2, 2, 1, 1, 9, 1, 1, 11, 4, 1, 2, 2, 23, 1, 3, 2, 4, 3, 39, 5, 1, 7, 1, 193, 2, 2, 2, 7, 9, 14, 18, 1, 69, 2, 3, 2, 2, 4, 1, 2, 2, 6, 2, 5, 1, 5, 1, 6, 22, 16, 3, 3, 45, 7, 3, 2, 56, 2, 189, 4, 1, 1, 1, 2, 13, 4, 1, 3, 1134, 18, 2, 6, 1, 2, 2, 1, 36, 5, 2, 1, 1, 2, 1, 2, 4, 1, 2, 1, 3, 9, 3, 1, 1, 1, 1, 210, 1, 3, 25, 5, 5, 1, 19, 1, 2, 3, 2, 1, 7, 1, 1, 5, 1, 105, 1, 1, 2, 1, 1, 8, 12, 2, 1, 21, 1, 1, 1, 4, 4, 1, 1, 8, 2, 4, 2, 2, 8, 1, 1, 1, 8, 1, 5, 2, 2, 7, 49, 1, 2, 21, 9, 1, 1, 4, 211, 2, 1, 8, 3, 3, 11, 4, 3, 1, 2, 9, 1, 9, 125, 37, 2, 5, 5, 2, 1, 9, 1, 1, 5, 1, 5, 6, 3, 1, 38, 1, 1, 6, 8, 1, 11, 14, 6, 2, 2, 2, 2, 5, 4, 14, 2, 5, 5, 2, 6, 16, 30, 1, 6, 3, 11, 1, 1, 2, 3, 1, 2, 2, 3, 26, 11, 1, 29, 1, 1, 19, 8, 1, 3, 9, 7, 2, 19, 2, 151, 5, 1, 1, 1, 1, 9, 1, 1, 1, 4, 43, 1, 82, 1, 2, 7, 3, 1, 1, 6, 2, 1, 1, 1, 2, 2, 9, 1, 8, 1, 2, 3, 17, 448, 1, 3, 1, 1, 1, 26, 1, 19, 1, 3, 3, 4, 4, 8, 533, 1, 1, 2, 69, 1, 1, 12, 125, 2, 40, 2, 81, 2, 1, 84, 2, 8, 5, 1, 1, 6, 3, 1, 19, 1, 4, 1, 1, 1, 3, 1, 4, 26, 19, 8, 14, 3, 1, 5, 28, 2, 2, 1, 5, 1, 6, 1, 1, 6, 1, 1, 9, 1, 4, 1, 2, 2, 2, 12, 3, 1, 12, 3, 533, 2, 5, 2, 6, 5, 8, 8, 1, 1, 3, 2, 1, 1, 1, 1, 3, 111, 1, 5, 20, 1, 1, 2, 5, 2, 2, 5, 88, 4, 1, 3, 11, 3, 22, 7, 34, 1, 2, 1, 1, 29, 12, 1, 4, 3, 17, 1, 4, 11, 9, 9, 4, 3, 3, 4, 2, 9, 7, 5, 2, 1, 4, 3, 56, 1, 44, 1, 2, 11, 9, 2, 71, 8, 2, 4, 9, 2, 182, 3, 923, 1, 1, 32, 1, 2, 1, 1, 1, 16, 1, 1, 1, 2, 6, 1, 3, 7, 2, 16, 2, 5, 5, 97, 4, 1, 1, 5, 3, 1, 4, 1, 3, 8, 9, 2, 7, 1, 1, 6, 2, 2, 1, 1, 1, 1, 1, 4, 1, 1, 1, 1, 1, 1, 10, 7, 1, 2, 1, 2, 9, 1, 4, 1, 42, 15, 14, 1, 26, 4, 4, 15, 1, 1, 4, 1, 7, 2, 2, 3, 2, 1, 1, 5, 9, 1, 1, 12, 3, 1, 1, 2, 11, 17, 2, 8, 2, 2, 13, 38, 2, 1, 1, 1, 18, 37, 59, 3, 2, 2, 10, 1, 29, 6, 2, 3, 28, 3, 3, 4, 2, 20, 196, 1, 3, 4, 2, 4, 1, 1, 5, 2, 3, 2, 1, 13, 2, 2, 1, 7, 8, 5, 2, 127, 1, 7, 2, 1, 16, 4, 3, 7, 1, 7, 3, 1, 1, 1, 1, 14, 15, 3, 4, 3, 3, 1, 3, 1, 2, 1, 1, 12, 1, 2, 1, 3, 2, 4, 6, 3, 1, 14, 1, 11, 2, 2, 2, 9, 2, 2, 4, 5, 7, 5, 1, 62, 1, 28, 42, 46, 3, 5, 1, 1, 2, 2, 1, 7, 1, 41, 2, 2, 1, 2, 6, 5, 4, 5, 4, 2, 2, 87, 10, 3, 1, 70, 3, 9, 9, 6, 2, 4, 2, 8, 2, 2, 5, 59, 9, 1, 1, 4, 5, 3, 12, 3, 1, 4, 6, 1, 11, 65, 2, 4, 35, 4, 3, 37, 2, 14, 57, 38, 126, 1, 8, 41, 11, 2, 3, 3, 2, 6, 23, 1, 12, 1, 5, 4, 5, 135, 5, 2, 2, 1, 3, 22, 4, 11, 2, 73, 1, 3, 3, 2, 3, 3, 2, 47, 1, 1, 1, 3, 3, 6, 2, 109, 2, 2, 1, 45, 30, 33, 1, 7, 12, 1, 22, 1, 1, 6, 3, 2, 1, 5, 112, 1, 2, 1, 40, 3, 1, 6, 1, 138, 16, 1, 1, 1, 2, 17, 2, 1, 3, 4, 17, 1, 1, 1, 5, 6, 1, 3, 15, 1, 5, 42, 4, 1, 3, 29, 1, 1, 1, 1, 14, 1, 4, 1, 52, 1, 2, 18, 1, 1, 29, 1, 2, 1, 4, 4, 2, 1, 6, 57, 1, 3, 1, 1, 1, 2, 1, 10, 4, 12, 6, 32, 1, 2, 3, 59, 1, 4, 3, 1, 1, 2, 30, 2, 2, 10, 6, 1, 1, 1, 5, 4, 2, 9, 2, 1, 19, 1, 4, 1, 5, 41, 8, 198, 9, 2, 4, 3, 208, 4, 12, 2, 1, 5, 1, 3, 34, 23, 1, 1, 4, 10, 336, 2, 2, 1, 443, 2, 2, 10, 1, 6, 15, 1, 4, 2, 1, 2, 1, 3, 2, 2, 1, 4, 9, 70, 3, 1, 1, 2, 7, 1, 1, 1, 1, 2, 1, 2, 1, 1, 4, 4, 4, 2, 1, 48, 10, 3, 1, 12, 1, 36, 7, 3, 1, 6, 8, 1, 2, 1, 11, 14, 5, 62, 5, 3, 62, 2, 3, 2, 1, 41, 1, 34, 1, 13, 2, 2, 143, 2, 4, 10, 1, 7, 1, 1, 47, 47, 1, 4, 10, 3, 250, 3, 61, 1, 2, 33, 21, 7, 1, 1, 4, 1, 22, 1, 2, 2, 3, 1, 3, 1, 2, 2, 1, 2, 21, 1, 3, 181, 3, 1, 1, 36, 2, 6, 4, 1, 6, 3, 201, 2, 1, 1, 17, 1, 1, 1, 1, 7, 3, 1, 2, 16, 1, 2, 88, 3, 1, 2, 17, 57, 1, 3, 5, 1, 5, 3, 1, 8, 1, 1, 117, 4, 14, 1, 2, 3, 8, 8, 53, 11, 2, 1, 1, 7, 3, 1, 6, 2, 2, 13, 4, 7, 8, 2, 29, 4, 4, 1, 2, 1, 11, 16, 9, 3, 1, 3, 1, 25, 1, 2, 1, 3, 11, 26, 1, 1, 108, 1, 1, 5, 1, 159, 2, 210, 2, 4, 3, 3, 10, 6, 1, 1, 2, 8, 2, 3, 2, 2, 1, 11, 2, 2, 6, 41, 2, 2, 7, 8, 1, 19, 4, 1, 1, 2, 2, 8, 2, 1, 3, 2, 257, 2, 3, 1, 1, 2, 3, 19, 4, 1, 8, 4, 4, 4, 2, 59, 3, 24, 13, 4, 1, 1, 9, 9, 3, 1, 19, 3, 1, 1, 3, 15, 1, 6, 2, 1, 1, 2, 12, 2, 1, 3, 27, 8, 1, 6, 1, 1, 1, 27, 1, 291, 63, 71, 2, 3, 1, 1, 2, 2, 1, 30, 2, 3, 1, 3, 8, 1, 2, 2, 2, 1, 4, 28, 1, 10, 4, 16, 3, 1, 3, 16, 1, 1, 2, 27, 8, 11, 3, 1, 24, 163, 2, 8, 2, 2, 1, 4, 1, 3, 13, 7, 1, 5, 1, 4, 1, 3, 3, 1, 31, 6, 2, 7, 1, 6, 1, 1, 6, 4, 2, 2, 2, 3, 44, 1, 1, 1, 1, 1, 4, 8, 1, 5, 1, 1, 21, 3, 2, 165, 1, 13, 27, 3, 4, 1, 5, 2, 2, 1, 5, 6, 3, 6, 82, 1, 8, 684, 1, 1, 1, 1, 2, 2, 2, 10, 2, 3, 1, 1, 8, 4, 2, 2, 1, 2, 1, 2, 2, 2, 2, 1, 3, 9, 1, 5, 1, 2, 7, 2, 1, 126, 14, 1, 1, 3, 366, 1, 1, 2, 1, 1, 82, 6, 1, 2, 1, 3, 32, 2, 4, 3, 1, 4, 7, 9, 4, 1, 1, 6, 1, 5, 4, 43, 2, 1, 5, 1, 17, 4, 1, 9, 1, 1, 1, 1, 6, 11, 94, 11, 1, 1, 2, 1, 1, 1, 4, 1, 3, 6, 3, 1, 4, 4, 1, 1, 1, 1, 1, 1, 30, 74, 3, 16, 2, 1, 3, 3, 1, 3, 24, 7, 1, 2, 2, 5, 567, 2, 28, 11, 1, 3, 6, 4, 61, 1, 1, 31, 14, 43, 3, 2, 1, 2, 8, 6, 6, 6, 3, 5, 2, 1, 1, 1, 1, 1, 1, 6, 3, 2, 8, 1, 71, 3, 3, 6, 4, 1, 81, 12, 1, 4, 14, 8, 1, 2, 2, 1, 16, 5, 3, 1, 8, 14, 1, 2, 4, 3, 4, 6, 9, 29, 30, 51, 3, 14, 8, 16, 3, 17, 1, 7, 5, 4, 1, 3, 7, 9, 1, 1, 3, 1, 1, 40, 8, 2, 3, 8, 2, 2, 32, 1, 6, 5, 10, 9, 22, 3, 1, 1, 4, 1, 1, 12, 16, 53, 1, 8, 8, 1, 1, 1, 1, 6, 70, 33, 2, 1, 1, 37, 13, 80, 34, 2, 1, 3, 10, 8, 1, 1, 2, 96, 1, 34, 2, 1, 28, 3, 5, 2, 2, 1, 3, 5, 15, 2, 4, 3, 1, 4, 3, 1, 1, 2, 1, 22, 3, 1, 2, 3, 3, 7, 1, 2, 32, 3, 1, 1, 2, 2, 131, 2, 29, 2, 7, 13, 2, 1, 4, 5, 6, 16, 3, 2, 1, 1, 1, 1, 2, 38, 6, 11, 52, 199, 2, 1, 1, 1, 1, 2, 1, 1, 15, 1, 13, 6, 2, 2, 3, 2, 2, 7, 1, 7, 2, 2, 77, 2, 1, 1, 1, 1, 45, 1, 4, 13, 9, 11, 2, 5, 8, 2, 1, 1, 1, 1, 7, 17, 5, 1, 285, 1, 10, 1, 5, 15, 1, 11, 1, 2, 6, 5, 3, 1, 7, 1, 35, 14, 9, 10, 50, 8, 5, 2, 2, 11, 1, 2, 6, 3, 1, 3, 1, 14, 15, 1, 1, 11, 2, 23, 1, 6, 1, 1, 9, 2, 56, 1, 2, 1, 6, 1, 4, 1, 1, 97, 1, 12, 2, 4, 7, 12, 9, 3, 98, 16, 6, 5, 2, 1, 1, 1, 33, 3, 8, 1, 1, 1, 1, 1, 2, 9, 7, 7, 2, 7, 1, 5, 1, 1050, 2, 6, 1, 1, 1, 1, 1, 16, 19, 1, 1, 5, 7, 1, 31, 1, 10, 85, 3, 15, 2, 3, 2, 1, 4, 8, 102, 3, 3, 4, 7, 2, 246, 1, 6, 2, 6, 8, 14, 6, 1, 2, 1, 3, 5, 127, 3, 23, 6, 19, 6, 1, 23, 3, 2, 3, 6, 1, 1, 1, 1, 4, 8, 3, 2, 1, 12, 3, 1, 4, 7, 46, 1, 1, 6, 1, 1, 3, 1, 3, 3, 1, 11, 11, 1, 3, 9, 3, 2, 5, 16, 2, 1, 1, 1, 10, 9, 1, 4, 4, 1, 493, 1, 14, 1, 1, 1, 3, 7, 3, 33, 3, 1, 3, 3, 95, 2, 2, 2, 6, 1, 2, 1, 2, 5, 1, 1, 2, 3, 1, 3, 1, 3, 1, 3, 1, 7, 3, 7, 2, 4, 73, 2, 2, 87, 397, 1, 2, 1, 1, 3, 4, 4, 4, 24, 1, 57, 5, 7, 4, 124, 1, 4, 108, 8, 2, 5512, 1, 3, 3, 1, 29, 1, 1, 1, 1, 97, 20, 5, 4, 3, 10, 12, 4, 6, 8, 5, 3, 3, 5, 4, 2, 1, 2, 56, 2, 2, 3, 1, 2, 6, 2, 2, 2, 22, 6, 5, 1, 1, 1, 3, 1, 5, 46, 3, 2, 9, 3, 1, 6, 1, 1, 8, 6, 35, 1, 5, 1, 1, 7, 5, 2, 9, 3, 14, 18, 1, 3, 4, 71, 10, 3, 1, 3, 1, 2, 1009, 1, 4, 4, 1, 3, 3, 12, 5, 18, 3, 78, 1, 1, 6, 4, 1, 1, 1, 5, 5, 3, 5, 1, 4, 2, 1, 10, 2, 22, 42, 2, 4, 3, 1, 27, 8, 10, 7, 2, 9, 24, 2, 4, 1, 2, 6, 1, 4, 79, 1, 2, 137, 2, 1, 9, 3, 9, 1, 1, 1, 2, 7, 4, 2, 5, 1, 8, 3, 1, 4, 1, 1, 3, 1, 17, 23, 24, 1, 9, 1, 1, 6, 2, 1, 1, 3, 13, 9, 2, 9, 1, 4, 143, 3, 3, 2, 1, 1, 4, 15, 3, 2, 11, 2, 1, 4, 37, 21, 8, 9, 2, 15, 611, 27, 1, 1, 13, 11, 2, 1, 1, 28, 26, 13, 3, 1, 1, 1, 1, 4, 2, 2, 4, 4, 12, 1, 2, 1, 1, 2, 1, 1, 7, 5, 1, 5, 1, 1, 1, 539, 17, 4, 1, 1, 1, 4, 1, 7, 27, 5, 1, 1, 726, 1, 17, 1, 1, 231, 183, 1, 1, 4, 1, 1, 6, 1, 1, 1, 5, 4, 2, 1, 1, 1, 7, 1, 20, 14, 2, 13, 4, 2, 1, 1, 1, 10, 15, 12, 6, 3, 1, 315, 1, 9, 3, 4, 1, 2, 7, 12, 5, 7, 4, 3, 1, 13, 62, 1, 1, 1, 2, 112, 1, 1, 62, 1, 2, 2, 3, 2, 4, 3, 1, 1, 1, 2, 5, 5, 8, 7, 23, 6, 1, 1, 1, 2, 129, 5, 3, 2, 2, 7, 2, 3, 9, 3, 2, 5, 5, 2, 2, 4, 1, 2, 1, 6, 2, 1, 1, 2, 37, 255, 1, 3, 12, 1, 509, 1, 101, 2, 83, 27, 9, 10, 8, 11, 3, 258, 4, 1, 3, 1, 12, 1, 19, 7, 2, 31, 1, 1, 11, 4, 8, 1, 1, 1, 2, 1, 1, 5, 2, 9, 29, 3, 2, 1, 1, 12190, 1, 2, 10, 37, 1, 1, 1, 2, 1, 2, 3, 1, 3, 5, 63, 1, 4, 49, 1, 1, 3, 1, 3, 11, 3, 1, 32, 3, 4, 9, 1, 4, 4, 2, 2, 1, 123, 2, 1, 1, 1, 7, 22, 2, 4, 6, 34, 36, 17, 2, 1, 13, 1, 2, 1, 3, 2, 4, 4, 4, 1, 1, 1, 2, 9, 1, 1, 1, 1, 2, 2, 1, 4, 15, 2, 1, 4, 2, 2, 1, 26, 215, 1, 1, 1, 2, 3, 3, 1, 1, 9, 6, 8, 2, 3, 1, 2, 11, 1, 1, 2, 4, 2, 1, 1, 50, 4, 1, 102, 1, 1, 3, 3, 8, 3, 6, 1, 1, 1, 3, 2, 6, 1, 17, 2, 8, 2, 32, 8, 1, 3, 2, 2, 2, 5, 25, 16, 1, 7, 3, 2, 10, 2, 3, 475, 16, 5, 1, 2, 3, 1, 131, 3, 6, 5, 170, 2, 7, 4, 4, 224, 2, 1, 1, 2, 2, 7, 6, 1, 3, 7, 9, 3, 12, 1, 8, 1, 22, 4, 3, 2, 2, 1, 7, 1, 1, 4, 1, 2, 2, 9, 18, 1, 1, 8, 27, 5, 11, 2, 4, 7, 4, 59, 9, 212, 1, 1, 23, 2, 7, 2, 27, 1, 1, 3, 9, 3, 57, 2, 5, 226, 1, 94, 1, 1, 3, 4, 1, 2, 6, 3, 10, 5, 3, 25, 20, 4, 2, 18, 5, 11, 44, 3, 2, 2, 6, 4, 2, 54, 2, 2, 5, 5, 3, 15, 6, 2, 1, 1, 7, 20, 3, 3, 27, 2, 4, 5, 33, 5, 10, 1, 3, 1, 32, 8, 6, 16, 30, 8, 22, 1, 9, 1, 4, 47, 7, 3, 2, 7, 1, 1, 1, 1, 42, 9, 3, 2, 1, 1, 2, 1, 5, 7, 1, 2, 1, 4, 1, 3, 40, 6, 3, 2, 2, 1, 54, 140, 299, 1, 5, 2, 3, 1, 1, 1, 1, 29, 5, 44, 1, 24, 3, 2, 1, 2, 2, 1, 3, 5, 14, 2, 1, 5, 1, 1, 1, 2, 1, 1, 36, 2, 1, 6, 6, 2, 4, 16, 1, 1, 2, 49, 4, 8, 3, 143, 7, 32, 1, 1, 1, 2, 3, 3, 1, 1, 12, 35, 65, 1, 4, 3, 1, 2, 8, 29, 1, 54, 1, 2, 26, 4, 20, 1, 11, 3, 2, 3, 17, 3, 11, 2, 2, 1, 1, 1, 37, 59, 19, 2, 2, 1, 61, 1, 37, 3, 1, 4, 1, 2, 7, 2, 2, 1, 1, 1, 2, 5, 255, 11, 71, 15, 2, 1, 8, 2, 3, 17, 1, 2, 300, 70, 1, 13, 1, 2, 3, 1, 4, 173, 60, 54, 1, 2, 2, 2, 1, 1, 2, 8, 22, 2, 1, 4, 1, 6, 1, 2, 3, 2], \"yaxis\": \"y\"}, {\"alignmentgroup\": \"True\", \"hovertemplate\": \"payment_type=voucher<br>customer_city=%{x}<br>customer_id=%{y}<extra></extra>\", \"legendgroup\": \"voucher\", \"marker\": {\"color\": \"#00cc96\"}, \"name\": \"voucher\", \"offsetgroup\": \"voucher\", \"orientation\": \"v\", \"showlegend\": true, \"textposition\": \"auto\", \"type\": \"bar\", \"x\": [\"abaetetuba\", \"adamantina\", \"afogados da ingazeira\", \"agrestina\", \"aguas de lindoia\", \"aguas lindas de goias\", \"alagoinhas\", \"alem paraiba\", \"alfenas\", \"alfredo chaves\", \"almirante tamandare\", \"alta floresta\", \"alto boa vista\", \"alto do rodrigues\", \"amelia rodrigues\", \"americana\", \"americano do brasil\", \"americo brasiliense\", \"amparo\", \"ananindeua\", \"anapolis\", \"anchieta\", \"angra dos reis\", \"anhandui\", \"anita garibaldi\", \"antonio carlos\", \"antonio pereira\", \"aparecida\", \"aparecida de goiania\", \"apucarana\", \"aracaju\", \"aracatuba\", \"aracruz\", \"aragarcas\", \"araguari\", \"araguatins\", \"arapora\", \"ararangua\", \"araraquara\", \"araras\", \"araruama\", \"araruna\", \"aratiba\", \"araucaria\", \"araxa\", \"arcoverde\", \"armacao dos buzios\", \"arraial d'ajuda\", \"arraial do cabo\", \"artur nogueira\", \"aruja\", \"ascurra\", \"assis\", \"assis chateaubriand\", \"astorga\", \"atibaia\", \"auriflama\", \"avare\", \"balneario camboriu\", \"balneario picarras\", \"balneario rincao\", \"bananeiras\", \"barbacena\", \"bariri\", \"barra bonita\", \"barra da estiva\", \"barra de sao francisco\", \"barra de sao joao\", \"barra do corda\", \"barra do garcas\", \"barra do pirai\", \"barra mansa\", \"barreiras\", \"barreiros\", \"barretos\", \"barro\", \"barueri\", \"bastos\", \"batatais\", \"bauru\", \"bebedouro\", \"belem\", \"belford roxo\", \"belo horizonte\", \"belo vale\", \"bento goncalves\", \"betim\", \"blumenau\", \"boa esperanca\", \"boa vista da aparecida\", \"bocaina\", \"bocaiuva do sul\", \"boituva\", \"bom conselho\", \"bom despacho\", \"bom jesus da lapa\", \"bom jesus dos perdoes\", \"bom principio\", \"bom retiro\", \"bombinhas\", \"bonfim paulista\", \"borda da mata\", \"botucatu\", \"braco do norte\", \"braganca paulista\", \"brasil novo\", \"brasilia\", \"brejoes\", \"brodowski\", \"brotas\", \"brumadinho\", \"brusque\", \"buriti dos lopes\", \"buritizeiro\", \"caarapo\", \"cabedelo\", \"cabo frio\", \"cabo verde\", \"cacador\", \"cacapava\", \"cachoeira do sul\", \"cachoeiras de macacu\", \"cachoeirinha\", \"cachoeiro de itapemirim\", \"caete\", \"cafeara\", \"cafelandia\", \"caieiras\", \"cajamar\", \"caldas do jorro\", \"caldas novas\", \"camacari\", \"camaragibe\", \"camboriu\", \"cambui\", \"campanha\", \"campina grande\", \"campinas\", \"campo belo\", \"campo bom\", \"campo ere\", \"campo formoso\", \"campo grande\", \"campo largo\", \"campo limpo paulista\", \"campo mourao\", \"campos do jordao\", \"campos dos goytacazes\", \"campos novos\", \"canapolis\", \"canavieiras\", \"candido mota\", \"cangucu\", \"canoas\", \"canoinhas\", \"cansancao\", \"cantagalo\", \"capao da canoa\", \"capao do leao\", \"capela\", \"capitao\", \"capivari\", \"caraguatatuba\", \"carangola\", \"carapicuiba\", \"caratinga\", \"caraubas\", \"cariacica\", \"carinhanha\", \"carmo do paranaiba\", \"carmo do rio claro\", \"caruaru\", \"cascavel\", \"cassilandia\", \"castanhal\", \"castelo\", \"castelo do piaui\", \"castilho\", \"castro\", \"cataguases\", \"catanduva\", \"catas altas\", \"caucaia\", \"caxias do sul\", \"ceilandia\", \"cerqueira cesar\", \"cerquilho\", \"cesario lange\", \"chapeco\", \"charqueada\", \"cianorte\", \"cicero dantas\", \"claudio\", \"cocal\", \"cocal do sul\", \"colatina\", \"colinas\", \"colombo\", \"colorado\", \"conceicao da aparecida\", \"conceicao da feira\", \"conceicao do araguaia\", \"conceicao do para\", \"concordia\", \"condor\", \"confresa\", \"conselheiro lafaiete\", \"contagem\", \"coqueiro baixo\", \"coromandel\", \"coronel fabriciano\", \"coronel vivida\", \"correia pinto\", \"corumba\", \"corupa\", \"costa rica\", \"cotia\", \"criciuma\", \"cruz alta\", \"cruz das almas\", \"cruzeiro\", \"cruzeiro do sul\", \"cruzilia\", \"cuiaba\", \"curitiba\", \"currais novos\", \"curvelo\", \"demerval lobao\", \"denise\", \"diadema\", \"dias d'avila\", \"divino\", \"divinolandia\", \"divinolandia de minas\", \"divinopolis\", \"divisa alegre\", \"dom eliseu\", \"dom vicoso\", \"doutor camargo\", \"dracena\", \"duque de caxias\", \"eldorado\", \"elias fausto\", \"eloi mendes\", \"embu\", \"embu das artes\", \"embu-guacu\", \"encantado\", \"encruzilhada do sul\", \"eneas marques\", \"erechim\", \"espera feliz\", \"estancia velha\", \"esteio\", \"euclides da cunha\", \"eunapolis\", \"extrema\", \"farroupilha\", \"feira de santana\", \"feliz\", \"fernandopolis\", \"ferraz de vasconcelos\", \"flores da cunha\", \"floresta\", \"florianopolis\", \"florida\", \"formiga\", \"formosa\", \"fortaleza\", \"foz do iguacu\", \"franca\", \"francisco beltrao\", \"francisco dumont\", \"francisco morato\", \"franco da rocha\", \"frederico westphalen\", \"frei inocencio\", \"fruta de leite\", \"garanhuns\", \"garca\", \"garopaba\", \"garuva\", \"gaspar\", \"general camara\", \"goianapolis\", \"goiania\", \"goias\", \"goitacazes\", \"governador celso ramos\", \"governador valadares\", \"gramado\", \"gravata\", \"gravatai\", \"guadalupe\", \"guaicara\", \"guaira\", \"guanambi\", \"guanhaes\", \"guapirama\", \"guaranesia\", \"guarani\", \"guarani das missoes\", \"guaranta do norte\", \"guarapari\", \"guarapuava\", \"guaratingueta\", \"guaratuba\", \"guarei\", \"guaruja\", \"guarulhos\", \"guaxupe\", \"gurupi\", \"holambra\", \"hortolandia\", \"iati\", \"ibate\", \"ibatiba\", \"ibiajara\", \"ibicarai\", \"ibipora\", \"ibirite\", \"ibiruba\", \"ico\", \"igaracu do tiete\", \"igarape\", \"iguaba grande\", \"iguape\", \"ijui\", \"ilha solteira\", \"ilheus\", \"imigrante\", \"indaial\", \"indaiatuba\", \"indianopolis\", \"indiara\", \"ipatinga\", \"ipaussu\", \"ipiau\", \"ipira\", \"ipiranga\", \"ipora\", \"irati\", \"irece\", \"itabaiana\", \"itabira\", \"itaborai\", \"itabuna\", \"itacare\", \"itajai\", \"itajuba\", \"itajuipe\", \"italva\", \"itamaraju\", \"itamarandiba\", \"itanhaem\", \"itanhandu\", \"itapecerica da serra\", \"itapecuru mirim\", \"itaperuna\", \"itapetininga\", \"itapeva\", \"itapevi\", \"itapipoca\", \"itapira\", \"itapiranga\", \"itapolis\", \"itapora\", \"itaporanga\", \"itapura\", \"itaquaquecetuba\", \"itaqui\", \"itaquitinga\", \"itarare\", \"itarema\", \"itatiaia\", \"itatiba\", \"itau de minas\", \"itauna\", \"itu\", \"ituiutaba\", \"itumbiara\", \"itupeva\", \"ituporanga\", \"ivoti\", \"jaboatao dos guararapes\", \"jaborandi\", \"jaboticabal\", \"jacarei\", \"jacobina\", \"jacupiranga\", \"jacutinga\", \"jaguare\", \"jaguariaiva\", \"jaguariuna\", \"jales\", \"janauba\", \"jandaia do sul\", \"januaria\", \"japeri\", \"jardim do serido\", \"jardinopolis\", \"jaru\", \"jatai\", \"jau\", \"jequie\", \"joacaba\", \"joao alfredo\", \"joao pessoa\", \"joao pinheiro\", \"joinville\", \"jose bonifacio\", \"juazeiro\", \"juazeiro do norte\", \"juina\", \"juiz de fora\", \"jundiai\", \"junqueiropolis\", \"juquitiba\", \"juruti\", \"ladainha\", \"lages\", \"lagoa da prata\", \"lagoa do ouro\", \"lagoa nova\", \"lagoa santa\", \"lajeado\", \"lambari\", \"lapa\", \"laranjal paulista\", \"laranjeiras do sul\", \"lauro de freitas\", \"lavras\", \"leme\", \"lencois paulista\", \"leopoldina\", \"limeira\", \"limoeiro\", \"limoeiro do norte\", \"linhares\", \"lins\", \"londrina\", \"lorena\", \"luis eduardo magalhaes\", \"luizlandia do oeste\", \"lunardelli\", \"luziania\", \"macae\", \"macapa\", \"maceio\", \"machado\", \"mafra\", \"mage\", \"mairipora\", \"manaus\", \"mandaguari\", \"manfrinopolis\", \"mangueirinha\", \"manhuacu\", \"manhumirim\", \"mansidao\", \"maraba\", \"maracanau\", \"marechal candido rondon\", \"marica\", \"marilandia\", \"marilia\", \"maringa\", \"marmeleiro\", \"mata de sao joao\", \"mata verde\", \"matao\", \"mateus leme\", \"matias barbosa\", \"mato leitao\", \"maua\", \"medina\", \"mendonca\", \"minacu\", \"mineiros\", \"mogi das cruzes\", \"mogi mirim\", \"mogi-guacu\", \"mongagua\", \"monte alegre de minas\", \"monte alto\", \"monte aprazivel\", \"monte azul paulista\", \"monte belo\", \"monte carlo\", \"monte carmelo\", \"monte mor\", \"monte siao\", \"montenegro\", \"montes claros\", \"morrinhos\", \"morro da fumaca\", \"morro do chapeu\", \"mossoro\", \"mostardas\", \"muriae\", \"mutum\", \"nanuque\", \"natal\", \"nhandeara\", \"nilopolis\", \"niteroi\", \"nova canaa paulista\", \"nova fatima\", \"nova friburgo\", \"nova iguacu\", \"nova lima\", \"nova petropolis\", \"nova ponte\", \"nova prata do iguacu\", \"nova russas\", \"nova veneza\", \"novo gama\", \"novo hamburgo\", \"olinda\", \"oliveira\", \"orizona\", \"orlandia\", \"oroco\", \"osasco\", \"osvaldo cruz\", \"ourinhos\", \"ouro branco\", \"ouro fino\", \"ouro preto\", \"pacaembu\", \"paco do lumiar\", \"palhoca\", \"palma sola\", \"palmares\", \"palmas\", \"palmeira das missoes\", \"palmeira dos indios\", \"palotina\", \"panorama\", \"papanduva\", \"papucaia\", \"paracatu\", \"paracuru\", \"paragominas\", \"paraibano\", \"paraibuna\", \"paraiso do tocantins\", \"paranaiba\", \"paranavai\", \"parapua\", \"parati\", \"paraty\", \"pariquera-acu\", \"parnaiba\", \"parnamirim\", \"parobe\", \"passa quatro\", \"passo fundo\", \"passos\", \"patos de minas\", \"patrocinio\", \"pau dos ferros\", \"paulinia\", \"paulista\", \"paulo afonso\", \"paulo frontin\", \"pederneiras\", \"pedra\", \"pedra azul\", \"pedralva\", \"pedreira\", \"pedro canario\", \"pedro leopoldo\", \"pelotas\", \"penapolis\", \"penha\", \"pereira barreto\", \"perola d'oeste\", \"pesqueira\", \"petrolina\", \"petropolis\", \"picos\", \"piedade de caratinga\", \"pilar do sul\", \"pindamonhangaba\", \"pinhais\", \"piquete\", \"piracaia\", \"piracanjuba\", \"piracicaba\", \"pirai\", \"piraju\", \"pirajui\", \"piranguinho\", \"pirapora\", \"pirapora do bom jesus\", \"pirassununga\", \"pirenopolis\", \"pitanga\", \"pitangueiras\", \"pitangui\", \"piuma\", \"piumhi\", \"piumhii\", \"planalto\", \"poa\", \"poco fundo\", \"pocos de caldas\", \"ponta grossa\", \"ponte nova\", \"populina\", \"porangatu\", \"porciuncula\", \"portao\", \"portelandia\", \"porto alegre\", \"porto feliz\", \"porto ferreira\", \"porto seguro\", \"porto uniao\", \"porto velho\", \"posse\", \"pouso alegre\", \"praia grande\", \"presidente bernardes\", \"presidente dutra\", \"presidente epitacio\", \"presidente prudente\", \"primavera\", \"prudencio thomaz\", \"quatigua\", \"quatro barras\", \"queimados\", \"quintana\", \"quirinopolis\", \"quissama\", \"quixabeira\", \"quixada\", \"realeza\", \"recife\", \"redencao\", \"registro\", \"resende\", \"reserva do iguacu\", \"ribeirao das neves\", \"ribeirao do pinhal\", \"ribeirao pires\", \"ribeirao preto\", \"rio acima\", \"rio bonito\", \"rio branco\", \"rio brilhante\", \"rio claro\", \"rio das ostras\", \"rio de janeiro\", \"rio do pires\", \"rio grande\", \"rio grande da serra\", \"rio largo\", \"rio negrinho\", \"rio pardo de minas\", \"rio verde\", \"roca sales\", \"rodeio\", \"rolandia\", \"rondonopolis\", \"rosario do ivai\", \"russas\", \"sabara\", \"sabinopolis\", \"salmourao\", \"salto\", \"salto de pirapora\", \"salvador\", \"sanclerlandia\", \"santa barbara d oeste\", \"santa barbara d'oeste\", \"santa cecilia do pavao\", \"santa cruz cabralia\", \"santa cruz das palmeiras\", \"santa cruz do capibaribe\", \"santa cruz do rio pardo\", \"santa cruz do sul\", \"santa cruz do timbo\", \"santa gertrudes\", \"santa isabel\", \"santa luzia\", \"santa maria\", \"santa maria de jetiba\", \"santa monica\", \"santa rita de caldas\", \"santa rita do passa quatro\", \"santa rita do sapucai\", \"santa rosa\", \"santa rosa de lima\", \"santa teresa\", \"santa tereza do oeste\", \"santa terezinha de itaipu\", \"santana da boa vista\", \"santana de parnaiba\", \"santanesia\", \"santarem\", \"santiago\", \"santo amaro\", \"santo anastacio\", \"santo andre\", \"santo angelo\", \"santo antonio da alegria\", \"santo antonio da platina\", \"santo antonio de jesus\", \"santo antonio de posse\", \"santo antonio do monte\", \"santo antonio do sudoeste\", \"santo augusto\", \"santos\", \"sao benedito\", \"sao bento do sapucai\", \"sao bernardo do campo\", \"sao borja\", \"sao caetano do sul\", \"sao carlos\", \"sao francisco\", \"sao francisco de assis\", \"sao francisco de paula\", \"sao gabriel da palha\", \"sao goncalo\", \"sao goncalo do amarante\", \"sao gotardo\", \"sao joao batista\", \"sao joao da barra\", \"sao joao da boa vista\", \"sao joao de meriti\", \"sao joao del rei\", \"sao joao do oriente\", \"sao joao do paraiso\", \"sao joao do sul\", \"sao joaquim da barra\", \"sao jorge do ivai\", \"sao jose\", \"sao jose do cedro\", \"sao jose do cerrito\", \"sao jose do hortencio\", \"sao jose do rio pardo\", \"sao jose do rio preto\", \"sao jose do turvo\", \"sao jose do vale do rio preto\", \"sao jose dos campos\", \"sao jose dos pinhais\", \"sao leopoldo\", \"sao lourenco\", \"sao lourenco da mata\", \"sao luis\", \"sao manuel\", \"sao marcos\", \"sao mateus\", \"sao miguel arcanjo\", \"sao miguel do anta\", \"sao miguel do cambui\", \"sao paulo\", \"sao pedro da aldeia\", \"sao pedro dos ferros\", \"sao roque\", \"sao sebastiao\", \"sao sebastiao de campos\", \"sao simao\", \"sao tomas de aquino\", \"sao vicente\", \"saquarema\", \"senhor do bonfim\", \"serra\", \"serra do ramalho\", \"serra dos aimores\", \"serrana\", \"serrinha\", \"sertaozinho\", \"sete lagoas\", \"severinia\", \"simoes filho\", \"sinimbu\", \"sinop\", \"sobral\", \"socorro\", \"soledade de minas\", \"sorocaba\", \"sucesso\", \"sud mennucci\", \"sumare\", \"suzano\", \"tabira\", \"taboao da serra\", \"taguatinga\", \"tailandia\", \"tambau\", \"tangara\", \"tangua\", \"tapejara\", \"taperuaba\", \"taquaracu de minas\", \"taquarituba\", \"tatui\", \"taubate\", \"teixeiras\", \"tejupa\", \"telemaco borba\", \"teodoro sampaio\", \"teofilo otoni\", \"teolandia\", \"teresina\", \"teresopolis\", \"terra roxa\", \"tiangua\", \"tibau do sul\", \"tijucas\", \"timbo\", \"timon\", \"timoteo\", \"toledo\", \"tombos\", \"torres\", \"trajano de moraes\", \"tremembe\", \"tres coracoes\", \"tres fronteiras\", \"tres irmaos\", \"tres lagoas\", \"tres rios\", \"trindade do sul\", \"tubarao\", \"tucurui\", \"tupa\", \"tupi paulista\", \"uba\", \"ubatuba\", \"uberaba\", \"uberlandia\", \"umuarama\", \"unai\", \"uniao da vitoria\", \"uruguaiana\", \"uruoca\", \"utinga\", \"vacaria\", \"valenca\", \"valinhos\", \"valparaiso\", \"valparaiso de goias\", \"vargem alegre\", \"vargem grande paulista\", \"varginha\", \"varzea da palma\", \"varzea grande\", \"varzea paulista\", \"varzelandia\", \"vassouras\", \"vera\", \"vera cruz\", \"vespasiano\", \"viamao\", \"viana\", \"vicosa\", \"vila velha\", \"vilhena\", \"vinhedo\", \"vitoria\", \"vitoria da conquista\", \"volta redonda\", \"votorantim\", \"xanxere\", \"ze doca\"], \"xaxis\": \"x\", \"y\": [1, 2, 1, 1, 2, 2, 2, 1, 2, 1, 1, 1, 1, 1, 1, 7, 1, 2, 7, 4, 5, 1, 5, 1, 2, 1, 1, 2, 8, 3, 13, 6, 2, 1, 1, 1, 1, 2, 3, 3, 3, 1, 1, 1, 3, 2, 1, 1, 1, 1, 5, 1, 3, 1, 1, 8, 2, 4, 2, 1, 1, 1, 2, 1, 1, 1, 1, 1, 1, 1, 2, 6, 2, 1, 4, 1, 12, 2, 1, 11, 1, 24, 7, 95, 1, 1, 5, 11, 1, 1, 1, 1, 1, 1, 1, 1, 3, 1, 1, 1, 1, 1, 4, 1, 4, 1, 77, 1, 1, 2, 1, 4, 1, 1, 1, 1, 7, 1, 2, 6, 4, 1, 2, 7, 1, 1, 1, 4, 5, 1, 1, 4, 4, 1, 1, 1, 9, 52, 2, 1, 2, 1, 12, 3, 3, 1, 2, 11, 1, 1, 1, 2, 3, 10, 3, 3, 1, 1, 1, 1, 1, 1, 5, 2, 9, 1, 1, 1, 1, 1, 1, 4, 9, 1, 1, 1, 1, 2, 1, 4, 2, 1, 4, 3, 1, 1, 2, 1, 4, 1, 2, 2, 2, 3, 1, 4, 1, 4, 1, 1, 1, 1, 1, 1, 1, 1, 9, 18, 1, 2, 2, 1, 1, 1, 1, 1, 7, 2, 3, 1, 2, 1, 1, 7, 54, 1, 2, 1, 1, 13, 2, 2, 1, 1, 7, 1, 1, 1, 1, 1, 18, 1, 1, 1, 1, 1, 3, 1, 1, 1, 3, 1, 1, 1, 1, 4, 3, 2, 10, 1, 1, 3, 1, 1, 23, 1, 1, 1, 31, 6, 11, 1, 1, 3, 4, 1, 1, 1, 2, 1, 1, 1, 1, 1, 1, 28, 1, 1, 1, 8, 2, 1, 7, 1, 1, 2, 1, 2, 1, 1, 2, 1, 1, 1, 4, 2, 1, 1, 12, 49, 1, 2, 2, 4, 1, 1, 1, 1, 1, 1, 3, 2, 1, 2, 1, 1, 1, 2, 1, 5, 1, 1, 12, 1, 1, 12, 1, 1, 1, 1, 1, 1, 1, 1, 3, 7, 1, 1, 1, 6, 1, 1, 1, 1, 2, 1, 6, 1, 2, 1, 3, 5, 1, 4, 1, 1, 1, 2, 1, 5, 1, 1, 2, 1, 1, 4, 1, 1, 4, 3, 2, 1, 1, 1, 4, 1, 3, 12, 1, 1, 2, 1, 2, 1, 2, 1, 1, 2, 1, 1, 1, 1, 4, 3, 4, 2, 1, 10, 1, 8, 1, 1, 2, 1, 8, 19, 1, 1, 1, 1, 2, 1, 1, 1, 3, 1, 1, 1, 1, 1, 4, 2, 4, 1, 1, 6, 1, 2, 3, 3, 10, 3, 1, 1, 1, 2, 8, 3, 8, 1, 3, 3, 2, 4, 1, 1, 1, 3, 1, 1, 2, 2, 4, 7, 1, 8, 18, 1, 2, 5, 2, 3, 1, 1, 11, 1, 1, 1, 1, 22, 5, 3, 3, 1, 2, 2, 1, 1, 1, 1, 2, 1, 2, 8, 2, 1, 1, 3, 2, 1, 1, 1, 9, 1, 3, 47, 1, 1, 6, 21, 5, 1, 1, 1, 1, 1, 2, 6, 7, 1, 1, 1, 1, 31, 1, 2, 1, 1, 3, 1, 1, 2, 1, 1, 7, 1, 1, 2, 2, 1, 1, 3, 1, 1, 1, 1, 2, 2, 1, 1, 1, 1, 1, 2, 1, 1, 2, 1, 4, 4, 5, 1, 8, 3, 1, 1, 2, 1, 1, 1, 5, 1, 1, 7, 1, 1, 1, 1, 2, 1, 12, 3, 1, 1, 3, 2, 1, 3, 1, 12, 2, 1, 1, 1, 3, 2, 2, 1, 1, 2, 1, 2, 1, 1, 1, 5, 1, 6, 5, 3, 1, 1, 1, 1, 1, 49, 1, 2, 5, 1, 5, 1, 4, 13, 1, 1, 2, 5, 1, 1, 1, 1, 2, 1, 1, 1, 1, 1, 1, 26, 1, 7, 3, 1, 3, 1, 5, 20, 1, 1, 3, 1, 5, 5, 270, 1, 3, 1, 1, 1, 1, 2, 1, 1, 1, 2, 1, 2, 1, 1, 1, 7, 1, 79, 1, 3, 3, 1, 2, 1, 1, 2, 2, 1, 1, 2, 7, 7, 2, 1, 1, 1, 2, 1, 1, 1, 1, 1, 1, 12, 1, 1, 1, 1, 1, 26, 1, 1, 1, 1, 1, 1, 1, 1, 24, 1, 1, 41, 1, 6, 11, 1, 1, 1, 1, 34, 1, 2, 1, 1, 2, 9, 3, 1, 1, 1, 2, 1, 6, 2, 1, 1, 2, 10, 1, 1, 30, 8, 8, 3, 2, 8, 2, 1, 1, 1, 1, 1, 584, 1, 1, 3, 2, 1, 2, 1, 7, 2, 1, 12, 1, 1, 1, 1, 4, 4, 1, 3, 1, 7, 2, 1, 1, 28, 1, 1, 7, 9, 1, 14, 1, 1, 3, 1, 1, 1, 1, 1, 1, 3, 11, 1, 2, 1, 1, 5, 1, 15, 6, 1, 2, 1, 4, 1, 2, 3, 6, 1, 1, 1, 3, 4, 1, 1, 2, 2, 1, 2, 1, 5, 1, 2, 2, 4, 18, 3, 4, 2, 2, 1, 1, 1, 3, 4, 1, 2, 1, 3, 2, 1, 1, 5, 1, 1, 1, 3, 2, 2, 4, 4, 22, 1, 4, 13, 4, 8, 8, 2, 1], \"yaxis\": \"y\"}, {\"alignmentgroup\": \"True\", \"hovertemplate\": \"payment_type=debit_card<br>customer_city=%{x}<br>customer_id=%{y}<extra></extra>\", \"legendgroup\": \"debit_card\", \"marker\": {\"color\": \"#ab63fa\"}, \"name\": \"debit_card\", \"offsetgroup\": \"debit_card\", \"orientation\": \"v\", \"showlegend\": true, \"textposition\": \"auto\", \"type\": \"bar\", \"x\": [\"afranio\", \"aguas de lindoia\", \"alfenas\", \"almirante tamandare\", \"altamira\", \"alvares machado\", \"americana\", \"amparo\", \"ananindeua\", \"anapolis\", \"angelo frechiani\", \"antonio pereira\", \"aparecida de goiania\", \"apiacas\", \"apucarana\", \"aracaju\", \"aracatuba\", \"araguaina\", \"arapongas\", \"araraquara\", \"araras\", \"araruama\", \"araucaria\", \"areia branca dos assis\", \"aruja\", \"atibaia\", \"bage\", \"baixo guandu\", \"balneario camboriu\", \"barra bonita\", \"barra do corda\", \"barra mansa\", \"barreiras\", \"barretos\", \"barueri\", \"bauru\", \"bebedouro\", \"belem\", \"belford roxo\", \"belo horizonte\", \"betim\", \"biguacu\", \"birigui\", \"blumenau\", \"boituva\", \"bom jesus\", \"bom sucesso\", \"bombinhas\", \"botucatu\", \"braganca\", \"braganca paulista\", \"brasilia\", \"brumado\", \"brusque\", \"butia\", \"cabo frio\", \"cacapava\", \"cachoeira do sul\", \"cachoeira paulista\", \"cachoeiras de macacu\", \"cachoeiro de itapemirim\", \"caetanos\", \"caieiras\", \"caiua\", \"cajamar\", \"cajati\", \"caldas brandao\", \"camacari\", \"campanario\", \"campina grande\", \"campinas\", \"campo formoso\", \"campo grande\", \"campos do jordao\", \"campos dos goytacazes\", \"canavieiras\", \"canoas\", \"capanema\", \"capao da porteira\", \"capelinha\", \"capinzal\", \"caraguatatuba\", \"carapicuiba\", \"caratinga\", \"caraubas\", \"cariacica\", \"cascavel\", \"castanhal\", \"castro\", \"catalao\", \"catarina\", \"caxias do sul\", \"cerquilho\", \"cerro azul\", \"cerro largo\", \"chapadao do sul\", \"chapeco\", \"cianorte\", \"cocal\", \"cocal do sul\", \"colatina\", \"conquista\", \"conselheiro lafaiete\", \"contagem\", \"cotia\", \"cravinhos\", \"cristopolis\", \"crixas\", \"cruz\", \"cruz das almas\", \"cuiaba\", \"curitiba\", \"curralinho\", \"dario meira\", \"descalvado\", \"diadema\", \"divinopolis\", \"dois irmaos\", \"douradina\", \"dourados\", \"dracena\", \"duque de caxias\", \"embu das artes\", \"erechim\", \"espirito santo do pinhal\", \"esteio\", \"extrema\", \"fazenda rio grande\", \"feira de santana\", \"fernando prestes\", \"ferraz de vasconcelos\", \"floresta\", \"florianopolis\", \"formiga\", \"formosa\", \"fortaleza\", \"franca\", \"garanhuns\", \"garca\", \"goiania\", \"governador valadares\", \"gramado\", \"gravatai\", \"guaiba\", \"guarai\", \"guaraniacu\", \"guarapuava\", \"guaratingueta\", \"guarei\", \"guaruja\", \"guarulhos\", \"holambra ii\", \"hortolandia\", \"ibate\", \"ibiam\", \"ibiapina\", \"ibirite\", \"ibiuna\", \"iguatama\", \"ijui\", \"indaiatuba\", \"inga\", \"inhapim\", \"inhumas\", \"ipatinga\", \"ipora\", \"irai\", \"itabaiana\", \"itabira\", \"itajai\", \"italva\", \"itamarandiba\", \"itamonte\", \"itanhaem\", \"itape\", \"itapecerica\", \"itapecerica da serra\", \"itapema\", \"itapetinga\", \"itapetininga\", \"itapevi\", \"itapira\", \"itapura\", \"itaquaquecetuba\", \"itatiba\", \"itauna\", \"itu\", \"itupeva\", \"jaboatao dos guararapes\", \"jaboticabal\", \"jacarei\", \"jacinto machado\", \"jaguaquara\", \"jaguariuna\", \"jandira\", \"jaragua do sul\", \"jardim do serido\", \"jardinopolis\", \"jarinu\", \"jeceaba\", \"ji-parana\", \"joao camara\", \"joao monlevade\", \"joao pessoa\", \"joinville\", \"jordania\", \"juazeiro do norte\", \"jucurucu\", \"juiz de fora\", \"jundiai\", \"juquia\", \"juquitiba\", \"juru\", \"jussari\", \"lagoa grande\", \"lajeado\", \"lapa\", \"laranjal paulista\", \"leme\", \"limeira\", \"linhares\", \"loanda\", \"londrina\", \"lorena\", \"louveira\", \"lucelia\", \"luis eduardo magalhaes\", \"macae\", \"macaiba\", \"maceio\", \"machadinho d'oeste\", \"mafra\", \"mairinque\", \"mairipora\", \"manaus\", \"mandaguari\", \"manoel urbano\", \"mar de espanha\", \"maracas\", \"marau\", \"mari\", \"mariana\", \"marica\", \"marilia\", \"maringa\", \"maua\", \"meleiro\", \"mesquita\", \"miguel pereira\", \"minacu\", \"mineiros\", \"miranda\", \"mirinzal\", \"mogi das cruzes\", \"mogi mirim\", \"mogi-guacu\", \"monte azul paulista\", \"monte carmelo\", \"monte castelo\", \"monte mor\", \"monte siao\", \"montenegro\", \"montes claros\", \"morro agudo\", \"morungaba\", \"muriae\", \"nanuque\", \"natal\", \"nilopolis\", \"niteroi\", \"nova era\", \"nova fatima\", \"nova friburgo\", \"nova iguacu\", \"nova lima\", \"nova prata\", \"novo hamburgo\", \"oeiras do para\", \"olinda\", \"oliveira\", \"osasco\", \"osvaldo cruz\", \"ouro branco\", \"ouro preto\", \"padre bernardo\", \"padre gonzales\", \"paicandu\", \"paineiras\", \"palmas\", \"palmeiras de goias\", \"palmital\", \"paraibuna\", \"parapua\", \"passa tres\", \"passo fundo\", \"pato branco\", \"patos\", \"patos de minas\", \"pau d'arco\", \"paulinia\", \"paulo afonso\", \"pedro leopoldo\", \"pelotas\", \"petropolis\", \"picui\", \"pilar do sul\", \"pindoba\", \"pinhais\", \"piquete\", \"piracicaba\", \"pirapozinho\", \"piraquara\", \"poa\", \"pocao\", \"pocos de caldas\", \"ponta grossa\", \"porecatu\", \"porto alegre\", \"porto feliz\", \"porto ferreira\", \"porto uniao\", \"pouso alegre\", \"praia grande\", \"presidente epitacio\", \"primavera do leste\", \"primeiro de maio\", \"quadra\", \"queimadas\", \"quintana\", \"quixeramobim\", \"rancharia\", \"recife\", \"remanso\", \"ribeirao cascalheira\", \"ribeirao das neves\", \"ribeirao pires\", \"ribeirao preto\", \"rio acima\", \"rio branco\", \"rio claro\", \"rio das flores\", \"rio das ostras\", \"rio de contas\", \"rio de janeiro\", \"rio grande\", \"rio grande da serra\", \"rondonopolis\", \"roseira\", \"sacramento\", \"salto\", \"salto de pirapora\", \"salvador\", \"santa barbara d'oeste\", \"santa helena de goias\", \"santa isabel do ivai\", \"santa luzia\", \"santa maria\", \"santana\", \"santana de parnaiba\", \"santo amaro\", \"santo andre\", \"santo angelo\", \"santo antonio de jesus\", \"santo antonio de padua\", \"santo antonio de posse\", \"santos\", \"sao bento do sul\", \"sao bernardo do campo\", \"sao caetano do sul\", \"sao carlos\", \"sao cristovao\", \"sao francisco do sul\", \"sao goncalo\", \"sao goncalo do sapucai\", \"sao gotardo\", \"sao joao das missoes\", \"sao joao de meriti\", \"sao joao evangelista\", \"sao jose\", \"sao jose do campestre\", \"sao jose do ouro\", \"sao jose do rio pardo\", \"sao jose do rio preto\", \"sao jose dos campos\", \"sao jose dos pinhais\", \"sao leopoldo\", \"sao luis\", \"sao luis do curu\", \"sao mateus\", \"sao mateus do sul\", \"sao paulo\", \"sao roque\", \"sao vicente\", \"sapucaia do sul\", \"satubinha\", \"senador canedo\", \"senador guiomard\", \"serafina correa\", \"seropedica\", \"serra\", \"serrana\", \"serrolandia\", \"sete barras\", \"sete lagoas\", \"socorro\", \"soledade de minas\", \"sorocaba\", \"sucesso\", \"sumare\", \"suzano\", \"taboao da serra\", \"tangua\", \"tatui\", \"taubate\", \"teodoro sampaio\", \"teofilo otoni\", \"teolandia\", \"teresina\", \"teresopolis\", \"tiangua\", \"tiete\", \"trindade\", \"tubarao\", \"tupa\", \"uba\", \"ubatuba\", \"uberaba\", \"uberlandia\", \"urai\", \"vacaria\", \"valinhos\", \"varginha\", \"vazante\", \"veranopolis\", \"viamao\", \"viana\", \"vicosa\", \"vila velha\", \"vilhena\", \"vitoria\", \"volta redonda\", \"votorantim\", \"wagner\", \"xanxere\"], \"xaxis\": \"x\", \"y\": [1, 1, 1, 2, 1, 1, 8, 3, 1, 1, 1, 1, 2, 1, 1, 2, 2, 1, 1, 2, 2, 1, 1, 1, 1, 1, 1, 1, 1, 1, 1, 4, 1, 1, 9, 5, 2, 9, 4, 39, 4, 2, 4, 2, 2, 1, 1, 1, 3, 1, 1, 17, 2, 1, 1, 1, 1, 1, 2, 2, 2, 1, 1, 1, 3, 1, 1, 3, 1, 2, 28, 1, 8, 1, 1, 1, 5, 1, 1, 1, 1, 2, 7, 2, 1, 1, 2, 1, 1, 1, 1, 3, 1, 1, 1, 1, 1, 1, 1, 1, 2, 2, 2, 4, 3, 1, 1, 1, 1, 2, 1, 27, 1, 1, 1, 4, 1, 2, 1, 1, 1, 2, 5, 3, 2, 2, 1, 1, 4, 1, 3, 1, 7, 1, 1, 12, 2, 1, 1, 7, 1, 2, 1, 1, 1, 1, 2, 3, 1, 2, 36, 1, 5, 1, 1, 1, 1, 1, 1, 1, 2, 1, 1, 1, 3, 1, 1, 2, 2, 6, 1, 1, 1, 2, 1, 1, 5, 1, 1, 2, 3, 2, 2, 3, 2, 1, 3, 1, 2, 1, 8, 1, 1, 2, 2, 2, 1, 1, 1, 1, 1, 1, 2, 4, 6, 1, 1, 1, 11, 3, 1, 1, 1, 1, 1, 3, 1, 2, 1, 2, 1, 1, 5, 1, 3, 1, 1, 5, 1, 3, 1, 2, 2, 1, 2, 1, 1, 1, 1, 1, 1, 3, 2, 3, 1, 9, 1, 3, 1, 1, 1, 1, 1, 5, 1, 6, 1, 1, 1, 2, 1, 1, 2, 1, 1, 1, 1, 4, 2, 16, 1, 1, 1, 5, 1, 1, 4, 1, 2, 1, 24, 1, 1, 1, 1, 1, 2, 1, 3, 1, 1, 1, 1, 1, 3, 1, 1, 1, 1, 3, 1, 1, 2, 2, 1, 1, 1, 3, 1, 5, 1, 2, 1, 1, 1, 2, 1, 21, 1, 1, 1, 2, 9, 1, 1, 1, 1, 1, 1, 1, 1, 12, 1, 1, 2, 2, 12, 1, 1, 3, 1, 1, 1, 114, 2, 1, 1, 1, 1, 3, 1, 19, 2, 1, 1, 1, 2, 1, 1, 1, 13, 1, 2, 3, 2, 12, 1, 19, 1, 2, 1, 1, 4, 1, 1, 1, 1, 1, 4, 1, 1, 1, 5, 12, 4, 1, 1, 1, 2, 1, 295, 1, 5, 1, 1, 1, 1, 1, 1, 3, 1, 1, 1, 3, 1, 1, 15, 1, 6, 1, 9, 1, 1, 4, 2, 1, 1, 9, 3, 1, 1, 1, 1, 1, 2, 2, 3, 3, 1, 1, 3, 3, 1, 1, 2, 2, 2, 8, 1, 4, 2, 1, 1, 1], \"yaxis\": \"y\"}, {\"alignmentgroup\": \"True\", \"hovertemplate\": \"payment_type=not_defined<br>customer_city=%{x}<br>customer_id=%{y}<extra></extra>\", \"legendgroup\": \"not_defined\", \"marker\": {\"color\": \"#FFA15A\"}, \"name\": \"not_defined\", \"offsetgroup\": \"not_defined\", \"orientation\": \"v\", \"showlegend\": true, \"textposition\": \"auto\", \"type\": \"bar\", \"x\": [\"sao paulo\"], \"xaxis\": \"x\", \"y\": [3], \"yaxis\": \"y\"}],                        {\"barmode\": \"group\", \"legend\": {\"title\": {\"text\": \"payment_type\"}, \"tracegroupgap\": 0}, \"template\": {\"data\": {\"bar\": [{\"error_x\": {\"color\": \"#2a3f5f\"}, \"error_y\": {\"color\": \"#2a3f5f\"}, \"marker\": {\"line\": {\"color\": \"#E5ECF6\", \"width\": 0.5}}, \"type\": \"bar\"}], \"barpolar\": [{\"marker\": {\"line\": {\"color\": \"#E5ECF6\", \"width\": 0.5}}, \"type\": \"barpolar\"}], \"carpet\": [{\"aaxis\": {\"endlinecolor\": \"#2a3f5f\", \"gridcolor\": \"white\", \"linecolor\": \"white\", \"minorgridcolor\": \"white\", \"startlinecolor\": \"#2a3f5f\"}, \"baxis\": {\"endlinecolor\": \"#2a3f5f\", \"gridcolor\": \"white\", \"linecolor\": \"white\", \"minorgridcolor\": \"white\", \"startlinecolor\": \"#2a3f5f\"}, \"type\": \"carpet\"}], \"choropleth\": [{\"colorbar\": {\"outlinewidth\": 0, \"ticks\": \"\"}, \"type\": \"choropleth\"}], \"contour\": [{\"colorbar\": {\"outlinewidth\": 0, \"ticks\": \"\"}, \"colorscale\": [[0.0, \"#0d0887\"], [0.1111111111111111, \"#46039f\"], [0.2222222222222222, \"#7201a8\"], [0.3333333333333333, \"#9c179e\"], [0.4444444444444444, \"#bd3786\"], [0.5555555555555556, \"#d8576b\"], [0.6666666666666666, \"#ed7953\"], [0.7777777777777778, \"#fb9f3a\"], [0.8888888888888888, \"#fdca26\"], [1.0, \"#f0f921\"]], \"type\": \"contour\"}], \"contourcarpet\": [{\"colorbar\": {\"outlinewidth\": 0, \"ticks\": \"\"}, \"type\": \"contourcarpet\"}], \"heatmap\": [{\"colorbar\": {\"outlinewidth\": 0, \"ticks\": \"\"}, \"colorscale\": [[0.0, \"#0d0887\"], [0.1111111111111111, \"#46039f\"], [0.2222222222222222, \"#7201a8\"], [0.3333333333333333, \"#9c179e\"], [0.4444444444444444, \"#bd3786\"], [0.5555555555555556, \"#d8576b\"], [0.6666666666666666, \"#ed7953\"], [0.7777777777777778, \"#fb9f3a\"], [0.8888888888888888, \"#fdca26\"], [1.0, \"#f0f921\"]], \"type\": \"heatmap\"}], \"heatmapgl\": [{\"colorbar\": {\"outlinewidth\": 0, \"ticks\": \"\"}, \"colorscale\": [[0.0, \"#0d0887\"], [0.1111111111111111, \"#46039f\"], [0.2222222222222222, \"#7201a8\"], [0.3333333333333333, \"#9c179e\"], [0.4444444444444444, \"#bd3786\"], [0.5555555555555556, \"#d8576b\"], [0.6666666666666666, \"#ed7953\"], [0.7777777777777778, \"#fb9f3a\"], [0.8888888888888888, \"#fdca26\"], [1.0, \"#f0f921\"]], \"type\": \"heatmapgl\"}], \"histogram\": [{\"marker\": {\"colorbar\": {\"outlinewidth\": 0, \"ticks\": \"\"}}, \"type\": \"histogram\"}], \"histogram2d\": [{\"colorbar\": {\"outlinewidth\": 0, \"ticks\": \"\"}, \"colorscale\": [[0.0, \"#0d0887\"], [0.1111111111111111, \"#46039f\"], [0.2222222222222222, \"#7201a8\"], [0.3333333333333333, \"#9c179e\"], [0.4444444444444444, \"#bd3786\"], [0.5555555555555556, \"#d8576b\"], [0.6666666666666666, \"#ed7953\"], [0.7777777777777778, \"#fb9f3a\"], [0.8888888888888888, \"#fdca26\"], [1.0, \"#f0f921\"]], \"type\": \"histogram2d\"}], \"histogram2dcontour\": [{\"colorbar\": {\"outlinewidth\": 0, \"ticks\": \"\"}, \"colorscale\": [[0.0, \"#0d0887\"], [0.1111111111111111, \"#46039f\"], [0.2222222222222222, \"#7201a8\"], [0.3333333333333333, \"#9c179e\"], [0.4444444444444444, \"#bd3786\"], [0.5555555555555556, \"#d8576b\"], [0.6666666666666666, \"#ed7953\"], [0.7777777777777778, \"#fb9f3a\"], [0.8888888888888888, \"#fdca26\"], [1.0, \"#f0f921\"]], \"type\": \"histogram2dcontour\"}], \"mesh3d\": [{\"colorbar\": {\"outlinewidth\": 0, \"ticks\": \"\"}, \"type\": \"mesh3d\"}], \"parcoords\": [{\"line\": {\"colorbar\": {\"outlinewidth\": 0, \"ticks\": \"\"}}, \"type\": \"parcoords\"}], \"pie\": [{\"automargin\": true, \"type\": \"pie\"}], \"scatter\": [{\"marker\": {\"colorbar\": {\"outlinewidth\": 0, \"ticks\": \"\"}}, \"type\": \"scatter\"}], \"scatter3d\": [{\"line\": {\"colorbar\": {\"outlinewidth\": 0, \"ticks\": \"\"}}, \"marker\": {\"colorbar\": {\"outlinewidth\": 0, \"ticks\": \"\"}}, \"type\": \"scatter3d\"}], \"scattercarpet\": [{\"marker\": {\"colorbar\": {\"outlinewidth\": 0, \"ticks\": \"\"}}, \"type\": \"scattercarpet\"}], \"scattergeo\": [{\"marker\": {\"colorbar\": {\"outlinewidth\": 0, \"ticks\": \"\"}}, \"type\": \"scattergeo\"}], \"scattergl\": [{\"marker\": {\"colorbar\": {\"outlinewidth\": 0, \"ticks\": \"\"}}, \"type\": \"scattergl\"}], \"scattermapbox\": [{\"marker\": {\"colorbar\": {\"outlinewidth\": 0, \"ticks\": \"\"}}, \"type\": \"scattermapbox\"}], \"scatterpolar\": [{\"marker\": {\"colorbar\": {\"outlinewidth\": 0, \"ticks\": \"\"}}, \"type\": \"scatterpolar\"}], \"scatterpolargl\": [{\"marker\": {\"colorbar\": {\"outlinewidth\": 0, \"ticks\": \"\"}}, \"type\": \"scatterpolargl\"}], \"scatterternary\": [{\"marker\": {\"colorbar\": {\"outlinewidth\": 0, \"ticks\": \"\"}}, \"type\": \"scatterternary\"}], \"surface\": [{\"colorbar\": {\"outlinewidth\": 0, \"ticks\": \"\"}, \"colorscale\": [[0.0, \"#0d0887\"], [0.1111111111111111, \"#46039f\"], [0.2222222222222222, \"#7201a8\"], [0.3333333333333333, \"#9c179e\"], [0.4444444444444444, \"#bd3786\"], [0.5555555555555556, \"#d8576b\"], [0.6666666666666666, \"#ed7953\"], [0.7777777777777778, \"#fb9f3a\"], [0.8888888888888888, \"#fdca26\"], [1.0, \"#f0f921\"]], \"type\": \"surface\"}], \"table\": [{\"cells\": {\"fill\": {\"color\": \"#EBF0F8\"}, \"line\": {\"color\": \"white\"}}, \"header\": {\"fill\": {\"color\": \"#C8D4E3\"}, \"line\": {\"color\": \"white\"}}, \"type\": \"table\"}]}, \"layout\": {\"annotationdefaults\": {\"arrowcolor\": \"#2a3f5f\", \"arrowhead\": 0, \"arrowwidth\": 1}, \"coloraxis\": {\"colorbar\": {\"outlinewidth\": 0, \"ticks\": \"\"}}, \"colorscale\": {\"diverging\": [[0, \"#8e0152\"], [0.1, \"#c51b7d\"], [0.2, \"#de77ae\"], [0.3, \"#f1b6da\"], [0.4, \"#fde0ef\"], [0.5, \"#f7f7f7\"], [0.6, \"#e6f5d0\"], [0.7, \"#b8e186\"], [0.8, \"#7fbc41\"], [0.9, \"#4d9221\"], [1, \"#276419\"]], \"sequential\": [[0.0, \"#0d0887\"], [0.1111111111111111, \"#46039f\"], [0.2222222222222222, \"#7201a8\"], [0.3333333333333333, \"#9c179e\"], [0.4444444444444444, \"#bd3786\"], [0.5555555555555556, \"#d8576b\"], [0.6666666666666666, \"#ed7953\"], [0.7777777777777778, \"#fb9f3a\"], [0.8888888888888888, \"#fdca26\"], [1.0, \"#f0f921\"]], \"sequentialminus\": [[0.0, \"#0d0887\"], [0.1111111111111111, \"#46039f\"], [0.2222222222222222, \"#7201a8\"], [0.3333333333333333, \"#9c179e\"], [0.4444444444444444, \"#bd3786\"], [0.5555555555555556, \"#d8576b\"], [0.6666666666666666, \"#ed7953\"], [0.7777777777777778, \"#fb9f3a\"], [0.8888888888888888, \"#fdca26\"], [1.0, \"#f0f921\"]]}, \"colorway\": [\"#636efa\", \"#EF553B\", \"#00cc96\", \"#ab63fa\", \"#FFA15A\", \"#19d3f3\", \"#FF6692\", \"#B6E880\", \"#FF97FF\", \"#FECB52\"], \"font\": {\"color\": \"#2a3f5f\"}, \"geo\": {\"bgcolor\": \"white\", \"lakecolor\": \"white\", \"landcolor\": \"#E5ECF6\", \"showlakes\": true, \"showland\": true, \"subunitcolor\": \"white\"}, \"hoverlabel\": {\"align\": \"left\"}, \"hovermode\": \"closest\", \"mapbox\": {\"style\": \"light\"}, \"paper_bgcolor\": \"white\", \"plot_bgcolor\": \"#E5ECF6\", \"polar\": {\"angularaxis\": {\"gridcolor\": \"white\", \"linecolor\": \"white\", \"ticks\": \"\"}, \"bgcolor\": \"#E5ECF6\", \"radialaxis\": {\"gridcolor\": \"white\", \"linecolor\": \"white\", \"ticks\": \"\"}}, \"scene\": {\"xaxis\": {\"backgroundcolor\": \"#E5ECF6\", \"gridcolor\": \"white\", \"gridwidth\": 2, \"linecolor\": \"white\", \"showbackground\": true, \"ticks\": \"\", \"zerolinecolor\": \"white\"}, \"yaxis\": {\"backgroundcolor\": \"#E5ECF6\", \"gridcolor\": \"white\", \"gridwidth\": 2, \"linecolor\": \"white\", \"showbackground\": true, \"ticks\": \"\", \"zerolinecolor\": \"white\"}, \"zaxis\": {\"backgroundcolor\": \"#E5ECF6\", \"gridcolor\": \"white\", \"gridwidth\": 2, \"linecolor\": \"white\", \"showbackground\": true, \"ticks\": \"\", \"zerolinecolor\": \"white\"}}, \"shapedefaults\": {\"line\": {\"color\": \"#2a3f5f\"}}, \"ternary\": {\"aaxis\": {\"gridcolor\": \"white\", \"linecolor\": \"white\", \"ticks\": \"\"}, \"baxis\": {\"gridcolor\": \"white\", \"linecolor\": \"white\", \"ticks\": \"\"}, \"bgcolor\": \"#E5ECF6\", \"caxis\": {\"gridcolor\": \"white\", \"linecolor\": \"white\", \"ticks\": \"\"}}, \"title\": {\"x\": 0.05}, \"xaxis\": {\"automargin\": true, \"gridcolor\": \"white\", \"linecolor\": \"white\", \"ticks\": \"\", \"title\": {\"standoff\": 15}, \"zerolinecolor\": \"white\", \"zerolinewidth\": 2}, \"yaxis\": {\"automargin\": true, \"gridcolor\": \"white\", \"linecolor\": \"white\", \"ticks\": \"\", \"title\": {\"standoff\": 15}, \"zerolinecolor\": \"white\", \"zerolinewidth\": 2}}}, \"title\": {\"text\": \"Customer_city X Payment_type\"}, \"xaxis\": {\"anchor\": \"y\", \"domain\": [0.0, 1.0], \"title\": {\"text\": \"customer_city\"}}, \"yaxis\": {\"anchor\": \"x\", \"domain\": [0.0, 1.0], \"title\": {\"text\": \"customer_id\"}}},                        {\"responsive\": true}                    ).then(function(){\n",
              "                            \n",
              "var gd = document.getElementById('a08572ac-3dc7-43c0-8e76-90971f482b49');\n",
              "var x = new MutationObserver(function (mutations, observer) {{\n",
              "        var display = window.getComputedStyle(gd).display;\n",
              "        if (!display || display === 'none') {{\n",
              "            console.log([gd, 'removed!']);\n",
              "            Plotly.purge(gd);\n",
              "            observer.disconnect();\n",
              "        }}\n",
              "}});\n",
              "\n",
              "// Listen for the removal of the full notebook cells\n",
              "var notebookContainer = gd.closest('#notebook-container');\n",
              "if (notebookContainer) {{\n",
              "    x.observe(notebookContainer, {childList: true});\n",
              "}}\n",
              "\n",
              "// Listen for the clearing of the current output cell\n",
              "var outputEl = gd.closest('.output');\n",
              "if (outputEl) {{\n",
              "    x.observe(outputEl, {childList: true});\n",
              "}}\n",
              "\n",
              "                        })                };                            </script>        </div>\n",
              "</body>\n",
              "</html>"
            ]
          },
          "metadata": {
            "tags": []
          }
        }
      ]
    },
    {
      "cell_type": "code",
      "metadata": {
        "id": "F53yThc3C91Q",
        "colab": {
          "base_uri": "https://localhost:8080/"
        },
        "outputId": "1f38b583-efa5-462f-fffb-67624a494ca1"
      },
      "source": [
        "df_top_metodos = df_pagamento_client_id_city.payment_type.value_counts().head(5)\n",
        "df_top_metodos"
      ],
      "execution_count": 23,
      "outputs": [
        {
          "output_type": "execute_result",
          "data": {
            "text/plain": [
              "credit_card    76795\n",
              "boleto         19784\n",
              "voucher         5775\n",
              "debit_card      1529\n",
              "not_defined        3\n",
              "Name: payment_type, dtype: int64"
            ]
          },
          "metadata": {
            "tags": []
          },
          "execution_count": 23
        }
      ]
    },
    {
      "cell_type": "markdown",
      "metadata": {
        "id": "VkDUuggxDop5"
      },
      "source": [
        "Conclui que cartão de credito é o método de pagamento mais utilizado nas cidades, seguido por boleto e voucher"
      ]
    },
    {
      "cell_type": "markdown",
      "metadata": {
        "id": "olhOGSs1C-PX"
      },
      "source": [
        "###Elencando as 5 cidades que mais usam cartões de crédito"
      ]
    },
    {
      "cell_type": "code",
      "metadata": {
        "id": "uvNCc2ewREbV",
        "colab": {
          "base_uri": "https://localhost:8080/",
          "height": 450
        },
        "outputId": "db5f4148-bcb1-4e3f-921f-db932f5ab847"
      },
      "source": [
        "df_plott = ww2.sort_values('order_id',ascending=False)\n",
        "df_plott"
      ],
      "execution_count": 24,
      "outputs": [
        {
          "output_type": "execute_result",
          "data": {
            "text/html": [
              "<div>\n",
              "<style scoped>\n",
              "    .dataframe tbody tr th:only-of-type {\n",
              "        vertical-align: middle;\n",
              "    }\n",
              "\n",
              "    .dataframe tbody tr th {\n",
              "        vertical-align: top;\n",
              "    }\n",
              "\n",
              "    .dataframe thead th {\n",
              "        text-align: right;\n",
              "    }\n",
              "</style>\n",
              "<table border=\"1\" class=\"dataframe\">\n",
              "  <thead>\n",
              "    <tr style=\"text-align: right;\">\n",
              "      <th></th>\n",
              "      <th></th>\n",
              "      <th>order_id</th>\n",
              "      <th>customer_id</th>\n",
              "    </tr>\n",
              "    <tr>\n",
              "      <th>customer_city</th>\n",
              "      <th>payment_type</th>\n",
              "      <th></th>\n",
              "      <th></th>\n",
              "    </tr>\n",
              "  </thead>\n",
              "  <tbody>\n",
              "    <tr>\n",
              "      <th>sao paulo</th>\n",
              "      <th>credit_card</th>\n",
              "      <td>12190</td>\n",
              "      <td>12190</td>\n",
              "    </tr>\n",
              "    <tr>\n",
              "      <th>rio de janeiro</th>\n",
              "      <th>credit_card</th>\n",
              "      <td>5512</td>\n",
              "      <td>5512</td>\n",
              "    </tr>\n",
              "    <tr>\n",
              "      <th>sao paulo</th>\n",
              "      <th>boleto</th>\n",
              "      <td>2783</td>\n",
              "      <td>2783</td>\n",
              "    </tr>\n",
              "    <tr>\n",
              "      <th>belo horizonte</th>\n",
              "      <th>credit_card</th>\n",
              "      <td>2227</td>\n",
              "      <td>2227</td>\n",
              "    </tr>\n",
              "    <tr>\n",
              "      <th>brasilia</th>\n",
              "      <th>credit_card</th>\n",
              "      <td>1688</td>\n",
              "      <td>1688</td>\n",
              "    </tr>\n",
              "    <tr>\n",
              "      <th>...</th>\n",
              "      <th>...</th>\n",
              "      <td>...</td>\n",
              "      <td>...</td>\n",
              "    </tr>\n",
              "    <tr>\n",
              "      <th>fonseca</th>\n",
              "      <th>credit_card</th>\n",
              "      <td>1</td>\n",
              "      <td>1</td>\n",
              "    </tr>\n",
              "    <tr>\n",
              "      <th>florinia</th>\n",
              "      <th>credit_card</th>\n",
              "      <td>1</td>\n",
              "      <td>1</td>\n",
              "    </tr>\n",
              "    <tr>\n",
              "      <th rowspan=\"2\" valign=\"top\">piracuruca</th>\n",
              "      <th>boleto</th>\n",
              "      <td>1</td>\n",
              "      <td>1</td>\n",
              "    </tr>\n",
              "    <tr>\n",
              "      <th>credit_card</th>\n",
              "      <td>1</td>\n",
              "      <td>1</td>\n",
              "    </tr>\n",
              "    <tr>\n",
              "      <th>abadia dos dourados</th>\n",
              "      <th>boleto</th>\n",
              "      <td>1</td>\n",
              "      <td>1</td>\n",
              "    </tr>\n",
              "  </tbody>\n",
              "</table>\n",
              "<p>7499 rows × 2 columns</p>\n",
              "</div>"
            ],
            "text/plain": [
              "                                  order_id  customer_id\n",
              "customer_city       payment_type                       \n",
              "sao paulo           credit_card      12190        12190\n",
              "rio de janeiro      credit_card       5512         5512\n",
              "sao paulo           boleto            2783         2783\n",
              "belo horizonte      credit_card       2227         2227\n",
              "brasilia            credit_card       1688         1688\n",
              "...                                    ...          ...\n",
              "fonseca             credit_card          1            1\n",
              "florinia            credit_card          1            1\n",
              "piracuruca          boleto               1            1\n",
              "                    credit_card          1            1\n",
              "abadia dos dourados boleto               1            1\n",
              "\n",
              "[7499 rows x 2 columns]"
            ]
          },
          "metadata": {
            "tags": []
          },
          "execution_count": 24
        }
      ]
    },
    {
      "cell_type": "code",
      "metadata": {
        "id": "qqpWPku9Sms0",
        "colab": {
          "base_uri": "https://localhost:8080/",
          "height": 450
        },
        "outputId": "74ea72cd-ed6b-41be-eb51-85b9b827974d"
      },
      "source": [
        "df_plottt = df_plot.groupby(by=['payment_type', 'customer_city']).max('order_id')\n",
        "df_plottt"
      ],
      "execution_count": 25,
      "outputs": [
        {
          "output_type": "execute_result",
          "data": {
            "text/html": [
              "<div>\n",
              "<style scoped>\n",
              "    .dataframe tbody tr th:only-of-type {\n",
              "        vertical-align: middle;\n",
              "    }\n",
              "\n",
              "    .dataframe tbody tr th {\n",
              "        vertical-align: top;\n",
              "    }\n",
              "\n",
              "    .dataframe thead th {\n",
              "        text-align: right;\n",
              "    }\n",
              "</style>\n",
              "<table border=\"1\" class=\"dataframe\">\n",
              "  <thead>\n",
              "    <tr style=\"text-align: right;\">\n",
              "      <th></th>\n",
              "      <th></th>\n",
              "      <th>order_id</th>\n",
              "      <th>customer_id</th>\n",
              "    </tr>\n",
              "    <tr>\n",
              "      <th>payment_type</th>\n",
              "      <th>customer_city</th>\n",
              "      <th></th>\n",
              "      <th></th>\n",
              "    </tr>\n",
              "  </thead>\n",
              "  <tbody>\n",
              "    <tr>\n",
              "      <th rowspan=\"5\" valign=\"top\">boleto</th>\n",
              "      <th>abadia dos dourados</th>\n",
              "      <td>1</td>\n",
              "      <td>1</td>\n",
              "    </tr>\n",
              "    <tr>\n",
              "      <th>abaete</th>\n",
              "      <td>4</td>\n",
              "      <td>4</td>\n",
              "    </tr>\n",
              "    <tr>\n",
              "      <th>abre campo</th>\n",
              "      <td>2</td>\n",
              "      <td>2</td>\n",
              "    </tr>\n",
              "    <tr>\n",
              "      <th>abreu e lima</th>\n",
              "      <td>3</td>\n",
              "      <td>3</td>\n",
              "    </tr>\n",
              "    <tr>\n",
              "      <th>acailandia</th>\n",
              "      <td>1</td>\n",
              "      <td>1</td>\n",
              "    </tr>\n",
              "    <tr>\n",
              "      <th>...</th>\n",
              "      <th>...</th>\n",
              "      <td>...</td>\n",
              "      <td>...</td>\n",
              "    </tr>\n",
              "    <tr>\n",
              "      <th rowspan=\"5\" valign=\"top\">voucher</th>\n",
              "      <th>vitoria da conquista</th>\n",
              "      <td>4</td>\n",
              "      <td>4</td>\n",
              "    </tr>\n",
              "    <tr>\n",
              "      <th>volta redonda</th>\n",
              "      <td>8</td>\n",
              "      <td>8</td>\n",
              "    </tr>\n",
              "    <tr>\n",
              "      <th>votorantim</th>\n",
              "      <td>8</td>\n",
              "      <td>8</td>\n",
              "    </tr>\n",
              "    <tr>\n",
              "      <th>xanxere</th>\n",
              "      <td>2</td>\n",
              "      <td>2</td>\n",
              "    </tr>\n",
              "    <tr>\n",
              "      <th>ze doca</th>\n",
              "      <td>1</td>\n",
              "      <td>1</td>\n",
              "    </tr>\n",
              "  </tbody>\n",
              "</table>\n",
              "<p>7499 rows × 2 columns</p>\n",
              "</div>"
            ],
            "text/plain": [
              "                                   order_id  customer_id\n",
              "payment_type customer_city                              \n",
              "boleto       abadia dos dourados          1            1\n",
              "             abaete                       4            4\n",
              "             abre campo                   2            2\n",
              "             abreu e lima                 3            3\n",
              "             acailandia                   1            1\n",
              "...                                     ...          ...\n",
              "voucher      vitoria da conquista         4            4\n",
              "             volta redonda                8            8\n",
              "             votorantim                   8            8\n",
              "             xanxere                      2            2\n",
              "             ze doca                      1            1\n",
              "\n",
              "[7499 rows x 2 columns]"
            ]
          },
          "metadata": {
            "tags": []
          },
          "execution_count": 25
        }
      ]
    },
    {
      "cell_type": "code",
      "metadata": {
        "id": "kJKq6jprUSWa",
        "colab": {
          "base_uri": "https://localhost:8080/",
          "height": 450
        },
        "outputId": "e4ba19a7-ee98-4464-d298-b3a7acbf820d"
      },
      "source": [
        "df_plots = df_plottt.sort_values('payment_type')\n",
        "df_plots"
      ],
      "execution_count": 26,
      "outputs": [
        {
          "output_type": "execute_result",
          "data": {
            "text/html": [
              "<div>\n",
              "<style scoped>\n",
              "    .dataframe tbody tr th:only-of-type {\n",
              "        vertical-align: middle;\n",
              "    }\n",
              "\n",
              "    .dataframe tbody tr th {\n",
              "        vertical-align: top;\n",
              "    }\n",
              "\n",
              "    .dataframe thead th {\n",
              "        text-align: right;\n",
              "    }\n",
              "</style>\n",
              "<table border=\"1\" class=\"dataframe\">\n",
              "  <thead>\n",
              "    <tr style=\"text-align: right;\">\n",
              "      <th></th>\n",
              "      <th></th>\n",
              "      <th>order_id</th>\n",
              "      <th>customer_id</th>\n",
              "    </tr>\n",
              "    <tr>\n",
              "      <th>payment_type</th>\n",
              "      <th>customer_city</th>\n",
              "      <th></th>\n",
              "      <th></th>\n",
              "    </tr>\n",
              "  </thead>\n",
              "  <tbody>\n",
              "    <tr>\n",
              "      <th rowspan=\"5\" valign=\"top\">boleto</th>\n",
              "      <th>abadia dos dourados</th>\n",
              "      <td>1</td>\n",
              "      <td>1</td>\n",
              "    </tr>\n",
              "    <tr>\n",
              "      <th>picarra</th>\n",
              "      <td>1</td>\n",
              "      <td>1</td>\n",
              "    </tr>\n",
              "    <tr>\n",
              "      <th>picos</th>\n",
              "      <td>2</td>\n",
              "      <td>2</td>\n",
              "    </tr>\n",
              "    <tr>\n",
              "      <th>piedade</th>\n",
              "      <td>10</td>\n",
              "      <td>10</td>\n",
              "    </tr>\n",
              "    <tr>\n",
              "      <th>piedade de caratinga</th>\n",
              "      <td>1</td>\n",
              "      <td>1</td>\n",
              "    </tr>\n",
              "    <tr>\n",
              "      <th>...</th>\n",
              "      <th>...</th>\n",
              "      <td>...</td>\n",
              "      <td>...</td>\n",
              "    </tr>\n",
              "    <tr>\n",
              "      <th rowspan=\"5\" valign=\"top\">voucher</th>\n",
              "      <th>gravatai</th>\n",
              "      <td>7</td>\n",
              "      <td>7</td>\n",
              "    </tr>\n",
              "    <tr>\n",
              "      <th>guadalupe</th>\n",
              "      <td>1</td>\n",
              "      <td>1</td>\n",
              "    </tr>\n",
              "    <tr>\n",
              "      <th>guaicara</th>\n",
              "      <td>1</td>\n",
              "      <td>1</td>\n",
              "    </tr>\n",
              "    <tr>\n",
              "      <th>general camara</th>\n",
              "      <td>1</td>\n",
              "      <td>1</td>\n",
              "    </tr>\n",
              "    <tr>\n",
              "      <th>ze doca</th>\n",
              "      <td>1</td>\n",
              "      <td>1</td>\n",
              "    </tr>\n",
              "  </tbody>\n",
              "</table>\n",
              "<p>7499 rows × 2 columns</p>\n",
              "</div>"
            ],
            "text/plain": [
              "                                   order_id  customer_id\n",
              "payment_type customer_city                              \n",
              "boleto       abadia dos dourados          1            1\n",
              "             picarra                      1            1\n",
              "             picos                        2            2\n",
              "             piedade                     10           10\n",
              "             piedade de caratinga         1            1\n",
              "...                                     ...          ...\n",
              "voucher      gravatai                     7            7\n",
              "             guadalupe                    1            1\n",
              "             guaicara                     1            1\n",
              "             general camara               1            1\n",
              "             ze doca                      1            1\n",
              "\n",
              "[7499 rows x 2 columns]"
            ]
          },
          "metadata": {
            "tags": []
          },
          "execution_count": 26
        }
      ]
    },
    {
      "cell_type": "code",
      "metadata": {
        "id": "K_RgxZJWUiy5",
        "colab": {
          "base_uri": "https://localhost:8080/",
          "height": 450
        },
        "outputId": "523effbb-9117-4285-b039-85d1fdf46f55"
      },
      "source": [
        "df_top5_city = df_plots.sort_values('customer_id', ascending=False)\n",
        "df_top5_city"
      ],
      "execution_count": 27,
      "outputs": [
        {
          "output_type": "execute_result",
          "data": {
            "text/html": [
              "<div>\n",
              "<style scoped>\n",
              "    .dataframe tbody tr th:only-of-type {\n",
              "        vertical-align: middle;\n",
              "    }\n",
              "\n",
              "    .dataframe tbody tr th {\n",
              "        vertical-align: top;\n",
              "    }\n",
              "\n",
              "    .dataframe thead th {\n",
              "        text-align: right;\n",
              "    }\n",
              "</style>\n",
              "<table border=\"1\" class=\"dataframe\">\n",
              "  <thead>\n",
              "    <tr style=\"text-align: right;\">\n",
              "      <th></th>\n",
              "      <th></th>\n",
              "      <th>order_id</th>\n",
              "      <th>customer_id</th>\n",
              "    </tr>\n",
              "    <tr>\n",
              "      <th>payment_type</th>\n",
              "      <th>customer_city</th>\n",
              "      <th></th>\n",
              "      <th></th>\n",
              "    </tr>\n",
              "  </thead>\n",
              "  <tbody>\n",
              "    <tr>\n",
              "      <th rowspan=\"2\" valign=\"top\">credit_card</th>\n",
              "      <th>sao paulo</th>\n",
              "      <td>12190</td>\n",
              "      <td>12190</td>\n",
              "    </tr>\n",
              "    <tr>\n",
              "      <th>rio de janeiro</th>\n",
              "      <td>5512</td>\n",
              "      <td>5512</td>\n",
              "    </tr>\n",
              "    <tr>\n",
              "      <th>boleto</th>\n",
              "      <th>sao paulo</th>\n",
              "      <td>2783</td>\n",
              "      <td>2783</td>\n",
              "    </tr>\n",
              "    <tr>\n",
              "      <th rowspan=\"7\" valign=\"top\">credit_card</th>\n",
              "      <th>belo horizonte</th>\n",
              "      <td>2227</td>\n",
              "      <td>2227</td>\n",
              "    </tr>\n",
              "    <tr>\n",
              "      <th>brasilia</th>\n",
              "      <td>1688</td>\n",
              "      <td>1688</td>\n",
              "    </tr>\n",
              "    <tr>\n",
              "      <th>...</th>\n",
              "      <td>...</td>\n",
              "      <td>...</td>\n",
              "    </tr>\n",
              "    <tr>\n",
              "      <th>moema</th>\n",
              "      <td>1</td>\n",
              "      <td>1</td>\n",
              "    </tr>\n",
              "    <tr>\n",
              "      <th>mojui dos campos</th>\n",
              "      <td>1</td>\n",
              "      <td>1</td>\n",
              "    </tr>\n",
              "    <tr>\n",
              "      <th>mombaca</th>\n",
              "      <td>1</td>\n",
              "      <td>1</td>\n",
              "    </tr>\n",
              "    <tr>\n",
              "      <th>mondai</th>\n",
              "      <td>1</td>\n",
              "      <td>1</td>\n",
              "    </tr>\n",
              "    <tr>\n",
              "      <th>voucher</th>\n",
              "      <th>ze doca</th>\n",
              "      <td>1</td>\n",
              "      <td>1</td>\n",
              "    </tr>\n",
              "  </tbody>\n",
              "</table>\n",
              "<p>7499 rows × 2 columns</p>\n",
              "</div>"
            ],
            "text/plain": [
              "                               order_id  customer_id\n",
              "payment_type customer_city                          \n",
              "credit_card  sao paulo            12190        12190\n",
              "             rio de janeiro        5512         5512\n",
              "boleto       sao paulo             2783         2783\n",
              "credit_card  belo horizonte        2227         2227\n",
              "             brasilia              1688         1688\n",
              "...                                 ...          ...\n",
              "             moema                    1            1\n",
              "             mojui dos campos         1            1\n",
              "             mombaca                  1            1\n",
              "             mondai                   1            1\n",
              "voucher      ze doca                  1            1\n",
              "\n",
              "[7499 rows x 2 columns]"
            ]
          },
          "metadata": {
            "tags": []
          },
          "execution_count": 27
        }
      ]
    },
    {
      "cell_type": "code",
      "metadata": {
        "id": "1TyKlGTWVYgC",
        "colab": {
          "base_uri": "https://localhost:8080/",
          "height": 204
        },
        "outputId": "5f015c6a-bae2-4eb4-8158-ff136f3fe4f5"
      },
      "source": [
        "df_plot_top5_city = df_top5_city.reset_index()\n",
        "df_plot_top5_city.head()"
      ],
      "execution_count": 28,
      "outputs": [
        {
          "output_type": "execute_result",
          "data": {
            "text/html": [
              "<div>\n",
              "<style scoped>\n",
              "    .dataframe tbody tr th:only-of-type {\n",
              "        vertical-align: middle;\n",
              "    }\n",
              "\n",
              "    .dataframe tbody tr th {\n",
              "        vertical-align: top;\n",
              "    }\n",
              "\n",
              "    .dataframe thead th {\n",
              "        text-align: right;\n",
              "    }\n",
              "</style>\n",
              "<table border=\"1\" class=\"dataframe\">\n",
              "  <thead>\n",
              "    <tr style=\"text-align: right;\">\n",
              "      <th></th>\n",
              "      <th>payment_type</th>\n",
              "      <th>customer_city</th>\n",
              "      <th>order_id</th>\n",
              "      <th>customer_id</th>\n",
              "    </tr>\n",
              "  </thead>\n",
              "  <tbody>\n",
              "    <tr>\n",
              "      <th>0</th>\n",
              "      <td>credit_card</td>\n",
              "      <td>sao paulo</td>\n",
              "      <td>12190</td>\n",
              "      <td>12190</td>\n",
              "    </tr>\n",
              "    <tr>\n",
              "      <th>1</th>\n",
              "      <td>credit_card</td>\n",
              "      <td>rio de janeiro</td>\n",
              "      <td>5512</td>\n",
              "      <td>5512</td>\n",
              "    </tr>\n",
              "    <tr>\n",
              "      <th>2</th>\n",
              "      <td>boleto</td>\n",
              "      <td>sao paulo</td>\n",
              "      <td>2783</td>\n",
              "      <td>2783</td>\n",
              "    </tr>\n",
              "    <tr>\n",
              "      <th>3</th>\n",
              "      <td>credit_card</td>\n",
              "      <td>belo horizonte</td>\n",
              "      <td>2227</td>\n",
              "      <td>2227</td>\n",
              "    </tr>\n",
              "    <tr>\n",
              "      <th>4</th>\n",
              "      <td>credit_card</td>\n",
              "      <td>brasilia</td>\n",
              "      <td>1688</td>\n",
              "      <td>1688</td>\n",
              "    </tr>\n",
              "  </tbody>\n",
              "</table>\n",
              "</div>"
            ],
            "text/plain": [
              "  payment_type   customer_city  order_id  customer_id\n",
              "0  credit_card       sao paulo     12190        12190\n",
              "1  credit_card  rio de janeiro      5512         5512\n",
              "2       boleto       sao paulo      2783         2783\n",
              "3  credit_card  belo horizonte      2227         2227\n",
              "4  credit_card        brasilia      1688         1688"
            ]
          },
          "metadata": {
            "tags": []
          },
          "execution_count": 28
        }
      ]
    },
    {
      "cell_type": "code",
      "metadata": {
        "id": "FWDf9bW1brWd",
        "colab": {
          "base_uri": "https://localhost:8080/",
          "height": 204
        },
        "outputId": "62e4e4ff-d0b2-444d-c01b-36570e4e799c"
      },
      "source": [
        "df_city_credit = df_plot_top5_city[df_plot_top5_city['payment_type'].str.contains(\"credit_card\")]\n",
        "df_city_credit.head()"
      ],
      "execution_count": 29,
      "outputs": [
        {
          "output_type": "execute_result",
          "data": {
            "text/html": [
              "<div>\n",
              "<style scoped>\n",
              "    .dataframe tbody tr th:only-of-type {\n",
              "        vertical-align: middle;\n",
              "    }\n",
              "\n",
              "    .dataframe tbody tr th {\n",
              "        vertical-align: top;\n",
              "    }\n",
              "\n",
              "    .dataframe thead th {\n",
              "        text-align: right;\n",
              "    }\n",
              "</style>\n",
              "<table border=\"1\" class=\"dataframe\">\n",
              "  <thead>\n",
              "    <tr style=\"text-align: right;\">\n",
              "      <th></th>\n",
              "      <th>payment_type</th>\n",
              "      <th>customer_city</th>\n",
              "      <th>order_id</th>\n",
              "      <th>customer_id</th>\n",
              "    </tr>\n",
              "  </thead>\n",
              "  <tbody>\n",
              "    <tr>\n",
              "      <th>0</th>\n",
              "      <td>credit_card</td>\n",
              "      <td>sao paulo</td>\n",
              "      <td>12190</td>\n",
              "      <td>12190</td>\n",
              "    </tr>\n",
              "    <tr>\n",
              "      <th>1</th>\n",
              "      <td>credit_card</td>\n",
              "      <td>rio de janeiro</td>\n",
              "      <td>5512</td>\n",
              "      <td>5512</td>\n",
              "    </tr>\n",
              "    <tr>\n",
              "      <th>3</th>\n",
              "      <td>credit_card</td>\n",
              "      <td>belo horizonte</td>\n",
              "      <td>2227</td>\n",
              "      <td>2227</td>\n",
              "    </tr>\n",
              "    <tr>\n",
              "      <th>4</th>\n",
              "      <td>credit_card</td>\n",
              "      <td>brasilia</td>\n",
              "      <td>1688</td>\n",
              "      <td>1688</td>\n",
              "    </tr>\n",
              "    <tr>\n",
              "      <th>5</th>\n",
              "      <td>credit_card</td>\n",
              "      <td>curitiba</td>\n",
              "      <td>1134</td>\n",
              "      <td>1134</td>\n",
              "    </tr>\n",
              "  </tbody>\n",
              "</table>\n",
              "</div>"
            ],
            "text/plain": [
              "  payment_type   customer_city  order_id  customer_id\n",
              "0  credit_card       sao paulo     12190        12190\n",
              "1  credit_card  rio de janeiro      5512         5512\n",
              "3  credit_card  belo horizonte      2227         2227\n",
              "4  credit_card        brasilia      1688         1688\n",
              "5  credit_card        curitiba      1134         1134"
            ]
          },
          "metadata": {
            "tags": []
          },
          "execution_count": 29
        }
      ]
    },
    {
      "cell_type": "code",
      "metadata": {
        "id": "PK3nvE22VJfT",
        "colab": {
          "base_uri": "https://localhost:8080/",
          "height": 542
        },
        "outputId": "b75bf523-11f2-4ce2-8889-577de720547e"
      },
      "source": [
        "graf_top5_cities = px.bar(df_city_credit.head(), x='customer_city', y=\"customer_id\" ,color='payment_type', barmode='group', title=\"Quantidade de Vendas com Cartão de Crédito X Cidade\")\n",
        "graf_top5_cities.show()"
      ],
      "execution_count": 30,
      "outputs": [
        {
          "output_type": "display_data",
          "data": {
            "text/html": [
              "<html>\n",
              "<head><meta charset=\"utf-8\" /></head>\n",
              "<body>\n",
              "    <div>            <script src=\"https://cdnjs.cloudflare.com/ajax/libs/mathjax/2.7.5/MathJax.js?config=TeX-AMS-MML_SVG\"></script><script type=\"text/javascript\">if (window.MathJax) {MathJax.Hub.Config({SVG: {font: \"STIX-Web\"}});}</script>                <script type=\"text/javascript\">window.PlotlyConfig = {MathJaxConfig: 'local'};</script>\n",
              "        <script src=\"https://cdn.plot.ly/plotly-latest.min.js\"></script>                <div id=\"ca6bd9d4-e50c-4eee-b926-14b5f37d227f\" class=\"plotly-graph-div\" style=\"height:525px; width:100%;\"></div>            <script type=\"text/javascript\">                                    window.PLOTLYENV=window.PLOTLYENV || {};                                    if (document.getElementById(\"ca6bd9d4-e50c-4eee-b926-14b5f37d227f\")) {                    Plotly.newPlot(                        \"ca6bd9d4-e50c-4eee-b926-14b5f37d227f\",                        [{\"alignmentgroup\": \"True\", \"hovertemplate\": \"payment_type=credit_card<br>customer_city=%{x}<br>customer_id=%{y}<extra></extra>\", \"legendgroup\": \"credit_card\", \"marker\": {\"color\": \"#636efa\"}, \"name\": \"credit_card\", \"offsetgroup\": \"credit_card\", \"orientation\": \"v\", \"showlegend\": true, \"textposition\": \"auto\", \"type\": \"bar\", \"x\": [\"sao paulo\", \"rio de janeiro\", \"belo horizonte\", \"brasilia\", \"curitiba\"], \"xaxis\": \"x\", \"y\": [12190, 5512, 2227, 1688, 1134], \"yaxis\": \"y\"}],                        {\"barmode\": \"group\", \"legend\": {\"title\": {\"text\": \"payment_type\"}, \"tracegroupgap\": 0}, \"template\": {\"data\": {\"bar\": [{\"error_x\": {\"color\": \"#2a3f5f\"}, \"error_y\": {\"color\": \"#2a3f5f\"}, \"marker\": {\"line\": {\"color\": \"#E5ECF6\", \"width\": 0.5}}, \"type\": \"bar\"}], \"barpolar\": [{\"marker\": {\"line\": {\"color\": \"#E5ECF6\", \"width\": 0.5}}, \"type\": \"barpolar\"}], \"carpet\": [{\"aaxis\": {\"endlinecolor\": \"#2a3f5f\", \"gridcolor\": \"white\", \"linecolor\": \"white\", \"minorgridcolor\": \"white\", \"startlinecolor\": \"#2a3f5f\"}, \"baxis\": {\"endlinecolor\": \"#2a3f5f\", \"gridcolor\": \"white\", \"linecolor\": \"white\", \"minorgridcolor\": \"white\", \"startlinecolor\": \"#2a3f5f\"}, \"type\": \"carpet\"}], \"choropleth\": [{\"colorbar\": {\"outlinewidth\": 0, \"ticks\": \"\"}, \"type\": \"choropleth\"}], \"contour\": [{\"colorbar\": {\"outlinewidth\": 0, \"ticks\": \"\"}, \"colorscale\": [[0.0, \"#0d0887\"], [0.1111111111111111, \"#46039f\"], [0.2222222222222222, \"#7201a8\"], [0.3333333333333333, \"#9c179e\"], [0.4444444444444444, \"#bd3786\"], [0.5555555555555556, \"#d8576b\"], [0.6666666666666666, \"#ed7953\"], [0.7777777777777778, \"#fb9f3a\"], [0.8888888888888888, \"#fdca26\"], [1.0, \"#f0f921\"]], \"type\": \"contour\"}], \"contourcarpet\": [{\"colorbar\": {\"outlinewidth\": 0, \"ticks\": \"\"}, \"type\": \"contourcarpet\"}], \"heatmap\": [{\"colorbar\": {\"outlinewidth\": 0, \"ticks\": \"\"}, \"colorscale\": [[0.0, \"#0d0887\"], [0.1111111111111111, \"#46039f\"], [0.2222222222222222, \"#7201a8\"], [0.3333333333333333, \"#9c179e\"], [0.4444444444444444, \"#bd3786\"], [0.5555555555555556, \"#d8576b\"], [0.6666666666666666, \"#ed7953\"], [0.7777777777777778, \"#fb9f3a\"], [0.8888888888888888, \"#fdca26\"], [1.0, \"#f0f921\"]], \"type\": \"heatmap\"}], \"heatmapgl\": [{\"colorbar\": {\"outlinewidth\": 0, \"ticks\": \"\"}, \"colorscale\": [[0.0, \"#0d0887\"], [0.1111111111111111, \"#46039f\"], [0.2222222222222222, \"#7201a8\"], [0.3333333333333333, \"#9c179e\"], [0.4444444444444444, \"#bd3786\"], [0.5555555555555556, \"#d8576b\"], [0.6666666666666666, \"#ed7953\"], [0.7777777777777778, \"#fb9f3a\"], [0.8888888888888888, \"#fdca26\"], [1.0, \"#f0f921\"]], \"type\": \"heatmapgl\"}], \"histogram\": [{\"marker\": {\"colorbar\": {\"outlinewidth\": 0, \"ticks\": \"\"}}, \"type\": \"histogram\"}], \"histogram2d\": [{\"colorbar\": {\"outlinewidth\": 0, \"ticks\": \"\"}, \"colorscale\": [[0.0, \"#0d0887\"], [0.1111111111111111, \"#46039f\"], [0.2222222222222222, \"#7201a8\"], [0.3333333333333333, \"#9c179e\"], [0.4444444444444444, \"#bd3786\"], [0.5555555555555556, \"#d8576b\"], [0.6666666666666666, \"#ed7953\"], [0.7777777777777778, \"#fb9f3a\"], [0.8888888888888888, \"#fdca26\"], [1.0, \"#f0f921\"]], \"type\": \"histogram2d\"}], \"histogram2dcontour\": [{\"colorbar\": {\"outlinewidth\": 0, \"ticks\": \"\"}, \"colorscale\": [[0.0, \"#0d0887\"], [0.1111111111111111, \"#46039f\"], [0.2222222222222222, \"#7201a8\"], [0.3333333333333333, \"#9c179e\"], [0.4444444444444444, \"#bd3786\"], [0.5555555555555556, \"#d8576b\"], [0.6666666666666666, \"#ed7953\"], [0.7777777777777778, \"#fb9f3a\"], [0.8888888888888888, \"#fdca26\"], [1.0, \"#f0f921\"]], \"type\": \"histogram2dcontour\"}], \"mesh3d\": [{\"colorbar\": {\"outlinewidth\": 0, \"ticks\": \"\"}, \"type\": \"mesh3d\"}], \"parcoords\": [{\"line\": {\"colorbar\": {\"outlinewidth\": 0, \"ticks\": \"\"}}, \"type\": \"parcoords\"}], \"pie\": [{\"automargin\": true, \"type\": \"pie\"}], \"scatter\": [{\"marker\": {\"colorbar\": {\"outlinewidth\": 0, \"ticks\": \"\"}}, \"type\": \"scatter\"}], \"scatter3d\": [{\"line\": {\"colorbar\": {\"outlinewidth\": 0, \"ticks\": \"\"}}, \"marker\": {\"colorbar\": {\"outlinewidth\": 0, \"ticks\": \"\"}}, \"type\": \"scatter3d\"}], \"scattercarpet\": [{\"marker\": {\"colorbar\": {\"outlinewidth\": 0, \"ticks\": \"\"}}, \"type\": \"scattercarpet\"}], \"scattergeo\": [{\"marker\": {\"colorbar\": {\"outlinewidth\": 0, \"ticks\": \"\"}}, \"type\": \"scattergeo\"}], \"scattergl\": [{\"marker\": {\"colorbar\": {\"outlinewidth\": 0, \"ticks\": \"\"}}, \"type\": \"scattergl\"}], \"scattermapbox\": [{\"marker\": {\"colorbar\": {\"outlinewidth\": 0, \"ticks\": \"\"}}, \"type\": \"scattermapbox\"}], \"scatterpolar\": [{\"marker\": {\"colorbar\": {\"outlinewidth\": 0, \"ticks\": \"\"}}, \"type\": \"scatterpolar\"}], \"scatterpolargl\": [{\"marker\": {\"colorbar\": {\"outlinewidth\": 0, \"ticks\": \"\"}}, \"type\": \"scatterpolargl\"}], \"scatterternary\": [{\"marker\": {\"colorbar\": {\"outlinewidth\": 0, \"ticks\": \"\"}}, \"type\": \"scatterternary\"}], \"surface\": [{\"colorbar\": {\"outlinewidth\": 0, \"ticks\": \"\"}, \"colorscale\": [[0.0, \"#0d0887\"], [0.1111111111111111, \"#46039f\"], [0.2222222222222222, \"#7201a8\"], [0.3333333333333333, \"#9c179e\"], [0.4444444444444444, \"#bd3786\"], [0.5555555555555556, \"#d8576b\"], [0.6666666666666666, \"#ed7953\"], [0.7777777777777778, \"#fb9f3a\"], [0.8888888888888888, \"#fdca26\"], [1.0, \"#f0f921\"]], \"type\": \"surface\"}], \"table\": [{\"cells\": {\"fill\": {\"color\": \"#EBF0F8\"}, \"line\": {\"color\": \"white\"}}, \"header\": {\"fill\": {\"color\": \"#C8D4E3\"}, \"line\": {\"color\": \"white\"}}, \"type\": \"table\"}]}, \"layout\": {\"annotationdefaults\": {\"arrowcolor\": \"#2a3f5f\", \"arrowhead\": 0, \"arrowwidth\": 1}, \"coloraxis\": {\"colorbar\": {\"outlinewidth\": 0, \"ticks\": \"\"}}, \"colorscale\": {\"diverging\": [[0, \"#8e0152\"], [0.1, \"#c51b7d\"], [0.2, \"#de77ae\"], [0.3, \"#f1b6da\"], [0.4, \"#fde0ef\"], [0.5, \"#f7f7f7\"], [0.6, \"#e6f5d0\"], [0.7, \"#b8e186\"], [0.8, \"#7fbc41\"], [0.9, \"#4d9221\"], [1, \"#276419\"]], \"sequential\": [[0.0, \"#0d0887\"], [0.1111111111111111, \"#46039f\"], [0.2222222222222222, \"#7201a8\"], [0.3333333333333333, \"#9c179e\"], [0.4444444444444444, \"#bd3786\"], [0.5555555555555556, \"#d8576b\"], [0.6666666666666666, \"#ed7953\"], [0.7777777777777778, \"#fb9f3a\"], [0.8888888888888888, \"#fdca26\"], [1.0, \"#f0f921\"]], \"sequentialminus\": [[0.0, \"#0d0887\"], [0.1111111111111111, \"#46039f\"], [0.2222222222222222, \"#7201a8\"], [0.3333333333333333, \"#9c179e\"], [0.4444444444444444, \"#bd3786\"], [0.5555555555555556, \"#d8576b\"], [0.6666666666666666, \"#ed7953\"], [0.7777777777777778, \"#fb9f3a\"], [0.8888888888888888, \"#fdca26\"], [1.0, \"#f0f921\"]]}, \"colorway\": [\"#636efa\", \"#EF553B\", \"#00cc96\", \"#ab63fa\", \"#FFA15A\", \"#19d3f3\", \"#FF6692\", \"#B6E880\", \"#FF97FF\", \"#FECB52\"], \"font\": {\"color\": \"#2a3f5f\"}, \"geo\": {\"bgcolor\": \"white\", \"lakecolor\": \"white\", \"landcolor\": \"#E5ECF6\", \"showlakes\": true, \"showland\": true, \"subunitcolor\": \"white\"}, \"hoverlabel\": {\"align\": \"left\"}, \"hovermode\": \"closest\", \"mapbox\": {\"style\": \"light\"}, \"paper_bgcolor\": \"white\", \"plot_bgcolor\": \"#E5ECF6\", \"polar\": {\"angularaxis\": {\"gridcolor\": \"white\", \"linecolor\": \"white\", \"ticks\": \"\"}, \"bgcolor\": \"#E5ECF6\", \"radialaxis\": {\"gridcolor\": \"white\", \"linecolor\": \"white\", \"ticks\": \"\"}}, \"scene\": {\"xaxis\": {\"backgroundcolor\": \"#E5ECF6\", \"gridcolor\": \"white\", \"gridwidth\": 2, \"linecolor\": \"white\", \"showbackground\": true, \"ticks\": \"\", \"zerolinecolor\": \"white\"}, \"yaxis\": {\"backgroundcolor\": \"#E5ECF6\", \"gridcolor\": \"white\", \"gridwidth\": 2, \"linecolor\": \"white\", \"showbackground\": true, \"ticks\": \"\", \"zerolinecolor\": \"white\"}, \"zaxis\": {\"backgroundcolor\": \"#E5ECF6\", \"gridcolor\": \"white\", \"gridwidth\": 2, \"linecolor\": \"white\", \"showbackground\": true, \"ticks\": \"\", \"zerolinecolor\": \"white\"}}, \"shapedefaults\": {\"line\": {\"color\": \"#2a3f5f\"}}, \"ternary\": {\"aaxis\": {\"gridcolor\": \"white\", \"linecolor\": \"white\", \"ticks\": \"\"}, \"baxis\": {\"gridcolor\": \"white\", \"linecolor\": \"white\", \"ticks\": \"\"}, \"bgcolor\": \"#E5ECF6\", \"caxis\": {\"gridcolor\": \"white\", \"linecolor\": \"white\", \"ticks\": \"\"}}, \"title\": {\"x\": 0.05}, \"xaxis\": {\"automargin\": true, \"gridcolor\": \"white\", \"linecolor\": \"white\", \"ticks\": \"\", \"title\": {\"standoff\": 15}, \"zerolinecolor\": \"white\", \"zerolinewidth\": 2}, \"yaxis\": {\"automargin\": true, \"gridcolor\": \"white\", \"linecolor\": \"white\", \"ticks\": \"\", \"title\": {\"standoff\": 15}, \"zerolinecolor\": \"white\", \"zerolinewidth\": 2}}}, \"title\": {\"text\": \"Quantidade de Vendas com Cart\\u00e3o de Cr\\u00e9dito X Cidade\"}, \"xaxis\": {\"anchor\": \"y\", \"domain\": [0.0, 1.0], \"title\": {\"text\": \"customer_city\"}}, \"yaxis\": {\"anchor\": \"x\", \"domain\": [0.0, 1.0], \"title\": {\"text\": \"customer_id\"}}},                        {\"responsive\": true}                    ).then(function(){\n",
              "                            \n",
              "var gd = document.getElementById('ca6bd9d4-e50c-4eee-b926-14b5f37d227f');\n",
              "var x = new MutationObserver(function (mutations, observer) {{\n",
              "        var display = window.getComputedStyle(gd).display;\n",
              "        if (!display || display === 'none') {{\n",
              "            console.log([gd, 'removed!']);\n",
              "            Plotly.purge(gd);\n",
              "            observer.disconnect();\n",
              "        }}\n",
              "}});\n",
              "\n",
              "// Listen for the removal of the full notebook cells\n",
              "var notebookContainer = gd.closest('#notebook-container');\n",
              "if (notebookContainer) {{\n",
              "    x.observe(notebookContainer, {childList: true});\n",
              "}}\n",
              "\n",
              "// Listen for the clearing of the current output cell\n",
              "var outputEl = gd.closest('.output');\n",
              "if (outputEl) {{\n",
              "    x.observe(outputEl, {childList: true});\n",
              "}}\n",
              "\n",
              "                        })                };                            </script>        </div>\n",
              "</body>\n",
              "</html>"
            ]
          },
          "metadata": {
            "tags": []
          }
        }
      ]
    },
    {
      "cell_type": "markdown",
      "metadata": {
        "id": "sVrXUfkTJ4Yj"
      },
      "source": [
        "## 2) Quais produtos foram parcelados mais vezes?\n"
      ]
    },
    {
      "cell_type": "code",
      "metadata": {
        "id": "DmBrZ2lvFIKj",
        "colab": {
          "base_uri": "https://localhost:8080/",
          "height": 204
        },
        "outputId": "ec0813cb-dafa-4db7-b4fb-40471f54d461"
      },
      "source": [
        "df_left2 = df_compra_pagamentos[['order_id', 'payment_installments']]\n",
        "df_left2.head()"
      ],
      "execution_count": 31,
      "outputs": [
        {
          "output_type": "execute_result",
          "data": {
            "text/html": [
              "<div>\n",
              "<style scoped>\n",
              "    .dataframe tbody tr th:only-of-type {\n",
              "        vertical-align: middle;\n",
              "    }\n",
              "\n",
              "    .dataframe tbody tr th {\n",
              "        vertical-align: top;\n",
              "    }\n",
              "\n",
              "    .dataframe thead th {\n",
              "        text-align: right;\n",
              "    }\n",
              "</style>\n",
              "<table border=\"1\" class=\"dataframe\">\n",
              "  <thead>\n",
              "    <tr style=\"text-align: right;\">\n",
              "      <th></th>\n",
              "      <th>order_id</th>\n",
              "      <th>payment_installments</th>\n",
              "    </tr>\n",
              "  </thead>\n",
              "  <tbody>\n",
              "    <tr>\n",
              "      <th>0</th>\n",
              "      <td>b81ef226f3fe1789b1e8b2acac839d17</td>\n",
              "      <td>8</td>\n",
              "    </tr>\n",
              "    <tr>\n",
              "      <th>1</th>\n",
              "      <td>a9810da82917af2d9aefd1278f1dcfa0</td>\n",
              "      <td>1</td>\n",
              "    </tr>\n",
              "    <tr>\n",
              "      <th>2</th>\n",
              "      <td>25e8ea4e93396b6fa0d3dd708e76c1bd</td>\n",
              "      <td>1</td>\n",
              "    </tr>\n",
              "    <tr>\n",
              "      <th>3</th>\n",
              "      <td>ba78997921bbcdc1373bb41e913ab953</td>\n",
              "      <td>8</td>\n",
              "    </tr>\n",
              "    <tr>\n",
              "      <th>4</th>\n",
              "      <td>42fdf880ba16b47b59251dd489d4441a</td>\n",
              "      <td>2</td>\n",
              "    </tr>\n",
              "  </tbody>\n",
              "</table>\n",
              "</div>"
            ],
            "text/plain": [
              "                           order_id  payment_installments\n",
              "0  b81ef226f3fe1789b1e8b2acac839d17                     8\n",
              "1  a9810da82917af2d9aefd1278f1dcfa0                     1\n",
              "2  25e8ea4e93396b6fa0d3dd708e76c1bd                     1\n",
              "3  ba78997921bbcdc1373bb41e913ab953                     8\n",
              "4  42fdf880ba16b47b59251dd489d4441a                     2"
            ]
          },
          "metadata": {
            "tags": []
          },
          "execution_count": 31
        }
      ]
    },
    {
      "cell_type": "code",
      "metadata": {
        "id": "X3zYSnXRKUDZ",
        "colab": {
          "base_uri": "https://localhost:8080/",
          "height": 204
        },
        "outputId": "3187ef40-466d-4152-9df2-a5089a5fdbc0"
      },
      "source": [
        "df_right3 = df_compra_itens[['order_id', 'product_id']]\n",
        "df_right3.head()"
      ],
      "execution_count": 32,
      "outputs": [
        {
          "output_type": "execute_result",
          "data": {
            "text/html": [
              "<div>\n",
              "<style scoped>\n",
              "    .dataframe tbody tr th:only-of-type {\n",
              "        vertical-align: middle;\n",
              "    }\n",
              "\n",
              "    .dataframe tbody tr th {\n",
              "        vertical-align: top;\n",
              "    }\n",
              "\n",
              "    .dataframe thead th {\n",
              "        text-align: right;\n",
              "    }\n",
              "</style>\n",
              "<table border=\"1\" class=\"dataframe\">\n",
              "  <thead>\n",
              "    <tr style=\"text-align: right;\">\n",
              "      <th></th>\n",
              "      <th>order_id</th>\n",
              "      <th>product_id</th>\n",
              "    </tr>\n",
              "  </thead>\n",
              "  <tbody>\n",
              "    <tr>\n",
              "      <th>0</th>\n",
              "      <td>00010242fe8c5a6d1ba2dd792cb16214</td>\n",
              "      <td>4244733e06e7ecb4970a6e2683c13e61</td>\n",
              "    </tr>\n",
              "    <tr>\n",
              "      <th>1</th>\n",
              "      <td>00018f77f2f0320c557190d7a144bdd3</td>\n",
              "      <td>e5f2d52b802189ee658865ca93d83a8f</td>\n",
              "    </tr>\n",
              "    <tr>\n",
              "      <th>2</th>\n",
              "      <td>000229ec398224ef6ca0657da4fc703e</td>\n",
              "      <td>c777355d18b72b67abbeef9df44fd0fd</td>\n",
              "    </tr>\n",
              "    <tr>\n",
              "      <th>3</th>\n",
              "      <td>00024acbcdf0a6daa1e931b038114c75</td>\n",
              "      <td>7634da152a4610f1595efa32f14722fc</td>\n",
              "    </tr>\n",
              "    <tr>\n",
              "      <th>4</th>\n",
              "      <td>00042b26cf59d7ce69dfabb4e55b4fd9</td>\n",
              "      <td>ac6c3623068f30de03045865e4e10089</td>\n",
              "    </tr>\n",
              "  </tbody>\n",
              "</table>\n",
              "</div>"
            ],
            "text/plain": [
              "                           order_id                        product_id\n",
              "0  00010242fe8c5a6d1ba2dd792cb16214  4244733e06e7ecb4970a6e2683c13e61\n",
              "1  00018f77f2f0320c557190d7a144bdd3  e5f2d52b802189ee658865ca93d83a8f\n",
              "2  000229ec398224ef6ca0657da4fc703e  c777355d18b72b67abbeef9df44fd0fd\n",
              "3  00024acbcdf0a6daa1e931b038114c75  7634da152a4610f1595efa32f14722fc\n",
              "4  00042b26cf59d7ce69dfabb4e55b4fd9  ac6c3623068f30de03045865e4e10089"
            ]
          },
          "metadata": {
            "tags": []
          },
          "execution_count": 32
        }
      ]
    },
    {
      "cell_type": "code",
      "metadata": {
        "id": "wtw-u_83KpOw",
        "colab": {
          "base_uri": "https://localhost:8080/",
          "height": 204
        },
        "outputId": "9ca4a439-e79c-41aa-fa23-79f27ed18ce4"
      },
      "source": [
        "df_pagamento_compra_id = pd.merge(df_left2, df_right3, how='left', on='order_id')\n",
        "df_pagamento_compra_id.head()"
      ],
      "execution_count": 33,
      "outputs": [
        {
          "output_type": "execute_result",
          "data": {
            "text/html": [
              "<div>\n",
              "<style scoped>\n",
              "    .dataframe tbody tr th:only-of-type {\n",
              "        vertical-align: middle;\n",
              "    }\n",
              "\n",
              "    .dataframe tbody tr th {\n",
              "        vertical-align: top;\n",
              "    }\n",
              "\n",
              "    .dataframe thead th {\n",
              "        text-align: right;\n",
              "    }\n",
              "</style>\n",
              "<table border=\"1\" class=\"dataframe\">\n",
              "  <thead>\n",
              "    <tr style=\"text-align: right;\">\n",
              "      <th></th>\n",
              "      <th>order_id</th>\n",
              "      <th>payment_installments</th>\n",
              "      <th>product_id</th>\n",
              "    </tr>\n",
              "  </thead>\n",
              "  <tbody>\n",
              "    <tr>\n",
              "      <th>0</th>\n",
              "      <td>b81ef226f3fe1789b1e8b2acac839d17</td>\n",
              "      <td>8</td>\n",
              "      <td>af74cc53dcffc8384b29e7abfa41902b</td>\n",
              "    </tr>\n",
              "    <tr>\n",
              "      <th>1</th>\n",
              "      <td>a9810da82917af2d9aefd1278f1dcfa0</td>\n",
              "      <td>1</td>\n",
              "      <td>a630cc320a8c872f9de830cf121661a3</td>\n",
              "    </tr>\n",
              "    <tr>\n",
              "      <th>2</th>\n",
              "      <td>25e8ea4e93396b6fa0d3dd708e76c1bd</td>\n",
              "      <td>1</td>\n",
              "      <td>2028bf1b01cafb2d2b1901fca4083222</td>\n",
              "    </tr>\n",
              "    <tr>\n",
              "      <th>3</th>\n",
              "      <td>ba78997921bbcdc1373bb41e913ab953</td>\n",
              "      <td>8</td>\n",
              "      <td>548e5bfe28edceab6b51fa707cc9556f</td>\n",
              "    </tr>\n",
              "    <tr>\n",
              "      <th>4</th>\n",
              "      <td>42fdf880ba16b47b59251dd489d4441a</td>\n",
              "      <td>2</td>\n",
              "      <td>386486367c1f9d4f587a8864ccb6902b</td>\n",
              "    </tr>\n",
              "  </tbody>\n",
              "</table>\n",
              "</div>"
            ],
            "text/plain": [
              "                           order_id  ...                        product_id\n",
              "0  b81ef226f3fe1789b1e8b2acac839d17  ...  af74cc53dcffc8384b29e7abfa41902b\n",
              "1  a9810da82917af2d9aefd1278f1dcfa0  ...  a630cc320a8c872f9de830cf121661a3\n",
              "2  25e8ea4e93396b6fa0d3dd708e76c1bd  ...  2028bf1b01cafb2d2b1901fca4083222\n",
              "3  ba78997921bbcdc1373bb41e913ab953  ...  548e5bfe28edceab6b51fa707cc9556f\n",
              "4  42fdf880ba16b47b59251dd489d4441a  ...  386486367c1f9d4f587a8864ccb6902b\n",
              "\n",
              "[5 rows x 3 columns]"
            ]
          },
          "metadata": {
            "tags": []
          },
          "execution_count": 33
        }
      ]
    },
    {
      "cell_type": "code",
      "metadata": {
        "id": "INX7IPo7K-n3",
        "colab": {
          "base_uri": "https://localhost:8080/",
          "height": 204
        },
        "outputId": "a6214986-0195-452b-dee2-7ce378f9ee1b"
      },
      "source": [
        "df_right4 = df_produtos[['product_id', 'product_category_name']]\n",
        "df_right4.head()"
      ],
      "execution_count": 34,
      "outputs": [
        {
          "output_type": "execute_result",
          "data": {
            "text/html": [
              "<div>\n",
              "<style scoped>\n",
              "    .dataframe tbody tr th:only-of-type {\n",
              "        vertical-align: middle;\n",
              "    }\n",
              "\n",
              "    .dataframe tbody tr th {\n",
              "        vertical-align: top;\n",
              "    }\n",
              "\n",
              "    .dataframe thead th {\n",
              "        text-align: right;\n",
              "    }\n",
              "</style>\n",
              "<table border=\"1\" class=\"dataframe\">\n",
              "  <thead>\n",
              "    <tr style=\"text-align: right;\">\n",
              "      <th></th>\n",
              "      <th>product_id</th>\n",
              "      <th>product_category_name</th>\n",
              "    </tr>\n",
              "  </thead>\n",
              "  <tbody>\n",
              "    <tr>\n",
              "      <th>0</th>\n",
              "      <td>1e9e8ef04dbcff4541ed26657ea517e5</td>\n",
              "      <td>perfumaria</td>\n",
              "    </tr>\n",
              "    <tr>\n",
              "      <th>1</th>\n",
              "      <td>3aa071139cb16b67ca9e5dea641aaa2f</td>\n",
              "      <td>artes</td>\n",
              "    </tr>\n",
              "    <tr>\n",
              "      <th>2</th>\n",
              "      <td>96bd76ec8810374ed1b65e291975717f</td>\n",
              "      <td>esporte_lazer</td>\n",
              "    </tr>\n",
              "    <tr>\n",
              "      <th>3</th>\n",
              "      <td>cef67bcfe19066a932b7673e239eb23d</td>\n",
              "      <td>bebes</td>\n",
              "    </tr>\n",
              "    <tr>\n",
              "      <th>4</th>\n",
              "      <td>9dc1a7de274444849c219cff195d0b71</td>\n",
              "      <td>utilidades_domesticas</td>\n",
              "    </tr>\n",
              "  </tbody>\n",
              "</table>\n",
              "</div>"
            ],
            "text/plain": [
              "                         product_id  product_category_name\n",
              "0  1e9e8ef04dbcff4541ed26657ea517e5             perfumaria\n",
              "1  3aa071139cb16b67ca9e5dea641aaa2f                  artes\n",
              "2  96bd76ec8810374ed1b65e291975717f          esporte_lazer\n",
              "3  cef67bcfe19066a932b7673e239eb23d                  bebes\n",
              "4  9dc1a7de274444849c219cff195d0b71  utilidades_domesticas"
            ]
          },
          "metadata": {
            "tags": []
          },
          "execution_count": 34
        }
      ]
    },
    {
      "cell_type": "code",
      "metadata": {
        "id": "SihawQZ7LOGp",
        "colab": {
          "base_uri": "https://localhost:8080/",
          "height": 204
        },
        "outputId": "225132e5-81dd-4f0d-b9f8-c19378f3a83f"
      },
      "source": [
        "df_pagamento_type_categoria_name = pd.merge(df_pagamento_compra_id, df_right4, how='left', on='product_id')\n",
        "df_pagamento_type_categoria_name.head()"
      ],
      "execution_count": 35,
      "outputs": [
        {
          "output_type": "execute_result",
          "data": {
            "text/html": [
              "<div>\n",
              "<style scoped>\n",
              "    .dataframe tbody tr th:only-of-type {\n",
              "        vertical-align: middle;\n",
              "    }\n",
              "\n",
              "    .dataframe tbody tr th {\n",
              "        vertical-align: top;\n",
              "    }\n",
              "\n",
              "    .dataframe thead th {\n",
              "        text-align: right;\n",
              "    }\n",
              "</style>\n",
              "<table border=\"1\" class=\"dataframe\">\n",
              "  <thead>\n",
              "    <tr style=\"text-align: right;\">\n",
              "      <th></th>\n",
              "      <th>order_id</th>\n",
              "      <th>payment_installments</th>\n",
              "      <th>product_id</th>\n",
              "      <th>product_category_name</th>\n",
              "    </tr>\n",
              "  </thead>\n",
              "  <tbody>\n",
              "    <tr>\n",
              "      <th>0</th>\n",
              "      <td>b81ef226f3fe1789b1e8b2acac839d17</td>\n",
              "      <td>8</td>\n",
              "      <td>af74cc53dcffc8384b29e7abfa41902b</td>\n",
              "      <td>casa_construcao</td>\n",
              "    </tr>\n",
              "    <tr>\n",
              "      <th>1</th>\n",
              "      <td>a9810da82917af2d9aefd1278f1dcfa0</td>\n",
              "      <td>1</td>\n",
              "      <td>a630cc320a8c872f9de830cf121661a3</td>\n",
              "      <td>automotivo</td>\n",
              "    </tr>\n",
              "    <tr>\n",
              "      <th>2</th>\n",
              "      <td>25e8ea4e93396b6fa0d3dd708e76c1bd</td>\n",
              "      <td>1</td>\n",
              "      <td>2028bf1b01cafb2d2b1901fca4083222</td>\n",
              "      <td>perfumaria</td>\n",
              "    </tr>\n",
              "    <tr>\n",
              "      <th>3</th>\n",
              "      <td>ba78997921bbcdc1373bb41e913ab953</td>\n",
              "      <td>8</td>\n",
              "      <td>548e5bfe28edceab6b51fa707cc9556f</td>\n",
              "      <td>cama_mesa_banho</td>\n",
              "    </tr>\n",
              "    <tr>\n",
              "      <th>4</th>\n",
              "      <td>42fdf880ba16b47b59251dd489d4441a</td>\n",
              "      <td>2</td>\n",
              "      <td>386486367c1f9d4f587a8864ccb6902b</td>\n",
              "      <td>cama_mesa_banho</td>\n",
              "    </tr>\n",
              "  </tbody>\n",
              "</table>\n",
              "</div>"
            ],
            "text/plain": [
              "                           order_id  ...  product_category_name\n",
              "0  b81ef226f3fe1789b1e8b2acac839d17  ...        casa_construcao\n",
              "1  a9810da82917af2d9aefd1278f1dcfa0  ...             automotivo\n",
              "2  25e8ea4e93396b6fa0d3dd708e76c1bd  ...             perfumaria\n",
              "3  ba78997921bbcdc1373bb41e913ab953  ...        cama_mesa_banho\n",
              "4  42fdf880ba16b47b59251dd489d4441a  ...        cama_mesa_banho\n",
              "\n",
              "[5 rows x 4 columns]"
            ]
          },
          "metadata": {
            "tags": []
          },
          "execution_count": 35
        }
      ]
    },
    {
      "cell_type": "code",
      "metadata": {
        "id": "yRHqU-qZL7Gs",
        "colab": {
          "base_uri": "https://localhost:8080/"
        },
        "outputId": "64f4aba1-e4c0-4a44-d267-e2e546d8b021"
      },
      "source": [
        "categoriaas = df_pagamento_type_categoria_name.product_category_name.unique()\n",
        "categoriaas"
      ],
      "execution_count": 36,
      "outputs": [
        {
          "output_type": "execute_result",
          "data": {
            "text/plain": [
              "array(['casa_construcao', 'automotivo', 'perfumaria', 'cama_mesa_banho',\n",
              "       'utilidades_domesticas', 'artes', 'esporte_lazer', 'moveis_sala',\n",
              "       'ferramentas_jardim', 'eletronicos', 'sinalizacao_e_seguranca',\n",
              "       'cool_stuff', 'relogios_presentes', 'bebes', 'moveis_decoracao',\n",
              "       'construcao_ferramentas_iluminacao', 'pet_shop', 'beleza_saude',\n",
              "       'moveis_escritorio', 'consoles_games', 'eletrodomesticos',\n",
              "       'telefonia', 'brinquedos', 'papelaria', 'livros_interesse_geral',\n",
              "       'informatica_acessorios', 'eletroportateis', nan,\n",
              "       'fashion_bolsas_e_acessorios', 'construcao_ferramentas_jardim',\n",
              "       'instrumentos_musicais', 'artigos_de_natal', 'malas_acessorios',\n",
              "       'construcao_ferramentas_construcao',\n",
              "       'construcao_ferramentas_ferramentas', 'market_place',\n",
              "       'alimentos_bebidas', 'casa_conforto', 'telefonia_fixa', 'audio',\n",
              "       'climatizacao', 'eletrodomesticos_2', 'fashion_esporte',\n",
              "       'moveis_cozinha_area_de_servico_jantar_e_jardim',\n",
              "       'construcao_ferramentas_seguranca', 'alimentos',\n",
              "       'industria_comercio_e_negocios', 'pcs', 'bebidas',\n",
              "       'fashion_calcados', 'livros_importados',\n",
              "       'agro_industria_e_comercio', 'livros_tecnicos', 'musica',\n",
              "       'fashion_roupa_masculina', 'fraldas_higiene', 'pc_gamer',\n",
              "       'fashion_underwear_e_moda_praia', 'fashion_roupa_feminina',\n",
              "       'moveis_colchao_e_estofado', 'dvds_blu_ray',\n",
              "       'portateis_cozinha_e_preparadores_de_alimentos',\n",
              "       'tablets_impressao_imagem', 'flores',\n",
              "       'portateis_casa_forno_e_cafe', 'cine_foto', 'artes_e_artesanato',\n",
              "       'artigos_de_festas', 'moveis_quarto', 'casa_conforto_2',\n",
              "       'la_cuisine', 'seguros_e_servicos', 'cds_dvds_musicais',\n",
              "       'fashion_roupa_infanto_juvenil'], dtype=object)"
            ]
          },
          "metadata": {
            "tags": []
          },
          "execution_count": 36
        }
      ]
    },
    {
      "cell_type": "code",
      "metadata": {
        "id": "0BRorVDCMTiJ",
        "colab": {
          "base_uri": "https://localhost:8080/",
          "height": 450
        },
        "outputId": "321dcbd1-7dee-4c45-ab9a-63a9058dbe30"
      },
      "source": [
        "contagem_categorias = df_pagamento_type_categoria_name.groupby(by='product_category_name').max('payment_installments')\n",
        "contagem_categorias"
      ],
      "execution_count": 37,
      "outputs": [
        {
          "output_type": "execute_result",
          "data": {
            "text/html": [
              "<div>\n",
              "<style scoped>\n",
              "    .dataframe tbody tr th:only-of-type {\n",
              "        vertical-align: middle;\n",
              "    }\n",
              "\n",
              "    .dataframe tbody tr th {\n",
              "        vertical-align: top;\n",
              "    }\n",
              "\n",
              "    .dataframe thead th {\n",
              "        text-align: right;\n",
              "    }\n",
              "</style>\n",
              "<table border=\"1\" class=\"dataframe\">\n",
              "  <thead>\n",
              "    <tr style=\"text-align: right;\">\n",
              "      <th></th>\n",
              "      <th>payment_installments</th>\n",
              "    </tr>\n",
              "    <tr>\n",
              "      <th>product_category_name</th>\n",
              "      <th></th>\n",
              "    </tr>\n",
              "  </thead>\n",
              "  <tbody>\n",
              "    <tr>\n",
              "      <th>agro_industria_e_comercio</th>\n",
              "      <td>10</td>\n",
              "    </tr>\n",
              "    <tr>\n",
              "      <th>alimentos</th>\n",
              "      <td>12</td>\n",
              "    </tr>\n",
              "    <tr>\n",
              "      <th>alimentos_bebidas</th>\n",
              "      <td>10</td>\n",
              "    </tr>\n",
              "    <tr>\n",
              "      <th>artes</th>\n",
              "      <td>10</td>\n",
              "    </tr>\n",
              "    <tr>\n",
              "      <th>artes_e_artesanato</th>\n",
              "      <td>7</td>\n",
              "    </tr>\n",
              "    <tr>\n",
              "      <th>...</th>\n",
              "      <td>...</td>\n",
              "    </tr>\n",
              "    <tr>\n",
              "      <th>sinalizacao_e_seguranca</th>\n",
              "      <td>10</td>\n",
              "    </tr>\n",
              "    <tr>\n",
              "      <th>tablets_impressao_imagem</th>\n",
              "      <td>10</td>\n",
              "    </tr>\n",
              "    <tr>\n",
              "      <th>telefonia</th>\n",
              "      <td>24</td>\n",
              "    </tr>\n",
              "    <tr>\n",
              "      <th>telefonia_fixa</th>\n",
              "      <td>10</td>\n",
              "    </tr>\n",
              "    <tr>\n",
              "      <th>utilidades_domesticas</th>\n",
              "      <td>20</td>\n",
              "    </tr>\n",
              "  </tbody>\n",
              "</table>\n",
              "<p>73 rows × 1 columns</p>\n",
              "</div>"
            ],
            "text/plain": [
              "                           payment_installments\n",
              "product_category_name                          \n",
              "agro_industria_e_comercio                    10\n",
              "alimentos                                    12\n",
              "alimentos_bebidas                            10\n",
              "artes                                        10\n",
              "artes_e_artesanato                            7\n",
              "...                                         ...\n",
              "sinalizacao_e_seguranca                      10\n",
              "tablets_impressao_imagem                     10\n",
              "telefonia                                    24\n",
              "telefonia_fixa                               10\n",
              "utilidades_domesticas                        20\n",
              "\n",
              "[73 rows x 1 columns]"
            ]
          },
          "metadata": {
            "tags": []
          },
          "execution_count": 37
        }
      ]
    },
    {
      "cell_type": "code",
      "metadata": {
        "id": "LUHyQv05NZG3",
        "colab": {
          "base_uri": "https://localhost:8080/",
          "height": 450
        },
        "outputId": "b05a369e-ba23-427d-a9c0-4ff37eb71fe3"
      },
      "source": [
        "contagem_categorias_ordenadas = contagem_categorias.sort_values('payment_installments',ascending=False)\n",
        "contagem_categorias_ordenadas"
      ],
      "execution_count": 38,
      "outputs": [
        {
          "output_type": "execute_result",
          "data": {
            "text/html": [
              "<div>\n",
              "<style scoped>\n",
              "    .dataframe tbody tr th:only-of-type {\n",
              "        vertical-align: middle;\n",
              "    }\n",
              "\n",
              "    .dataframe tbody tr th {\n",
              "        vertical-align: top;\n",
              "    }\n",
              "\n",
              "    .dataframe thead th {\n",
              "        text-align: right;\n",
              "    }\n",
              "</style>\n",
              "<table border=\"1\" class=\"dataframe\">\n",
              "  <thead>\n",
              "    <tr style=\"text-align: right;\">\n",
              "      <th></th>\n",
              "      <th>payment_installments</th>\n",
              "    </tr>\n",
              "    <tr>\n",
              "      <th>product_category_name</th>\n",
              "      <th></th>\n",
              "    </tr>\n",
              "  </thead>\n",
              "  <tbody>\n",
              "    <tr>\n",
              "      <th>eletrodomesticos</th>\n",
              "      <td>24</td>\n",
              "    </tr>\n",
              "    <tr>\n",
              "      <th>telefonia</th>\n",
              "      <td>24</td>\n",
              "    </tr>\n",
              "    <tr>\n",
              "      <th>informatica_acessorios</th>\n",
              "      <td>24</td>\n",
              "    </tr>\n",
              "    <tr>\n",
              "      <th>cool_stuff</th>\n",
              "      <td>24</td>\n",
              "    </tr>\n",
              "    <tr>\n",
              "      <th>relogios_presentes</th>\n",
              "      <td>24</td>\n",
              "    </tr>\n",
              "    <tr>\n",
              "      <th>...</th>\n",
              "      <td>...</td>\n",
              "    </tr>\n",
              "    <tr>\n",
              "      <th>casa_conforto_2</th>\n",
              "      <td>7</td>\n",
              "    </tr>\n",
              "    <tr>\n",
              "      <th>artes_e_artesanato</th>\n",
              "      <td>7</td>\n",
              "    </tr>\n",
              "    <tr>\n",
              "      <th>fashion_esporte</th>\n",
              "      <td>6</td>\n",
              "    </tr>\n",
              "    <tr>\n",
              "      <th>fashion_roupa_infanto_juvenil</th>\n",
              "      <td>6</td>\n",
              "    </tr>\n",
              "    <tr>\n",
              "      <th>seguros_e_servicos</th>\n",
              "      <td>1</td>\n",
              "    </tr>\n",
              "  </tbody>\n",
              "</table>\n",
              "<p>73 rows × 1 columns</p>\n",
              "</div>"
            ],
            "text/plain": [
              "                               payment_installments\n",
              "product_category_name                              \n",
              "eletrodomesticos                                 24\n",
              "telefonia                                        24\n",
              "informatica_acessorios                           24\n",
              "cool_stuff                                       24\n",
              "relogios_presentes                               24\n",
              "...                                             ...\n",
              "casa_conforto_2                                   7\n",
              "artes_e_artesanato                                7\n",
              "fashion_esporte                                   6\n",
              "fashion_roupa_infanto_juvenil                     6\n",
              "seguros_e_servicos                                1\n",
              "\n",
              "[73 rows x 1 columns]"
            ]
          },
          "metadata": {
            "tags": []
          },
          "execution_count": 38
        }
      ]
    },
    {
      "cell_type": "code",
      "metadata": {
        "id": "eCUbwDj0OWC6",
        "colab": {
          "base_uri": "https://localhost:8080/",
          "height": 204
        },
        "outputId": "9da2948d-8206-45eb-a9ea-07dca99eab90"
      },
      "source": [
        "df_plot2 = contagem_categorias_ordenadas.reset_index()\n",
        "df_plot2.head()"
      ],
      "execution_count": 39,
      "outputs": [
        {
          "output_type": "execute_result",
          "data": {
            "text/html": [
              "<div>\n",
              "<style scoped>\n",
              "    .dataframe tbody tr th:only-of-type {\n",
              "        vertical-align: middle;\n",
              "    }\n",
              "\n",
              "    .dataframe tbody tr th {\n",
              "        vertical-align: top;\n",
              "    }\n",
              "\n",
              "    .dataframe thead th {\n",
              "        text-align: right;\n",
              "    }\n",
              "</style>\n",
              "<table border=\"1\" class=\"dataframe\">\n",
              "  <thead>\n",
              "    <tr style=\"text-align: right;\">\n",
              "      <th></th>\n",
              "      <th>product_category_name</th>\n",
              "      <th>payment_installments</th>\n",
              "    </tr>\n",
              "  </thead>\n",
              "  <tbody>\n",
              "    <tr>\n",
              "      <th>0</th>\n",
              "      <td>eletrodomesticos</td>\n",
              "      <td>24</td>\n",
              "    </tr>\n",
              "    <tr>\n",
              "      <th>1</th>\n",
              "      <td>telefonia</td>\n",
              "      <td>24</td>\n",
              "    </tr>\n",
              "    <tr>\n",
              "      <th>2</th>\n",
              "      <td>informatica_acessorios</td>\n",
              "      <td>24</td>\n",
              "    </tr>\n",
              "    <tr>\n",
              "      <th>3</th>\n",
              "      <td>cool_stuff</td>\n",
              "      <td>24</td>\n",
              "    </tr>\n",
              "    <tr>\n",
              "      <th>4</th>\n",
              "      <td>relogios_presentes</td>\n",
              "      <td>24</td>\n",
              "    </tr>\n",
              "  </tbody>\n",
              "</table>\n",
              "</div>"
            ],
            "text/plain": [
              "    product_category_name  payment_installments\n",
              "0        eletrodomesticos                    24\n",
              "1               telefonia                    24\n",
              "2  informatica_acessorios                    24\n",
              "3              cool_stuff                    24\n",
              "4      relogios_presentes                    24"
            ]
          },
          "metadata": {
            "tags": []
          },
          "execution_count": 39
        }
      ]
    },
    {
      "cell_type": "code",
      "metadata": {
        "id": "8iysX4hVOQdC",
        "colab": {
          "base_uri": "https://localhost:8080/",
          "height": 542
        },
        "outputId": "f6f3af5c-aa81-456d-eafe-255dc3f00141"
      },
      "source": [
        "fig2 = px.bar(df_plot2, x='product_category_name', y=\"payment_installments\", title=\"Categorias X Máximo Valor de Parcelas\")\n",
        "fig2.show()"
      ],
      "execution_count": 40,
      "outputs": [
        {
          "output_type": "display_data",
          "data": {
            "text/html": [
              "<html>\n",
              "<head><meta charset=\"utf-8\" /></head>\n",
              "<body>\n",
              "    <div>            <script src=\"https://cdnjs.cloudflare.com/ajax/libs/mathjax/2.7.5/MathJax.js?config=TeX-AMS-MML_SVG\"></script><script type=\"text/javascript\">if (window.MathJax) {MathJax.Hub.Config({SVG: {font: \"STIX-Web\"}});}</script>                <script type=\"text/javascript\">window.PlotlyConfig = {MathJaxConfig: 'local'};</script>\n",
              "        <script src=\"https://cdn.plot.ly/plotly-latest.min.js\"></script>                <div id=\"a785e4e7-cdac-46c5-84a6-faaf6d877c98\" class=\"plotly-graph-div\" style=\"height:525px; width:100%;\"></div>            <script type=\"text/javascript\">                                    window.PLOTLYENV=window.PLOTLYENV || {};                                    if (document.getElementById(\"a785e4e7-cdac-46c5-84a6-faaf6d877c98\")) {                    Plotly.newPlot(                        \"a785e4e7-cdac-46c5-84a6-faaf6d877c98\",                        [{\"alignmentgroup\": \"True\", \"hovertemplate\": \"product_category_name=%{x}<br>payment_installments=%{y}<extra></extra>\", \"legendgroup\": \"\", \"marker\": {\"color\": \"#636efa\"}, \"name\": \"\", \"offsetgroup\": \"\", \"orientation\": \"v\", \"showlegend\": false, \"textposition\": \"auto\", \"type\": \"bar\", \"x\": [\"eletrodomesticos\", \"telefonia\", \"informatica_acessorios\", \"cool_stuff\", \"relogios_presentes\", \"automotivo\", \"esporte_lazer\", \"moveis_sala\", \"beleza_saude\", \"ferramentas_jardim\", \"casa_conforto\", \"pet_shop\", \"utilidades_domesticas\", \"eletronicos\", \"pcs\", \"moveis_decoracao\", \"cama_mesa_banho\", \"brinquedos\", \"audio\", \"moveis_cozinha_area_de_servico_jantar_e_jardim\", \"instrumentos_musicais\", \"moveis_escritorio\", \"cine_foto\", \"perfumaria\", \"fashion_bolsas_e_acessorios\", \"eletroportateis\", \"bebes\", \"consoles_games\", \"bebidas\", \"eletrodomesticos_2\", \"livros_interesse_geral\", \"construcao_ferramentas_construcao\", \"malas_acessorios\", \"construcao_ferramentas_iluminacao\", \"portateis_casa_forno_e_cafe\", \"casa_construcao\", \"construcao_ferramentas_jardim\", \"alimentos\", \"papelaria\", \"fashion_calcados\", \"construcao_ferramentas_ferramentas\", \"musica\", \"moveis_quarto\", \"sinalizacao_e_seguranca\", \"tablets_impressao_imagem\", \"telefonia_fixa\", \"moveis_colchao_e_estofado\", \"market_place\", \"pc_gamer\", \"agro_industria_e_comercio\", \"livros_tecnicos\", \"dvds_blu_ray\", \"alimentos_bebidas\", \"artes\", \"artigos_de_festas\", \"artigos_de_natal\", \"climatizacao\", \"livros_importados\", \"construcao_ferramentas_seguranca\", \"fashion_roupa_masculina\", \"fashion_underwear_e_moda_praia\", \"flores\", \"industria_comercio_e_negocios\", \"la_cuisine\", \"fashion_roupa_feminina\", \"fraldas_higiene\", \"portateis_cozinha_e_preparadores_de_alimentos\", \"cds_dvds_musicais\", \"casa_conforto_2\", \"artes_e_artesanato\", \"fashion_esporte\", \"fashion_roupa_infanto_juvenil\", \"seguros_e_servicos\"], \"xaxis\": \"x\", \"y\": [24, 24, 24, 24, 24, 24, 24, 24, 24, 24, 24, 22, 20, 20, 20, 20, 20, 20, 20, 20, 20, 18, 18, 18, 18, 18, 17, 15, 15, 15, 14, 14, 14, 13, 12, 12, 12, 12, 12, 12, 11, 10, 10, 10, 10, 10, 10, 10, 10, 10, 10, 10, 10, 10, 10, 10, 10, 10, 10, 10, 10, 10, 10, 10, 10, 9, 8, 7, 7, 7, 6, 6, 1], \"yaxis\": \"y\"}],                        {\"barmode\": \"relative\", \"legend\": {\"tracegroupgap\": 0}, \"template\": {\"data\": {\"bar\": [{\"error_x\": {\"color\": \"#2a3f5f\"}, \"error_y\": {\"color\": \"#2a3f5f\"}, \"marker\": {\"line\": {\"color\": \"#E5ECF6\", \"width\": 0.5}}, \"type\": \"bar\"}], \"barpolar\": [{\"marker\": {\"line\": {\"color\": \"#E5ECF6\", \"width\": 0.5}}, \"type\": \"barpolar\"}], \"carpet\": [{\"aaxis\": {\"endlinecolor\": \"#2a3f5f\", \"gridcolor\": \"white\", \"linecolor\": \"white\", \"minorgridcolor\": \"white\", \"startlinecolor\": \"#2a3f5f\"}, \"baxis\": {\"endlinecolor\": \"#2a3f5f\", \"gridcolor\": \"white\", \"linecolor\": \"white\", \"minorgridcolor\": \"white\", \"startlinecolor\": \"#2a3f5f\"}, \"type\": \"carpet\"}], \"choropleth\": [{\"colorbar\": {\"outlinewidth\": 0, \"ticks\": \"\"}, \"type\": \"choropleth\"}], \"contour\": [{\"colorbar\": {\"outlinewidth\": 0, \"ticks\": \"\"}, \"colorscale\": [[0.0, \"#0d0887\"], [0.1111111111111111, \"#46039f\"], [0.2222222222222222, \"#7201a8\"], [0.3333333333333333, \"#9c179e\"], [0.4444444444444444, \"#bd3786\"], [0.5555555555555556, \"#d8576b\"], [0.6666666666666666, \"#ed7953\"], [0.7777777777777778, \"#fb9f3a\"], [0.8888888888888888, \"#fdca26\"], [1.0, \"#f0f921\"]], \"type\": \"contour\"}], \"contourcarpet\": [{\"colorbar\": {\"outlinewidth\": 0, \"ticks\": \"\"}, \"type\": \"contourcarpet\"}], \"heatmap\": [{\"colorbar\": {\"outlinewidth\": 0, \"ticks\": \"\"}, \"colorscale\": [[0.0, \"#0d0887\"], [0.1111111111111111, \"#46039f\"], [0.2222222222222222, \"#7201a8\"], [0.3333333333333333, \"#9c179e\"], [0.4444444444444444, \"#bd3786\"], [0.5555555555555556, \"#d8576b\"], [0.6666666666666666, \"#ed7953\"], [0.7777777777777778, \"#fb9f3a\"], [0.8888888888888888, \"#fdca26\"], [1.0, \"#f0f921\"]], \"type\": \"heatmap\"}], \"heatmapgl\": [{\"colorbar\": {\"outlinewidth\": 0, \"ticks\": \"\"}, \"colorscale\": [[0.0, \"#0d0887\"], [0.1111111111111111, \"#46039f\"], [0.2222222222222222, \"#7201a8\"], [0.3333333333333333, \"#9c179e\"], [0.4444444444444444, \"#bd3786\"], [0.5555555555555556, \"#d8576b\"], [0.6666666666666666, \"#ed7953\"], [0.7777777777777778, \"#fb9f3a\"], [0.8888888888888888, \"#fdca26\"], [1.0, \"#f0f921\"]], \"type\": \"heatmapgl\"}], \"histogram\": [{\"marker\": {\"colorbar\": {\"outlinewidth\": 0, \"ticks\": \"\"}}, \"type\": \"histogram\"}], \"histogram2d\": [{\"colorbar\": {\"outlinewidth\": 0, \"ticks\": \"\"}, \"colorscale\": [[0.0, \"#0d0887\"], [0.1111111111111111, \"#46039f\"], [0.2222222222222222, \"#7201a8\"], [0.3333333333333333, \"#9c179e\"], [0.4444444444444444, \"#bd3786\"], [0.5555555555555556, \"#d8576b\"], [0.6666666666666666, \"#ed7953\"], [0.7777777777777778, \"#fb9f3a\"], [0.8888888888888888, \"#fdca26\"], [1.0, \"#f0f921\"]], \"type\": \"histogram2d\"}], \"histogram2dcontour\": [{\"colorbar\": {\"outlinewidth\": 0, \"ticks\": \"\"}, \"colorscale\": [[0.0, \"#0d0887\"], [0.1111111111111111, \"#46039f\"], [0.2222222222222222, \"#7201a8\"], [0.3333333333333333, \"#9c179e\"], [0.4444444444444444, \"#bd3786\"], [0.5555555555555556, \"#d8576b\"], [0.6666666666666666, \"#ed7953\"], [0.7777777777777778, \"#fb9f3a\"], [0.8888888888888888, \"#fdca26\"], [1.0, \"#f0f921\"]], \"type\": \"histogram2dcontour\"}], \"mesh3d\": [{\"colorbar\": {\"outlinewidth\": 0, \"ticks\": \"\"}, \"type\": \"mesh3d\"}], \"parcoords\": [{\"line\": {\"colorbar\": {\"outlinewidth\": 0, \"ticks\": \"\"}}, \"type\": \"parcoords\"}], \"pie\": [{\"automargin\": true, \"type\": \"pie\"}], \"scatter\": [{\"marker\": {\"colorbar\": {\"outlinewidth\": 0, \"ticks\": \"\"}}, \"type\": \"scatter\"}], \"scatter3d\": [{\"line\": {\"colorbar\": {\"outlinewidth\": 0, \"ticks\": \"\"}}, \"marker\": {\"colorbar\": {\"outlinewidth\": 0, \"ticks\": \"\"}}, \"type\": \"scatter3d\"}], \"scattercarpet\": [{\"marker\": {\"colorbar\": {\"outlinewidth\": 0, \"ticks\": \"\"}}, \"type\": \"scattercarpet\"}], \"scattergeo\": [{\"marker\": {\"colorbar\": {\"outlinewidth\": 0, \"ticks\": \"\"}}, \"type\": \"scattergeo\"}], \"scattergl\": [{\"marker\": {\"colorbar\": {\"outlinewidth\": 0, \"ticks\": \"\"}}, \"type\": \"scattergl\"}], \"scattermapbox\": [{\"marker\": {\"colorbar\": {\"outlinewidth\": 0, \"ticks\": \"\"}}, \"type\": \"scattermapbox\"}], \"scatterpolar\": [{\"marker\": {\"colorbar\": {\"outlinewidth\": 0, \"ticks\": \"\"}}, \"type\": \"scatterpolar\"}], \"scatterpolargl\": [{\"marker\": {\"colorbar\": {\"outlinewidth\": 0, \"ticks\": \"\"}}, \"type\": \"scatterpolargl\"}], \"scatterternary\": [{\"marker\": {\"colorbar\": {\"outlinewidth\": 0, \"ticks\": \"\"}}, \"type\": \"scatterternary\"}], \"surface\": [{\"colorbar\": {\"outlinewidth\": 0, \"ticks\": \"\"}, \"colorscale\": [[0.0, \"#0d0887\"], [0.1111111111111111, \"#46039f\"], [0.2222222222222222, \"#7201a8\"], [0.3333333333333333, \"#9c179e\"], [0.4444444444444444, \"#bd3786\"], [0.5555555555555556, \"#d8576b\"], [0.6666666666666666, \"#ed7953\"], [0.7777777777777778, \"#fb9f3a\"], [0.8888888888888888, \"#fdca26\"], [1.0, \"#f0f921\"]], \"type\": \"surface\"}], \"table\": [{\"cells\": {\"fill\": {\"color\": \"#EBF0F8\"}, \"line\": {\"color\": \"white\"}}, \"header\": {\"fill\": {\"color\": \"#C8D4E3\"}, \"line\": {\"color\": \"white\"}}, \"type\": \"table\"}]}, \"layout\": {\"annotationdefaults\": {\"arrowcolor\": \"#2a3f5f\", \"arrowhead\": 0, \"arrowwidth\": 1}, \"coloraxis\": {\"colorbar\": {\"outlinewidth\": 0, \"ticks\": \"\"}}, \"colorscale\": {\"diverging\": [[0, \"#8e0152\"], [0.1, \"#c51b7d\"], [0.2, \"#de77ae\"], [0.3, \"#f1b6da\"], [0.4, \"#fde0ef\"], [0.5, \"#f7f7f7\"], [0.6, \"#e6f5d0\"], [0.7, \"#b8e186\"], [0.8, \"#7fbc41\"], [0.9, \"#4d9221\"], [1, \"#276419\"]], \"sequential\": [[0.0, \"#0d0887\"], [0.1111111111111111, \"#46039f\"], [0.2222222222222222, \"#7201a8\"], [0.3333333333333333, \"#9c179e\"], [0.4444444444444444, \"#bd3786\"], [0.5555555555555556, \"#d8576b\"], [0.6666666666666666, \"#ed7953\"], [0.7777777777777778, \"#fb9f3a\"], [0.8888888888888888, \"#fdca26\"], [1.0, \"#f0f921\"]], \"sequentialminus\": [[0.0, \"#0d0887\"], [0.1111111111111111, \"#46039f\"], [0.2222222222222222, \"#7201a8\"], [0.3333333333333333, \"#9c179e\"], [0.4444444444444444, \"#bd3786\"], [0.5555555555555556, \"#d8576b\"], [0.6666666666666666, \"#ed7953\"], [0.7777777777777778, \"#fb9f3a\"], [0.8888888888888888, \"#fdca26\"], [1.0, \"#f0f921\"]]}, \"colorway\": [\"#636efa\", \"#EF553B\", \"#00cc96\", \"#ab63fa\", \"#FFA15A\", \"#19d3f3\", \"#FF6692\", \"#B6E880\", \"#FF97FF\", \"#FECB52\"], \"font\": {\"color\": \"#2a3f5f\"}, \"geo\": {\"bgcolor\": \"white\", \"lakecolor\": \"white\", \"landcolor\": \"#E5ECF6\", \"showlakes\": true, \"showland\": true, \"subunitcolor\": \"white\"}, \"hoverlabel\": {\"align\": \"left\"}, \"hovermode\": \"closest\", \"mapbox\": {\"style\": \"light\"}, \"paper_bgcolor\": \"white\", \"plot_bgcolor\": \"#E5ECF6\", \"polar\": {\"angularaxis\": {\"gridcolor\": \"white\", \"linecolor\": \"white\", \"ticks\": \"\"}, \"bgcolor\": \"#E5ECF6\", \"radialaxis\": {\"gridcolor\": \"white\", \"linecolor\": \"white\", \"ticks\": \"\"}}, \"scene\": {\"xaxis\": {\"backgroundcolor\": \"#E5ECF6\", \"gridcolor\": \"white\", \"gridwidth\": 2, \"linecolor\": \"white\", \"showbackground\": true, \"ticks\": \"\", \"zerolinecolor\": \"white\"}, \"yaxis\": {\"backgroundcolor\": \"#E5ECF6\", \"gridcolor\": \"white\", \"gridwidth\": 2, \"linecolor\": \"white\", \"showbackground\": true, \"ticks\": \"\", \"zerolinecolor\": \"white\"}, \"zaxis\": {\"backgroundcolor\": \"#E5ECF6\", \"gridcolor\": \"white\", \"gridwidth\": 2, \"linecolor\": \"white\", \"showbackground\": true, \"ticks\": \"\", \"zerolinecolor\": \"white\"}}, \"shapedefaults\": {\"line\": {\"color\": \"#2a3f5f\"}}, \"ternary\": {\"aaxis\": {\"gridcolor\": \"white\", \"linecolor\": \"white\", \"ticks\": \"\"}, \"baxis\": {\"gridcolor\": \"white\", \"linecolor\": \"white\", \"ticks\": \"\"}, \"bgcolor\": \"#E5ECF6\", \"caxis\": {\"gridcolor\": \"white\", \"linecolor\": \"white\", \"ticks\": \"\"}}, \"title\": {\"x\": 0.05}, \"xaxis\": {\"automargin\": true, \"gridcolor\": \"white\", \"linecolor\": \"white\", \"ticks\": \"\", \"title\": {\"standoff\": 15}, \"zerolinecolor\": \"white\", \"zerolinewidth\": 2}, \"yaxis\": {\"automargin\": true, \"gridcolor\": \"white\", \"linecolor\": \"white\", \"ticks\": \"\", \"title\": {\"standoff\": 15}, \"zerolinecolor\": \"white\", \"zerolinewidth\": 2}}}, \"title\": {\"text\": \"Categorias X M\\u00e1ximo Valor de Parcelas\"}, \"xaxis\": {\"anchor\": \"y\", \"domain\": [0.0, 1.0], \"title\": {\"text\": \"product_category_name\"}}, \"yaxis\": {\"anchor\": \"x\", \"domain\": [0.0, 1.0], \"title\": {\"text\": \"payment_installments\"}}},                        {\"responsive\": true}                    ).then(function(){\n",
              "                            \n",
              "var gd = document.getElementById('a785e4e7-cdac-46c5-84a6-faaf6d877c98');\n",
              "var x = new MutationObserver(function (mutations, observer) {{\n",
              "        var display = window.getComputedStyle(gd).display;\n",
              "        if (!display || display === 'none') {{\n",
              "            console.log([gd, 'removed!']);\n",
              "            Plotly.purge(gd);\n",
              "            observer.disconnect();\n",
              "        }}\n",
              "}});\n",
              "\n",
              "// Listen for the removal of the full notebook cells\n",
              "var notebookContainer = gd.closest('#notebook-container');\n",
              "if (notebookContainer) {{\n",
              "    x.observe(notebookContainer, {childList: true});\n",
              "}}\n",
              "\n",
              "// Listen for the clearing of the current output cell\n",
              "var outputEl = gd.closest('.output');\n",
              "if (outputEl) {{\n",
              "    x.observe(outputEl, {childList: true});\n",
              "}}\n",
              "\n",
              "                        })                };                            </script>        </div>\n",
              "</body>\n",
              "</html>"
            ]
          },
          "metadata": {
            "tags": []
          }
        }
      ]
    },
    {
      "cell_type": "markdown",
      "metadata": {
        "id": "ph-hOjdMPcN0"
      },
      "source": [
        "As 5 categorias mais parceladas são eletrodomesticos, telefonia, informática_acessórios,cool_stuff e relógios_presentes com o valor máximo de parcelas = 24"
      ]
    },
    {
      "cell_type": "markdown",
      "metadata": {
        "id": "ELLtOYF5PxCy"
      },
      "source": [
        "##3) Quais estados gastam mais? Elenque os 5 estados mais gastão."
      ]
    },
    {
      "cell_type": "code",
      "metadata": {
        "id": "8GosICOegKoZ",
        "colab": {
          "base_uri": "https://localhost:8080/",
          "height": 204
        },
        "outputId": "6671e392-a05f-40d4-da07-e44e42b1778e"
      },
      "source": [
        "df_left3 = df_compra_pagamentos[['order_id', 'payment_value']]\n",
        "df_left3.head()"
      ],
      "execution_count": 41,
      "outputs": [
        {
          "output_type": "execute_result",
          "data": {
            "text/html": [
              "<div>\n",
              "<style scoped>\n",
              "    .dataframe tbody tr th:only-of-type {\n",
              "        vertical-align: middle;\n",
              "    }\n",
              "\n",
              "    .dataframe tbody tr th {\n",
              "        vertical-align: top;\n",
              "    }\n",
              "\n",
              "    .dataframe thead th {\n",
              "        text-align: right;\n",
              "    }\n",
              "</style>\n",
              "<table border=\"1\" class=\"dataframe\">\n",
              "  <thead>\n",
              "    <tr style=\"text-align: right;\">\n",
              "      <th></th>\n",
              "      <th>order_id</th>\n",
              "      <th>payment_value</th>\n",
              "    </tr>\n",
              "  </thead>\n",
              "  <tbody>\n",
              "    <tr>\n",
              "      <th>0</th>\n",
              "      <td>b81ef226f3fe1789b1e8b2acac839d17</td>\n",
              "      <td>99.33</td>\n",
              "    </tr>\n",
              "    <tr>\n",
              "      <th>1</th>\n",
              "      <td>a9810da82917af2d9aefd1278f1dcfa0</td>\n",
              "      <td>24.39</td>\n",
              "    </tr>\n",
              "    <tr>\n",
              "      <th>2</th>\n",
              "      <td>25e8ea4e93396b6fa0d3dd708e76c1bd</td>\n",
              "      <td>65.71</td>\n",
              "    </tr>\n",
              "    <tr>\n",
              "      <th>3</th>\n",
              "      <td>ba78997921bbcdc1373bb41e913ab953</td>\n",
              "      <td>107.78</td>\n",
              "    </tr>\n",
              "    <tr>\n",
              "      <th>4</th>\n",
              "      <td>42fdf880ba16b47b59251dd489d4441a</td>\n",
              "      <td>128.45</td>\n",
              "    </tr>\n",
              "  </tbody>\n",
              "</table>\n",
              "</div>"
            ],
            "text/plain": [
              "                           order_id  payment_value\n",
              "0  b81ef226f3fe1789b1e8b2acac839d17          99.33\n",
              "1  a9810da82917af2d9aefd1278f1dcfa0          24.39\n",
              "2  25e8ea4e93396b6fa0d3dd708e76c1bd          65.71\n",
              "3  ba78997921bbcdc1373bb41e913ab953         107.78\n",
              "4  42fdf880ba16b47b59251dd489d4441a         128.45"
            ]
          },
          "metadata": {
            "tags": []
          },
          "execution_count": 41
        }
      ]
    },
    {
      "cell_type": "code",
      "metadata": {
        "id": "WP0hJxfVgKem",
        "colab": {
          "base_uri": "https://localhost:8080/",
          "height": 204
        },
        "outputId": "0f0e1afb-35f4-4ae9-a098-e1fc1ad3ecb1"
      },
      "source": [
        "df_right5 = df_compras[['order_id', 'customer_id']]\n",
        "df_right5.head()"
      ],
      "execution_count": 42,
      "outputs": [
        {
          "output_type": "execute_result",
          "data": {
            "text/html": [
              "<div>\n",
              "<style scoped>\n",
              "    .dataframe tbody tr th:only-of-type {\n",
              "        vertical-align: middle;\n",
              "    }\n",
              "\n",
              "    .dataframe tbody tr th {\n",
              "        vertical-align: top;\n",
              "    }\n",
              "\n",
              "    .dataframe thead th {\n",
              "        text-align: right;\n",
              "    }\n",
              "</style>\n",
              "<table border=\"1\" class=\"dataframe\">\n",
              "  <thead>\n",
              "    <tr style=\"text-align: right;\">\n",
              "      <th></th>\n",
              "      <th>order_id</th>\n",
              "      <th>customer_id</th>\n",
              "    </tr>\n",
              "  </thead>\n",
              "  <tbody>\n",
              "    <tr>\n",
              "      <th>0</th>\n",
              "      <td>e481f51cbdc54678b7cc49136f2d6af7</td>\n",
              "      <td>9ef432eb6251297304e76186b10a928d</td>\n",
              "    </tr>\n",
              "    <tr>\n",
              "      <th>1</th>\n",
              "      <td>53cdb2fc8bc7dce0b6741e2150273451</td>\n",
              "      <td>b0830fb4747a6c6d20dea0b8c802d7ef</td>\n",
              "    </tr>\n",
              "    <tr>\n",
              "      <th>2</th>\n",
              "      <td>47770eb9100c2d0c44946d9cf07ec65d</td>\n",
              "      <td>41ce2a54c0b03bf3443c3d931a367089</td>\n",
              "    </tr>\n",
              "    <tr>\n",
              "      <th>3</th>\n",
              "      <td>949d5b44dbf5de918fe9c16f97b45f8a</td>\n",
              "      <td>f88197465ea7920adcdbec7375364d82</td>\n",
              "    </tr>\n",
              "    <tr>\n",
              "      <th>4</th>\n",
              "      <td>ad21c59c0840e6cb83a9ceb5573f8159</td>\n",
              "      <td>8ab97904e6daea8866dbdbc4fb7aad2c</td>\n",
              "    </tr>\n",
              "  </tbody>\n",
              "</table>\n",
              "</div>"
            ],
            "text/plain": [
              "                           order_id                       customer_id\n",
              "0  e481f51cbdc54678b7cc49136f2d6af7  9ef432eb6251297304e76186b10a928d\n",
              "1  53cdb2fc8bc7dce0b6741e2150273451  b0830fb4747a6c6d20dea0b8c802d7ef\n",
              "2  47770eb9100c2d0c44946d9cf07ec65d  41ce2a54c0b03bf3443c3d931a367089\n",
              "3  949d5b44dbf5de918fe9c16f97b45f8a  f88197465ea7920adcdbec7375364d82\n",
              "4  ad21c59c0840e6cb83a9ceb5573f8159  8ab97904e6daea8866dbdbc4fb7aad2c"
            ]
          },
          "metadata": {
            "tags": []
          },
          "execution_count": 42
        }
      ]
    },
    {
      "cell_type": "code",
      "metadata": {
        "id": "NXTeslFPgTrW",
        "colab": {
          "base_uri": "https://localhost:8080/",
          "height": 204
        },
        "outputId": "3b53a91e-5a8c-496b-84da-47b4178010e4"
      },
      "source": [
        "df_pagamento_compra = pd.merge(df_left3, df_right5, how='left', on='order_id')\n",
        "df_pagamento_compra.head()"
      ],
      "execution_count": 43,
      "outputs": [
        {
          "output_type": "execute_result",
          "data": {
            "text/html": [
              "<div>\n",
              "<style scoped>\n",
              "    .dataframe tbody tr th:only-of-type {\n",
              "        vertical-align: middle;\n",
              "    }\n",
              "\n",
              "    .dataframe tbody tr th {\n",
              "        vertical-align: top;\n",
              "    }\n",
              "\n",
              "    .dataframe thead th {\n",
              "        text-align: right;\n",
              "    }\n",
              "</style>\n",
              "<table border=\"1\" class=\"dataframe\">\n",
              "  <thead>\n",
              "    <tr style=\"text-align: right;\">\n",
              "      <th></th>\n",
              "      <th>order_id</th>\n",
              "      <th>payment_value</th>\n",
              "      <th>customer_id</th>\n",
              "    </tr>\n",
              "  </thead>\n",
              "  <tbody>\n",
              "    <tr>\n",
              "      <th>0</th>\n",
              "      <td>b81ef226f3fe1789b1e8b2acac839d17</td>\n",
              "      <td>99.33</td>\n",
              "      <td>0a8556ac6be836b46b3e89920d59291c</td>\n",
              "    </tr>\n",
              "    <tr>\n",
              "      <th>1</th>\n",
              "      <td>a9810da82917af2d9aefd1278f1dcfa0</td>\n",
              "      <td>24.39</td>\n",
              "      <td>f2c7fc58a9de810828715166c672f10a</td>\n",
              "    </tr>\n",
              "    <tr>\n",
              "      <th>2</th>\n",
              "      <td>25e8ea4e93396b6fa0d3dd708e76c1bd</td>\n",
              "      <td>65.71</td>\n",
              "      <td>25b14b69de0b6e184ae6fe2755e478f9</td>\n",
              "    </tr>\n",
              "    <tr>\n",
              "      <th>3</th>\n",
              "      <td>ba78997921bbcdc1373bb41e913ab953</td>\n",
              "      <td>107.78</td>\n",
              "      <td>7a5d8efaaa1081f800628c30d2b0728f</td>\n",
              "    </tr>\n",
              "    <tr>\n",
              "      <th>4</th>\n",
              "      <td>42fdf880ba16b47b59251dd489d4441a</td>\n",
              "      <td>128.45</td>\n",
              "      <td>15fd6fb8f8312dbb4674e4518d6fa3b3</td>\n",
              "    </tr>\n",
              "  </tbody>\n",
              "</table>\n",
              "</div>"
            ],
            "text/plain": [
              "                           order_id  ...                       customer_id\n",
              "0  b81ef226f3fe1789b1e8b2acac839d17  ...  0a8556ac6be836b46b3e89920d59291c\n",
              "1  a9810da82917af2d9aefd1278f1dcfa0  ...  f2c7fc58a9de810828715166c672f10a\n",
              "2  25e8ea4e93396b6fa0d3dd708e76c1bd  ...  25b14b69de0b6e184ae6fe2755e478f9\n",
              "3  ba78997921bbcdc1373bb41e913ab953  ...  7a5d8efaaa1081f800628c30d2b0728f\n",
              "4  42fdf880ba16b47b59251dd489d4441a  ...  15fd6fb8f8312dbb4674e4518d6fa3b3\n",
              "\n",
              "[5 rows x 3 columns]"
            ]
          },
          "metadata": {
            "tags": []
          },
          "execution_count": 43
        }
      ]
    },
    {
      "cell_type": "code",
      "metadata": {
        "id": "NTa-nbchjV8Y",
        "colab": {
          "base_uri": "https://localhost:8080/",
          "height": 204
        },
        "outputId": "27a82616-231f-4b82-a96b-f79432e1dd31"
      },
      "source": [
        "df_right6 = df_clientes[['customer_id', 'customer_state']]\n",
        "df_right6.head()"
      ],
      "execution_count": 44,
      "outputs": [
        {
          "output_type": "execute_result",
          "data": {
            "text/html": [
              "<div>\n",
              "<style scoped>\n",
              "    .dataframe tbody tr th:only-of-type {\n",
              "        vertical-align: middle;\n",
              "    }\n",
              "\n",
              "    .dataframe tbody tr th {\n",
              "        vertical-align: top;\n",
              "    }\n",
              "\n",
              "    .dataframe thead th {\n",
              "        text-align: right;\n",
              "    }\n",
              "</style>\n",
              "<table border=\"1\" class=\"dataframe\">\n",
              "  <thead>\n",
              "    <tr style=\"text-align: right;\">\n",
              "      <th></th>\n",
              "      <th>customer_id</th>\n",
              "      <th>customer_state</th>\n",
              "    </tr>\n",
              "  </thead>\n",
              "  <tbody>\n",
              "    <tr>\n",
              "      <th>0</th>\n",
              "      <td>06b8999e2fba1a1fbc88172c00ba8bc7</td>\n",
              "      <td>SP</td>\n",
              "    </tr>\n",
              "    <tr>\n",
              "      <th>1</th>\n",
              "      <td>18955e83d337fd6b2def6b18a428ac77</td>\n",
              "      <td>SP</td>\n",
              "    </tr>\n",
              "    <tr>\n",
              "      <th>2</th>\n",
              "      <td>4e7b3e00288586ebd08712fdd0374a03</td>\n",
              "      <td>SP</td>\n",
              "    </tr>\n",
              "    <tr>\n",
              "      <th>3</th>\n",
              "      <td>b2b6027bc5c5109e529d4dc6358b12c3</td>\n",
              "      <td>SP</td>\n",
              "    </tr>\n",
              "    <tr>\n",
              "      <th>4</th>\n",
              "      <td>4f2d8ab171c80ec8364f7c12e35b23ad</td>\n",
              "      <td>SP</td>\n",
              "    </tr>\n",
              "  </tbody>\n",
              "</table>\n",
              "</div>"
            ],
            "text/plain": [
              "                        customer_id customer_state\n",
              "0  06b8999e2fba1a1fbc88172c00ba8bc7             SP\n",
              "1  18955e83d337fd6b2def6b18a428ac77             SP\n",
              "2  4e7b3e00288586ebd08712fdd0374a03             SP\n",
              "3  b2b6027bc5c5109e529d4dc6358b12c3             SP\n",
              "4  4f2d8ab171c80ec8364f7c12e35b23ad             SP"
            ]
          },
          "metadata": {
            "tags": []
          },
          "execution_count": 44
        }
      ]
    },
    {
      "cell_type": "code",
      "metadata": {
        "id": "kIVBUj1vq6kK",
        "colab": {
          "base_uri": "https://localhost:8080/",
          "height": 204
        },
        "outputId": "f4ca363a-cc69-4706-dc4e-9177cedae72c"
      },
      "source": [
        "df_pagamento_estado = pd.merge(df_pagamento_compra, df_right6, how='left', on='customer_id')\n",
        "df_pagamento_estado.head()"
      ],
      "execution_count": 45,
      "outputs": [
        {
          "output_type": "execute_result",
          "data": {
            "text/html": [
              "<div>\n",
              "<style scoped>\n",
              "    .dataframe tbody tr th:only-of-type {\n",
              "        vertical-align: middle;\n",
              "    }\n",
              "\n",
              "    .dataframe tbody tr th {\n",
              "        vertical-align: top;\n",
              "    }\n",
              "\n",
              "    .dataframe thead th {\n",
              "        text-align: right;\n",
              "    }\n",
              "</style>\n",
              "<table border=\"1\" class=\"dataframe\">\n",
              "  <thead>\n",
              "    <tr style=\"text-align: right;\">\n",
              "      <th></th>\n",
              "      <th>order_id</th>\n",
              "      <th>payment_value</th>\n",
              "      <th>customer_id</th>\n",
              "      <th>customer_state</th>\n",
              "    </tr>\n",
              "  </thead>\n",
              "  <tbody>\n",
              "    <tr>\n",
              "      <th>0</th>\n",
              "      <td>b81ef226f3fe1789b1e8b2acac839d17</td>\n",
              "      <td>99.33</td>\n",
              "      <td>0a8556ac6be836b46b3e89920d59291c</td>\n",
              "      <td>MG</td>\n",
              "    </tr>\n",
              "    <tr>\n",
              "      <th>1</th>\n",
              "      <td>a9810da82917af2d9aefd1278f1dcfa0</td>\n",
              "      <td>24.39</td>\n",
              "      <td>f2c7fc58a9de810828715166c672f10a</td>\n",
              "      <td>SP</td>\n",
              "    </tr>\n",
              "    <tr>\n",
              "      <th>2</th>\n",
              "      <td>25e8ea4e93396b6fa0d3dd708e76c1bd</td>\n",
              "      <td>65.71</td>\n",
              "      <td>25b14b69de0b6e184ae6fe2755e478f9</td>\n",
              "      <td>SP</td>\n",
              "    </tr>\n",
              "    <tr>\n",
              "      <th>3</th>\n",
              "      <td>ba78997921bbcdc1373bb41e913ab953</td>\n",
              "      <td>107.78</td>\n",
              "      <td>7a5d8efaaa1081f800628c30d2b0728f</td>\n",
              "      <td>MG</td>\n",
              "    </tr>\n",
              "    <tr>\n",
              "      <th>4</th>\n",
              "      <td>42fdf880ba16b47b59251dd489d4441a</td>\n",
              "      <td>128.45</td>\n",
              "      <td>15fd6fb8f8312dbb4674e4518d6fa3b3</td>\n",
              "      <td>SP</td>\n",
              "    </tr>\n",
              "  </tbody>\n",
              "</table>\n",
              "</div>"
            ],
            "text/plain": [
              "                           order_id  ...  customer_state\n",
              "0  b81ef226f3fe1789b1e8b2acac839d17  ...              MG\n",
              "1  a9810da82917af2d9aefd1278f1dcfa0  ...              SP\n",
              "2  25e8ea4e93396b6fa0d3dd708e76c1bd  ...              SP\n",
              "3  ba78997921bbcdc1373bb41e913ab953  ...              MG\n",
              "4  42fdf880ba16b47b59251dd489d4441a  ...              SP\n",
              "\n",
              "[5 rows x 4 columns]"
            ]
          },
          "metadata": {
            "tags": []
          },
          "execution_count": 45
        }
      ]
    },
    {
      "cell_type": "code",
      "metadata": {
        "id": "lk7SkIGhq6eL",
        "colab": {
          "base_uri": "https://localhost:8080/",
          "height": 917
        },
        "outputId": "53022406-92a7-4e35-9f23-4538345899c1"
      },
      "source": [
        "valores_pagamentos = df_pagamento_estado.groupby(by='customer_state').sum('payment_value').sort_values('payment_value',ascending=False)\n",
        "valores_pagamentos "
      ],
      "execution_count": 46,
      "outputs": [
        {
          "output_type": "execute_result",
          "data": {
            "text/html": [
              "<div>\n",
              "<style scoped>\n",
              "    .dataframe tbody tr th:only-of-type {\n",
              "        vertical-align: middle;\n",
              "    }\n",
              "\n",
              "    .dataframe tbody tr th {\n",
              "        vertical-align: top;\n",
              "    }\n",
              "\n",
              "    .dataframe thead th {\n",
              "        text-align: right;\n",
              "    }\n",
              "</style>\n",
              "<table border=\"1\" class=\"dataframe\">\n",
              "  <thead>\n",
              "    <tr style=\"text-align: right;\">\n",
              "      <th></th>\n",
              "      <th>payment_value</th>\n",
              "    </tr>\n",
              "    <tr>\n",
              "      <th>customer_state</th>\n",
              "      <th></th>\n",
              "    </tr>\n",
              "  </thead>\n",
              "  <tbody>\n",
              "    <tr>\n",
              "      <th>SP</th>\n",
              "      <td>5998226.96</td>\n",
              "    </tr>\n",
              "    <tr>\n",
              "      <th>RJ</th>\n",
              "      <td>2144379.69</td>\n",
              "    </tr>\n",
              "    <tr>\n",
              "      <th>MG</th>\n",
              "      <td>1872257.26</td>\n",
              "    </tr>\n",
              "    <tr>\n",
              "      <th>RS</th>\n",
              "      <td>890898.54</td>\n",
              "    </tr>\n",
              "    <tr>\n",
              "      <th>PR</th>\n",
              "      <td>811156.38</td>\n",
              "    </tr>\n",
              "    <tr>\n",
              "      <th>SC</th>\n",
              "      <td>623086.43</td>\n",
              "    </tr>\n",
              "    <tr>\n",
              "      <th>BA</th>\n",
              "      <td>616645.82</td>\n",
              "    </tr>\n",
              "    <tr>\n",
              "      <th>DF</th>\n",
              "      <td>355141.08</td>\n",
              "    </tr>\n",
              "    <tr>\n",
              "      <th>GO</th>\n",
              "      <td>350092.31</td>\n",
              "    </tr>\n",
              "    <tr>\n",
              "      <th>ES</th>\n",
              "      <td>325967.55</td>\n",
              "    </tr>\n",
              "    <tr>\n",
              "      <th>PE</th>\n",
              "      <td>324850.44</td>\n",
              "    </tr>\n",
              "    <tr>\n",
              "      <th>CE</th>\n",
              "      <td>279464.03</td>\n",
              "    </tr>\n",
              "    <tr>\n",
              "      <th>PA</th>\n",
              "      <td>218295.85</td>\n",
              "    </tr>\n",
              "    <tr>\n",
              "      <th>MT</th>\n",
              "      <td>187029.29</td>\n",
              "    </tr>\n",
              "    <tr>\n",
              "      <th>MA</th>\n",
              "      <td>152523.02</td>\n",
              "    </tr>\n",
              "    <tr>\n",
              "      <th>PB</th>\n",
              "      <td>141545.72</td>\n",
              "    </tr>\n",
              "    <tr>\n",
              "      <th>MS</th>\n",
              "      <td>137534.84</td>\n",
              "    </tr>\n",
              "    <tr>\n",
              "      <th>PI</th>\n",
              "      <td>108523.97</td>\n",
              "    </tr>\n",
              "    <tr>\n",
              "      <th>RN</th>\n",
              "      <td>102718.13</td>\n",
              "    </tr>\n",
              "    <tr>\n",
              "      <th>AL</th>\n",
              "      <td>96962.06</td>\n",
              "    </tr>\n",
              "    <tr>\n",
              "      <th>SE</th>\n",
              "      <td>75246.25</td>\n",
              "    </tr>\n",
              "    <tr>\n",
              "      <th>TO</th>\n",
              "      <td>61485.33</td>\n",
              "    </tr>\n",
              "    <tr>\n",
              "      <th>RO</th>\n",
              "      <td>60866.20</td>\n",
              "    </tr>\n",
              "    <tr>\n",
              "      <th>AM</th>\n",
              "      <td>27966.93</td>\n",
              "    </tr>\n",
              "    <tr>\n",
              "      <th>AC</th>\n",
              "      <td>19680.62</td>\n",
              "    </tr>\n",
              "    <tr>\n",
              "      <th>AP</th>\n",
              "      <td>16262.80</td>\n",
              "    </tr>\n",
              "    <tr>\n",
              "      <th>RR</th>\n",
              "      <td>10064.62</td>\n",
              "    </tr>\n",
              "  </tbody>\n",
              "</table>\n",
              "</div>"
            ],
            "text/plain": [
              "                payment_value\n",
              "customer_state               \n",
              "SP                 5998226.96\n",
              "RJ                 2144379.69\n",
              "MG                 1872257.26\n",
              "RS                  890898.54\n",
              "PR                  811156.38\n",
              "SC                  623086.43\n",
              "BA                  616645.82\n",
              "DF                  355141.08\n",
              "GO                  350092.31\n",
              "ES                  325967.55\n",
              "PE                  324850.44\n",
              "CE                  279464.03\n",
              "PA                  218295.85\n",
              "MT                  187029.29\n",
              "MA                  152523.02\n",
              "PB                  141545.72\n",
              "MS                  137534.84\n",
              "PI                  108523.97\n",
              "RN                  102718.13\n",
              "AL                   96962.06\n",
              "SE                   75246.25\n",
              "TO                   61485.33\n",
              "RO                   60866.20\n",
              "AM                   27966.93\n",
              "AC                   19680.62\n",
              "AP                   16262.80\n",
              "RR                   10064.62"
            ]
          },
          "metadata": {
            "tags": []
          },
          "execution_count": 46
        }
      ]
    },
    {
      "cell_type": "markdown",
      "metadata": {
        "id": "Y-ErB0lbvi5Y"
      },
      "source": [
        "###Top 5 estados que mais gastam"
      ]
    },
    {
      "cell_type": "code",
      "metadata": {
        "id": "n6bAuv1JtCyZ",
        "colab": {
          "base_uri": "https://localhost:8080/",
          "height": 235
        },
        "outputId": "b33f7f17-42b0-4a98-f292-c0fb4d1ce9e8"
      },
      "source": [
        "valores_pagamentos_ordenadas_top5 = valores_pagamentos.head(5)\n",
        "valores_pagamentos_ordenadas_top5"
      ],
      "execution_count": 47,
      "outputs": [
        {
          "output_type": "execute_result",
          "data": {
            "text/html": [
              "<div>\n",
              "<style scoped>\n",
              "    .dataframe tbody tr th:only-of-type {\n",
              "        vertical-align: middle;\n",
              "    }\n",
              "\n",
              "    .dataframe tbody tr th {\n",
              "        vertical-align: top;\n",
              "    }\n",
              "\n",
              "    .dataframe thead th {\n",
              "        text-align: right;\n",
              "    }\n",
              "</style>\n",
              "<table border=\"1\" class=\"dataframe\">\n",
              "  <thead>\n",
              "    <tr style=\"text-align: right;\">\n",
              "      <th></th>\n",
              "      <th>payment_value</th>\n",
              "    </tr>\n",
              "    <tr>\n",
              "      <th>customer_state</th>\n",
              "      <th></th>\n",
              "    </tr>\n",
              "  </thead>\n",
              "  <tbody>\n",
              "    <tr>\n",
              "      <th>SP</th>\n",
              "      <td>5998226.96</td>\n",
              "    </tr>\n",
              "    <tr>\n",
              "      <th>RJ</th>\n",
              "      <td>2144379.69</td>\n",
              "    </tr>\n",
              "    <tr>\n",
              "      <th>MG</th>\n",
              "      <td>1872257.26</td>\n",
              "    </tr>\n",
              "    <tr>\n",
              "      <th>RS</th>\n",
              "      <td>890898.54</td>\n",
              "    </tr>\n",
              "    <tr>\n",
              "      <th>PR</th>\n",
              "      <td>811156.38</td>\n",
              "    </tr>\n",
              "  </tbody>\n",
              "</table>\n",
              "</div>"
            ],
            "text/plain": [
              "                payment_value\n",
              "customer_state               \n",
              "SP                 5998226.96\n",
              "RJ                 2144379.69\n",
              "MG                 1872257.26\n",
              "RS                  890898.54\n",
              "PR                  811156.38"
            ]
          },
          "metadata": {
            "tags": []
          },
          "execution_count": 47
        }
      ]
    },
    {
      "cell_type": "code",
      "metadata": {
        "id": "eMNlFZefu6Dl",
        "colab": {
          "base_uri": "https://localhost:8080/",
          "height": 204
        },
        "outputId": "80d9a2e8-3591-4d36-bbf1-ca56b78f6c35"
      },
      "source": [
        "df_plot3 = valores_pagamentos_ordenadas_top5.reset_index()\n",
        "df_plot3.head()"
      ],
      "execution_count": 48,
      "outputs": [
        {
          "output_type": "execute_result",
          "data": {
            "text/html": [
              "<div>\n",
              "<style scoped>\n",
              "    .dataframe tbody tr th:only-of-type {\n",
              "        vertical-align: middle;\n",
              "    }\n",
              "\n",
              "    .dataframe tbody tr th {\n",
              "        vertical-align: top;\n",
              "    }\n",
              "\n",
              "    .dataframe thead th {\n",
              "        text-align: right;\n",
              "    }\n",
              "</style>\n",
              "<table border=\"1\" class=\"dataframe\">\n",
              "  <thead>\n",
              "    <tr style=\"text-align: right;\">\n",
              "      <th></th>\n",
              "      <th>customer_state</th>\n",
              "      <th>payment_value</th>\n",
              "    </tr>\n",
              "  </thead>\n",
              "  <tbody>\n",
              "    <tr>\n",
              "      <th>0</th>\n",
              "      <td>SP</td>\n",
              "      <td>5998226.96</td>\n",
              "    </tr>\n",
              "    <tr>\n",
              "      <th>1</th>\n",
              "      <td>RJ</td>\n",
              "      <td>2144379.69</td>\n",
              "    </tr>\n",
              "    <tr>\n",
              "      <th>2</th>\n",
              "      <td>MG</td>\n",
              "      <td>1872257.26</td>\n",
              "    </tr>\n",
              "    <tr>\n",
              "      <th>3</th>\n",
              "      <td>RS</td>\n",
              "      <td>890898.54</td>\n",
              "    </tr>\n",
              "    <tr>\n",
              "      <th>4</th>\n",
              "      <td>PR</td>\n",
              "      <td>811156.38</td>\n",
              "    </tr>\n",
              "  </tbody>\n",
              "</table>\n",
              "</div>"
            ],
            "text/plain": [
              "  customer_state  payment_value\n",
              "0             SP     5998226.96\n",
              "1             RJ     2144379.69\n",
              "2             MG     1872257.26\n",
              "3             RS      890898.54\n",
              "4             PR      811156.38"
            ]
          },
          "metadata": {
            "tags": []
          },
          "execution_count": 48
        }
      ]
    },
    {
      "cell_type": "code",
      "metadata": {
        "id": "Bw7oeJb-vLAd",
        "colab": {
          "base_uri": "https://localhost:8080/",
          "height": 542
        },
        "outputId": "c9daf3b1-8a26-4bc7-ab8f-09ae5b080e2f"
      },
      "source": [
        "fig3 = px.bar(df_plot3, x='customer_state', y=\"payment_value\", title=\"Estados X Valor Pago em Compras\")\n",
        "fig3.show()"
      ],
      "execution_count": 49,
      "outputs": [
        {
          "output_type": "display_data",
          "data": {
            "text/html": [
              "<html>\n",
              "<head><meta charset=\"utf-8\" /></head>\n",
              "<body>\n",
              "    <div>            <script src=\"https://cdnjs.cloudflare.com/ajax/libs/mathjax/2.7.5/MathJax.js?config=TeX-AMS-MML_SVG\"></script><script type=\"text/javascript\">if (window.MathJax) {MathJax.Hub.Config({SVG: {font: \"STIX-Web\"}});}</script>                <script type=\"text/javascript\">window.PlotlyConfig = {MathJaxConfig: 'local'};</script>\n",
              "        <script src=\"https://cdn.plot.ly/plotly-latest.min.js\"></script>                <div id=\"1498ed68-c052-44db-b0ae-ef3b156165db\" class=\"plotly-graph-div\" style=\"height:525px; width:100%;\"></div>            <script type=\"text/javascript\">                                    window.PLOTLYENV=window.PLOTLYENV || {};                                    if (document.getElementById(\"1498ed68-c052-44db-b0ae-ef3b156165db\")) {                    Plotly.newPlot(                        \"1498ed68-c052-44db-b0ae-ef3b156165db\",                        [{\"alignmentgroup\": \"True\", \"hovertemplate\": \"customer_state=%{x}<br>payment_value=%{y}<extra></extra>\", \"legendgroup\": \"\", \"marker\": {\"color\": \"#636efa\"}, \"name\": \"\", \"offsetgroup\": \"\", \"orientation\": \"v\", \"showlegend\": false, \"textposition\": \"auto\", \"type\": \"bar\", \"x\": [\"SP\", \"RJ\", \"MG\", \"RS\", \"PR\"], \"xaxis\": \"x\", \"y\": [5998226.9599999245, 2144379.689999988, 1872257.259999999, 890898.5399999957, 811156.3799999965], \"yaxis\": \"y\"}],                        {\"barmode\": \"relative\", \"legend\": {\"tracegroupgap\": 0}, \"template\": {\"data\": {\"bar\": [{\"error_x\": {\"color\": \"#2a3f5f\"}, \"error_y\": {\"color\": \"#2a3f5f\"}, \"marker\": {\"line\": {\"color\": \"#E5ECF6\", \"width\": 0.5}}, \"type\": \"bar\"}], \"barpolar\": [{\"marker\": {\"line\": {\"color\": \"#E5ECF6\", \"width\": 0.5}}, \"type\": \"barpolar\"}], \"carpet\": [{\"aaxis\": {\"endlinecolor\": \"#2a3f5f\", \"gridcolor\": \"white\", \"linecolor\": \"white\", \"minorgridcolor\": \"white\", \"startlinecolor\": \"#2a3f5f\"}, \"baxis\": {\"endlinecolor\": \"#2a3f5f\", \"gridcolor\": \"white\", \"linecolor\": \"white\", \"minorgridcolor\": \"white\", \"startlinecolor\": \"#2a3f5f\"}, \"type\": \"carpet\"}], \"choropleth\": [{\"colorbar\": {\"outlinewidth\": 0, \"ticks\": \"\"}, \"type\": \"choropleth\"}], \"contour\": [{\"colorbar\": {\"outlinewidth\": 0, \"ticks\": \"\"}, \"colorscale\": [[0.0, \"#0d0887\"], [0.1111111111111111, \"#46039f\"], [0.2222222222222222, \"#7201a8\"], [0.3333333333333333, \"#9c179e\"], [0.4444444444444444, \"#bd3786\"], [0.5555555555555556, \"#d8576b\"], [0.6666666666666666, \"#ed7953\"], [0.7777777777777778, \"#fb9f3a\"], [0.8888888888888888, \"#fdca26\"], [1.0, \"#f0f921\"]], \"type\": \"contour\"}], \"contourcarpet\": [{\"colorbar\": {\"outlinewidth\": 0, \"ticks\": \"\"}, \"type\": \"contourcarpet\"}], \"heatmap\": [{\"colorbar\": {\"outlinewidth\": 0, \"ticks\": \"\"}, \"colorscale\": [[0.0, \"#0d0887\"], [0.1111111111111111, \"#46039f\"], [0.2222222222222222, \"#7201a8\"], [0.3333333333333333, \"#9c179e\"], [0.4444444444444444, \"#bd3786\"], [0.5555555555555556, \"#d8576b\"], [0.6666666666666666, \"#ed7953\"], [0.7777777777777778, \"#fb9f3a\"], [0.8888888888888888, \"#fdca26\"], [1.0, \"#f0f921\"]], \"type\": \"heatmap\"}], \"heatmapgl\": [{\"colorbar\": {\"outlinewidth\": 0, \"ticks\": \"\"}, \"colorscale\": [[0.0, \"#0d0887\"], [0.1111111111111111, \"#46039f\"], [0.2222222222222222, \"#7201a8\"], [0.3333333333333333, \"#9c179e\"], [0.4444444444444444, \"#bd3786\"], [0.5555555555555556, \"#d8576b\"], [0.6666666666666666, \"#ed7953\"], [0.7777777777777778, \"#fb9f3a\"], [0.8888888888888888, \"#fdca26\"], [1.0, \"#f0f921\"]], \"type\": \"heatmapgl\"}], \"histogram\": [{\"marker\": {\"colorbar\": {\"outlinewidth\": 0, \"ticks\": \"\"}}, \"type\": \"histogram\"}], \"histogram2d\": [{\"colorbar\": {\"outlinewidth\": 0, \"ticks\": \"\"}, \"colorscale\": [[0.0, \"#0d0887\"], [0.1111111111111111, \"#46039f\"], [0.2222222222222222, \"#7201a8\"], [0.3333333333333333, \"#9c179e\"], [0.4444444444444444, \"#bd3786\"], [0.5555555555555556, \"#d8576b\"], [0.6666666666666666, \"#ed7953\"], [0.7777777777777778, \"#fb9f3a\"], [0.8888888888888888, \"#fdca26\"], [1.0, \"#f0f921\"]], \"type\": \"histogram2d\"}], \"histogram2dcontour\": [{\"colorbar\": {\"outlinewidth\": 0, \"ticks\": \"\"}, \"colorscale\": [[0.0, \"#0d0887\"], [0.1111111111111111, \"#46039f\"], [0.2222222222222222, \"#7201a8\"], [0.3333333333333333, \"#9c179e\"], [0.4444444444444444, \"#bd3786\"], [0.5555555555555556, \"#d8576b\"], [0.6666666666666666, \"#ed7953\"], [0.7777777777777778, \"#fb9f3a\"], [0.8888888888888888, \"#fdca26\"], [1.0, \"#f0f921\"]], \"type\": \"histogram2dcontour\"}], \"mesh3d\": [{\"colorbar\": {\"outlinewidth\": 0, \"ticks\": \"\"}, \"type\": \"mesh3d\"}], \"parcoords\": [{\"line\": {\"colorbar\": {\"outlinewidth\": 0, \"ticks\": \"\"}}, \"type\": \"parcoords\"}], \"pie\": [{\"automargin\": true, \"type\": \"pie\"}], \"scatter\": [{\"marker\": {\"colorbar\": {\"outlinewidth\": 0, \"ticks\": \"\"}}, \"type\": \"scatter\"}], \"scatter3d\": [{\"line\": {\"colorbar\": {\"outlinewidth\": 0, \"ticks\": \"\"}}, \"marker\": {\"colorbar\": {\"outlinewidth\": 0, \"ticks\": \"\"}}, \"type\": \"scatter3d\"}], \"scattercarpet\": [{\"marker\": {\"colorbar\": {\"outlinewidth\": 0, \"ticks\": \"\"}}, \"type\": \"scattercarpet\"}], \"scattergeo\": [{\"marker\": {\"colorbar\": {\"outlinewidth\": 0, \"ticks\": \"\"}}, \"type\": \"scattergeo\"}], \"scattergl\": [{\"marker\": {\"colorbar\": {\"outlinewidth\": 0, \"ticks\": \"\"}}, \"type\": \"scattergl\"}], \"scattermapbox\": [{\"marker\": {\"colorbar\": {\"outlinewidth\": 0, \"ticks\": \"\"}}, \"type\": \"scattermapbox\"}], \"scatterpolar\": [{\"marker\": {\"colorbar\": {\"outlinewidth\": 0, \"ticks\": \"\"}}, \"type\": \"scatterpolar\"}], \"scatterpolargl\": [{\"marker\": {\"colorbar\": {\"outlinewidth\": 0, \"ticks\": \"\"}}, \"type\": \"scatterpolargl\"}], \"scatterternary\": [{\"marker\": {\"colorbar\": {\"outlinewidth\": 0, \"ticks\": \"\"}}, \"type\": \"scatterternary\"}], \"surface\": [{\"colorbar\": {\"outlinewidth\": 0, \"ticks\": \"\"}, \"colorscale\": [[0.0, \"#0d0887\"], [0.1111111111111111, \"#46039f\"], [0.2222222222222222, \"#7201a8\"], [0.3333333333333333, \"#9c179e\"], [0.4444444444444444, \"#bd3786\"], [0.5555555555555556, \"#d8576b\"], [0.6666666666666666, \"#ed7953\"], [0.7777777777777778, \"#fb9f3a\"], [0.8888888888888888, \"#fdca26\"], [1.0, \"#f0f921\"]], \"type\": \"surface\"}], \"table\": [{\"cells\": {\"fill\": {\"color\": \"#EBF0F8\"}, \"line\": {\"color\": \"white\"}}, \"header\": {\"fill\": {\"color\": \"#C8D4E3\"}, \"line\": {\"color\": \"white\"}}, \"type\": \"table\"}]}, \"layout\": {\"annotationdefaults\": {\"arrowcolor\": \"#2a3f5f\", \"arrowhead\": 0, \"arrowwidth\": 1}, \"coloraxis\": {\"colorbar\": {\"outlinewidth\": 0, \"ticks\": \"\"}}, \"colorscale\": {\"diverging\": [[0, \"#8e0152\"], [0.1, \"#c51b7d\"], [0.2, \"#de77ae\"], [0.3, \"#f1b6da\"], [0.4, \"#fde0ef\"], [0.5, \"#f7f7f7\"], [0.6, \"#e6f5d0\"], [0.7, \"#b8e186\"], [0.8, \"#7fbc41\"], [0.9, \"#4d9221\"], [1, \"#276419\"]], \"sequential\": [[0.0, \"#0d0887\"], [0.1111111111111111, \"#46039f\"], [0.2222222222222222, \"#7201a8\"], [0.3333333333333333, \"#9c179e\"], [0.4444444444444444, \"#bd3786\"], [0.5555555555555556, \"#d8576b\"], [0.6666666666666666, \"#ed7953\"], [0.7777777777777778, \"#fb9f3a\"], [0.8888888888888888, \"#fdca26\"], [1.0, \"#f0f921\"]], \"sequentialminus\": [[0.0, \"#0d0887\"], [0.1111111111111111, \"#46039f\"], [0.2222222222222222, \"#7201a8\"], [0.3333333333333333, \"#9c179e\"], [0.4444444444444444, \"#bd3786\"], [0.5555555555555556, \"#d8576b\"], [0.6666666666666666, \"#ed7953\"], [0.7777777777777778, \"#fb9f3a\"], [0.8888888888888888, \"#fdca26\"], [1.0, \"#f0f921\"]]}, \"colorway\": [\"#636efa\", \"#EF553B\", \"#00cc96\", \"#ab63fa\", \"#FFA15A\", \"#19d3f3\", \"#FF6692\", \"#B6E880\", \"#FF97FF\", \"#FECB52\"], \"font\": {\"color\": \"#2a3f5f\"}, \"geo\": {\"bgcolor\": \"white\", \"lakecolor\": \"white\", \"landcolor\": \"#E5ECF6\", \"showlakes\": true, \"showland\": true, \"subunitcolor\": \"white\"}, \"hoverlabel\": {\"align\": \"left\"}, \"hovermode\": \"closest\", \"mapbox\": {\"style\": \"light\"}, \"paper_bgcolor\": \"white\", \"plot_bgcolor\": \"#E5ECF6\", \"polar\": {\"angularaxis\": {\"gridcolor\": \"white\", \"linecolor\": \"white\", \"ticks\": \"\"}, \"bgcolor\": \"#E5ECF6\", \"radialaxis\": {\"gridcolor\": \"white\", \"linecolor\": \"white\", \"ticks\": \"\"}}, \"scene\": {\"xaxis\": {\"backgroundcolor\": \"#E5ECF6\", \"gridcolor\": \"white\", \"gridwidth\": 2, \"linecolor\": \"white\", \"showbackground\": true, \"ticks\": \"\", \"zerolinecolor\": \"white\"}, \"yaxis\": {\"backgroundcolor\": \"#E5ECF6\", \"gridcolor\": \"white\", \"gridwidth\": 2, \"linecolor\": \"white\", \"showbackground\": true, \"ticks\": \"\", \"zerolinecolor\": \"white\"}, \"zaxis\": {\"backgroundcolor\": \"#E5ECF6\", \"gridcolor\": \"white\", \"gridwidth\": 2, \"linecolor\": \"white\", \"showbackground\": true, \"ticks\": \"\", \"zerolinecolor\": \"white\"}}, \"shapedefaults\": {\"line\": {\"color\": \"#2a3f5f\"}}, \"ternary\": {\"aaxis\": {\"gridcolor\": \"white\", \"linecolor\": \"white\", \"ticks\": \"\"}, \"baxis\": {\"gridcolor\": \"white\", \"linecolor\": \"white\", \"ticks\": \"\"}, \"bgcolor\": \"#E5ECF6\", \"caxis\": {\"gridcolor\": \"white\", \"linecolor\": \"white\", \"ticks\": \"\"}}, \"title\": {\"x\": 0.05}, \"xaxis\": {\"automargin\": true, \"gridcolor\": \"white\", \"linecolor\": \"white\", \"ticks\": \"\", \"title\": {\"standoff\": 15}, \"zerolinecolor\": \"white\", \"zerolinewidth\": 2}, \"yaxis\": {\"automargin\": true, \"gridcolor\": \"white\", \"linecolor\": \"white\", \"ticks\": \"\", \"title\": {\"standoff\": 15}, \"zerolinecolor\": \"white\", \"zerolinewidth\": 2}}}, \"title\": {\"text\": \"Estados X Valor Pago em Compras\"}, \"xaxis\": {\"anchor\": \"y\", \"domain\": [0.0, 1.0], \"title\": {\"text\": \"customer_state\"}}, \"yaxis\": {\"anchor\": \"x\", \"domain\": [0.0, 1.0], \"title\": {\"text\": \"payment_value\"}}},                        {\"responsive\": true}                    ).then(function(){\n",
              "                            \n",
              "var gd = document.getElementById('1498ed68-c052-44db-b0ae-ef3b156165db');\n",
              "var x = new MutationObserver(function (mutations, observer) {{\n",
              "        var display = window.getComputedStyle(gd).display;\n",
              "        if (!display || display === 'none') {{\n",
              "            console.log([gd, 'removed!']);\n",
              "            Plotly.purge(gd);\n",
              "            observer.disconnect();\n",
              "        }}\n",
              "}});\n",
              "\n",
              "// Listen for the removal of the full notebook cells\n",
              "var notebookContainer = gd.closest('#notebook-container');\n",
              "if (notebookContainer) {{\n",
              "    x.observe(notebookContainer, {childList: true});\n",
              "}}\n",
              "\n",
              "// Listen for the clearing of the current output cell\n",
              "var outputEl = gd.closest('.output');\n",
              "if (outputEl) {{\n",
              "    x.observe(outputEl, {childList: true});\n",
              "}}\n",
              "\n",
              "                        })                };                            </script>        </div>\n",
              "</body>\n",
              "</html>"
            ]
          },
          "metadata": {
            "tags": []
          }
        }
      ]
    },
    {
      "cell_type": "markdown",
      "metadata": {
        "id": "Dw6OgFUnde_e"
      },
      "source": [
        "##4) Qual o tipo de pagamento mais utilizado em cada categoria?\n"
      ]
    },
    {
      "cell_type": "code",
      "metadata": {
        "id": "YAZvsQlby5cF",
        "colab": {
          "base_uri": "https://localhost:8080/",
          "height": 204
        },
        "outputId": "4122523a-c292-4342-b2af-095c36464ca4"
      },
      "source": [
        "df_left4 = df_compra_pagamentos[['order_id', 'payment_type']]\n",
        "df_left4.head()"
      ],
      "execution_count": 50,
      "outputs": [
        {
          "output_type": "execute_result",
          "data": {
            "text/html": [
              "<div>\n",
              "<style scoped>\n",
              "    .dataframe tbody tr th:only-of-type {\n",
              "        vertical-align: middle;\n",
              "    }\n",
              "\n",
              "    .dataframe tbody tr th {\n",
              "        vertical-align: top;\n",
              "    }\n",
              "\n",
              "    .dataframe thead th {\n",
              "        text-align: right;\n",
              "    }\n",
              "</style>\n",
              "<table border=\"1\" class=\"dataframe\">\n",
              "  <thead>\n",
              "    <tr style=\"text-align: right;\">\n",
              "      <th></th>\n",
              "      <th>order_id</th>\n",
              "      <th>payment_type</th>\n",
              "    </tr>\n",
              "  </thead>\n",
              "  <tbody>\n",
              "    <tr>\n",
              "      <th>0</th>\n",
              "      <td>b81ef226f3fe1789b1e8b2acac839d17</td>\n",
              "      <td>credit_card</td>\n",
              "    </tr>\n",
              "    <tr>\n",
              "      <th>1</th>\n",
              "      <td>a9810da82917af2d9aefd1278f1dcfa0</td>\n",
              "      <td>credit_card</td>\n",
              "    </tr>\n",
              "    <tr>\n",
              "      <th>2</th>\n",
              "      <td>25e8ea4e93396b6fa0d3dd708e76c1bd</td>\n",
              "      <td>credit_card</td>\n",
              "    </tr>\n",
              "    <tr>\n",
              "      <th>3</th>\n",
              "      <td>ba78997921bbcdc1373bb41e913ab953</td>\n",
              "      <td>credit_card</td>\n",
              "    </tr>\n",
              "    <tr>\n",
              "      <th>4</th>\n",
              "      <td>42fdf880ba16b47b59251dd489d4441a</td>\n",
              "      <td>credit_card</td>\n",
              "    </tr>\n",
              "  </tbody>\n",
              "</table>\n",
              "</div>"
            ],
            "text/plain": [
              "                           order_id payment_type\n",
              "0  b81ef226f3fe1789b1e8b2acac839d17  credit_card\n",
              "1  a9810da82917af2d9aefd1278f1dcfa0  credit_card\n",
              "2  25e8ea4e93396b6fa0d3dd708e76c1bd  credit_card\n",
              "3  ba78997921bbcdc1373bb41e913ab953  credit_card\n",
              "4  42fdf880ba16b47b59251dd489d4441a  credit_card"
            ]
          },
          "metadata": {
            "tags": []
          },
          "execution_count": 50
        }
      ]
    },
    {
      "cell_type": "code",
      "metadata": {
        "id": "mOT2KAcUz12v",
        "colab": {
          "base_uri": "https://localhost:8080/",
          "height": 204
        },
        "outputId": "0d79702c-7dea-4f59-cb9b-788a8a77fe44"
      },
      "source": [
        "df_right7 = df_compra_itens[['order_id', 'product_id']]\n",
        "df_right7.head()"
      ],
      "execution_count": 51,
      "outputs": [
        {
          "output_type": "execute_result",
          "data": {
            "text/html": [
              "<div>\n",
              "<style scoped>\n",
              "    .dataframe tbody tr th:only-of-type {\n",
              "        vertical-align: middle;\n",
              "    }\n",
              "\n",
              "    .dataframe tbody tr th {\n",
              "        vertical-align: top;\n",
              "    }\n",
              "\n",
              "    .dataframe thead th {\n",
              "        text-align: right;\n",
              "    }\n",
              "</style>\n",
              "<table border=\"1\" class=\"dataframe\">\n",
              "  <thead>\n",
              "    <tr style=\"text-align: right;\">\n",
              "      <th></th>\n",
              "      <th>order_id</th>\n",
              "      <th>product_id</th>\n",
              "    </tr>\n",
              "  </thead>\n",
              "  <tbody>\n",
              "    <tr>\n",
              "      <th>0</th>\n",
              "      <td>00010242fe8c5a6d1ba2dd792cb16214</td>\n",
              "      <td>4244733e06e7ecb4970a6e2683c13e61</td>\n",
              "    </tr>\n",
              "    <tr>\n",
              "      <th>1</th>\n",
              "      <td>00018f77f2f0320c557190d7a144bdd3</td>\n",
              "      <td>e5f2d52b802189ee658865ca93d83a8f</td>\n",
              "    </tr>\n",
              "    <tr>\n",
              "      <th>2</th>\n",
              "      <td>000229ec398224ef6ca0657da4fc703e</td>\n",
              "      <td>c777355d18b72b67abbeef9df44fd0fd</td>\n",
              "    </tr>\n",
              "    <tr>\n",
              "      <th>3</th>\n",
              "      <td>00024acbcdf0a6daa1e931b038114c75</td>\n",
              "      <td>7634da152a4610f1595efa32f14722fc</td>\n",
              "    </tr>\n",
              "    <tr>\n",
              "      <th>4</th>\n",
              "      <td>00042b26cf59d7ce69dfabb4e55b4fd9</td>\n",
              "      <td>ac6c3623068f30de03045865e4e10089</td>\n",
              "    </tr>\n",
              "  </tbody>\n",
              "</table>\n",
              "</div>"
            ],
            "text/plain": [
              "                           order_id                        product_id\n",
              "0  00010242fe8c5a6d1ba2dd792cb16214  4244733e06e7ecb4970a6e2683c13e61\n",
              "1  00018f77f2f0320c557190d7a144bdd3  e5f2d52b802189ee658865ca93d83a8f\n",
              "2  000229ec398224ef6ca0657da4fc703e  c777355d18b72b67abbeef9df44fd0fd\n",
              "3  00024acbcdf0a6daa1e931b038114c75  7634da152a4610f1595efa32f14722fc\n",
              "4  00042b26cf59d7ce69dfabb4e55b4fd9  ac6c3623068f30de03045865e4e10089"
            ]
          },
          "metadata": {
            "tags": []
          },
          "execution_count": 51
        }
      ]
    },
    {
      "cell_type": "code",
      "metadata": {
        "id": "4hsDoGEt0COI",
        "colab": {
          "base_uri": "https://localhost:8080/",
          "height": 204
        },
        "outputId": "9567ff60-80d6-4d7e-9c48-e5696552be00"
      },
      "source": [
        "df_pagamento_categ = pd.merge(df_left4, df_right7, how='left', on='order_id')\n",
        "df_pagamento_categ.head()"
      ],
      "execution_count": 52,
      "outputs": [
        {
          "output_type": "execute_result",
          "data": {
            "text/html": [
              "<div>\n",
              "<style scoped>\n",
              "    .dataframe tbody tr th:only-of-type {\n",
              "        vertical-align: middle;\n",
              "    }\n",
              "\n",
              "    .dataframe tbody tr th {\n",
              "        vertical-align: top;\n",
              "    }\n",
              "\n",
              "    .dataframe thead th {\n",
              "        text-align: right;\n",
              "    }\n",
              "</style>\n",
              "<table border=\"1\" class=\"dataframe\">\n",
              "  <thead>\n",
              "    <tr style=\"text-align: right;\">\n",
              "      <th></th>\n",
              "      <th>order_id</th>\n",
              "      <th>payment_type</th>\n",
              "      <th>product_id</th>\n",
              "    </tr>\n",
              "  </thead>\n",
              "  <tbody>\n",
              "    <tr>\n",
              "      <th>0</th>\n",
              "      <td>b81ef226f3fe1789b1e8b2acac839d17</td>\n",
              "      <td>credit_card</td>\n",
              "      <td>af74cc53dcffc8384b29e7abfa41902b</td>\n",
              "    </tr>\n",
              "    <tr>\n",
              "      <th>1</th>\n",
              "      <td>a9810da82917af2d9aefd1278f1dcfa0</td>\n",
              "      <td>credit_card</td>\n",
              "      <td>a630cc320a8c872f9de830cf121661a3</td>\n",
              "    </tr>\n",
              "    <tr>\n",
              "      <th>2</th>\n",
              "      <td>25e8ea4e93396b6fa0d3dd708e76c1bd</td>\n",
              "      <td>credit_card</td>\n",
              "      <td>2028bf1b01cafb2d2b1901fca4083222</td>\n",
              "    </tr>\n",
              "    <tr>\n",
              "      <th>3</th>\n",
              "      <td>ba78997921bbcdc1373bb41e913ab953</td>\n",
              "      <td>credit_card</td>\n",
              "      <td>548e5bfe28edceab6b51fa707cc9556f</td>\n",
              "    </tr>\n",
              "    <tr>\n",
              "      <th>4</th>\n",
              "      <td>42fdf880ba16b47b59251dd489d4441a</td>\n",
              "      <td>credit_card</td>\n",
              "      <td>386486367c1f9d4f587a8864ccb6902b</td>\n",
              "    </tr>\n",
              "  </tbody>\n",
              "</table>\n",
              "</div>"
            ],
            "text/plain": [
              "                           order_id  ...                        product_id\n",
              "0  b81ef226f3fe1789b1e8b2acac839d17  ...  af74cc53dcffc8384b29e7abfa41902b\n",
              "1  a9810da82917af2d9aefd1278f1dcfa0  ...  a630cc320a8c872f9de830cf121661a3\n",
              "2  25e8ea4e93396b6fa0d3dd708e76c1bd  ...  2028bf1b01cafb2d2b1901fca4083222\n",
              "3  ba78997921bbcdc1373bb41e913ab953  ...  548e5bfe28edceab6b51fa707cc9556f\n",
              "4  42fdf880ba16b47b59251dd489d4441a  ...  386486367c1f9d4f587a8864ccb6902b\n",
              "\n",
              "[5 rows x 3 columns]"
            ]
          },
          "metadata": {
            "tags": []
          },
          "execution_count": 52
        }
      ]
    },
    {
      "cell_type": "code",
      "metadata": {
        "id": "iJxnhrF21K6r",
        "colab": {
          "base_uri": "https://localhost:8080/",
          "height": 204
        },
        "outputId": "feeb888e-bdb5-4ce4-c995-723b29357a02"
      },
      "source": [
        "df_right8 = df_produtos[['product_id', 'product_category_name']]\n",
        "df_right8.head()"
      ],
      "execution_count": 53,
      "outputs": [
        {
          "output_type": "execute_result",
          "data": {
            "text/html": [
              "<div>\n",
              "<style scoped>\n",
              "    .dataframe tbody tr th:only-of-type {\n",
              "        vertical-align: middle;\n",
              "    }\n",
              "\n",
              "    .dataframe tbody tr th {\n",
              "        vertical-align: top;\n",
              "    }\n",
              "\n",
              "    .dataframe thead th {\n",
              "        text-align: right;\n",
              "    }\n",
              "</style>\n",
              "<table border=\"1\" class=\"dataframe\">\n",
              "  <thead>\n",
              "    <tr style=\"text-align: right;\">\n",
              "      <th></th>\n",
              "      <th>product_id</th>\n",
              "      <th>product_category_name</th>\n",
              "    </tr>\n",
              "  </thead>\n",
              "  <tbody>\n",
              "    <tr>\n",
              "      <th>0</th>\n",
              "      <td>1e9e8ef04dbcff4541ed26657ea517e5</td>\n",
              "      <td>perfumaria</td>\n",
              "    </tr>\n",
              "    <tr>\n",
              "      <th>1</th>\n",
              "      <td>3aa071139cb16b67ca9e5dea641aaa2f</td>\n",
              "      <td>artes</td>\n",
              "    </tr>\n",
              "    <tr>\n",
              "      <th>2</th>\n",
              "      <td>96bd76ec8810374ed1b65e291975717f</td>\n",
              "      <td>esporte_lazer</td>\n",
              "    </tr>\n",
              "    <tr>\n",
              "      <th>3</th>\n",
              "      <td>cef67bcfe19066a932b7673e239eb23d</td>\n",
              "      <td>bebes</td>\n",
              "    </tr>\n",
              "    <tr>\n",
              "      <th>4</th>\n",
              "      <td>9dc1a7de274444849c219cff195d0b71</td>\n",
              "      <td>utilidades_domesticas</td>\n",
              "    </tr>\n",
              "  </tbody>\n",
              "</table>\n",
              "</div>"
            ],
            "text/plain": [
              "                         product_id  product_category_name\n",
              "0  1e9e8ef04dbcff4541ed26657ea517e5             perfumaria\n",
              "1  3aa071139cb16b67ca9e5dea641aaa2f                  artes\n",
              "2  96bd76ec8810374ed1b65e291975717f          esporte_lazer\n",
              "3  cef67bcfe19066a932b7673e239eb23d                  bebes\n",
              "4  9dc1a7de274444849c219cff195d0b71  utilidades_domesticas"
            ]
          },
          "metadata": {
            "tags": []
          },
          "execution_count": 53
        }
      ]
    },
    {
      "cell_type": "code",
      "metadata": {
        "id": "nEHvt0_d11LF",
        "colab": {
          "base_uri": "https://localhost:8080/",
          "height": 204
        },
        "outputId": "94233d3c-4694-45f4-f493-9726241414f2"
      },
      "source": [
        "df_pagamento_categorias = pd.merge(df_pagamento_categ, df_right8, how='left', on='product_id')\n",
        "df_pagamento_categorias.head()"
      ],
      "execution_count": 54,
      "outputs": [
        {
          "output_type": "execute_result",
          "data": {
            "text/html": [
              "<div>\n",
              "<style scoped>\n",
              "    .dataframe tbody tr th:only-of-type {\n",
              "        vertical-align: middle;\n",
              "    }\n",
              "\n",
              "    .dataframe tbody tr th {\n",
              "        vertical-align: top;\n",
              "    }\n",
              "\n",
              "    .dataframe thead th {\n",
              "        text-align: right;\n",
              "    }\n",
              "</style>\n",
              "<table border=\"1\" class=\"dataframe\">\n",
              "  <thead>\n",
              "    <tr style=\"text-align: right;\">\n",
              "      <th></th>\n",
              "      <th>order_id</th>\n",
              "      <th>payment_type</th>\n",
              "      <th>product_id</th>\n",
              "      <th>product_category_name</th>\n",
              "    </tr>\n",
              "  </thead>\n",
              "  <tbody>\n",
              "    <tr>\n",
              "      <th>0</th>\n",
              "      <td>b81ef226f3fe1789b1e8b2acac839d17</td>\n",
              "      <td>credit_card</td>\n",
              "      <td>af74cc53dcffc8384b29e7abfa41902b</td>\n",
              "      <td>casa_construcao</td>\n",
              "    </tr>\n",
              "    <tr>\n",
              "      <th>1</th>\n",
              "      <td>a9810da82917af2d9aefd1278f1dcfa0</td>\n",
              "      <td>credit_card</td>\n",
              "      <td>a630cc320a8c872f9de830cf121661a3</td>\n",
              "      <td>automotivo</td>\n",
              "    </tr>\n",
              "    <tr>\n",
              "      <th>2</th>\n",
              "      <td>25e8ea4e93396b6fa0d3dd708e76c1bd</td>\n",
              "      <td>credit_card</td>\n",
              "      <td>2028bf1b01cafb2d2b1901fca4083222</td>\n",
              "      <td>perfumaria</td>\n",
              "    </tr>\n",
              "    <tr>\n",
              "      <th>3</th>\n",
              "      <td>ba78997921bbcdc1373bb41e913ab953</td>\n",
              "      <td>credit_card</td>\n",
              "      <td>548e5bfe28edceab6b51fa707cc9556f</td>\n",
              "      <td>cama_mesa_banho</td>\n",
              "    </tr>\n",
              "    <tr>\n",
              "      <th>4</th>\n",
              "      <td>42fdf880ba16b47b59251dd489d4441a</td>\n",
              "      <td>credit_card</td>\n",
              "      <td>386486367c1f9d4f587a8864ccb6902b</td>\n",
              "      <td>cama_mesa_banho</td>\n",
              "    </tr>\n",
              "  </tbody>\n",
              "</table>\n",
              "</div>"
            ],
            "text/plain": [
              "                           order_id  ... product_category_name\n",
              "0  b81ef226f3fe1789b1e8b2acac839d17  ...       casa_construcao\n",
              "1  a9810da82917af2d9aefd1278f1dcfa0  ...            automotivo\n",
              "2  25e8ea4e93396b6fa0d3dd708e76c1bd  ...            perfumaria\n",
              "3  ba78997921bbcdc1373bb41e913ab953  ...       cama_mesa_banho\n",
              "4  42fdf880ba16b47b59251dd489d4441a  ...       cama_mesa_banho\n",
              "\n",
              "[5 rows x 4 columns]"
            ]
          },
          "metadata": {
            "tags": []
          },
          "execution_count": 54
        }
      ]
    },
    {
      "cell_type": "code",
      "metadata": {
        "id": "pd-ojLj42Liv",
        "colab": {
          "base_uri": "https://localhost:8080/",
          "height": 450
        },
        "outputId": "88f7fdf0-efc0-480e-b77e-d90b3e842f2a"
      },
      "source": [
        "pagamentos_categorias_groupby = df_pagamento_categorias.groupby(by=['product_category_name','payment_type']).nunique()\n",
        "pagamentos_categorias_groupby"
      ],
      "execution_count": 55,
      "outputs": [
        {
          "output_type": "execute_result",
          "data": {
            "text/html": [
              "<div>\n",
              "<style scoped>\n",
              "    .dataframe tbody tr th:only-of-type {\n",
              "        vertical-align: middle;\n",
              "    }\n",
              "\n",
              "    .dataframe tbody tr th {\n",
              "        vertical-align: top;\n",
              "    }\n",
              "\n",
              "    .dataframe thead th {\n",
              "        text-align: right;\n",
              "    }\n",
              "</style>\n",
              "<table border=\"1\" class=\"dataframe\">\n",
              "  <thead>\n",
              "    <tr style=\"text-align: right;\">\n",
              "      <th></th>\n",
              "      <th></th>\n",
              "      <th>order_id</th>\n",
              "      <th>product_id</th>\n",
              "    </tr>\n",
              "    <tr>\n",
              "      <th>product_category_name</th>\n",
              "      <th>payment_type</th>\n",
              "      <th></th>\n",
              "      <th></th>\n",
              "    </tr>\n",
              "  </thead>\n",
              "  <tbody>\n",
              "    <tr>\n",
              "      <th rowspan=\"4\" valign=\"top\">agro_industria_e_comercio</th>\n",
              "      <th>boleto</th>\n",
              "      <td>51</td>\n",
              "      <td>22</td>\n",
              "    </tr>\n",
              "    <tr>\n",
              "      <th>credit_card</th>\n",
              "      <td>125</td>\n",
              "      <td>59</td>\n",
              "    </tr>\n",
              "    <tr>\n",
              "      <th>debit_card</th>\n",
              "      <td>4</td>\n",
              "      <td>4</td>\n",
              "    </tr>\n",
              "    <tr>\n",
              "      <th>voucher</th>\n",
              "      <td>6</td>\n",
              "      <td>6</td>\n",
              "    </tr>\n",
              "    <tr>\n",
              "      <th>alimentos</th>\n",
              "      <th>boleto</th>\n",
              "      <td>99</td>\n",
              "      <td>28</td>\n",
              "    </tr>\n",
              "    <tr>\n",
              "      <th>...</th>\n",
              "      <th>...</th>\n",
              "      <td>...</td>\n",
              "      <td>...</td>\n",
              "    </tr>\n",
              "    <tr>\n",
              "      <th>telefonia_fixa</th>\n",
              "      <th>voucher</th>\n",
              "      <td>9</td>\n",
              "      <td>9</td>\n",
              "    </tr>\n",
              "    <tr>\n",
              "      <th rowspan=\"4\" valign=\"top\">utilidades_domesticas</th>\n",
              "      <th>boleto</th>\n",
              "      <td>1044</td>\n",
              "      <td>668</td>\n",
              "    </tr>\n",
              "    <tr>\n",
              "      <th>credit_card</th>\n",
              "      <td>4613</td>\n",
              "      <td>2005</td>\n",
              "    </tr>\n",
              "    <tr>\n",
              "      <th>debit_card</th>\n",
              "      <td>102</td>\n",
              "      <td>98</td>\n",
              "    </tr>\n",
              "    <tr>\n",
              "      <th>voucher</th>\n",
              "      <td>286</td>\n",
              "      <td>262</td>\n",
              "    </tr>\n",
              "  </tbody>\n",
              "</table>\n",
              "<p>270 rows × 2 columns</p>\n",
              "</div>"
            ],
            "text/plain": [
              "                                        order_id  product_id\n",
              "product_category_name     payment_type                      \n",
              "agro_industria_e_comercio boleto              51          22\n",
              "                          credit_card        125          59\n",
              "                          debit_card           4           4\n",
              "                          voucher              6           6\n",
              "alimentos                 boleto              99          28\n",
              "...                                          ...         ...\n",
              "telefonia_fixa            voucher              9           9\n",
              "utilidades_domesticas     boleto            1044         668\n",
              "                          credit_card       4613        2005\n",
              "                          debit_card         102          98\n",
              "                          voucher            286         262\n",
              "\n",
              "[270 rows x 2 columns]"
            ]
          },
          "metadata": {
            "tags": []
          },
          "execution_count": 55
        }
      ]
    },
    {
      "cell_type": "code",
      "metadata": {
        "id": "YBkvFkkN4V_B",
        "colab": {
          "base_uri": "https://localhost:8080/",
          "height": 204
        },
        "outputId": "91e1839b-7f0c-4535-e943-dfa0787cd00b"
      },
      "source": [
        "df_plot4 = pagamentos_categorias_groupby.reset_index()\n",
        "df_plot4.head()"
      ],
      "execution_count": 56,
      "outputs": [
        {
          "output_type": "execute_result",
          "data": {
            "text/html": [
              "<div>\n",
              "<style scoped>\n",
              "    .dataframe tbody tr th:only-of-type {\n",
              "        vertical-align: middle;\n",
              "    }\n",
              "\n",
              "    .dataframe tbody tr th {\n",
              "        vertical-align: top;\n",
              "    }\n",
              "\n",
              "    .dataframe thead th {\n",
              "        text-align: right;\n",
              "    }\n",
              "</style>\n",
              "<table border=\"1\" class=\"dataframe\">\n",
              "  <thead>\n",
              "    <tr style=\"text-align: right;\">\n",
              "      <th></th>\n",
              "      <th>product_category_name</th>\n",
              "      <th>payment_type</th>\n",
              "      <th>order_id</th>\n",
              "      <th>product_id</th>\n",
              "    </tr>\n",
              "  </thead>\n",
              "  <tbody>\n",
              "    <tr>\n",
              "      <th>0</th>\n",
              "      <td>agro_industria_e_comercio</td>\n",
              "      <td>boleto</td>\n",
              "      <td>51</td>\n",
              "      <td>22</td>\n",
              "    </tr>\n",
              "    <tr>\n",
              "      <th>1</th>\n",
              "      <td>agro_industria_e_comercio</td>\n",
              "      <td>credit_card</td>\n",
              "      <td>125</td>\n",
              "      <td>59</td>\n",
              "    </tr>\n",
              "    <tr>\n",
              "      <th>2</th>\n",
              "      <td>agro_industria_e_comercio</td>\n",
              "      <td>debit_card</td>\n",
              "      <td>4</td>\n",
              "      <td>4</td>\n",
              "    </tr>\n",
              "    <tr>\n",
              "      <th>3</th>\n",
              "      <td>agro_industria_e_comercio</td>\n",
              "      <td>voucher</td>\n",
              "      <td>6</td>\n",
              "      <td>6</td>\n",
              "    </tr>\n",
              "    <tr>\n",
              "      <th>4</th>\n",
              "      <td>alimentos</td>\n",
              "      <td>boleto</td>\n",
              "      <td>99</td>\n",
              "      <td>28</td>\n",
              "    </tr>\n",
              "  </tbody>\n",
              "</table>\n",
              "</div>"
            ],
            "text/plain": [
              "       product_category_name payment_type  order_id  product_id\n",
              "0  agro_industria_e_comercio       boleto        51          22\n",
              "1  agro_industria_e_comercio  credit_card       125          59\n",
              "2  agro_industria_e_comercio   debit_card         4           4\n",
              "3  agro_industria_e_comercio      voucher         6           6\n",
              "4                  alimentos       boleto        99          28"
            ]
          },
          "metadata": {
            "tags": []
          },
          "execution_count": 56
        }
      ]
    },
    {
      "cell_type": "code",
      "metadata": {
        "id": "qc-ZmqBH4nPc",
        "colab": {
          "base_uri": "https://localhost:8080/",
          "height": 542
        },
        "outputId": "39f46390-159a-4566-c547-aa778b95315b"
      },
      "source": [
        "import plotly.express as px\n",
        "fig4 = px.bar(df_plot4, x='product_category_name', y=\"order_id\" ,color='payment_type', barmode='group', title=\"Tipos de Pagamento X Categoria de Produto\")\n",
        "fig4.show()"
      ],
      "execution_count": 57,
      "outputs": [
        {
          "output_type": "display_data",
          "data": {
            "text/html": [
              "<html>\n",
              "<head><meta charset=\"utf-8\" /></head>\n",
              "<body>\n",
              "    <div>            <script src=\"https://cdnjs.cloudflare.com/ajax/libs/mathjax/2.7.5/MathJax.js?config=TeX-AMS-MML_SVG\"></script><script type=\"text/javascript\">if (window.MathJax) {MathJax.Hub.Config({SVG: {font: \"STIX-Web\"}});}</script>                <script type=\"text/javascript\">window.PlotlyConfig = {MathJaxConfig: 'local'};</script>\n",
              "        <script src=\"https://cdn.plot.ly/plotly-latest.min.js\"></script>                <div id=\"77e65f91-44c4-431b-b1d2-3337b016764e\" class=\"plotly-graph-div\" style=\"height:525px; width:100%;\"></div>            <script type=\"text/javascript\">                                    window.PLOTLYENV=window.PLOTLYENV || {};                                    if (document.getElementById(\"77e65f91-44c4-431b-b1d2-3337b016764e\")) {                    Plotly.newPlot(                        \"77e65f91-44c4-431b-b1d2-3337b016764e\",                        [{\"alignmentgroup\": \"True\", \"hovertemplate\": \"payment_type=boleto<br>product_category_name=%{x}<br>order_id=%{y}<extra></extra>\", \"legendgroup\": \"boleto\", \"marker\": {\"color\": \"#636efa\"}, \"name\": \"boleto\", \"offsetgroup\": \"boleto\", \"orientation\": \"v\", \"showlegend\": true, \"textposition\": \"auto\", \"type\": \"bar\", \"x\": [\"agro_industria_e_comercio\", \"alimentos\", \"alimentos_bebidas\", \"artes\", \"artes_e_artesanato\", \"artigos_de_festas\", \"artigos_de_natal\", \"audio\", \"automotivo\", \"bebes\", \"bebidas\", \"beleza_saude\", \"brinquedos\", \"cama_mesa_banho\", \"casa_conforto\", \"casa_conforto_2\", \"casa_construcao\", \"cds_dvds_musicais\", \"cine_foto\", \"climatizacao\", \"consoles_games\", \"construcao_ferramentas_construcao\", \"construcao_ferramentas_ferramentas\", \"construcao_ferramentas_iluminacao\", \"construcao_ferramentas_jardim\", \"construcao_ferramentas_seguranca\", \"cool_stuff\", \"dvds_blu_ray\", \"eletrodomesticos\", \"eletrodomesticos_2\", \"eletronicos\", \"eletroportateis\", \"esporte_lazer\", \"fashion_bolsas_e_acessorios\", \"fashion_calcados\", \"fashion_esporte\", \"fashion_roupa_feminina\", \"fashion_roupa_infanto_juvenil\", \"fashion_roupa_masculina\", \"fashion_underwear_e_moda_praia\", \"ferramentas_jardim\", \"flores\", \"fraldas_higiene\", \"industria_comercio_e_negocios\", \"informatica_acessorios\", \"instrumentos_musicais\", \"la_cuisine\", \"livros_importados\", \"livros_interesse_geral\", \"livros_tecnicos\", \"malas_acessorios\", \"market_place\", \"moveis_colchao_e_estofado\", \"moveis_cozinha_area_de_servico_jantar_e_jardim\", \"moveis_decoracao\", \"moveis_escritorio\", \"moveis_quarto\", \"moveis_sala\", \"musica\", \"papelaria\", \"pc_gamer\", \"pcs\", \"perfumaria\", \"pet_shop\", \"portateis_casa_forno_e_cafe\", \"portateis_cozinha_e_preparadores_de_alimentos\", \"relogios_presentes\", \"seguros_e_servicos\", \"sinalizacao_e_seguranca\", \"tablets_impressao_imagem\", \"telefonia\", \"telefonia_fixa\", \"utilidades_domesticas\"], \"xaxis\": \"x\", \"y\": [51, 99, 55, 46, 7, 10, 29, 79, 783, 504, 51, 1704, 685, 1601, 65, 6, 84, 3, 19, 54, 228, 146, 21, 51, 38, 39, 684, 14, 136, 44, 608, 121, 1586, 388, 38, 9, 11, 3, 19, 25, 814, 7, 7, 50, 1723, 136, 1, 12, 120, 64, 158, 73, 6, 47, 1339, 352, 26, 78, 9, 413, 2, 29, 535, 311, 9, 4, 922, 1, 40, 17, 945, 49, 1044], \"yaxis\": \"y\"}, {\"alignmentgroup\": \"True\", \"hovertemplate\": \"payment_type=credit_card<br>product_category_name=%{x}<br>order_id=%{y}<extra></extra>\", \"legendgroup\": \"credit_card\", \"marker\": {\"color\": \"#EF553B\"}, \"name\": \"credit_card\", \"offsetgroup\": \"credit_card\", \"orientation\": \"v\", \"showlegend\": true, \"textposition\": \"auto\", \"type\": \"bar\", \"x\": [\"agro_industria_e_comercio\", \"alimentos\", \"alimentos_bebidas\", \"artes\", \"artes_e_artesanato\", \"artigos_de_festas\", \"artigos_de_natal\", \"audio\", \"automotivo\", \"bebes\", \"bebidas\", \"beleza_saude\", \"brinquedos\", \"cama_mesa_banho\", \"casa_conforto\", \"casa_conforto_2\", \"casa_construcao\", \"cds_dvds_musicais\", \"cine_foto\", \"climatizacao\", \"consoles_games\", \"construcao_ferramentas_construcao\", \"construcao_ferramentas_ferramentas\", \"construcao_ferramentas_iluminacao\", \"construcao_ferramentas_jardim\", \"construcao_ferramentas_seguranca\", \"cool_stuff\", \"dvds_blu_ray\", \"eletrodomesticos\", \"eletrodomesticos_2\", \"eletronicos\", \"eletroportateis\", \"esporte_lazer\", \"fashion_bolsas_e_acessorios\", \"fashion_calcados\", \"fashion_esporte\", \"fashion_roupa_feminina\", \"fashion_roupa_infanto_juvenil\", \"fashion_roupa_masculina\", \"fashion_underwear_e_moda_praia\", \"ferramentas_jardim\", \"flores\", \"fraldas_higiene\", \"industria_comercio_e_negocios\", \"informatica_acessorios\", \"instrumentos_musicais\", \"la_cuisine\", \"livros_importados\", \"livros_interesse_geral\", \"livros_tecnicos\", \"malas_acessorios\", \"market_place\", \"moveis_colchao_e_estofado\", \"moveis_cozinha_area_de_servico_jantar_e_jardim\", \"moveis_decoracao\", \"moveis_escritorio\", \"moveis_quarto\", \"moveis_sala\", \"musica\", \"papelaria\", \"pc_gamer\", \"pcs\", \"perfumaria\", \"pet_shop\", \"portateis_casa_forno_e_cafe\", \"portateis_cozinha_e_preparadores_de_alimentos\", \"relogios_presentes\", \"seguros_e_servicos\", \"sinalizacao_e_seguranca\", \"tablets_impressao_imagem\", \"telefonia\", \"telefonia_fixa\", \"utilidades_domesticas\"], \"xaxis\": \"x\", \"y\": [125, 328, 164, 147, 13, 27, 98, 254, 2988, 2288, 234, 6874, 3105, 7540, 319, 17, 397, 9, 42, 192, 806, 582, 74, 181, 155, 125, 2858, 44, 610, 182, 1852, 491, 5904, 1392, 195, 17, 27, 5, 89, 92, 2603, 22, 20, 182, 4737, 466, 12, 41, 380, 190, 836, 198, 32, 190, 4919, 897, 66, 330, 28, 1829, 5, 152, 2501, 1342, 64, 8, 4568, 1, 94, 62, 3108, 162, 4613], \"yaxis\": \"y\"}, {\"alignmentgroup\": \"True\", \"hovertemplate\": \"payment_type=debit_card<br>product_category_name=%{x}<br>order_id=%{y}<extra></extra>\", \"legendgroup\": \"debit_card\", \"marker\": {\"color\": \"#00cc96\"}, \"name\": \"debit_card\", \"offsetgroup\": \"debit_card\", \"orientation\": \"v\", \"showlegend\": true, \"textposition\": \"auto\", \"type\": \"bar\", \"x\": [\"agro_industria_e_comercio\", \"alimentos\", \"alimentos_bebidas\", \"artes\", \"artes_e_artesanato\", \"artigos_de_festas\", \"artigos_de_natal\", \"audio\", \"automotivo\", \"bebes\", \"bebidas\", \"beleza_saude\", \"brinquedos\", \"cama_mesa_banho\", \"casa_conforto\", \"casa_construcao\", \"cine_foto\", \"climatizacao\", \"consoles_games\", \"construcao_ferramentas_construcao\", \"construcao_ferramentas_ferramentas\", \"construcao_ferramentas_iluminacao\", \"construcao_ferramentas_jardim\", \"construcao_ferramentas_seguranca\", \"cool_stuff\", \"eletrodomesticos\", \"eletrodomesticos_2\", \"eletronicos\", \"eletroportateis\", \"esporte_lazer\", \"fashion_bolsas_e_acessorios\", \"fashion_calcados\", \"fashion_roupa_masculina\", \"fashion_underwear_e_moda_praia\", \"ferramentas_jardim\", \"industria_comercio_e_negocios\", \"informatica_acessorios\", \"instrumentos_musicais\", \"livros_interesse_geral\", \"livros_tecnicos\", \"malas_acessorios\", \"market_place\", \"moveis_cozinha_area_de_servico_jantar_e_jardim\", \"moveis_decoracao\", \"moveis_escritorio\", \"moveis_quarto\", \"moveis_sala\", \"papelaria\", \"pc_gamer\", \"perfumaria\", \"pet_shop\", \"portateis_casa_forno_e_cafe\", \"portateis_cozinha_e_preparadores_de_alimentos\", \"relogios_presentes\", \"sinalizacao_e_seguranca\", \"telefonia\", \"telefonia_fixa\", \"utilidades_domesticas\"], \"xaxis\": \"x\", \"y\": [4, 16, 2, 6, 3, 2, 1, 8, 70, 43, 12, 146, 43, 120, 6, 5, 3, 3, 16, 14, 1, 9, 1, 2, 36, 8, 5, 65, 11, 118, 30, 3, 1, 1, 49, 2, 138, 10, 6, 5, 13, 3, 6, 77, 13, 1, 9, 35, 1, 44, 32, 1, 2, 58, 3, 77, 3, 102], \"yaxis\": \"y\"}, {\"alignmentgroup\": \"True\", \"hovertemplate\": \"payment_type=voucher<br>product_category_name=%{x}<br>order_id=%{y}<extra></extra>\", \"legendgroup\": \"voucher\", \"marker\": {\"color\": \"#ab63fa\"}, \"name\": \"voucher\", \"offsetgroup\": \"voucher\", \"orientation\": \"v\", \"showlegend\": true, \"textposition\": \"auto\", \"type\": \"bar\", \"x\": [\"agro_industria_e_comercio\", \"alimentos\", \"alimentos_bebidas\", \"artes\", \"artigos_de_festas\", \"artigos_de_natal\", \"audio\", \"automotivo\", \"bebes\", \"bebidas\", \"beleza_saude\", \"brinquedos\", \"cama_mesa_banho\", \"casa_conforto\", \"casa_conforto_2\", \"casa_construcao\", \"cine_foto\", \"climatizacao\", \"consoles_games\", \"construcao_ferramentas_construcao\", \"construcao_ferramentas_ferramentas\", \"construcao_ferramentas_iluminacao\", \"construcao_ferramentas_jardim\", \"construcao_ferramentas_seguranca\", \"cool_stuff\", \"dvds_blu_ray\", \"eletrodomesticos\", \"eletrodomesticos_2\", \"eletronicos\", \"eletroportateis\", \"esporte_lazer\", \"fashion_bolsas_e_acessorios\", \"fashion_calcados\", \"fashion_esporte\", \"fashion_roupa_feminina\", \"fashion_roupa_masculina\", \"fashion_underwear_e_moda_praia\", \"ferramentas_jardim\", \"industria_comercio_e_negocios\", \"informatica_acessorios\", \"instrumentos_musicais\", \"la_cuisine\", \"livros_importados\", \"livros_interesse_geral\", \"livros_tecnicos\", \"malas_acessorios\", \"market_place\", \"moveis_colchao_e_estofado\", \"moveis_cozinha_area_de_servico_jantar_e_jardim\", \"moveis_decoracao\", \"moveis_escritorio\", \"moveis_quarto\", \"moveis_sala\", \"musica\", \"papelaria\", \"pc_gamer\", \"pcs\", \"perfumaria\", \"pet_shop\", \"portateis_casa_forno_e_cafe\", \"relogios_presentes\", \"sinalizacao_e_seguranca\", \"tablets_impressao_imagem\", \"telefonia\", \"telefonia_fixa\", \"utilidades_domesticas\"], \"xaxis\": \"x\", \"y\": [6, 13, 11, 10, 1, 2, 21, 140, 113, 5, 248, 135, 414, 14, 2, 15, 2, 7, 45, 15, 3, 8, 5, 6, 149, 3, 24, 6, 61, 16, 274, 132, 11, 1, 1, 10, 8, 135, 4, 228, 27, 2, 1, 15, 3, 61, 18, 1, 9, 273, 38, 3, 19, 2, 86, 1, 7, 150, 66, 1, 192, 3, 3, 157, 9, 286], \"yaxis\": \"y\"}],                        {\"barmode\": \"group\", \"legend\": {\"title\": {\"text\": \"payment_type\"}, \"tracegroupgap\": 0}, \"template\": {\"data\": {\"bar\": [{\"error_x\": {\"color\": \"#2a3f5f\"}, \"error_y\": {\"color\": \"#2a3f5f\"}, \"marker\": {\"line\": {\"color\": \"#E5ECF6\", \"width\": 0.5}}, \"type\": \"bar\"}], \"barpolar\": [{\"marker\": {\"line\": {\"color\": \"#E5ECF6\", \"width\": 0.5}}, \"type\": \"barpolar\"}], \"carpet\": [{\"aaxis\": {\"endlinecolor\": \"#2a3f5f\", \"gridcolor\": \"white\", \"linecolor\": \"white\", \"minorgridcolor\": \"white\", \"startlinecolor\": \"#2a3f5f\"}, \"baxis\": {\"endlinecolor\": \"#2a3f5f\", \"gridcolor\": \"white\", \"linecolor\": \"white\", \"minorgridcolor\": \"white\", \"startlinecolor\": \"#2a3f5f\"}, \"type\": \"carpet\"}], \"choropleth\": [{\"colorbar\": {\"outlinewidth\": 0, \"ticks\": \"\"}, \"type\": \"choropleth\"}], \"contour\": [{\"colorbar\": {\"outlinewidth\": 0, \"ticks\": \"\"}, \"colorscale\": [[0.0, \"#0d0887\"], [0.1111111111111111, \"#46039f\"], [0.2222222222222222, \"#7201a8\"], [0.3333333333333333, \"#9c179e\"], [0.4444444444444444, \"#bd3786\"], [0.5555555555555556, \"#d8576b\"], [0.6666666666666666, \"#ed7953\"], [0.7777777777777778, \"#fb9f3a\"], [0.8888888888888888, \"#fdca26\"], [1.0, \"#f0f921\"]], \"type\": \"contour\"}], \"contourcarpet\": [{\"colorbar\": {\"outlinewidth\": 0, \"ticks\": \"\"}, \"type\": \"contourcarpet\"}], \"heatmap\": [{\"colorbar\": {\"outlinewidth\": 0, \"ticks\": \"\"}, \"colorscale\": [[0.0, \"#0d0887\"], [0.1111111111111111, \"#46039f\"], [0.2222222222222222, \"#7201a8\"], [0.3333333333333333, \"#9c179e\"], [0.4444444444444444, \"#bd3786\"], [0.5555555555555556, \"#d8576b\"], [0.6666666666666666, \"#ed7953\"], [0.7777777777777778, \"#fb9f3a\"], [0.8888888888888888, \"#fdca26\"], [1.0, \"#f0f921\"]], \"type\": \"heatmap\"}], \"heatmapgl\": [{\"colorbar\": {\"outlinewidth\": 0, \"ticks\": \"\"}, \"colorscale\": [[0.0, \"#0d0887\"], [0.1111111111111111, \"#46039f\"], [0.2222222222222222, \"#7201a8\"], [0.3333333333333333, \"#9c179e\"], [0.4444444444444444, \"#bd3786\"], [0.5555555555555556, \"#d8576b\"], [0.6666666666666666, \"#ed7953\"], [0.7777777777777778, \"#fb9f3a\"], [0.8888888888888888, \"#fdca26\"], [1.0, \"#f0f921\"]], \"type\": \"heatmapgl\"}], \"histogram\": [{\"marker\": {\"colorbar\": {\"outlinewidth\": 0, \"ticks\": \"\"}}, \"type\": \"histogram\"}], \"histogram2d\": [{\"colorbar\": {\"outlinewidth\": 0, \"ticks\": \"\"}, \"colorscale\": [[0.0, \"#0d0887\"], [0.1111111111111111, \"#46039f\"], [0.2222222222222222, \"#7201a8\"], [0.3333333333333333, \"#9c179e\"], [0.4444444444444444, \"#bd3786\"], [0.5555555555555556, \"#d8576b\"], [0.6666666666666666, \"#ed7953\"], [0.7777777777777778, \"#fb9f3a\"], [0.8888888888888888, \"#fdca26\"], [1.0, \"#f0f921\"]], \"type\": \"histogram2d\"}], \"histogram2dcontour\": [{\"colorbar\": {\"outlinewidth\": 0, \"ticks\": \"\"}, \"colorscale\": [[0.0, \"#0d0887\"], [0.1111111111111111, \"#46039f\"], [0.2222222222222222, \"#7201a8\"], [0.3333333333333333, \"#9c179e\"], [0.4444444444444444, \"#bd3786\"], [0.5555555555555556, \"#d8576b\"], [0.6666666666666666, \"#ed7953\"], [0.7777777777777778, \"#fb9f3a\"], [0.8888888888888888, \"#fdca26\"], [1.0, \"#f0f921\"]], \"type\": \"histogram2dcontour\"}], \"mesh3d\": [{\"colorbar\": {\"outlinewidth\": 0, \"ticks\": \"\"}, \"type\": \"mesh3d\"}], \"parcoords\": [{\"line\": {\"colorbar\": {\"outlinewidth\": 0, \"ticks\": \"\"}}, \"type\": \"parcoords\"}], \"pie\": [{\"automargin\": true, \"type\": \"pie\"}], \"scatter\": [{\"marker\": {\"colorbar\": {\"outlinewidth\": 0, \"ticks\": \"\"}}, \"type\": \"scatter\"}], \"scatter3d\": [{\"line\": {\"colorbar\": {\"outlinewidth\": 0, \"ticks\": \"\"}}, \"marker\": {\"colorbar\": {\"outlinewidth\": 0, \"ticks\": \"\"}}, \"type\": \"scatter3d\"}], \"scattercarpet\": [{\"marker\": {\"colorbar\": {\"outlinewidth\": 0, \"ticks\": \"\"}}, \"type\": \"scattercarpet\"}], \"scattergeo\": [{\"marker\": {\"colorbar\": {\"outlinewidth\": 0, \"ticks\": \"\"}}, \"type\": \"scattergeo\"}], \"scattergl\": [{\"marker\": {\"colorbar\": {\"outlinewidth\": 0, \"ticks\": \"\"}}, \"type\": \"scattergl\"}], \"scattermapbox\": [{\"marker\": {\"colorbar\": {\"outlinewidth\": 0, \"ticks\": \"\"}}, \"type\": \"scattermapbox\"}], \"scatterpolar\": [{\"marker\": {\"colorbar\": {\"outlinewidth\": 0, \"ticks\": \"\"}}, \"type\": \"scatterpolar\"}], \"scatterpolargl\": [{\"marker\": {\"colorbar\": {\"outlinewidth\": 0, \"ticks\": \"\"}}, \"type\": \"scatterpolargl\"}], \"scatterternary\": [{\"marker\": {\"colorbar\": {\"outlinewidth\": 0, \"ticks\": \"\"}}, \"type\": \"scatterternary\"}], \"surface\": [{\"colorbar\": {\"outlinewidth\": 0, \"ticks\": \"\"}, \"colorscale\": [[0.0, \"#0d0887\"], [0.1111111111111111, \"#46039f\"], [0.2222222222222222, \"#7201a8\"], [0.3333333333333333, \"#9c179e\"], [0.4444444444444444, \"#bd3786\"], [0.5555555555555556, \"#d8576b\"], [0.6666666666666666, \"#ed7953\"], [0.7777777777777778, \"#fb9f3a\"], [0.8888888888888888, \"#fdca26\"], [1.0, \"#f0f921\"]], \"type\": \"surface\"}], \"table\": [{\"cells\": {\"fill\": {\"color\": \"#EBF0F8\"}, \"line\": {\"color\": \"white\"}}, \"header\": {\"fill\": {\"color\": \"#C8D4E3\"}, \"line\": {\"color\": \"white\"}}, \"type\": \"table\"}]}, \"layout\": {\"annotationdefaults\": {\"arrowcolor\": \"#2a3f5f\", \"arrowhead\": 0, \"arrowwidth\": 1}, \"coloraxis\": {\"colorbar\": {\"outlinewidth\": 0, \"ticks\": \"\"}}, \"colorscale\": {\"diverging\": [[0, \"#8e0152\"], [0.1, \"#c51b7d\"], [0.2, \"#de77ae\"], [0.3, \"#f1b6da\"], [0.4, \"#fde0ef\"], [0.5, \"#f7f7f7\"], [0.6, \"#e6f5d0\"], [0.7, \"#b8e186\"], [0.8, \"#7fbc41\"], [0.9, \"#4d9221\"], [1, \"#276419\"]], \"sequential\": [[0.0, \"#0d0887\"], [0.1111111111111111, \"#46039f\"], [0.2222222222222222, \"#7201a8\"], [0.3333333333333333, \"#9c179e\"], [0.4444444444444444, \"#bd3786\"], [0.5555555555555556, \"#d8576b\"], [0.6666666666666666, \"#ed7953\"], [0.7777777777777778, \"#fb9f3a\"], [0.8888888888888888, \"#fdca26\"], [1.0, \"#f0f921\"]], \"sequentialminus\": [[0.0, \"#0d0887\"], [0.1111111111111111, \"#46039f\"], [0.2222222222222222, \"#7201a8\"], [0.3333333333333333, \"#9c179e\"], [0.4444444444444444, \"#bd3786\"], [0.5555555555555556, \"#d8576b\"], [0.6666666666666666, \"#ed7953\"], [0.7777777777777778, \"#fb9f3a\"], [0.8888888888888888, \"#fdca26\"], [1.0, \"#f0f921\"]]}, \"colorway\": [\"#636efa\", \"#EF553B\", \"#00cc96\", \"#ab63fa\", \"#FFA15A\", \"#19d3f3\", \"#FF6692\", \"#B6E880\", \"#FF97FF\", \"#FECB52\"], \"font\": {\"color\": \"#2a3f5f\"}, \"geo\": {\"bgcolor\": \"white\", \"lakecolor\": \"white\", \"landcolor\": \"#E5ECF6\", \"showlakes\": true, \"showland\": true, \"subunitcolor\": \"white\"}, \"hoverlabel\": {\"align\": \"left\"}, \"hovermode\": \"closest\", \"mapbox\": {\"style\": \"light\"}, \"paper_bgcolor\": \"white\", \"plot_bgcolor\": \"#E5ECF6\", \"polar\": {\"angularaxis\": {\"gridcolor\": \"white\", \"linecolor\": \"white\", \"ticks\": \"\"}, \"bgcolor\": \"#E5ECF6\", \"radialaxis\": {\"gridcolor\": \"white\", \"linecolor\": \"white\", \"ticks\": \"\"}}, \"scene\": {\"xaxis\": {\"backgroundcolor\": \"#E5ECF6\", \"gridcolor\": \"white\", \"gridwidth\": 2, \"linecolor\": \"white\", \"showbackground\": true, \"ticks\": \"\", \"zerolinecolor\": \"white\"}, \"yaxis\": {\"backgroundcolor\": \"#E5ECF6\", \"gridcolor\": \"white\", \"gridwidth\": 2, \"linecolor\": \"white\", \"showbackground\": true, \"ticks\": \"\", \"zerolinecolor\": \"white\"}, \"zaxis\": {\"backgroundcolor\": \"#E5ECF6\", \"gridcolor\": \"white\", \"gridwidth\": 2, \"linecolor\": \"white\", \"showbackground\": true, \"ticks\": \"\", \"zerolinecolor\": \"white\"}}, \"shapedefaults\": {\"line\": {\"color\": \"#2a3f5f\"}}, \"ternary\": {\"aaxis\": {\"gridcolor\": \"white\", \"linecolor\": \"white\", \"ticks\": \"\"}, \"baxis\": {\"gridcolor\": \"white\", \"linecolor\": \"white\", \"ticks\": \"\"}, \"bgcolor\": \"#E5ECF6\", \"caxis\": {\"gridcolor\": \"white\", \"linecolor\": \"white\", \"ticks\": \"\"}}, \"title\": {\"x\": 0.05}, \"xaxis\": {\"automargin\": true, \"gridcolor\": \"white\", \"linecolor\": \"white\", \"ticks\": \"\", \"title\": {\"standoff\": 15}, \"zerolinecolor\": \"white\", \"zerolinewidth\": 2}, \"yaxis\": {\"automargin\": true, \"gridcolor\": \"white\", \"linecolor\": \"white\", \"ticks\": \"\", \"title\": {\"standoff\": 15}, \"zerolinecolor\": \"white\", \"zerolinewidth\": 2}}}, \"title\": {\"text\": \"Tipos de Pagamento X Categoria de Produto\"}, \"xaxis\": {\"anchor\": \"y\", \"domain\": [0.0, 1.0], \"title\": {\"text\": \"product_category_name\"}}, \"yaxis\": {\"anchor\": \"x\", \"domain\": [0.0, 1.0], \"title\": {\"text\": \"order_id\"}}},                        {\"responsive\": true}                    ).then(function(){\n",
              "                            \n",
              "var gd = document.getElementById('77e65f91-44c4-431b-b1d2-3337b016764e');\n",
              "var x = new MutationObserver(function (mutations, observer) {{\n",
              "        var display = window.getComputedStyle(gd).display;\n",
              "        if (!display || display === 'none') {{\n",
              "            console.log([gd, 'removed!']);\n",
              "            Plotly.purge(gd);\n",
              "            observer.disconnect();\n",
              "        }}\n",
              "}});\n",
              "\n",
              "// Listen for the removal of the full notebook cells\n",
              "var notebookContainer = gd.closest('#notebook-container');\n",
              "if (notebookContainer) {{\n",
              "    x.observe(notebookContainer, {childList: true});\n",
              "}}\n",
              "\n",
              "// Listen for the clearing of the current output cell\n",
              "var outputEl = gd.closest('.output');\n",
              "if (outputEl) {{\n",
              "    x.observe(outputEl, {childList: true});\n",
              "}}\n",
              "\n",
              "                        })                };                            </script>        </div>\n",
              "</body>\n",
              "</html>"
            ]
          },
          "metadata": {
            "tags": []
          }
        }
      ]
    },
    {
      "cell_type": "markdown",
      "metadata": {
        "id": "sZj7ZUU41tzS"
      },
      "source": [
        "##Conlcusão POWER BI X PANDAS"
      ]
    },
    {
      "cell_type": "markdown",
      "metadata": {
        "id": "UK7uh-5t1zVD"
      },
      "source": [
        "Após as analises feitas no Microsofrt Power BI e Pandas, foi possivel concluir que as mesmas feitas no Power BI são mais rápidas de se obter, uma vez que o aplicativo reconhece e estabelece as ligações entre as tabelas. Sendo assim, é mais fácil a manipulação com os dados feitos pelo Power BI. Já no Pandas as analises que podem ser feitas são mais profundas. No entanto, necessitam de um conhecimento mais elevado de programação para serem realizadas quando comparadas com o Power BI.    "
      ]
    }
  ]
}